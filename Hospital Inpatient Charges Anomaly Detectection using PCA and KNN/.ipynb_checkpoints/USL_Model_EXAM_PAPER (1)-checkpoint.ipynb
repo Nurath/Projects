{
 "cells": [
  {
   "cell_type": "markdown",
   "metadata": {
    "id": "j8mRQmWr7Z2s"
   },
   "source": [
    "# USL MID EXAM"
   ]
  },
  {
   "cell_type": "markdown",
   "metadata": {
    "id": "GH-vv_Il2OsK"
   },
   "source": [
    "##### DATA SET DESCRIPTION : \n",
    "\n",
    "\n",
    "The Avila data set has been extracted from 800 images of the the \"Avila Bible\", a giant Latin copy of the whole Bible produced during the XII century between Italy and Spain.  \n",
    "The palaeographic analysis of the manuscript has individuated the presence of 12 copyists. The pages written by each copyist are not equally numerous. \n",
    "Each pattern contains 10 features and corresponds to a group of 4 consecutive rows.\n",
    "\n",
    "The prediction task consists in associating each pattern to one of the 12 copyists (labeled as: A, B, C, D, E, F, G, H, I, W, X, Y). The data have has been normalized, by using the Z-normalization method.\n",
    "\n",
    "Drop the labeled(Class) column from the dataset for the clustering purpose. If required used the label column for cluster quality evaluation purpose.\n"
   ]
  },
  {
   "cell_type": "markdown",
   "metadata": {
    "id": "NXHSpx3w2OsK"
   },
   "source": [
    "\n",
    "* F1\t=intercolumnar distance\n",
    "* F2=\tupper margin\n",
    "* F3\t=lower margin\n",
    "* F4\t=exploitation\n",
    "* F5\t=row number\n",
    "* F6\t=modular ratio\n",
    "* F7\t=interlinear spacing\n",
    "* F8\t=weight\n",
    "* F9\t=peak number\n",
    "* F10\t=modular ratio/ interlinear spacing\n",
    "* Class=\tA, B, C, D, E, F, G, H, I, W, X, Y\n"
   ]
  },
  {
   "cell_type": "code",
   "execution_count": 9,
   "metadata": {
    "id": "QRDp2ngTqriF"
   },
   "outputs": [],
   "source": [
    "# import 'numpy' to compute high-level mathematics functions \n",
    "import numpy as np\n",
    "\n",
    "# import 'pandas' to perform data manipulation\n",
    "import pandas as pd\n",
    "\n",
    "# import 'matplotlib.pyplot' for visualization\n",
    "import matplotlib.pyplot as plt\n",
    "\n",
    "# import 'seaborn' for high-level statistical graphics\n",
    "import seaborn as sns\n",
    "\n",
    "# to ignore the warnings run the following code\n",
    "import warnings\n",
    "warnings.filterwarnings(\"ignore\")\n",
    "\n",
    "# run below code to convert the 'exponential' values to float\n",
    "np.set_printoptions(suppress = True)\n",
    "\n",
    "# import functions from sklearn to perform clustering\n",
    "from sklearn.preprocessing import StandardScaler\n",
    "from sklearn.metrics import silhouette_score \n",
    "from sklearn.cluster import AgglomerativeClustering\n",
    "from sklearn.metrics.pairwise import euclidean_distances\n",
    "from sklearn.cluster import DBSCAN\n",
    "\n",
    "# import functions from scipy to perform clustering\n",
    "from scipy.cluster.hierarchy import linkage\n",
    "from scipy.cluster.hierarchy import dendrogram\n",
    "from scipy.cluster.hierarchy import cophenet"
   ]
  },
  {
   "cell_type": "code",
   "execution_count": 2,
   "metadata": {
    "id": "LKQC6w15qriK"
   },
   "outputs": [
    {
     "data": {
      "text/html": [
       "<div>\n",
       "<style scoped>\n",
       "    .dataframe tbody tr th:only-of-type {\n",
       "        vertical-align: middle;\n",
       "    }\n",
       "\n",
       "    .dataframe tbody tr th {\n",
       "        vertical-align: top;\n",
       "    }\n",
       "\n",
       "    .dataframe thead th {\n",
       "        text-align: right;\n",
       "    }\n",
       "</style>\n",
       "<table border=\"1\" class=\"dataframe\">\n",
       "  <thead>\n",
       "    <tr style=\"text-align: right;\">\n",
       "      <th></th>\n",
       "      <th>F1</th>\n",
       "      <th>F2</th>\n",
       "      <th>F3</th>\n",
       "      <th>F4</th>\n",
       "      <th>F5</th>\n",
       "      <th>F6</th>\n",
       "      <th>F7</th>\n",
       "      <th>F8</th>\n",
       "      <th>F9</th>\n",
       "      <th>F10</th>\n",
       "      <th>Target</th>\n",
       "    </tr>\n",
       "  </thead>\n",
       "  <tbody>\n",
       "    <tr>\n",
       "      <th>0</th>\n",
       "      <td>0.266074</td>\n",
       "      <td>-0.165620</td>\n",
       "      <td>0.320980</td>\n",
       "      <td>0.483299</td>\n",
       "      <td>0.172340</td>\n",
       "      <td>0.273364</td>\n",
       "      <td>0.371178</td>\n",
       "      <td>0.929823</td>\n",
       "      <td>0.251173</td>\n",
       "      <td>0.159345</td>\n",
       "      <td>A</td>\n",
       "    </tr>\n",
       "    <tr>\n",
       "      <th>1</th>\n",
       "      <td>0.130292</td>\n",
       "      <td>0.870736</td>\n",
       "      <td>-3.210528</td>\n",
       "      <td>0.062493</td>\n",
       "      <td>0.261718</td>\n",
       "      <td>1.436060</td>\n",
       "      <td>1.465940</td>\n",
       "      <td>0.636203</td>\n",
       "      <td>0.282354</td>\n",
       "      <td>0.515587</td>\n",
       "      <td>A</td>\n",
       "    </tr>\n",
       "    <tr>\n",
       "      <th>2</th>\n",
       "      <td>-0.116585</td>\n",
       "      <td>0.069915</td>\n",
       "      <td>0.068476</td>\n",
       "      <td>-0.783147</td>\n",
       "      <td>0.261718</td>\n",
       "      <td>0.439463</td>\n",
       "      <td>-0.081827</td>\n",
       "      <td>-0.888236</td>\n",
       "      <td>-0.123005</td>\n",
       "      <td>0.582939</td>\n",
       "      <td>A</td>\n",
       "    </tr>\n",
       "    <tr>\n",
       "      <th>3</th>\n",
       "      <td>0.031541</td>\n",
       "      <td>0.297600</td>\n",
       "      <td>-3.210528</td>\n",
       "      <td>-0.583590</td>\n",
       "      <td>-0.721442</td>\n",
       "      <td>-0.307984</td>\n",
       "      <td>0.710932</td>\n",
       "      <td>1.051693</td>\n",
       "      <td>0.594169</td>\n",
       "      <td>-0.533994</td>\n",
       "      <td>A</td>\n",
       "    </tr>\n",
       "    <tr>\n",
       "      <th>4</th>\n",
       "      <td>0.229043</td>\n",
       "      <td>0.807926</td>\n",
       "      <td>-0.052442</td>\n",
       "      <td>0.082634</td>\n",
       "      <td>0.261718</td>\n",
       "      <td>0.148790</td>\n",
       "      <td>0.635431</td>\n",
       "      <td>0.051062</td>\n",
       "      <td>0.032902</td>\n",
       "      <td>-0.086652</td>\n",
       "      <td>F</td>\n",
       "    </tr>\n",
       "  </tbody>\n",
       "</table>\n",
       "</div>"
      ],
      "text/plain": [
       "         F1        F2        F3        F4        F5        F6        F7  \\\n",
       "0  0.266074 -0.165620  0.320980  0.483299  0.172340  0.273364  0.371178   \n",
       "1  0.130292  0.870736 -3.210528  0.062493  0.261718  1.436060  1.465940   \n",
       "2 -0.116585  0.069915  0.068476 -0.783147  0.261718  0.439463 -0.081827   \n",
       "3  0.031541  0.297600 -3.210528 -0.583590 -0.721442 -0.307984  0.710932   \n",
       "4  0.229043  0.807926 -0.052442  0.082634  0.261718  0.148790  0.635431   \n",
       "\n",
       "         F8        F9       F10 Target  \n",
       "0  0.929823  0.251173  0.159345      A  \n",
       "1  0.636203  0.282354  0.515587      A  \n",
       "2 -0.888236 -0.123005  0.582939      A  \n",
       "3  1.051693  0.594169 -0.533994      A  \n",
       "4  0.051062  0.032902 -0.086652      F  "
      ]
     },
     "execution_count": 2,
     "metadata": {},
     "output_type": "execute_result"
    }
   ],
   "source": [
    "import pandas as pd\n",
    "\n",
    "import csv\n",
    "\n",
    "with open(\"avila.csv\",\"r\")as file:\n",
    "\n",
    "    reader=csv.reader(file)\n",
    "    \n",
    "df=pd.read_csv(\"avila.csv\")\n",
    "\n",
    "df.head()\n"
   ]
  },
  {
   "cell_type": "code",
   "execution_count": 3,
   "metadata": {},
   "outputs": [
    {
     "data": {
      "text/plain": [
       "A    4286\n",
       "F    1961\n",
       "E    1095\n",
       "I     831\n",
       "X     522\n",
       "H     519\n",
       "G     446\n",
       "D     352\n",
       "Y     266\n",
       "C     103\n",
       "W      44\n",
       "B       5\n",
       "Name: Target, dtype: int64"
      ]
     },
     "execution_count": 3,
     "metadata": {},
     "output_type": "execute_result"
    }
   ],
   "source": [
    "df.Target.value_counts()"
   ]
  },
  {
   "cell_type": "markdown",
   "metadata": {
    "id": "LalRSDxV4vhC"
   },
   "source": [
    "### 1. Data Understanding (8 marks)\n",
    "\n",
    "#### a. Read the dataset (tab, csv, xls, txt, inbuilt dataset). What are the number of rows and no. of cols\n",
    "& types of variables (continuous, categorical etc.)? (1 MARK)\n",
    "\n"
   ]
  },
  {
   "cell_type": "code",
   "execution_count": 4,
   "metadata": {
    "id": "1rpTQ1i57Z27"
   },
   "outputs": [
    {
     "data": {
      "text/plain": [
       "(10430, 11)"
      ]
     },
     "execution_count": 4,
     "metadata": {},
     "output_type": "execute_result"
    }
   ],
   "source": [
    "df.shape"
   ]
  },
  {
   "cell_type": "code",
   "execution_count": 5,
   "metadata": {
    "id": "FQ-SHX_E8CNX"
   },
   "outputs": [
    {
     "data": {
      "text/plain": [
       "F1        float64\n",
       "F2        float64\n",
       "F3        float64\n",
       "F4        float64\n",
       "F5        float64\n",
       "F6        float64\n",
       "F7        float64\n",
       "F8        float64\n",
       "F9        float64\n",
       "F10       float64\n",
       "Target     object\n",
       "dtype: object"
      ]
     },
     "execution_count": 5,
     "metadata": {},
     "output_type": "execute_result"
    }
   ],
   "source": [
    "df.dtypes"
   ]
  },
  {
   "cell_type": "markdown",
   "metadata": {
    "id": "lpBTYvw28Ezi"
   },
   "source": [
    "#### b Calculate five-point summary for numerical variables (1 MARK) "
   ]
  },
  {
   "cell_type": "code",
   "execution_count": 7,
   "metadata": {
    "id": "TqW5T1K67Z3I"
   },
   "outputs": [
    {
     "data": {
      "text/html": [
       "<div>\n",
       "<style scoped>\n",
       "    .dataframe tbody tr th:only-of-type {\n",
       "        vertical-align: middle;\n",
       "    }\n",
       "\n",
       "    .dataframe tbody tr th {\n",
       "        vertical-align: top;\n",
       "    }\n",
       "\n",
       "    .dataframe thead th {\n",
       "        text-align: right;\n",
       "    }\n",
       "</style>\n",
       "<table border=\"1\" class=\"dataframe\">\n",
       "  <thead>\n",
       "    <tr style=\"text-align: right;\">\n",
       "      <th></th>\n",
       "      <th>F1</th>\n",
       "      <th>F2</th>\n",
       "      <th>F3</th>\n",
       "      <th>F4</th>\n",
       "      <th>F5</th>\n",
       "      <th>F6</th>\n",
       "      <th>F7</th>\n",
       "      <th>F8</th>\n",
       "      <th>F9</th>\n",
       "      <th>F10</th>\n",
       "    </tr>\n",
       "  </thead>\n",
       "  <tbody>\n",
       "    <tr>\n",
       "      <th>count</th>\n",
       "      <td>10430.000000</td>\n",
       "      <td>10430.000000</td>\n",
       "      <td>10430.000000</td>\n",
       "      <td>10430.000000</td>\n",
       "      <td>10430.000000</td>\n",
       "      <td>10430.000000</td>\n",
       "      <td>10430.000000</td>\n",
       "      <td>10430.000000</td>\n",
       "      <td>10430.000000</td>\n",
       "      <td>10430.000000</td>\n",
       "    </tr>\n",
       "    <tr>\n",
       "      <th>mean</th>\n",
       "      <td>0.000852</td>\n",
       "      <td>0.033611</td>\n",
       "      <td>-0.000525</td>\n",
       "      <td>-0.002387</td>\n",
       "      <td>0.006370</td>\n",
       "      <td>0.013973</td>\n",
       "      <td>0.005605</td>\n",
       "      <td>0.010323</td>\n",
       "      <td>0.012914</td>\n",
       "      <td>0.000818</td>\n",
       "    </tr>\n",
       "    <tr>\n",
       "      <th>std</th>\n",
       "      <td>0.991431</td>\n",
       "      <td>3.920868</td>\n",
       "      <td>1.120202</td>\n",
       "      <td>1.008527</td>\n",
       "      <td>0.992053</td>\n",
       "      <td>1.126245</td>\n",
       "      <td>1.313754</td>\n",
       "      <td>1.003507</td>\n",
       "      <td>1.087665</td>\n",
       "      <td>1.007094</td>\n",
       "    </tr>\n",
       "    <tr>\n",
       "      <th>min</th>\n",
       "      <td>-3.498799</td>\n",
       "      <td>-2.426761</td>\n",
       "      <td>-3.210528</td>\n",
       "      <td>-5.440122</td>\n",
       "      <td>-4.922215</td>\n",
       "      <td>-7.450257</td>\n",
       "      <td>-11.935457</td>\n",
       "      <td>-4.247781</td>\n",
       "      <td>-5.486218</td>\n",
       "      <td>-6.719324</td>\n",
       "    </tr>\n",
       "    <tr>\n",
       "      <th>25%</th>\n",
       "      <td>-0.128929</td>\n",
       "      <td>-0.259834</td>\n",
       "      <td>0.064919</td>\n",
       "      <td>-0.528002</td>\n",
       "      <td>0.172340</td>\n",
       "      <td>-0.598658</td>\n",
       "      <td>-0.044076</td>\n",
       "      <td>-0.541991</td>\n",
       "      <td>-0.372457</td>\n",
       "      <td>-0.516097</td>\n",
       "    </tr>\n",
       "    <tr>\n",
       "      <th>50%</th>\n",
       "      <td>0.043885</td>\n",
       "      <td>-0.055704</td>\n",
       "      <td>0.217845</td>\n",
       "      <td>0.095763</td>\n",
       "      <td>0.261718</td>\n",
       "      <td>-0.058835</td>\n",
       "      <td>0.220177</td>\n",
       "      <td>0.111803</td>\n",
       "      <td>0.064084</td>\n",
       "      <td>-0.034513</td>\n",
       "    </tr>\n",
       "    <tr>\n",
       "      <th>75%</th>\n",
       "      <td>0.204355</td>\n",
       "      <td>0.203385</td>\n",
       "      <td>0.352988</td>\n",
       "      <td>0.658210</td>\n",
       "      <td>0.261718</td>\n",
       "      <td>0.564038</td>\n",
       "      <td>0.446679</td>\n",
       "      <td>0.654944</td>\n",
       "      <td>0.500624</td>\n",
       "      <td>0.530855</td>\n",
       "    </tr>\n",
       "    <tr>\n",
       "      <th>max</th>\n",
       "      <td>11.819916</td>\n",
       "      <td>386.000000</td>\n",
       "      <td>50.000000</td>\n",
       "      <td>3.987152</td>\n",
       "      <td>1.066121</td>\n",
       "      <td>53.000000</td>\n",
       "      <td>83.000000</td>\n",
       "      <td>13.173081</td>\n",
       "      <td>44.000000</td>\n",
       "      <td>4.671232</td>\n",
       "    </tr>\n",
       "  </tbody>\n",
       "</table>\n",
       "</div>"
      ],
      "text/plain": [
       "                 F1            F2            F3            F4            F5  \\\n",
       "count  10430.000000  10430.000000  10430.000000  10430.000000  10430.000000   \n",
       "mean       0.000852      0.033611     -0.000525     -0.002387      0.006370   \n",
       "std        0.991431      3.920868      1.120202      1.008527      0.992053   \n",
       "min       -3.498799     -2.426761     -3.210528     -5.440122     -4.922215   \n",
       "25%       -0.128929     -0.259834      0.064919     -0.528002      0.172340   \n",
       "50%        0.043885     -0.055704      0.217845      0.095763      0.261718   \n",
       "75%        0.204355      0.203385      0.352988      0.658210      0.261718   \n",
       "max       11.819916    386.000000     50.000000      3.987152      1.066121   \n",
       "\n",
       "                 F6            F7            F8            F9           F10  \n",
       "count  10430.000000  10430.000000  10430.000000  10430.000000  10430.000000  \n",
       "mean       0.013973      0.005605      0.010323      0.012914      0.000818  \n",
       "std        1.126245      1.313754      1.003507      1.087665      1.007094  \n",
       "min       -7.450257    -11.935457     -4.247781     -5.486218     -6.719324  \n",
       "25%       -0.598658     -0.044076     -0.541991     -0.372457     -0.516097  \n",
       "50%       -0.058835      0.220177      0.111803      0.064084     -0.034513  \n",
       "75%        0.564038      0.446679      0.654944      0.500624      0.530855  \n",
       "max       53.000000     83.000000     13.173081     44.000000      4.671232  "
      ]
     },
     "execution_count": 7,
     "metadata": {},
     "output_type": "execute_result"
    }
   ],
   "source": [
    "df.describe()"
   ]
  },
  {
   "cell_type": "markdown",
   "metadata": {
    "id": "jffujtLi8M_u"
   },
   "source": [
    "#### c. Summarize observations for categorical variables – no. of categories, % observations in each category.  (2 MARKS)"
   ]
  },
  {
   "cell_type": "code",
   "execution_count": 8,
   "metadata": {
    "id": "vs6E7aU07Z3T"
   },
   "outputs": [
    {
     "data": {
      "text/html": [
       "<div>\n",
       "<style scoped>\n",
       "    .dataframe tbody tr th:only-of-type {\n",
       "        vertical-align: middle;\n",
       "    }\n",
       "\n",
       "    .dataframe tbody tr th {\n",
       "        vertical-align: top;\n",
       "    }\n",
       "\n",
       "    .dataframe thead th {\n",
       "        text-align: right;\n",
       "    }\n",
       "</style>\n",
       "<table border=\"1\" class=\"dataframe\">\n",
       "  <thead>\n",
       "    <tr style=\"text-align: right;\">\n",
       "      <th></th>\n",
       "      <th>Target</th>\n",
       "    </tr>\n",
       "  </thead>\n",
       "  <tbody>\n",
       "    <tr>\n",
       "      <th>count</th>\n",
       "      <td>10430</td>\n",
       "    </tr>\n",
       "    <tr>\n",
       "      <th>unique</th>\n",
       "      <td>12</td>\n",
       "    </tr>\n",
       "    <tr>\n",
       "      <th>top</th>\n",
       "      <td>A</td>\n",
       "    </tr>\n",
       "    <tr>\n",
       "      <th>freq</th>\n",
       "      <td>4286</td>\n",
       "    </tr>\n",
       "  </tbody>\n",
       "</table>\n",
       "</div>"
      ],
      "text/plain": [
       "       Target\n",
       "count   10430\n",
       "unique     12\n",
       "top         A\n",
       "freq     4286"
      ]
     },
     "execution_count": 8,
     "metadata": {},
     "output_type": "execute_result"
    }
   ],
   "source": [
    "df.describe(include= object)"
   ]
  },
  {
   "cell_type": "code",
   "execution_count": 33,
   "metadata": {},
   "outputs": [
    {
     "name": "stdout",
     "output_type": "stream",
     "text": [
      "<class 'pandas.core.frame.DataFrame'>\n",
      "RangeIndex: 10430 entries, 0 to 10429\n",
      "Data columns (total 11 columns):\n",
      " #   Column  Non-Null Count  Dtype  \n",
      "---  ------  --------------  -----  \n",
      " 0   F1      10430 non-null  float64\n",
      " 1   F2      10430 non-null  float64\n",
      " 2   F3      10430 non-null  float64\n",
      " 3   F4      10430 non-null  float64\n",
      " 4   F5      10430 non-null  float64\n",
      " 5   F6      10430 non-null  float64\n",
      " 6   F7      10430 non-null  float64\n",
      " 7   F8      10430 non-null  float64\n",
      " 8   F9      10430 non-null  float64\n",
      " 9   F10     10430 non-null  float64\n",
      " 10  Target  10430 non-null  object \n",
      "dtypes: float64(10), object(1)\n",
      "memory usage: 896.5+ KB\n"
     ]
    }
   ],
   "source": [
    "df.info()"
   ]
  },
  {
   "cell_type": "code",
   "execution_count": 34,
   "metadata": {},
   "outputs": [
    {
     "data": {
      "image/png": "[encoded data removed]",
      "text/plain": [
       "<Figure size 1080x576 with 12 Axes>"
      ]
     },
     "metadata": {
      "needs_background": "light"
     },
     "output_type": "display_data"
    }
   ],
   "source": [
    "# Check of outliers\n",
    "\n",
    "fig,ax = plt.subplots(nrows= 3, ncols= 4)\n",
    "for i, j in zip(df.drop('Target', axis = 1).columns, ax.flatten()):\n",
    "    sns.boxplot(df[i], ax= j)\n",
    "plt.show()    "
   ]
  },
  {
   "cell_type": "code",
   "execution_count": 36,
   "metadata": {},
   "outputs": [
    {
     "data": {
      "image/png": "[encoded data removed]",
      "text/plain": [
       "<Figure size 1080x576 with 10 Axes>"
      ]
     },
     "metadata": {
      "needs_background": "light"
     },
     "output_type": "display_data"
    }
   ],
   "source": [
    "count = 1\n",
    "for i in df.select_dtypes(np.number).columns:\n",
    "    plt.subplot(4,4,count)\n",
    "    sns.boxplot(data = df, x= i)\n",
    "    count+=1\n",
    "plt.show()    "
   ]
  },
  {
   "cell_type": "code",
   "execution_count": 37,
   "metadata": {},
   "outputs": [
    {
     "data": {
      "text/plain": [
       "(6024, 11)"
      ]
     },
     "execution_count": 37,
     "metadata": {},
     "output_type": "execute_result"
    }
   ],
   "source": [
    "# Outlier treatment\n",
    "\n",
    "q1= df.quantile(0.25)\n",
    "q3= df.quantile(0.75)\n",
    "\n",
    "iqr = q3-q1\n",
    "\n",
    "ul= q3+1.5* iqr\n",
    "ll= q1 - 1.5 * iqr\n",
    "\n",
    "df_no_out = df[~((df<ll)|(df>ul)).any(axis= 1)]\n",
    "df_no_out.shape"
   ]
  },
  {
   "cell_type": "markdown",
   "metadata": {
    "id": "oc9ljItS7Z3Y"
   },
   "source": [
    "#### d. Generate the covariance and correlation tables for the data (2 MARKS)"
   ]
  },
  {
   "cell_type": "code",
   "execution_count": 38,
   "metadata": {
    "id": "FG1TlcH97Z3Z"
   },
   "outputs": [],
   "source": [
    "df_std = StandardScaler().fit_transform(df_no_out.drop('Target', axis = 1))"
   ]
  },
  {
   "cell_type": "code",
   "execution_count": 39,
   "metadata": {},
   "outputs": [
    {
     "name": "stdout",
     "output_type": "stream",
     "text": [
      "[[ 1.00016603  0.07679518 -0.14964783 -0.28207369  0.03460826 -0.11952199\n",
      "   0.05467462 -0.10420304 -0.26903086 -0.13695229]\n",
      " [ 0.07679518  1.00016603 -0.56340681  0.00667076  0.04172938 -0.04896008\n",
      "   0.05427915  0.09194958  0.07143858 -0.06251901]\n",
      " [-0.14964783 -0.56340681  1.00016603 -0.04479809 -0.12980407 -0.04841722\n",
      "  -0.06861702  0.04090908  0.08086268 -0.0324772 ]\n",
      " [-0.28207369  0.00667076 -0.04479809  1.00016603 -0.00246164  0.29514692\n",
      "  -0.02551144  0.38624896  0.1442947   0.30767823]\n",
      " [ 0.03460826  0.04172938 -0.12980407 -0.00246164  1.00016603  0.00357077\n",
      "   0.01302807 -0.0302616  -0.07631846  0.00066843]]\n"
     ]
    }
   ],
   "source": [
    "cov_mat = np.cov(df_std.T)\n",
    "print(cov_mat[0:5])"
   ]
  },
  {
   "cell_type": "code",
   "execution_count": 40,
   "metadata": {},
   "outputs": [],
   "source": [
    "df_scaled = pd.DataFrame(df_std, columns = df.drop('Target', axis = 1).columns)"
   ]
  },
  {
   "cell_type": "code",
   "execution_count": 41,
   "metadata": {},
   "outputs": [
    {
     "data": {
      "text/html": [
       "<div>\n",
       "<style scoped>\n",
       "    .dataframe tbody tr th:only-of-type {\n",
       "        vertical-align: middle;\n",
       "    }\n",
       "\n",
       "    .dataframe tbody tr th {\n",
       "        vertical-align: top;\n",
       "    }\n",
       "\n",
       "    .dataframe thead th {\n",
       "        text-align: right;\n",
       "    }\n",
       "</style>\n",
       "<table border=\"1\" class=\"dataframe\">\n",
       "  <thead>\n",
       "    <tr style=\"text-align: right;\">\n",
       "      <th></th>\n",
       "      <th>F1</th>\n",
       "      <th>F2</th>\n",
       "      <th>F3</th>\n",
       "      <th>F4</th>\n",
       "      <th>F5</th>\n",
       "      <th>F6</th>\n",
       "      <th>F7</th>\n",
       "      <th>F8</th>\n",
       "      <th>F9</th>\n",
       "      <th>F10</th>\n",
       "    </tr>\n",
       "  </thead>\n",
       "  <tbody>\n",
       "    <tr>\n",
       "      <th>F1</th>\n",
       "      <td>1.000000</td>\n",
       "      <td>0.076782</td>\n",
       "      <td>-0.149623</td>\n",
       "      <td>-0.282027</td>\n",
       "      <td>0.034603</td>\n",
       "      <td>-0.119502</td>\n",
       "      <td>0.054666</td>\n",
       "      <td>-0.104186</td>\n",
       "      <td>-0.268986</td>\n",
       "      <td>-0.136930</td>\n",
       "    </tr>\n",
       "    <tr>\n",
       "      <th>F2</th>\n",
       "      <td>0.076782</td>\n",
       "      <td>1.000000</td>\n",
       "      <td>-0.563313</td>\n",
       "      <td>0.006670</td>\n",
       "      <td>0.041722</td>\n",
       "      <td>-0.048952</td>\n",
       "      <td>0.054270</td>\n",
       "      <td>0.091934</td>\n",
       "      <td>0.071427</td>\n",
       "      <td>-0.062509</td>\n",
       "    </tr>\n",
       "    <tr>\n",
       "      <th>F3</th>\n",
       "      <td>-0.149623</td>\n",
       "      <td>-0.563313</td>\n",
       "      <td>1.000000</td>\n",
       "      <td>-0.044791</td>\n",
       "      <td>-0.129783</td>\n",
       "      <td>-0.048409</td>\n",
       "      <td>-0.068606</td>\n",
       "      <td>0.040902</td>\n",
       "      <td>0.080849</td>\n",
       "      <td>-0.032472</td>\n",
       "    </tr>\n",
       "    <tr>\n",
       "      <th>F4</th>\n",
       "      <td>-0.282027</td>\n",
       "      <td>0.006670</td>\n",
       "      <td>-0.044791</td>\n",
       "      <td>1.000000</td>\n",
       "      <td>-0.002461</td>\n",
       "      <td>0.295098</td>\n",
       "      <td>-0.025507</td>\n",
       "      <td>0.386185</td>\n",
       "      <td>0.144271</td>\n",
       "      <td>0.307627</td>\n",
       "    </tr>\n",
       "    <tr>\n",
       "      <th>F5</th>\n",
       "      <td>0.034603</td>\n",
       "      <td>0.041722</td>\n",
       "      <td>-0.129783</td>\n",
       "      <td>-0.002461</td>\n",
       "      <td>1.000000</td>\n",
       "      <td>0.003570</td>\n",
       "      <td>0.013026</td>\n",
       "      <td>-0.030257</td>\n",
       "      <td>-0.076306</td>\n",
       "      <td>0.000668</td>\n",
       "    </tr>\n",
       "    <tr>\n",
       "      <th>F6</th>\n",
       "      <td>-0.119502</td>\n",
       "      <td>-0.048952</td>\n",
       "      <td>-0.048409</td>\n",
       "      <td>0.295098</td>\n",
       "      <td>0.003570</td>\n",
       "      <td>1.000000</td>\n",
       "      <td>0.188182</td>\n",
       "      <td>-0.192431</td>\n",
       "      <td>-0.174036</td>\n",
       "      <td>0.971790</td>\n",
       "    </tr>\n",
       "    <tr>\n",
       "      <th>F7</th>\n",
       "      <td>0.054666</td>\n",
       "      <td>0.054270</td>\n",
       "      <td>-0.068606</td>\n",
       "      <td>-0.025507</td>\n",
       "      <td>0.013026</td>\n",
       "      <td>0.188182</td>\n",
       "      <td>1.000000</td>\n",
       "      <td>-0.053580</td>\n",
       "      <td>0.019147</td>\n",
       "      <td>-0.044511</td>\n",
       "    </tr>\n",
       "    <tr>\n",
       "      <th>F8</th>\n",
       "      <td>-0.104186</td>\n",
       "      <td>0.091934</td>\n",
       "      <td>0.040902</td>\n",
       "      <td>0.386185</td>\n",
       "      <td>-0.030257</td>\n",
       "      <td>-0.192431</td>\n",
       "      <td>-0.053580</td>\n",
       "      <td>1.000000</td>\n",
       "      <td>0.579910</td>\n",
       "      <td>-0.181182</td>\n",
       "    </tr>\n",
       "    <tr>\n",
       "      <th>F9</th>\n",
       "      <td>-0.268986</td>\n",
       "      <td>0.071427</td>\n",
       "      <td>0.080849</td>\n",
       "      <td>0.144271</td>\n",
       "      <td>-0.076306</td>\n",
       "      <td>-0.174036</td>\n",
       "      <td>0.019147</td>\n",
       "      <td>0.579910</td>\n",
       "      <td>1.000000</td>\n",
       "      <td>-0.177768</td>\n",
       "    </tr>\n",
       "    <tr>\n",
       "      <th>F10</th>\n",
       "      <td>-0.136930</td>\n",
       "      <td>-0.062509</td>\n",
       "      <td>-0.032472</td>\n",
       "      <td>0.307627</td>\n",
       "      <td>0.000668</td>\n",
       "      <td>0.971790</td>\n",
       "      <td>-0.044511</td>\n",
       "      <td>-0.181182</td>\n",
       "      <td>-0.177768</td>\n",
       "      <td>1.000000</td>\n",
       "    </tr>\n",
       "  </tbody>\n",
       "</table>\n",
       "</div>"
      ],
      "text/plain": [
       "           F1        F2        F3        F4        F5        F6        F7  \\\n",
       "F1   1.000000  0.076782 -0.149623 -0.282027  0.034603 -0.119502  0.054666   \n",
       "F2   0.076782  1.000000 -0.563313  0.006670  0.041722 -0.048952  0.054270   \n",
       "F3  -0.149623 -0.563313  1.000000 -0.044791 -0.129783 -0.048409 -0.068606   \n",
       "F4  -0.282027  0.006670 -0.044791  1.000000 -0.002461  0.295098 -0.025507   \n",
       "F5   0.034603  0.041722 -0.129783 -0.002461  1.000000  0.003570  0.013026   \n",
       "F6  -0.119502 -0.048952 -0.048409  0.295098  0.003570  1.000000  0.188182   \n",
       "F7   0.054666  0.054270 -0.068606 -0.025507  0.013026  0.188182  1.000000   \n",
       "F8  -0.104186  0.091934  0.040902  0.386185 -0.030257 -0.192431 -0.053580   \n",
       "F9  -0.268986  0.071427  0.080849  0.144271 -0.076306 -0.174036  0.019147   \n",
       "F10 -0.136930 -0.062509 -0.032472  0.307627  0.000668  0.971790 -0.044511   \n",
       "\n",
       "           F8        F9       F10  \n",
       "F1  -0.104186 -0.268986 -0.136930  \n",
       "F2   0.091934  0.071427 -0.062509  \n",
       "F3   0.040902  0.080849 -0.032472  \n",
       "F4   0.386185  0.144271  0.307627  \n",
       "F5  -0.030257 -0.076306  0.000668  \n",
       "F6  -0.192431 -0.174036  0.971790  \n",
       "F7  -0.053580  0.019147 -0.044511  \n",
       "F8   1.000000  0.579910 -0.181182  \n",
       "F9   0.579910  1.000000 -0.177768  \n",
       "F10 -0.181182 -0.177768  1.000000  "
      ]
     },
     "execution_count": 41,
     "metadata": {},
     "output_type": "execute_result"
    }
   ],
   "source": [
    "df_scaled.corr()"
   ]
  },
  {
   "cell_type": "markdown",
   "metadata": {
    "id": "S1Dr9k137Z3d"
   },
   "source": [
    "##### e. Create Visualization plots to find the relationship amongst the variables. (2 MARKS) "
   ]
  },
  {
   "cell_type": "code",
   "execution_count": 42,
   "metadata": {},
   "outputs": [],
   "source": [
    "plt.rcParams['figure.figsize']= [15,8]"
   ]
  },
  {
   "cell_type": "code",
   "execution_count": 43,
   "metadata": {
    "id": "9xOABzrJ7Z3e"
   },
   "outputs": [
    {
     "data": {
      "image/png": "[encoded data removed]",
      "text/plain": [
       "<Figure size 1080x576 with 2 Axes>"
      ]
     },
     "metadata": {
      "needs_background": "light"
     },
     "output_type": "display_data"
    }
   ],
   "source": [
    "sns.heatmap(df_scaled.corr(), annot= True)\n",
    "plt.show()"
   ]
  },
  {
   "cell_type": "code",
   "execution_count": null,
   "metadata": {},
   "outputs": [],
   "source": []
  },
  {
   "cell_type": "markdown",
   "metadata": {
    "id": "rsO5AATt42Cl"
   },
   "source": [
    "### 2. How will you decide when to apply PCA based on the correlation? (5 marks)\n",
    "\n",
    "#### Apply PCA on the above dataset and determine the number of PCA components to be used so that 95% of the variance in data is explained by the same. (12 marks)"
   ]
  },
  {
   "cell_type": "code",
   "execution_count": 44,
   "metadata": {
    "id": "jPzKjvWF7Z3j"
   },
   "outputs": [
    {
     "name": "stdout",
     "output_type": "stream",
     "text": [
      "Eigenvalues: \n",
      " \n",
      " [2.25442653 1.93139685 1.62947767 0.00096008 1.03078247 0.97258225\n",
      " 0.82416941 0.65769548 0.29151195 0.40865761] \n",
      "\n",
      "Eigenvectors: \n",
      " \n",
      " [[ 0.10762035  0.41070913  0.11546289 -0.00087869  0.08539867  0.0619847\n",
      "  -0.83762679  0.16299782 -0.25893963 -0.00563243]\n",
      " [ 0.0747086   0.04794474  0.66069406  0.00009418 -0.01721007  0.21770716\n",
      "   0.19816392  0.10930547 -0.10957383 -0.66684903]\n",
      " [ 0.03207336 -0.15198125 -0.66488533  0.00019138  0.08958816 -0.10449816\n",
      "  -0.09172618  0.10100619 -0.1443776  -0.68948802]\n",
      " [-0.22999061 -0.47463353  0.15039866  0.0005157  -0.13426778 -0.04583216\n",
      "  -0.25182373 -0.65367196 -0.43274833 -0.03324973]\n",
      " [-0.02067829  0.09993064  0.17218321  0.00031548 -0.37494587 -0.89047307\n",
      "   0.00455716  0.13937248 -0.03550004 -0.07554281]\n",
      " [-0.63949562 -0.0725269   0.05519443  0.70359235  0.12983789 -0.00072079\n",
      "  -0.07403506  0.24294407  0.07691451 -0.02047754]\n",
      " [-0.06904599  0.06263683  0.14080766 -0.16335269  0.87736102 -0.36307064\n",
      "   0.05192995 -0.19350578  0.04727459 -0.02897658]\n",
      " [ 0.2322795  -0.53847326  0.1595536  -0.00046694  0.01002563 -0.04985961\n",
      "  -0.40840656  0.06606182  0.66968319 -0.09172274]\n",
      " [ 0.2429963  -0.5130661   0.08336941  0.00260362  0.18290458 -0.03698938\n",
      "   0.06973995  0.56310749 -0.5007568   0.25144653]\n",
      " [-0.63384663 -0.09101696  0.02305059 -0.69156744 -0.07481823  0.08440228\n",
      "  -0.08617009  0.29436293  0.06468315 -0.01331429]] \n",
      "\n"
     ]
    }
   ],
   "source": [
    "eig_val, eig_vec = np.linalg.eig(cov_mat)\n",
    "\n",
    "print('Eigenvalues:','\\n','\\n', eig_val,\"\\n\")\n",
    "\n",
    "print('Eigenvectors:','\\n','\\n',eig_vec,'\\n')"
   ]
  },
  {
   "cell_type": "code",
   "execution_count": 45,
   "metadata": {},
   "outputs": [
    {
     "name": "stdout",
     "output_type": "stream",
     "text": [
      "[2.2544265332536146, 1.9313968476318666, 1.6294776718686792, 1.0307824680141098, 0.9725822500323185, 0.824169406594992, 0.6576954818383678, 0.4086576107837028, 0.2915119545710172, 0.0009600775863345682]\n"
     ]
    }
   ],
   "source": [
    "eig_val = list(eig_val)\n",
    "\n",
    "eig_val.sort(reverse = True)\n",
    "\n",
    "print(eig_val)"
   ]
  },
  {
   "cell_type": "markdown",
   "metadata": {},
   "source": [
    " From kaiser criterion we can say that 4 values of components are greater than 1.\n",
    " We assume number of components as 4."
   ]
  },
  {
   "cell_type": "code",
   "execution_count": 46,
   "metadata": {},
   "outputs": [
    {
     "data": {
      "text/plain": [
       "[22.5405229246124,\n",
       " 19.31076230625286,\n",
       " 16.292071742471855,\n",
       " 10.306113553866165,\n",
       " 9.724207987955925,\n",
       " 8.240325922844677,\n",
       " 6.575863026415149,\n",
       " 4.085897725349003,\n",
       " 2.9146356281229004,\n",
       " 0.00959918210905229]"
      ]
     },
     "execution_count": 46,
     "metadata": {},
     "output_type": "execute_result"
    }
   ],
   "source": [
    "# To determine number of PCA components to be used so that 95% of the variance.\n",
    "percent_var = []\n",
    "\n",
    "for i in eig_val:\n",
    "    variation = (i/sum(eig_val))*100\n",
    "    percent_var.append(variation)\n",
    "    \n",
    "percent_var"
   ]
  },
  {
   "cell_type": "markdown",
   "metadata": {},
   "source": [
    " The first component alone explains 22.54 % variation."
   ]
  },
  {
   "cell_type": "code",
   "execution_count": 47,
   "metadata": {},
   "outputs": [
    {
     "data": {
      "text/plain": [
       "array([ 22.54052292,  41.85128523,  58.14335697,  68.44947053,\n",
       "        78.17367852,  86.41400444,  92.98986746,  97.07576519,\n",
       "        99.99040082, 100.        ])"
      ]
     },
     "execution_count": 47,
     "metadata": {},
     "output_type": "execute_result"
    }
   ],
   "source": [
    "# Finding the cumulative sum of percentage\n",
    "np.cumsum(percent_var)"
   ]
  },
  {
   "cell_type": "markdown",
   "metadata": {},
   "source": [
    "95 % variation can be explained with 8 pricipal components."
   ]
  },
  {
   "cell_type": "code",
   "execution_count": null,
   "metadata": {},
   "outputs": [],
   "source": []
  },
  {
   "cell_type": "markdown",
   "metadata": {
    "id": "gC28pkuO8SiV"
   },
   "source": [
    "### 3. Use PCA dimensions to cluster the data. Apply K-means/ Agglomerative clustering based on the data. (25 Marks) Some pointers which would help you, but don’t be limited by these "
   ]
  },
  {
   "cell_type": "code",
   "execution_count": 48,
   "metadata": {},
   "outputs": [],
   "source": [
    "from sklearn.decomposition import PCA"
   ]
  },
  {
   "cell_type": "code",
   "execution_count": 49,
   "metadata": {
    "id": "NWwpjbcY8XRr"
   },
   "outputs": [],
   "source": [
    "# Building model to get PCA dimention \n",
    "\n",
    "pca = PCA(n_components = 8, random_state = 10)\n",
    "components = pca.fit_transform(df_std)"
   ]
  },
  {
   "cell_type": "code",
   "execution_count": 50,
   "metadata": {},
   "outputs": [
    {
     "data": {
      "text/html": [
       "<div>\n",
       "<style scoped>\n",
       "    .dataframe tbody tr th:only-of-type {\n",
       "        vertical-align: middle;\n",
       "    }\n",
       "\n",
       "    .dataframe tbody tr th {\n",
       "        vertical-align: top;\n",
       "    }\n",
       "\n",
       "    .dataframe thead th {\n",
       "        text-align: right;\n",
       "    }\n",
       "</style>\n",
       "<table border=\"1\" class=\"dataframe\">\n",
       "  <thead>\n",
       "    <tr style=\"text-align: right;\">\n",
       "      <th></th>\n",
       "      <th>PC1</th>\n",
       "      <th>PC2</th>\n",
       "      <th>PC3</th>\n",
       "      <th>PC4</th>\n",
       "      <th>PC5</th>\n",
       "      <th>PC6</th>\n",
       "      <th>PC7</th>\n",
       "      <th>PC8</th>\n",
       "    </tr>\n",
       "  </thead>\n",
       "  <tbody>\n",
       "    <tr>\n",
       "      <th>0</th>\n",
       "      <td>0.013913</td>\n",
       "      <td>0.782372</td>\n",
       "      <td>0.498112</td>\n",
       "      <td>0.927261</td>\n",
       "      <td>0.720120</td>\n",
       "      <td>-1.751482</td>\n",
       "      <td>-0.007038</td>\n",
       "      <td>0.049751</td>\n",
       "    </tr>\n",
       "    <tr>\n",
       "      <th>1</th>\n",
       "      <td>1.010846</td>\n",
       "      <td>-1.149163</td>\n",
       "      <td>-0.256499</td>\n",
       "      <td>-1.362700</td>\n",
       "      <td>0.259972</td>\n",
       "      <td>1.366093</td>\n",
       "      <td>-0.974885</td>\n",
       "      <td>0.651607</td>\n",
       "    </tr>\n",
       "    <tr>\n",
       "      <th>2</th>\n",
       "      <td>-0.128068</td>\n",
       "      <td>-1.007369</td>\n",
       "      <td>-3.270615</td>\n",
       "      <td>0.807437</td>\n",
       "      <td>-0.144353</td>\n",
       "      <td>-0.065952</td>\n",
       "      <td>-0.053601</td>\n",
       "      <td>-0.583162</td>\n",
       "    </tr>\n",
       "    <tr>\n",
       "      <th>3</th>\n",
       "      <td>-2.033824</td>\n",
       "      <td>0.368100</td>\n",
       "      <td>0.353400</td>\n",
       "      <td>-0.838651</td>\n",
       "      <td>-0.468710</td>\n",
       "      <td>-0.228357</td>\n",
       "      <td>0.281730</td>\n",
       "      <td>-0.166286</td>\n",
       "    </tr>\n",
       "    <tr>\n",
       "      <th>4</th>\n",
       "      <td>-2.206625</td>\n",
       "      <td>-0.520259</td>\n",
       "      <td>0.008104</td>\n",
       "      <td>0.383982</td>\n",
       "      <td>-0.511305</td>\n",
       "      <td>-1.975121</td>\n",
       "      <td>-1.217887</td>\n",
       "      <td>-0.839047</td>\n",
       "    </tr>\n",
       "  </tbody>\n",
       "</table>\n",
       "</div>"
      ],
      "text/plain": [
       "        PC1       PC2       PC3       PC4       PC5       PC6       PC7  \\\n",
       "0  0.013913  0.782372  0.498112  0.927261  0.720120 -1.751482 -0.007038   \n",
       "1  1.010846 -1.149163 -0.256499 -1.362700  0.259972  1.366093 -0.974885   \n",
       "2 -0.128068 -1.007369 -3.270615  0.807437 -0.144353 -0.065952 -0.053601   \n",
       "3 -2.033824  0.368100  0.353400 -0.838651 -0.468710 -0.228357  0.281730   \n",
       "4 -2.206625 -0.520259  0.008104  0.383982 -0.511305 -1.975121 -1.217887   \n",
       "\n",
       "        PC8  \n",
       "0  0.049751  \n",
       "1  0.651607  \n",
       "2 -0.583162  \n",
       "3 -0.166286  \n",
       "4 -0.839047  "
      ]
     },
     "execution_count": 50,
     "metadata": {},
     "output_type": "execute_result"
    }
   ],
   "source": [
    "df_pca_sklearn = pd.DataFrame(data = components, columns = ['PC1', 'PC2', 'PC3', 'PC4', 'PC5','PC6','PC7','PC8'])\n",
    "df_pca_sklearn.head()"
   ]
  },
  {
   "cell_type": "code",
   "execution_count": 51,
   "metadata": {},
   "outputs": [
    {
     "data": {
      "text/plain": [
       "(6024, 8)"
      ]
     },
     "execution_count": 51,
     "metadata": {},
     "output_type": "execute_result"
    }
   ],
   "source": [
    "# PCA dimention data\n",
    "\n",
    "df_pca_sklearn.shape"
   ]
  },
  {
   "cell_type": "markdown",
   "metadata": {
    "id": "DBz210z58Uz_"
   },
   "source": [
    "#### a. Find the optimal K Value. (6 marks)"
   ]
  },
  {
   "cell_type": "code",
   "execution_count": 52,
   "metadata": {
    "id": "Hkk04XfR7Z3w"
   },
   "outputs": [
    {
     "name": "stdout",
     "output_type": "stream",
     "text": [
      "[[  18.         2495.            0.05257253    2.        ]\n",
      " [3060.         3284.            0.10414741    2.        ]\n",
      " [5560.         5890.            0.11893413    2.        ]\n",
      " [1217.         5155.            0.12962888    2.        ]\n",
      " [1188.         3405.            0.13655432    2.        ]\n",
      " [1316.         5396.            0.15111855    2.        ]\n",
      " [1373.         4464.            0.15242358    2.        ]\n",
      " [2066.         3499.            0.15551542    2.        ]\n",
      " [2126.         2349.            0.15620776    2.        ]\n",
      " [2677.         4259.            0.15860639    2.        ]]\n"
     ]
    }
   ],
   "source": [
    "link_mat = linkage(df_pca_sklearn, method = 'ward')\n",
    "print(link_mat[0:10])"
   ]
  },
  {
   "cell_type": "code",
   "execution_count": 54,
   "metadata": {},
   "outputs": [
    {
     "data": {
      "image/png": "[encoded data removed]",
      "text/plain": [
       "<Figure size 1080x576 with 1 Axes>"
      ]
     },
     "metadata": {
      "needs_background": "light"
     },
     "output_type": "display_data"
    }
   ],
   "source": [
    "# silhouette_scores Method\n",
    "\n",
    "K = [2,3,4,5,6]\n",
    "\n",
    "silhouette_scores = [] \n",
    "\n",
    "for i in K:\n",
    "    model = AgglomerativeClustering(n_clusters = i) \n",
    "\n",
    "    silhouette_scores.append(silhouette_score(df_pca_sklearn, model.fit_predict(df_pca_sklearn))) \n",
    "    \n",
    "plt.bar(K, silhouette_scores) \n",
    "\n",
    "\n",
    "plt.title('Silhouette Score for Values of K', fontsize = 15)\n",
    "plt.xlabel('Number of Clusters', fontsize = 15) \n",
    "plt.ylabel('Silhouette Scores', fontsize = 15)\n",
    "\n",
    "\n",
    "plt.show()"
   ]
  },
  {
   "cell_type": "markdown",
   "metadata": {},
   "source": [
    "The above plot shows that the Silhouette score for K = 5 is the highest. \n",
    "This implies that K = 5 is the optimal value for number of clusters."
   ]
  },
  {
   "cell_type": "code",
   "execution_count": null,
   "metadata": {},
   "outputs": [],
   "source": []
  },
  {
   "cell_type": "markdown",
   "metadata": {
    "id": "_PsMu6947Z30"
   },
   "source": [
    "#### b.\tApply Clustering and find out if the data points have been clustered correctly using appropriate visualization (8 marks)"
   ]
  },
  {
   "cell_type": "code",
   "execution_count": 55,
   "metadata": {
    "id": "UZdk0fBY7Z30"
   },
   "outputs": [
    {
     "data": {
      "text/plain": [
       "AgglomerativeClustering(n_clusters=5)"
      ]
     },
     "execution_count": 55,
     "metadata": {},
     "output_type": "execute_result"
    }
   ],
   "source": [
    "clusters = AgglomerativeClustering(n_clusters= 5, linkage='ward')\n",
    "clusters.fit(df_pca_sklearn)"
   ]
  },
  {
   "cell_type": "code",
   "execution_count": 57,
   "metadata": {},
   "outputs": [
    {
     "data": {
      "text/html": [
       "<div>\n",
       "<style scoped>\n",
       "    .dataframe tbody tr th:only-of-type {\n",
       "        vertical-align: middle;\n",
       "    }\n",
       "\n",
       "    .dataframe tbody tr th {\n",
       "        vertical-align: top;\n",
       "    }\n",
       "\n",
       "    .dataframe thead th {\n",
       "        text-align: right;\n",
       "    }\n",
       "</style>\n",
       "<table border=\"1\" class=\"dataframe\">\n",
       "  <thead>\n",
       "    <tr style=\"text-align: right;\">\n",
       "      <th></th>\n",
       "      <th>F1</th>\n",
       "      <th>F2</th>\n",
       "      <th>F3</th>\n",
       "      <th>F4</th>\n",
       "      <th>F5</th>\n",
       "      <th>F6</th>\n",
       "      <th>F7</th>\n",
       "      <th>F8</th>\n",
       "      <th>F9</th>\n",
       "      <th>F10</th>\n",
       "      <th>Target</th>\n",
       "      <th>Cluster</th>\n",
       "    </tr>\n",
       "  </thead>\n",
       "  <tbody>\n",
       "    <tr>\n",
       "      <th>0</th>\n",
       "      <td>0.266074</td>\n",
       "      <td>-0.165620</td>\n",
       "      <td>0.320980</td>\n",
       "      <td>0.483299</td>\n",
       "      <td>0.172340</td>\n",
       "      <td>0.273364</td>\n",
       "      <td>0.371178</td>\n",
       "      <td>0.929823</td>\n",
       "      <td>0.251173</td>\n",
       "      <td>0.159345</td>\n",
       "      <td>A</td>\n",
       "      <td>4</td>\n",
       "    </tr>\n",
       "    <tr>\n",
       "      <th>2</th>\n",
       "      <td>-0.116585</td>\n",
       "      <td>0.069915</td>\n",
       "      <td>0.068476</td>\n",
       "      <td>-0.783147</td>\n",
       "      <td>0.261718</td>\n",
       "      <td>0.439463</td>\n",
       "      <td>-0.081827</td>\n",
       "      <td>-0.888236</td>\n",
       "      <td>-0.123005</td>\n",
       "      <td>0.582939</td>\n",
       "      <td>A</td>\n",
       "      <td>3</td>\n",
       "    </tr>\n",
       "    <tr>\n",
       "      <th>4</th>\n",
       "      <td>0.229043</td>\n",
       "      <td>0.807926</td>\n",
       "      <td>-0.052442</td>\n",
       "      <td>0.082634</td>\n",
       "      <td>0.261718</td>\n",
       "      <td>0.148790</td>\n",
       "      <td>0.635431</td>\n",
       "      <td>0.051062</td>\n",
       "      <td>0.032902</td>\n",
       "      <td>-0.086652</td>\n",
       "      <td>F</td>\n",
       "      <td>3</td>\n",
       "    </tr>\n",
       "    <tr>\n",
       "      <th>7</th>\n",
       "      <td>0.019197</td>\n",
       "      <td>-0.040001</td>\n",
       "      <td>0.288973</td>\n",
       "      <td>-0.042597</td>\n",
       "      <td>0.261718</td>\n",
       "      <td>-1.013906</td>\n",
       "      <td>0.069175</td>\n",
       "      <td>0.890701</td>\n",
       "      <td>0.095265</td>\n",
       "      <td>-0.842014</td>\n",
       "      <td>F</td>\n",
       "      <td>1</td>\n",
       "    </tr>\n",
       "    <tr>\n",
       "      <th>8</th>\n",
       "      <td>0.500607</td>\n",
       "      <td>0.140576</td>\n",
       "      <td>0.388552</td>\n",
       "      <td>-0.637358</td>\n",
       "      <td>0.261718</td>\n",
       "      <td>-0.681707</td>\n",
       "      <td>0.295677</td>\n",
       "      <td>0.931046</td>\n",
       "      <td>0.500624</td>\n",
       "      <td>-0.642297</td>\n",
       "      <td>H</td>\n",
       "      <td>1</td>\n",
       "    </tr>\n",
       "  </tbody>\n",
       "</table>\n",
       "</div>"
      ],
      "text/plain": [
       "         F1        F2        F3        F4        F5        F6        F7  \\\n",
       "0  0.266074 -0.165620  0.320980  0.483299  0.172340  0.273364  0.371178   \n",
       "2 -0.116585  0.069915  0.068476 -0.783147  0.261718  0.439463 -0.081827   \n",
       "4  0.229043  0.807926 -0.052442  0.082634  0.261718  0.148790  0.635431   \n",
       "7  0.019197 -0.040001  0.288973 -0.042597  0.261718 -1.013906  0.069175   \n",
       "8  0.500607  0.140576  0.388552 -0.637358  0.261718 -0.681707  0.295677   \n",
       "\n",
       "         F8        F9       F10 Target  Cluster  \n",
       "0  0.929823  0.251173  0.159345      A        4  \n",
       "2 -0.888236 -0.123005  0.582939      A        3  \n",
       "4  0.051062  0.032902 -0.086652      F        3  \n",
       "7  0.890701  0.095265 -0.842014      F        1  \n",
       "8  0.931046  0.500624 -0.642297      H        1  "
      ]
     },
     "execution_count": 57,
     "metadata": {},
     "output_type": "execute_result"
    }
   ],
   "source": [
    "df_no_out['Cluster'] = clusters.labels_\n",
    "df_no_out.head()"
   ]
  },
  {
   "cell_type": "code",
   "execution_count": 58,
   "metadata": {},
   "outputs": [
    {
     "data": {
      "text/plain": [
       "1    1893\n",
       "3    1411\n",
       "4    1089\n",
       "0     954\n",
       "2     677\n",
       "Name: Cluster, dtype: int64"
      ]
     },
     "execution_count": 58,
     "metadata": {},
     "output_type": "execute_result"
    }
   ],
   "source": [
    "df_no_out['Cluster'].value_counts()"
   ]
  },
  {
   "cell_type": "code",
   "execution_count": 60,
   "metadata": {},
   "outputs": [
    {
     "data": {
      "image/png": "[encoded data removed]",
      "text/plain": [
       "<Figure size 1080x576 with 1 Axes>"
      ]
     },
     "metadata": {
      "needs_background": "light"
     },
     "output_type": "display_data"
    }
   ],
   "source": [
    "sns.countplot(data = df_no_out, x = 'Cluster')\n",
    "plt.show()"
   ]
  },
  {
   "cell_type": "code",
   "execution_count": 62,
   "metadata": {},
   "outputs": [
    {
     "data": {
      "image/png": "[encoded data removed]",
      "text/plain": [
       "<Figure size 1080x576 with 1 Axes>"
      ]
     },
     "metadata": {
      "needs_background": "light"
     },
     "output_type": "display_data"
    }
   ],
   "source": [
    "sns.scatterplot(x = 'F1', y = 'F10', data = df_no_out, hue = 'Cluster')\n",
    "plt.show()"
   ]
  },
  {
   "cell_type": "markdown",
   "metadata": {},
   "source": [
    "The largest cluster is shown by 1"
   ]
  },
  {
   "cell_type": "markdown",
   "metadata": {
    "id": "eJKrPg-Y7Z34"
   },
   "source": [
    "#### c.\tEvaluate the clusters formed using appropriate metrics to support the model built. (6 marks)"
   ]
  },
  {
   "cell_type": "markdown",
   "metadata": {
    "id": "rAKhv8eo7Z35"
   },
   "source": [
    "Analysis of cluster_1 "
   ]
  },
  {
   "cell_type": "code",
   "execution_count": 64,
   "metadata": {},
   "outputs": [
    {
     "data": {
      "text/plain": [
       "954"
      ]
     },
     "execution_count": 64,
     "metadata": {},
     "output_type": "execute_result"
    }
   ],
   "source": [
    "df_no_out['Cluster'].value_counts()[0]"
   ]
  },
  {
   "cell_type": "code",
   "execution_count": 65,
   "metadata": {},
   "outputs": [
    {
     "data": {
      "text/html": [
       "<div>\n",
       "<style scoped>\n",
       "    .dataframe tbody tr th:only-of-type {\n",
       "        vertical-align: middle;\n",
       "    }\n",
       "\n",
       "    .dataframe tbody tr th {\n",
       "        vertical-align: top;\n",
       "    }\n",
       "\n",
       "    .dataframe thead th {\n",
       "        text-align: right;\n",
       "    }\n",
       "</style>\n",
       "<table border=\"1\" class=\"dataframe\">\n",
       "  <thead>\n",
       "    <tr style=\"text-align: right;\">\n",
       "      <th></th>\n",
       "      <th>F1</th>\n",
       "      <th>F2</th>\n",
       "      <th>F3</th>\n",
       "      <th>F4</th>\n",
       "      <th>F5</th>\n",
       "      <th>F6</th>\n",
       "      <th>F7</th>\n",
       "      <th>F8</th>\n",
       "      <th>F9</th>\n",
       "      <th>F10</th>\n",
       "      <th>Target</th>\n",
       "      <th>Cluster</th>\n",
       "    </tr>\n",
       "  </thead>\n",
       "  <tbody>\n",
       "    <tr>\n",
       "      <th>9</th>\n",
       "      <td>-0.252367</td>\n",
       "      <td>0.069915</td>\n",
       "      <td>0.246296</td>\n",
       "      <td>0.523550</td>\n",
       "      <td>0.261718</td>\n",
       "      <td>-1.221530</td>\n",
       "      <td>0.899684</td>\n",
       "      <td>1.373076</td>\n",
       "      <td>0.625350</td>\n",
       "      <td>-1.400890</td>\n",
       "      <td>E</td>\n",
       "      <td>0</td>\n",
       "    </tr>\n",
       "    <tr>\n",
       "      <th>23</th>\n",
       "      <td>-0.054866</td>\n",
       "      <td>-0.220579</td>\n",
       "      <td>0.466793</td>\n",
       "      <td>-0.216970</td>\n",
       "      <td>0.172340</td>\n",
       "      <td>-0.930856</td>\n",
       "      <td>0.446679</td>\n",
       "      <td>0.634922</td>\n",
       "      <td>0.313536</td>\n",
       "      <td>-0.942674</td>\n",
       "      <td>D</td>\n",
       "      <td>0</td>\n",
       "    </tr>\n",
       "    <tr>\n",
       "      <th>37</th>\n",
       "      <td>-0.252367</td>\n",
       "      <td>0.069915</td>\n",
       "      <td>0.246296</td>\n",
       "      <td>0.523550</td>\n",
       "      <td>0.261718</td>\n",
       "      <td>-0.806282</td>\n",
       "      <td>-0.044076</td>\n",
       "      <td>1.485336</td>\n",
       "      <td>1.093072</td>\n",
       "      <td>-0.588627</td>\n",
       "      <td>E</td>\n",
       "      <td>0</td>\n",
       "    </tr>\n",
       "    <tr>\n",
       "      <th>47</th>\n",
       "      <td>-0.240024</td>\n",
       "      <td>-0.424709</td>\n",
       "      <td>0.089814</td>\n",
       "      <td>1.094532</td>\n",
       "      <td>0.261718</td>\n",
       "      <td>1.560634</td>\n",
       "      <td>0.144676</td>\n",
       "      <td>0.393550</td>\n",
       "      <td>0.344717</td>\n",
       "      <td>1.461673</td>\n",
       "      <td>A</td>\n",
       "      <td>0</td>\n",
       "    </tr>\n",
       "    <tr>\n",
       "      <th>52</th>\n",
       "      <td>-0.005490</td>\n",
       "      <td>0.054213</td>\n",
       "      <td>0.320980</td>\n",
       "      <td>0.804804</td>\n",
       "      <td>0.172340</td>\n",
       "      <td>-0.100360</td>\n",
       "      <td>-0.421580</td>\n",
       "      <td>0.341225</td>\n",
       "      <td>1.498432</td>\n",
       "      <td>0.306551</td>\n",
       "      <td>X</td>\n",
       "      <td>0</td>\n",
       "    </tr>\n",
       "    <tr>\n",
       "      <th>113</th>\n",
       "      <td>-0.363462</td>\n",
       "      <td>-0.189174</td>\n",
       "      <td>0.641057</td>\n",
       "      <td>0.681245</td>\n",
       "      <td>0.172340</td>\n",
       "      <td>0.107265</td>\n",
       "      <td>-0.006326</td>\n",
       "      <td>0.672646</td>\n",
       "      <td>0.594169</td>\n",
       "      <td>0.224286</td>\n",
       "      <td>C</td>\n",
       "      <td>0</td>\n",
       "    </tr>\n",
       "    <tr>\n",
       "      <th>128</th>\n",
       "      <td>-0.091897</td>\n",
       "      <td>0.344707</td>\n",
       "      <td>0.182281</td>\n",
       "      <td>0.722749</td>\n",
       "      <td>0.261718</td>\n",
       "      <td>1.353010</td>\n",
       "      <td>-0.006326</td>\n",
       "      <td>-0.943163</td>\n",
       "      <td>0.313536</td>\n",
       "      <td>1.368294</td>\n",
       "      <td>H</td>\n",
       "      <td>0</td>\n",
       "    </tr>\n",
       "    <tr>\n",
       "      <th>144</th>\n",
       "      <td>-0.005490</td>\n",
       "      <td>0.054213</td>\n",
       "      <td>0.320980</td>\n",
       "      <td>0.804804</td>\n",
       "      <td>0.172340</td>\n",
       "      <td>-0.017310</td>\n",
       "      <td>0.786433</td>\n",
       "      <td>0.732232</td>\n",
       "      <td>1.747883</td>\n",
       "      <td>-0.312203</td>\n",
       "      <td>X</td>\n",
       "      <td>0</td>\n",
       "    </tr>\n",
       "    <tr>\n",
       "      <th>146</th>\n",
       "      <td>-0.227680</td>\n",
       "      <td>-0.503221</td>\n",
       "      <td>0.406334</td>\n",
       "      <td>-0.671732</td>\n",
       "      <td>0.261718</td>\n",
       "      <td>-0.224934</td>\n",
       "      <td>0.484429</td>\n",
       "      <td>0.596634</td>\n",
       "      <td>0.251173</td>\n",
       "      <td>-0.343631</td>\n",
       "      <td>E</td>\n",
       "      <td>0</td>\n",
       "    </tr>\n",
       "    <tr>\n",
       "      <th>151</th>\n",
       "      <td>-0.363462</td>\n",
       "      <td>-0.008597</td>\n",
       "      <td>0.256965</td>\n",
       "      <td>-0.226340</td>\n",
       "      <td>0.261718</td>\n",
       "      <td>0.937762</td>\n",
       "      <td>-0.270579</td>\n",
       "      <td>1.495568</td>\n",
       "      <td>1.280161</td>\n",
       "      <td>1.158607</td>\n",
       "      <td>E</td>\n",
       "      <td>0</td>\n",
       "    </tr>\n",
       "  </tbody>\n",
       "</table>\n",
       "</div>"
      ],
      "text/plain": [
       "           F1        F2        F3        F4        F5        F6        F7  \\\n",
       "9   -0.252367  0.069915  0.246296  0.523550  0.261718 -1.221530  0.899684   \n",
       "23  -0.054866 -0.220579  0.466793 -0.216970  0.172340 -0.930856  0.446679   \n",
       "37  -0.252367  0.069915  0.246296  0.523550  0.261718 -0.806282 -0.044076   \n",
       "47  -0.240024 -0.424709  0.089814  1.094532  0.261718  1.560634  0.144676   \n",
       "52  -0.005490  0.054213  0.320980  0.804804  0.172340 -0.100360 -0.421580   \n",
       "113 -0.363462 -0.189174  0.641057  0.681245  0.172340  0.107265 -0.006326   \n",
       "128 -0.091897  0.344707  0.182281  0.722749  0.261718  1.353010 -0.006326   \n",
       "144 -0.005490  0.054213  0.320980  0.804804  0.172340 -0.017310  0.786433   \n",
       "146 -0.227680 -0.503221  0.406334 -0.671732  0.261718 -0.224934  0.484429   \n",
       "151 -0.363462 -0.008597  0.256965 -0.226340  0.261718  0.937762 -0.270579   \n",
       "\n",
       "           F8        F9       F10 Target  Cluster  \n",
       "9    1.373076  0.625350 -1.400890      E        0  \n",
       "23   0.634922  0.313536 -0.942674      D        0  \n",
       "37   1.485336  1.093072 -0.588627      E        0  \n",
       "47   0.393550  0.344717  1.461673      A        0  \n",
       "52   0.341225  1.498432  0.306551      X        0  \n",
       "113  0.672646  0.594169  0.224286      C        0  \n",
       "128 -0.943163  0.313536  1.368294      H        0  \n",
       "144  0.732232  1.747883 -0.312203      X        0  \n",
       "146  0.596634  0.251173 -0.343631      E        0  \n",
       "151  1.495568  1.280161  1.158607      E        0  "
      ]
     },
     "execution_count": 65,
     "metadata": {},
     "output_type": "execute_result"
    }
   ],
   "source": [
    "df_no_out[df_no_out.Cluster == 0].head(10)"
   ]
  },
  {
   "cell_type": "code",
   "execution_count": 66,
   "metadata": {},
   "outputs": [
    {
     "data": {
      "text/html": [
       "<div>\n",
       "<style scoped>\n",
       "    .dataframe tbody tr th:only-of-type {\n",
       "        vertical-align: middle;\n",
       "    }\n",
       "\n",
       "    .dataframe tbody tr th {\n",
       "        vertical-align: top;\n",
       "    }\n",
       "\n",
       "    .dataframe thead th {\n",
       "        text-align: right;\n",
       "    }\n",
       "</style>\n",
       "<table border=\"1\" class=\"dataframe\">\n",
       "  <thead>\n",
       "    <tr style=\"text-align: right;\">\n",
       "      <th></th>\n",
       "      <th>F1</th>\n",
       "      <th>F2</th>\n",
       "      <th>F3</th>\n",
       "      <th>F4</th>\n",
       "      <th>F5</th>\n",
       "      <th>F6</th>\n",
       "      <th>F7</th>\n",
       "      <th>F8</th>\n",
       "      <th>F9</th>\n",
       "      <th>F10</th>\n",
       "      <th>Cluster</th>\n",
       "    </tr>\n",
       "  </thead>\n",
       "  <tbody>\n",
       "    <tr>\n",
       "      <th>count</th>\n",
       "      <td>954.000000</td>\n",
       "      <td>954.000000</td>\n",
       "      <td>954.000000</td>\n",
       "      <td>954.000000</td>\n",
       "      <td>954.000000</td>\n",
       "      <td>954.000000</td>\n",
       "      <td>954.000000</td>\n",
       "      <td>954.000000</td>\n",
       "      <td>954.000000</td>\n",
       "      <td>954.000000</td>\n",
       "      <td>954.0</td>\n",
       "    </tr>\n",
       "    <tr>\n",
       "      <th>mean</th>\n",
       "      <td>-0.203600</td>\n",
       "      <td>0.007089</td>\n",
       "      <td>0.281823</td>\n",
       "      <td>0.529917</td>\n",
       "      <td>0.236235</td>\n",
       "      <td>0.122673</td>\n",
       "      <td>0.186106</td>\n",
       "      <td>0.537553</td>\n",
       "      <td>0.603255</td>\n",
       "      <td>0.135387</td>\n",
       "      <td>0.0</td>\n",
       "    </tr>\n",
       "    <tr>\n",
       "      <th>std</th>\n",
       "      <td>0.160798</td>\n",
       "      <td>0.241348</td>\n",
       "      <td>0.133395</td>\n",
       "      <td>0.604296</td>\n",
       "      <td>0.043375</td>\n",
       "      <td>0.849492</td>\n",
       "      <td>0.260098</td>\n",
       "      <td>0.653142</td>\n",
       "      <td>0.478058</td>\n",
       "      <td>0.762440</td>\n",
       "      <td>0.0</td>\n",
       "    </tr>\n",
       "    <tr>\n",
       "      <th>min</th>\n",
       "      <td>-0.597995</td>\n",
       "      <td>-0.652394</td>\n",
       "      <td>-0.070224</td>\n",
       "      <td>-1.278877</td>\n",
       "      <td>0.082961</td>\n",
       "      <td>-1.802878</td>\n",
       "      <td>-0.723584</td>\n",
       "      <td>-1.773598</td>\n",
       "      <td>-0.933723</td>\n",
       "      <td>-1.659147</td>\n",
       "      <td>0.0</td>\n",
       "    </tr>\n",
       "    <tr>\n",
       "      <th>25%</th>\n",
       "      <td>-0.314087</td>\n",
       "      <td>-0.147955</td>\n",
       "      <td>0.200063</td>\n",
       "      <td>0.132493</td>\n",
       "      <td>0.172340</td>\n",
       "      <td>-0.515608</td>\n",
       "      <td>0.031425</td>\n",
       "      <td>0.121530</td>\n",
       "      <td>0.282354</td>\n",
       "      <td>-0.449358</td>\n",
       "      <td>0.0</td>\n",
       "    </tr>\n",
       "    <tr>\n",
       "      <th>50%</th>\n",
       "      <td>-0.227680</td>\n",
       "      <td>0.014957</td>\n",
       "      <td>0.264078</td>\n",
       "      <td>0.584510</td>\n",
       "      <td>0.261718</td>\n",
       "      <td>0.024215</td>\n",
       "      <td>0.182426</td>\n",
       "      <td>0.553066</td>\n",
       "      <td>0.594169</td>\n",
       "      <td>0.046250</td>\n",
       "      <td>0.0</td>\n",
       "    </tr>\n",
       "    <tr>\n",
       "      <th>75%</th>\n",
       "      <td>-0.091897</td>\n",
       "      <td>0.187683</td>\n",
       "      <td>0.388552</td>\n",
       "      <td>0.886232</td>\n",
       "      <td>0.261718</td>\n",
       "      <td>0.771662</td>\n",
       "      <td>0.333428</td>\n",
       "      <td>1.014760</td>\n",
       "      <td>0.905984</td>\n",
       "      <td>0.730826</td>\n",
       "      <td>0.0</td>\n",
       "    </tr>\n",
       "    <tr>\n",
       "      <th>max</th>\n",
       "      <td>0.253730</td>\n",
       "      <td>0.698010</td>\n",
       "      <td>0.641057</td>\n",
       "      <td>2.258633</td>\n",
       "      <td>0.351096</td>\n",
       "      <td>2.308081</td>\n",
       "      <td>1.050686</td>\n",
       "      <td>2.387376</td>\n",
       "      <td>1.779065</td>\n",
       "      <td>2.092289</td>\n",
       "      <td>0.0</td>\n",
       "    </tr>\n",
       "  </tbody>\n",
       "</table>\n",
       "</div>"
      ],
      "text/plain": [
       "               F1          F2          F3          F4          F5          F6  \\\n",
       "count  954.000000  954.000000  954.000000  954.000000  954.000000  954.000000   \n",
       "mean    -0.203600    0.007089    0.281823    0.529917    0.236235    0.122673   \n",
       "std      0.160798    0.241348    0.133395    0.604296    0.043375    0.849492   \n",
       "min     -0.597995   -0.652394   -0.070224   -1.278877    0.082961   -1.802878   \n",
       "25%     -0.314087   -0.147955    0.200063    0.132493    0.172340   -0.515608   \n",
       "50%     -0.227680    0.014957    0.264078    0.584510    0.261718    0.024215   \n",
       "75%     -0.091897    0.187683    0.388552    0.886232    0.261718    0.771662   \n",
       "max      0.253730    0.698010    0.641057    2.258633    0.351096    2.308081   \n",
       "\n",
       "               F7          F8          F9         F10  Cluster  \n",
       "count  954.000000  954.000000  954.000000  954.000000    954.0  \n",
       "mean     0.186106    0.537553    0.603255    0.135387      0.0  \n",
       "std      0.260098    0.653142    0.478058    0.762440      0.0  \n",
       "min     -0.723584   -1.773598   -0.933723   -1.659147      0.0  \n",
       "25%      0.031425    0.121530    0.282354   -0.449358      0.0  \n",
       "50%      0.182426    0.553066    0.594169    0.046250      0.0  \n",
       "75%      0.333428    1.014760    0.905984    0.730826      0.0  \n",
       "max      1.050686    2.387376    1.779065    2.092289      0.0  "
      ]
     },
     "execution_count": 66,
     "metadata": {},
     "output_type": "execute_result"
    }
   ],
   "source": [
    "df_no_out[df_no_out.Cluster==0].describe()"
   ]
  },
  {
   "cell_type": "code",
   "execution_count": 68,
   "metadata": {},
   "outputs": [
    {
     "data": {
      "text/html": [
       "<div>\n",
       "<style scoped>\n",
       "    .dataframe tbody tr th:only-of-type {\n",
       "        vertical-align: middle;\n",
       "    }\n",
       "\n",
       "    .dataframe tbody tr th {\n",
       "        vertical-align: top;\n",
       "    }\n",
       "\n",
       "    .dataframe thead th {\n",
       "        text-align: right;\n",
       "    }\n",
       "</style>\n",
       "<table border=\"1\" class=\"dataframe\">\n",
       "  <thead>\n",
       "    <tr style=\"text-align: right;\">\n",
       "      <th></th>\n",
       "      <th>Target</th>\n",
       "    </tr>\n",
       "  </thead>\n",
       "  <tbody>\n",
       "    <tr>\n",
       "      <th>count</th>\n",
       "      <td>954</td>\n",
       "    </tr>\n",
       "    <tr>\n",
       "      <th>unique</th>\n",
       "      <td>8</td>\n",
       "    </tr>\n",
       "    <tr>\n",
       "      <th>top</th>\n",
       "      <td>E</td>\n",
       "    </tr>\n",
       "    <tr>\n",
       "      <th>freq</th>\n",
       "      <td>396</td>\n",
       "    </tr>\n",
       "  </tbody>\n",
       "</table>\n",
       "</div>"
      ],
      "text/plain": [
       "       Target\n",
       "count     954\n",
       "unique      8\n",
       "top         E\n",
       "freq      396"
      ]
     },
     "execution_count": 68,
     "metadata": {},
     "output_type": "execute_result"
    }
   ],
   "source": [
    "df_no_out[df_no_out.Cluster==0].describe(include = object)"
   ]
  },
  {
   "cell_type": "code",
   "execution_count": 69,
   "metadata": {},
   "outputs": [
    {
     "data": {
      "text/plain": [
       "8451    1\n",
       "5453    1\n",
       "5433    1\n",
       "3386    1\n",
       "3387    1\n",
       "       ..\n",
       "2708    1\n",
       "2711    1\n",
       "6808    1\n",
       "6015    1\n",
       "6142    1\n",
       "Length: 954, dtype: int64"
      ]
     },
     "execution_count": 69,
     "metadata": {},
     "output_type": "execute_result"
    }
   ],
   "source": [
    "\n",
    "df_no_out[df_no_out.Cluster==0].index.value_counts()"
   ]
  },
  {
   "cell_type": "markdown",
   "metadata": {},
   "source": [
    "Analysis of cluster_2"
   ]
  },
  {
   "cell_type": "code",
   "execution_count": 70,
   "metadata": {},
   "outputs": [
    {
     "data": {
      "text/html": [
       "<div>\n",
       "<style scoped>\n",
       "    .dataframe tbody tr th:only-of-type {\n",
       "        vertical-align: middle;\n",
       "    }\n",
       "\n",
       "    .dataframe tbody tr th {\n",
       "        vertical-align: top;\n",
       "    }\n",
       "\n",
       "    .dataframe thead th {\n",
       "        text-align: right;\n",
       "    }\n",
       "</style>\n",
       "<table border=\"1\" class=\"dataframe\">\n",
       "  <thead>\n",
       "    <tr style=\"text-align: right;\">\n",
       "      <th></th>\n",
       "      <th>F1</th>\n",
       "      <th>F2</th>\n",
       "      <th>F3</th>\n",
       "      <th>F4</th>\n",
       "      <th>F5</th>\n",
       "      <th>F6</th>\n",
       "      <th>F7</th>\n",
       "      <th>F8</th>\n",
       "      <th>F9</th>\n",
       "      <th>F10</th>\n",
       "      <th>Cluster</th>\n",
       "    </tr>\n",
       "  </thead>\n",
       "  <tbody>\n",
       "    <tr>\n",
       "      <th>count</th>\n",
       "      <td>1893.000000</td>\n",
       "      <td>1893.000000</td>\n",
       "      <td>1893.000000</td>\n",
       "      <td>1893.000000</td>\n",
       "      <td>1893.000000</td>\n",
       "      <td>1893.000000</td>\n",
       "      <td>1893.000000</td>\n",
       "      <td>1893.000000</td>\n",
       "      <td>1893.000000</td>\n",
       "      <td>1893.000000</td>\n",
       "      <td>1893.0</td>\n",
       "    </tr>\n",
       "    <tr>\n",
       "      <th>mean</th>\n",
       "      <td>0.093352</td>\n",
       "      <td>-0.132005</td>\n",
       "      <td>0.292937</td>\n",
       "      <td>-0.203713</td>\n",
       "      <td>0.258980</td>\n",
       "      <td>-0.225512</td>\n",
       "      <td>0.288738</td>\n",
       "      <td>0.052436</td>\n",
       "      <td>0.083620</td>\n",
       "      <td>-0.238325</td>\n",
       "      <td>1.0</td>\n",
       "    </tr>\n",
       "    <tr>\n",
       "      <th>std</th>\n",
       "      <td>0.177386</td>\n",
       "      <td>0.229522</td>\n",
       "      <td>0.114279</td>\n",
       "      <td>0.764324</td>\n",
       "      <td>0.021178</td>\n",
       "      <td>0.629679</td>\n",
       "      <td>0.294817</td>\n",
       "      <td>0.737156</td>\n",
       "      <td>0.485169</td>\n",
       "      <td>0.541126</td>\n",
       "      <td>0.0</td>\n",
       "    </tr>\n",
       "    <tr>\n",
       "      <th>min</th>\n",
       "      <td>-0.486901</td>\n",
       "      <td>-0.840822</td>\n",
       "      <td>-0.045329</td>\n",
       "      <td>-2.244735</td>\n",
       "      <td>0.082961</td>\n",
       "      <td>-2.259651</td>\n",
       "      <td>-0.572582</td>\n",
       "      <td>-2.315133</td>\n",
       "      <td>-1.682078</td>\n",
       "      <td>-1.956800</td>\n",
       "      <td>1.0</td>\n",
       "    </tr>\n",
       "    <tr>\n",
       "      <th>25%</th>\n",
       "      <td>-0.030178</td>\n",
       "      <td>-0.291239</td>\n",
       "      <td>0.224957</td>\n",
       "      <td>-0.685010</td>\n",
       "      <td>0.261718</td>\n",
       "      <td>-0.640182</td>\n",
       "      <td>0.069175</td>\n",
       "      <td>-0.407297</td>\n",
       "      <td>-0.185368</td>\n",
       "      <td>-0.609844</td>\n",
       "      <td>1.0</td>\n",
       "    </tr>\n",
       "    <tr>\n",
       "      <th>50%</th>\n",
       "      <td>0.093260</td>\n",
       "      <td>-0.149918</td>\n",
       "      <td>0.310311</td>\n",
       "      <td>-0.206676</td>\n",
       "      <td>0.261718</td>\n",
       "      <td>-0.224934</td>\n",
       "      <td>0.295677</td>\n",
       "      <td>0.095950</td>\n",
       "      <td>0.095265</td>\n",
       "      <td>-0.248878</td>\n",
       "      <td>1.0</td>\n",
       "    </tr>\n",
       "    <tr>\n",
       "      <th>75%</th>\n",
       "      <td>0.216699</td>\n",
       "      <td>0.007106</td>\n",
       "      <td>0.370770</td>\n",
       "      <td>0.287293</td>\n",
       "      <td>0.261718</td>\n",
       "      <td>0.190314</td>\n",
       "      <td>0.484429</td>\n",
       "      <td>0.549455</td>\n",
       "      <td>0.375899</td>\n",
       "      <td>0.116863</td>\n",
       "      <td>1.0</td>\n",
       "    </tr>\n",
       "    <tr>\n",
       "      <th>max</th>\n",
       "      <td>0.648733</td>\n",
       "      <td>0.588093</td>\n",
       "      <td>0.545034</td>\n",
       "      <td>1.778897</td>\n",
       "      <td>0.351096</td>\n",
       "      <td>2.308081</td>\n",
       "      <td>1.163937</td>\n",
       "      <td>2.327906</td>\n",
       "      <td>1.716702</td>\n",
       "      <td>1.880987</td>\n",
       "      <td>1.0</td>\n",
       "    </tr>\n",
       "  </tbody>\n",
       "</table>\n",
       "</div>"
      ],
      "text/plain": [
       "                F1           F2           F3           F4           F5  \\\n",
       "count  1893.000000  1893.000000  1893.000000  1893.000000  1893.000000   \n",
       "mean      0.093352    -0.132005     0.292937    -0.203713     0.258980   \n",
       "std       0.177386     0.229522     0.114279     0.764324     0.021178   \n",
       "min      -0.486901    -0.840822    -0.045329    -2.244735     0.082961   \n",
       "25%      -0.030178    -0.291239     0.224957    -0.685010     0.261718   \n",
       "50%       0.093260    -0.149918     0.310311    -0.206676     0.261718   \n",
       "75%       0.216699     0.007106     0.370770     0.287293     0.261718   \n",
       "max       0.648733     0.588093     0.545034     1.778897     0.351096   \n",
       "\n",
       "                F6           F7           F8           F9          F10  \\\n",
       "count  1893.000000  1893.000000  1893.000000  1893.000000  1893.000000   \n",
       "mean     -0.225512     0.288738     0.052436     0.083620    -0.238325   \n",
       "std       0.629679     0.294817     0.737156     0.485169     0.541126   \n",
       "min      -2.259651    -0.572582    -2.315133    -1.682078    -1.956800   \n",
       "25%      -0.640182     0.069175    -0.407297    -0.185368    -0.609844   \n",
       "50%      -0.224934     0.295677     0.095950     0.095265    -0.248878   \n",
       "75%       0.190314     0.484429     0.549455     0.375899     0.116863   \n",
       "max       2.308081     1.163937     2.327906     1.716702     1.880987   \n",
       "\n",
       "       Cluster  \n",
       "count   1893.0  \n",
       "mean       1.0  \n",
       "std        0.0  \n",
       "min        1.0  \n",
       "25%        1.0  \n",
       "50%        1.0  \n",
       "75%        1.0  \n",
       "max        1.0  "
      ]
     },
     "execution_count": 70,
     "metadata": {},
     "output_type": "execute_result"
    }
   ],
   "source": [
    "df_no_out[df_no_out.Cluster==1].describe()"
   ]
  },
  {
   "cell_type": "code",
   "execution_count": 71,
   "metadata": {},
   "outputs": [
    {
     "data": {
      "text/html": [
       "<div>\n",
       "<style scoped>\n",
       "    .dataframe tbody tr th:only-of-type {\n",
       "        vertical-align: middle;\n",
       "    }\n",
       "\n",
       "    .dataframe tbody tr th {\n",
       "        vertical-align: top;\n",
       "    }\n",
       "\n",
       "    .dataframe thead th {\n",
       "        text-align: right;\n",
       "    }\n",
       "</style>\n",
       "<table border=\"1\" class=\"dataframe\">\n",
       "  <thead>\n",
       "    <tr style=\"text-align: right;\">\n",
       "      <th></th>\n",
       "      <th>Target</th>\n",
       "    </tr>\n",
       "  </thead>\n",
       "  <tbody>\n",
       "    <tr>\n",
       "      <th>count</th>\n",
       "      <td>1893</td>\n",
       "    </tr>\n",
       "    <tr>\n",
       "      <th>unique</th>\n",
       "      <td>8</td>\n",
       "    </tr>\n",
       "    <tr>\n",
       "      <th>top</th>\n",
       "      <td>A</td>\n",
       "    </tr>\n",
       "    <tr>\n",
       "      <th>freq</th>\n",
       "      <td>719</td>\n",
       "    </tr>\n",
       "  </tbody>\n",
       "</table>\n",
       "</div>"
      ],
      "text/plain": [
       "       Target\n",
       "count    1893\n",
       "unique      8\n",
       "top         A\n",
       "freq      719"
      ]
     },
     "execution_count": 71,
     "metadata": {},
     "output_type": "execute_result"
    }
   ],
   "source": [
    "df_no_out[df_no_out.Cluster==1].describe(include = object)"
   ]
  },
  {
   "cell_type": "markdown",
   "metadata": {},
   "source": [
    "Analysis of cluster_3"
   ]
  },
  {
   "cell_type": "code",
   "execution_count": 75,
   "metadata": {},
   "outputs": [
    {
     "data": {
      "text/html": [
       "<div>\n",
       "<style scoped>\n",
       "    .dataframe tbody tr th:only-of-type {\n",
       "        vertical-align: middle;\n",
       "    }\n",
       "\n",
       "    .dataframe tbody tr th {\n",
       "        vertical-align: top;\n",
       "    }\n",
       "\n",
       "    .dataframe thead th {\n",
       "        text-align: right;\n",
       "    }\n",
       "</style>\n",
       "<table border=\"1\" class=\"dataframe\">\n",
       "  <thead>\n",
       "    <tr style=\"text-align: right;\">\n",
       "      <th></th>\n",
       "      <th>F1</th>\n",
       "      <th>F2</th>\n",
       "      <th>F3</th>\n",
       "      <th>F4</th>\n",
       "      <th>F5</th>\n",
       "      <th>F6</th>\n",
       "      <th>F7</th>\n",
       "      <th>F8</th>\n",
       "      <th>F9</th>\n",
       "      <th>F10</th>\n",
       "      <th>Cluster</th>\n",
       "    </tr>\n",
       "  </thead>\n",
       "  <tbody>\n",
       "    <tr>\n",
       "      <th>count</th>\n",
       "      <td>677.000000</td>\n",
       "      <td>677.000000</td>\n",
       "      <td>677.000000</td>\n",
       "      <td>677.000000</td>\n",
       "      <td>677.000000</td>\n",
       "      <td>677.000000</td>\n",
       "      <td>677.000000</td>\n",
       "      <td>677.000000</td>\n",
       "      <td>677.000000</td>\n",
       "      <td>677.000000</td>\n",
       "      <td>677.0</td>\n",
       "    </tr>\n",
       "    <tr>\n",
       "      <th>mean</th>\n",
       "      <td>-0.008718</td>\n",
       "      <td>-0.134308</td>\n",
       "      <td>0.283651</td>\n",
       "      <td>0.142264</td>\n",
       "      <td>0.237822</td>\n",
       "      <td>0.995009</td>\n",
       "      <td>0.303317</td>\n",
       "      <td>-0.697115</td>\n",
       "      <td>-0.488278</td>\n",
       "      <td>0.847160</td>\n",
       "      <td>2.0</td>\n",
       "    </tr>\n",
       "    <tr>\n",
       "      <th>std</th>\n",
       "      <td>0.180625</td>\n",
       "      <td>0.284291</td>\n",
       "      <td>0.143007</td>\n",
       "      <td>0.649340</td>\n",
       "      <td>0.045425</td>\n",
       "      <td>0.653785</td>\n",
       "      <td>0.317923</td>\n",
       "      <td>0.584161</td>\n",
       "      <td>0.481091</td>\n",
       "      <td>0.546706</td>\n",
       "      <td>0.0</td>\n",
       "    </tr>\n",
       "    <tr>\n",
       "      <th>min</th>\n",
       "      <td>-0.597995</td>\n",
       "      <td>-0.730905</td>\n",
       "      <td>-0.358293</td>\n",
       "      <td>-2.224653</td>\n",
       "      <td>0.082961</td>\n",
       "      <td>-1.013906</td>\n",
       "      <td>-0.610333</td>\n",
       "      <td>-2.302552</td>\n",
       "      <td>-1.682078</td>\n",
       "      <td>-1.001925</td>\n",
       "      <td>2.0</td>\n",
       "    </tr>\n",
       "    <tr>\n",
       "      <th>25%</th>\n",
       "      <td>-0.128929</td>\n",
       "      <td>-0.322644</td>\n",
       "      <td>0.214288</td>\n",
       "      <td>-0.184417</td>\n",
       "      <td>0.261718</td>\n",
       "      <td>0.522513</td>\n",
       "      <td>0.069175</td>\n",
       "      <td>-1.088486</td>\n",
       "      <td>-0.808997</td>\n",
       "      <td>0.439724</td>\n",
       "      <td>2.0</td>\n",
       "    </tr>\n",
       "    <tr>\n",
       "      <th>50%</th>\n",
       "      <td>0.006853</td>\n",
       "      <td>-0.149918</td>\n",
       "      <td>0.299642</td>\n",
       "      <td>0.170775</td>\n",
       "      <td>0.261718</td>\n",
       "      <td>1.020811</td>\n",
       "      <td>0.295677</td>\n",
       "      <td>-0.661367</td>\n",
       "      <td>-0.434820</td>\n",
       "      <td>0.877313</td>\n",
       "      <td>2.0</td>\n",
       "    </tr>\n",
       "    <tr>\n",
       "      <th>75%</th>\n",
       "      <td>0.130292</td>\n",
       "      <td>0.014957</td>\n",
       "      <td>0.370770</td>\n",
       "      <td>0.507110</td>\n",
       "      <td>0.261718</td>\n",
       "      <td>1.519109</td>\n",
       "      <td>0.522180</td>\n",
       "      <td>-0.288416</td>\n",
       "      <td>-0.154186</td>\n",
       "      <td>1.222198</td>\n",
       "      <td>2.0</td>\n",
       "    </tr>\n",
       "    <tr>\n",
       "      <th>max</th>\n",
       "      <td>0.426544</td>\n",
       "      <td>0.760819</td>\n",
       "      <td>0.719297</td>\n",
       "      <td>1.988271</td>\n",
       "      <td>0.351096</td>\n",
       "      <td>2.308081</td>\n",
       "      <td>1.163937</td>\n",
       "      <td>1.862811</td>\n",
       "      <td>1.186617</td>\n",
       "      <td>2.095990</td>\n",
       "      <td>2.0</td>\n",
       "    </tr>\n",
       "  </tbody>\n",
       "</table>\n",
       "</div>"
      ],
      "text/plain": [
       "               F1          F2          F3          F4          F5          F6  \\\n",
       "count  677.000000  677.000000  677.000000  677.000000  677.000000  677.000000   \n",
       "mean    -0.008718   -0.134308    0.283651    0.142264    0.237822    0.995009   \n",
       "std      0.180625    0.284291    0.143007    0.649340    0.045425    0.653785   \n",
       "min     -0.597995   -0.730905   -0.358293   -2.224653    0.082961   -1.013906   \n",
       "25%     -0.128929   -0.322644    0.214288   -0.184417    0.261718    0.522513   \n",
       "50%      0.006853   -0.149918    0.299642    0.170775    0.261718    1.020811   \n",
       "75%      0.130292    0.014957    0.370770    0.507110    0.261718    1.519109   \n",
       "max      0.426544    0.760819    0.719297    1.988271    0.351096    2.308081   \n",
       "\n",
       "               F7          F8          F9         F10  Cluster  \n",
       "count  677.000000  677.000000  677.000000  677.000000    677.0  \n",
       "mean     0.303317   -0.697115   -0.488278    0.847160      2.0  \n",
       "std      0.317923    0.584161    0.481091    0.546706      0.0  \n",
       "min     -0.610333   -2.302552   -1.682078   -1.001925      2.0  \n",
       "25%      0.069175   -1.088486   -0.808997    0.439724      2.0  \n",
       "50%      0.295677   -0.661367   -0.434820    0.877313      2.0  \n",
       "75%      0.522180   -0.288416   -0.154186    1.222198      2.0  \n",
       "max      1.163937    1.862811    1.186617    2.095990      2.0  "
      ]
     },
     "execution_count": 75,
     "metadata": {},
     "output_type": "execute_result"
    }
   ],
   "source": [
    "df_no_out[df_no_out.Cluster==2].describe()"
   ]
  },
  {
   "cell_type": "code",
   "execution_count": 76,
   "metadata": {},
   "outputs": [
    {
     "data": {
      "text/html": [
       "<div>\n",
       "<style scoped>\n",
       "    .dataframe tbody tr th:only-of-type {\n",
       "        vertical-align: middle;\n",
       "    }\n",
       "\n",
       "    .dataframe tbody tr th {\n",
       "        vertical-align: top;\n",
       "    }\n",
       "\n",
       "    .dataframe thead th {\n",
       "        text-align: right;\n",
       "    }\n",
       "</style>\n",
       "<table border=\"1\" class=\"dataframe\">\n",
       "  <thead>\n",
       "    <tr style=\"text-align: right;\">\n",
       "      <th></th>\n",
       "      <th>Target</th>\n",
       "    </tr>\n",
       "  </thead>\n",
       "  <tbody>\n",
       "    <tr>\n",
       "      <th>count</th>\n",
       "      <td>677</td>\n",
       "    </tr>\n",
       "    <tr>\n",
       "      <th>unique</th>\n",
       "      <td>9</td>\n",
       "    </tr>\n",
       "    <tr>\n",
       "      <th>top</th>\n",
       "      <td>A</td>\n",
       "    </tr>\n",
       "    <tr>\n",
       "      <th>freq</th>\n",
       "      <td>385</td>\n",
       "    </tr>\n",
       "  </tbody>\n",
       "</table>\n",
       "</div>"
      ],
      "text/plain": [
       "       Target\n",
       "count     677\n",
       "unique      9\n",
       "top         A\n",
       "freq      385"
      ]
     },
     "execution_count": 76,
     "metadata": {},
     "output_type": "execute_result"
    }
   ],
   "source": [
    "df_no_out[df_no_out.Cluster==2].describe(include = object)"
   ]
  },
  {
   "cell_type": "markdown",
   "metadata": {},
   "source": [
    "Analysis of cluster_4"
   ]
  },
  {
   "cell_type": "code",
   "execution_count": 78,
   "metadata": {},
   "outputs": [
    {
     "data": {
      "text/html": [
       "<div>\n",
       "<style scoped>\n",
       "    .dataframe tbody tr th:only-of-type {\n",
       "        vertical-align: middle;\n",
       "    }\n",
       "\n",
       "    .dataframe tbody tr th {\n",
       "        vertical-align: top;\n",
       "    }\n",
       "\n",
       "    .dataframe thead th {\n",
       "        text-align: right;\n",
       "    }\n",
       "</style>\n",
       "<table border=\"1\" class=\"dataframe\">\n",
       "  <thead>\n",
       "    <tr style=\"text-align: right;\">\n",
       "      <th></th>\n",
       "      <th>F1</th>\n",
       "      <th>F2</th>\n",
       "      <th>F3</th>\n",
       "      <th>F4</th>\n",
       "      <th>F5</th>\n",
       "      <th>F6</th>\n",
       "      <th>F7</th>\n",
       "      <th>F8</th>\n",
       "      <th>F9</th>\n",
       "      <th>F10</th>\n",
       "      <th>Cluster</th>\n",
       "    </tr>\n",
       "  </thead>\n",
       "  <tbody>\n",
       "    <tr>\n",
       "      <th>count</th>\n",
       "      <td>1411.000000</td>\n",
       "      <td>1411.000000</td>\n",
       "      <td>1411.000000</td>\n",
       "      <td>1411.000000</td>\n",
       "      <td>1411.000000</td>\n",
       "      <td>1411.000000</td>\n",
       "      <td>1411.000000</td>\n",
       "      <td>1411.000000</td>\n",
       "      <td>1411.000000</td>\n",
       "      <td>1411.000000</td>\n",
       "      <td>1411.0</td>\n",
       "    </tr>\n",
       "    <tr>\n",
       "      <th>mean</th>\n",
       "      <td>0.094389</td>\n",
       "      <td>0.329294</td>\n",
       "      <td>0.081219</td>\n",
       "      <td>0.247635</td>\n",
       "      <td>0.258741</td>\n",
       "      <td>0.026569</td>\n",
       "      <td>0.314646</td>\n",
       "      <td>0.156293</td>\n",
       "      <td>-0.034079</td>\n",
       "      <td>-0.024656</td>\n",
       "      <td>3.0</td>\n",
       "    </tr>\n",
       "    <tr>\n",
       "      <th>std</th>\n",
       "      <td>0.147466</td>\n",
       "      <td>0.215204</td>\n",
       "      <td>0.095361</td>\n",
       "      <td>0.615653</td>\n",
       "      <td>0.024671</td>\n",
       "      <td>0.606025</td>\n",
       "      <td>0.269687</td>\n",
       "      <td>0.693482</td>\n",
       "      <td>0.461399</td>\n",
       "      <td>0.544498</td>\n",
       "      <td>0.0</td>\n",
       "    </tr>\n",
       "    <tr>\n",
       "      <th>min</th>\n",
       "      <td>-0.388150</td>\n",
       "      <td>-0.338346</td>\n",
       "      <td>-0.358293</td>\n",
       "      <td>-1.139205</td>\n",
       "      <td>0.082961</td>\n",
       "      <td>-1.512204</td>\n",
       "      <td>-0.572582</td>\n",
       "      <td>-2.305910</td>\n",
       "      <td>-1.650897</td>\n",
       "      <td>-1.431944</td>\n",
       "      <td>3.0</td>\n",
       "    </tr>\n",
       "    <tr>\n",
       "      <th>25%</th>\n",
       "      <td>-0.005490</td>\n",
       "      <td>0.187683</td>\n",
       "      <td>0.018686</td>\n",
       "      <td>-0.165469</td>\n",
       "      <td>0.261718</td>\n",
       "      <td>-0.432558</td>\n",
       "      <td>0.144676</td>\n",
       "      <td>-0.306162</td>\n",
       "      <td>-0.278912</td>\n",
       "      <td>-0.400947</td>\n",
       "      <td>3.0</td>\n",
       "    </tr>\n",
       "    <tr>\n",
       "      <th>50%</th>\n",
       "      <td>0.093260</td>\n",
       "      <td>0.313302</td>\n",
       "      <td>0.079145</td>\n",
       "      <td>0.211236</td>\n",
       "      <td>0.261718</td>\n",
       "      <td>0.024215</td>\n",
       "      <td>0.295677</td>\n",
       "      <td>0.197046</td>\n",
       "      <td>0.001721</td>\n",
       "      <td>-0.050233</td>\n",
       "      <td>3.0</td>\n",
       "    </tr>\n",
       "    <tr>\n",
       "      <th>75%</th>\n",
       "      <td>0.192011</td>\n",
       "      <td>0.493879</td>\n",
       "      <td>0.143160</td>\n",
       "      <td>0.703981</td>\n",
       "      <td>0.261718</td>\n",
       "      <td>0.439463</td>\n",
       "      <td>0.484429</td>\n",
       "      <td>0.626777</td>\n",
       "      <td>0.251173</td>\n",
       "      <td>0.329775</td>\n",
       "      <td>3.0</td>\n",
       "    </tr>\n",
       "    <tr>\n",
       "      <th>max</th>\n",
       "      <td>0.648733</td>\n",
       "      <td>0.807926</td>\n",
       "      <td>0.406334</td>\n",
       "      <td>1.919136</td>\n",
       "      <td>0.351096</td>\n",
       "      <td>2.100457</td>\n",
       "      <td>1.163937</td>\n",
       "      <td>2.158818</td>\n",
       "      <td>1.498432</td>\n",
       "      <td>1.996861</td>\n",
       "      <td>3.0</td>\n",
       "    </tr>\n",
       "  </tbody>\n",
       "</table>\n",
       "</div>"
      ],
      "text/plain": [
       "                F1           F2           F3           F4           F5  \\\n",
       "count  1411.000000  1411.000000  1411.000000  1411.000000  1411.000000   \n",
       "mean      0.094389     0.329294     0.081219     0.247635     0.258741   \n",
       "std       0.147466     0.215204     0.095361     0.615653     0.024671   \n",
       "min      -0.388150    -0.338346    -0.358293    -1.139205     0.082961   \n",
       "25%      -0.005490     0.187683     0.018686    -0.165469     0.261718   \n",
       "50%       0.093260     0.313302     0.079145     0.211236     0.261718   \n",
       "75%       0.192011     0.493879     0.143160     0.703981     0.261718   \n",
       "max       0.648733     0.807926     0.406334     1.919136     0.351096   \n",
       "\n",
       "                F6           F7           F8           F9          F10  \\\n",
       "count  1411.000000  1411.000000  1411.000000  1411.000000  1411.000000   \n",
       "mean      0.026569     0.314646     0.156293    -0.034079    -0.024656   \n",
       "std       0.606025     0.269687     0.693482     0.461399     0.544498   \n",
       "min      -1.512204    -0.572582    -2.305910    -1.650897    -1.431944   \n",
       "25%      -0.432558     0.144676    -0.306162    -0.278912    -0.400947   \n",
       "50%       0.024215     0.295677     0.197046     0.001721    -0.050233   \n",
       "75%       0.439463     0.484429     0.626777     0.251173     0.329775   \n",
       "max       2.100457     1.163937     2.158818     1.498432     1.996861   \n",
       "\n",
       "       Cluster  \n",
       "count   1411.0  \n",
       "mean       3.0  \n",
       "std        0.0  \n",
       "min        3.0  \n",
       "25%        3.0  \n",
       "50%        3.0  \n",
       "75%        3.0  \n",
       "max        3.0  "
      ]
     },
     "execution_count": 78,
     "metadata": {},
     "output_type": "execute_result"
    }
   ],
   "source": [
    "df_no_out[df_no_out.Cluster==3].describe()"
   ]
  },
  {
   "cell_type": "code",
   "execution_count": 79,
   "metadata": {},
   "outputs": [
    {
     "data": {
      "text/html": [
       "<div>\n",
       "<style scoped>\n",
       "    .dataframe tbody tr th:only-of-type {\n",
       "        vertical-align: middle;\n",
       "    }\n",
       "\n",
       "    .dataframe tbody tr th {\n",
       "        vertical-align: top;\n",
       "    }\n",
       "\n",
       "    .dataframe thead th {\n",
       "        text-align: right;\n",
       "    }\n",
       "</style>\n",
       "<table border=\"1\" class=\"dataframe\">\n",
       "  <thead>\n",
       "    <tr style=\"text-align: right;\">\n",
       "      <th></th>\n",
       "      <th>Target</th>\n",
       "    </tr>\n",
       "  </thead>\n",
       "  <tbody>\n",
       "    <tr>\n",
       "      <th>count</th>\n",
       "      <td>1411</td>\n",
       "    </tr>\n",
       "    <tr>\n",
       "      <th>unique</th>\n",
       "      <td>5</td>\n",
       "    </tr>\n",
       "    <tr>\n",
       "      <th>top</th>\n",
       "      <td>A</td>\n",
       "    </tr>\n",
       "    <tr>\n",
       "      <th>freq</th>\n",
       "      <td>723</td>\n",
       "    </tr>\n",
       "  </tbody>\n",
       "</table>\n",
       "</div>"
      ],
      "text/plain": [
       "       Target\n",
       "count    1411\n",
       "unique      5\n",
       "top         A\n",
       "freq      723"
      ]
     },
     "execution_count": 79,
     "metadata": {},
     "output_type": "execute_result"
    }
   ],
   "source": [
    "df_no_out[df_no_out.Cluster==3].describe(include = object)"
   ]
  },
  {
   "cell_type": "markdown",
   "metadata": {},
   "source": [
    "Analysis of cluster_5"
   ]
  },
  {
   "cell_type": "code",
   "execution_count": 80,
   "metadata": {},
   "outputs": [
    {
     "data": {
      "text/html": [
       "<div>\n",
       "<style scoped>\n",
       "    .dataframe tbody tr th:only-of-type {\n",
       "        vertical-align: middle;\n",
       "    }\n",
       "\n",
       "    .dataframe tbody tr th {\n",
       "        vertical-align: top;\n",
       "    }\n",
       "\n",
       "    .dataframe thead th {\n",
       "        text-align: right;\n",
       "    }\n",
       "</style>\n",
       "<table border=\"1\" class=\"dataframe\">\n",
       "  <thead>\n",
       "    <tr style=\"text-align: right;\">\n",
       "      <th></th>\n",
       "      <th>F1</th>\n",
       "      <th>F2</th>\n",
       "      <th>F3</th>\n",
       "      <th>F4</th>\n",
       "      <th>F5</th>\n",
       "      <th>F6</th>\n",
       "      <th>F7</th>\n",
       "      <th>F8</th>\n",
       "      <th>F9</th>\n",
       "      <th>F10</th>\n",
       "      <th>Cluster</th>\n",
       "    </tr>\n",
       "  </thead>\n",
       "  <tbody>\n",
       "    <tr>\n",
       "      <th>count</th>\n",
       "      <td>1089.000000</td>\n",
       "      <td>1089.000000</td>\n",
       "      <td>1089.000000</td>\n",
       "      <td>1089.000000</td>\n",
       "      <td>1089.000000</td>\n",
       "      <td>1089.000000</td>\n",
       "      <td>1089.000000</td>\n",
       "      <td>1089.000000</td>\n",
       "      <td>1089.000000</td>\n",
       "      <td>1089.000000</td>\n",
       "      <td>1089.0</td>\n",
       "    </tr>\n",
       "    <tr>\n",
       "      <th>mean</th>\n",
       "      <td>0.072529</td>\n",
       "      <td>0.009362</td>\n",
       "      <td>0.242596</td>\n",
       "      <td>0.019240</td>\n",
       "      <td>0.150016</td>\n",
       "      <td>-0.122844</td>\n",
       "      <td>0.244754</td>\n",
       "      <td>0.125003</td>\n",
       "      <td>0.067701</td>\n",
       "      <td>-0.122391</td>\n",
       "      <td>4.0</td>\n",
       "    </tr>\n",
       "    <tr>\n",
       "      <th>std</th>\n",
       "      <td>0.178653</td>\n",
       "      <td>0.282866</td>\n",
       "      <td>0.191129</td>\n",
       "      <td>0.795579</td>\n",
       "      <td>0.040014</td>\n",
       "      <td>0.617886</td>\n",
       "      <td>0.274158</td>\n",
       "      <td>0.686916</td>\n",
       "      <td>0.460342</td>\n",
       "      <td>0.559310</td>\n",
       "      <td>0.0</td>\n",
       "    </tr>\n",
       "    <tr>\n",
       "      <th>min</th>\n",
       "      <td>-0.437525</td>\n",
       "      <td>-0.840822</td>\n",
       "      <td>-0.358293</td>\n",
       "      <td>-2.283942</td>\n",
       "      <td>0.082961</td>\n",
       "      <td>-2.218127</td>\n",
       "      <td>-0.761334</td>\n",
       "      <td>-2.283078</td>\n",
       "      <td>-1.463808</td>\n",
       "      <td>-2.062970</td>\n",
       "      <td>4.0</td>\n",
       "    </tr>\n",
       "    <tr>\n",
       "      <th>25%</th>\n",
       "      <td>-0.030178</td>\n",
       "      <td>-0.220579</td>\n",
       "      <td>0.100483</td>\n",
       "      <td>-0.434818</td>\n",
       "      <td>0.082961</td>\n",
       "      <td>-0.557133</td>\n",
       "      <td>0.069175</td>\n",
       "      <td>-0.264497</td>\n",
       "      <td>-0.216549</td>\n",
       "      <td>-0.496068</td>\n",
       "      <td>4.0</td>\n",
       "    </tr>\n",
       "    <tr>\n",
       "      <th>50%</th>\n",
       "      <td>0.093260</td>\n",
       "      <td>-0.016448</td>\n",
       "      <td>0.242739</td>\n",
       "      <td>0.087408</td>\n",
       "      <td>0.172340</td>\n",
       "      <td>-0.141884</td>\n",
       "      <td>0.257927</td>\n",
       "      <td>0.181223</td>\n",
       "      <td>0.095265</td>\n",
       "      <td>-0.117211</td>\n",
       "      <td>4.0</td>\n",
       "    </tr>\n",
       "    <tr>\n",
       "      <th>75%</th>\n",
       "      <td>0.179667</td>\n",
       "      <td>0.234790</td>\n",
       "      <td>0.381439</td>\n",
       "      <td>0.545422</td>\n",
       "      <td>0.172340</td>\n",
       "      <td>0.273364</td>\n",
       "      <td>0.408929</td>\n",
       "      <td>0.548018</td>\n",
       "      <td>0.344717</td>\n",
       "      <td>0.239874</td>\n",
       "      <td>4.0</td>\n",
       "    </tr>\n",
       "    <tr>\n",
       "      <th>max</th>\n",
       "      <td>0.500607</td>\n",
       "      <td>0.666605</td>\n",
       "      <td>0.719297</td>\n",
       "      <td>2.258633</td>\n",
       "      <td>0.261718</td>\n",
       "      <td>2.058932</td>\n",
       "      <td>1.163937</td>\n",
       "      <td>2.104707</td>\n",
       "      <td>1.716702</td>\n",
       "      <td>1.521877</td>\n",
       "      <td>4.0</td>\n",
       "    </tr>\n",
       "  </tbody>\n",
       "</table>\n",
       "</div>"
      ],
      "text/plain": [
       "                F1           F2           F3           F4           F5  \\\n",
       "count  1089.000000  1089.000000  1089.000000  1089.000000  1089.000000   \n",
       "mean      0.072529     0.009362     0.242596     0.019240     0.150016   \n",
       "std       0.178653     0.282866     0.191129     0.795579     0.040014   \n",
       "min      -0.437525    -0.840822    -0.358293    -2.283942     0.082961   \n",
       "25%      -0.030178    -0.220579     0.100483    -0.434818     0.082961   \n",
       "50%       0.093260    -0.016448     0.242739     0.087408     0.172340   \n",
       "75%       0.179667     0.234790     0.381439     0.545422     0.172340   \n",
       "max       0.500607     0.666605     0.719297     2.258633     0.261718   \n",
       "\n",
       "                F6           F7           F8           F9          F10  \\\n",
       "count  1089.000000  1089.000000  1089.000000  1089.000000  1089.000000   \n",
       "mean     -0.122844     0.244754     0.125003     0.067701    -0.122391   \n",
       "std       0.617886     0.274158     0.686916     0.460342     0.559310   \n",
       "min      -2.218127    -0.761334    -2.283078    -1.463808    -2.062970   \n",
       "25%      -0.557133     0.069175    -0.264497    -0.216549    -0.496068   \n",
       "50%      -0.141884     0.257927     0.181223     0.095265    -0.117211   \n",
       "75%       0.273364     0.408929     0.548018     0.344717     0.239874   \n",
       "max       2.058932     1.163937     2.104707     1.716702     1.521877   \n",
       "\n",
       "       Cluster  \n",
       "count   1089.0  \n",
       "mean       4.0  \n",
       "std        0.0  \n",
       "min        4.0  \n",
       "25%        4.0  \n",
       "50%        4.0  \n",
       "75%        4.0  \n",
       "max        4.0  "
      ]
     },
     "execution_count": 80,
     "metadata": {},
     "output_type": "execute_result"
    }
   ],
   "source": [
    "df_no_out[df_no_out.Cluster==4].describe()"
   ]
  },
  {
   "cell_type": "code",
   "execution_count": 81,
   "metadata": {},
   "outputs": [
    {
     "data": {
      "text/html": [
       "<div>\n",
       "<style scoped>\n",
       "    .dataframe tbody tr th:only-of-type {\n",
       "        vertical-align: middle;\n",
       "    }\n",
       "\n",
       "    .dataframe tbody tr th {\n",
       "        vertical-align: top;\n",
       "    }\n",
       "\n",
       "    .dataframe thead th {\n",
       "        text-align: right;\n",
       "    }\n",
       "</style>\n",
       "<table border=\"1\" class=\"dataframe\">\n",
       "  <thead>\n",
       "    <tr style=\"text-align: right;\">\n",
       "      <th></th>\n",
       "      <th>Target</th>\n",
       "    </tr>\n",
       "  </thead>\n",
       "  <tbody>\n",
       "    <tr>\n",
       "      <th>count</th>\n",
       "      <td>1089</td>\n",
       "    </tr>\n",
       "    <tr>\n",
       "      <th>unique</th>\n",
       "      <td>9</td>\n",
       "    </tr>\n",
       "    <tr>\n",
       "      <th>top</th>\n",
       "      <td>A</td>\n",
       "    </tr>\n",
       "    <tr>\n",
       "      <th>freq</th>\n",
       "      <td>604</td>\n",
       "    </tr>\n",
       "  </tbody>\n",
       "</table>\n",
       "</div>"
      ],
      "text/plain": [
       "       Target\n",
       "count    1089\n",
       "unique      9\n",
       "top         A\n",
       "freq      604"
      ]
     },
     "execution_count": 81,
     "metadata": {},
     "output_type": "execute_result"
    }
   ],
   "source": [
    "df_no_out[df_no_out.Cluster==4].describe(include = object)"
   ]
  },
  {
   "cell_type": "markdown",
   "metadata": {
    "id": "DBLnljbc7Z39"
   },
   "source": [
    "#### d.Write down a business interpretation/explanation of the model – which variables are affecting the target the most and explain the relationship. What changes from the base model had the most effect on model performance? (5 marks)"
   ]
  },
  {
   "cell_type": "code",
   "execution_count": null,
   "metadata": {
    "id": "r8AS2ZOA7Z3-"
   },
   "outputs": [],
   "source": []
  }
 ],
 "metadata": {
  "colab": {
   "collapsed_sections": [],
   "name": "USL_30_MARKS_SET_5_EXAM_PAPER.ipynb",
   "provenance": []
  },
  "kernelspec": {
   "display_name": "Python 3",
   "language": "python",
   "name": "python3"
  },
  "language_info": {
   "codemirror_mode": {
    "name": "ipython",
    "version": 3
   },
   "file_extension": ".py",
   "mimetype": "text/x-python",
   "name": "python",
   "nbconvert_exporter": "python",
   "pygments_lexer": "ipython3",
   "version": "3.8.8"
  }
 },
 "nbformat": 4,
 "nbformat_minor": 1
}
