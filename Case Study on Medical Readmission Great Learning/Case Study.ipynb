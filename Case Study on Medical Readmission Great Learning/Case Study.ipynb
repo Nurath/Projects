{
 "cells": [
  {
   "cell_type": "code",
   "execution_count": 2,
   "id": "57790e56",
   "metadata": {},
   "outputs": [],
   "source": [
    "import numpy as np\n",
    "import pandas as pd\n",
    "import matplotlib.pyplot as plt\n",
    "import seaborn as sb\n",
    "from warnings import filterwarnings\n",
    "filterwarnings('ignore')"
   ]
  },
  {
   "cell_type": "code",
   "execution_count": 6,
   "id": "bf6854b7",
   "metadata": {},
   "outputs": [
    {
     "data": {
      "text/html": [
       "<div>\n",
       "<style scoped>\n",
       "    .dataframe tbody tr th:only-of-type {\n",
       "        vertical-align: middle;\n",
       "    }\n",
       "\n",
       "    .dataframe tbody tr th {\n",
       "        vertical-align: top;\n",
       "    }\n",
       "\n",
       "    .dataframe thead th {\n",
       "        text-align: right;\n",
       "    }\n",
       "</style>\n",
       "<table border=\"1\" class=\"dataframe\">\n",
       "  <thead>\n",
       "    <tr style=\"text-align: right;\">\n",
       "      <th></th>\n",
       "      <th>Patient_Nbr</th>\n",
       "      <th>Race</th>\n",
       "      <th>Gender</th>\n",
       "      <th>Age</th>\n",
       "      <th>Weight</th>\n",
       "      <th>Admission Type</th>\n",
       "      <th>Discharge Disposition</th>\n",
       "      <th>Admission Source</th>\n",
       "      <th>Days In Hospital</th>\n",
       "      <th>Payer_Code</th>\n",
       "      <th>...</th>\n",
       "      <th>Citoglipton</th>\n",
       "      <th>Insulin</th>\n",
       "      <th>Glyburide-Metformin</th>\n",
       "      <th>Glipizide-Metformin</th>\n",
       "      <th>Glimepiride-Pioglitazone</th>\n",
       "      <th>Metformin-Rosiglitazone</th>\n",
       "      <th>Metformin-Pioglitazone</th>\n",
       "      <th>Change</th>\n",
       "      <th>Diabetesmed</th>\n",
       "      <th>Readmitted</th>\n",
       "    </tr>\n",
       "  </thead>\n",
       "  <tbody>\n",
       "    <tr>\n",
       "      <th>0</th>\n",
       "      <td>8390</td>\n",
       "      <td>Caucasian</td>\n",
       "      <td>Male</td>\n",
       "      <td>[70-80)</td>\n",
       "      <td>Unknown</td>\n",
       "      <td>Not Available</td>\n",
       "      <td>Discharged</td>\n",
       "      <td>Not Available</td>\n",
       "      <td>Below 3</td>\n",
       "      <td>Unknown</td>\n",
       "      <td>...</td>\n",
       "      <td>No</td>\n",
       "      <td>No</td>\n",
       "      <td>No</td>\n",
       "      <td>No</td>\n",
       "      <td>No</td>\n",
       "      <td>No</td>\n",
       "      <td>No</td>\n",
       "      <td>No</td>\n",
       "      <td>No</td>\n",
       "      <td>Yes</td>\n",
       "    </tr>\n",
       "    <tr>\n",
       "      <th>1</th>\n",
       "      <td>20012</td>\n",
       "      <td>Caucasian</td>\n",
       "      <td>Male</td>\n",
       "      <td>[60-70)</td>\n",
       "      <td>Unknown</td>\n",
       "      <td>Not Available</td>\n",
       "      <td>Discharged</td>\n",
       "      <td>Not Available</td>\n",
       "      <td>Between 03 to 06</td>\n",
       "      <td>HM</td>\n",
       "      <td>...</td>\n",
       "      <td>No</td>\n",
       "      <td>Steady</td>\n",
       "      <td>No</td>\n",
       "      <td>No</td>\n",
       "      <td>No</td>\n",
       "      <td>No</td>\n",
       "      <td>No</td>\n",
       "      <td>No</td>\n",
       "      <td>Yes</td>\n",
       "      <td>Yes</td>\n",
       "    </tr>\n",
       "    <tr>\n",
       "      <th>2</th>\n",
       "      <td>50903</td>\n",
       "      <td>Caucasian</td>\n",
       "      <td>Female</td>\n",
       "      <td>[70-80)</td>\n",
       "      <td>Unknown</td>\n",
       "      <td>Emergency</td>\n",
       "      <td>Discharged</td>\n",
       "      <td>Referral</td>\n",
       "      <td>Between 03 to 06</td>\n",
       "      <td>Unknown</td>\n",
       "      <td>...</td>\n",
       "      <td>No</td>\n",
       "      <td>No</td>\n",
       "      <td>No</td>\n",
       "      <td>No</td>\n",
       "      <td>No</td>\n",
       "      <td>No</td>\n",
       "      <td>No</td>\n",
       "      <td>No</td>\n",
       "      <td>No</td>\n",
       "      <td>Yes</td>\n",
       "    </tr>\n",
       "    <tr>\n",
       "      <th>3</th>\n",
       "      <td>50636</td>\n",
       "      <td>Caucasian</td>\n",
       "      <td>Male</td>\n",
       "      <td>[50-60)</td>\n",
       "      <td>Unknown</td>\n",
       "      <td>Not Available</td>\n",
       "      <td>Left AMA</td>\n",
       "      <td>Emergency Room</td>\n",
       "      <td>Below 3</td>\n",
       "      <td>Unknown</td>\n",
       "      <td>...</td>\n",
       "      <td>No</td>\n",
       "      <td>Steady</td>\n",
       "      <td>No</td>\n",
       "      <td>No</td>\n",
       "      <td>No</td>\n",
       "      <td>No</td>\n",
       "      <td>No</td>\n",
       "      <td>No</td>\n",
       "      <td>Yes</td>\n",
       "      <td>No</td>\n",
       "    </tr>\n",
       "    <tr>\n",
       "      <th>4</th>\n",
       "      <td>205</td>\n",
       "      <td>Caucasian</td>\n",
       "      <td>Female</td>\n",
       "      <td>[40-50)</td>\n",
       "      <td>Unknown</td>\n",
       "      <td>Emergency</td>\n",
       "      <td>Discharged</td>\n",
       "      <td>Emergency Room</td>\n",
       "      <td>Below 3</td>\n",
       "      <td>HM</td>\n",
       "      <td>...</td>\n",
       "      <td>No</td>\n",
       "      <td>Up</td>\n",
       "      <td>No</td>\n",
       "      <td>No</td>\n",
       "      <td>No</td>\n",
       "      <td>No</td>\n",
       "      <td>No</td>\n",
       "      <td>Ch</td>\n",
       "      <td>Yes</td>\n",
       "      <td>No</td>\n",
       "    </tr>\n",
       "  </tbody>\n",
       "</table>\n",
       "<p>5 rows × 43 columns</p>\n",
       "</div>"
      ],
      "text/plain": [
       "   Patient_Nbr       Race  Gender      Age   Weight Admission Type  \\\n",
       "0         8390  Caucasian    Male  [70-80)  Unknown  Not Available   \n",
       "1        20012  Caucasian    Male  [60-70)  Unknown  Not Available   \n",
       "2        50903  Caucasian  Female  [70-80)  Unknown      Emergency   \n",
       "3        50636  Caucasian    Male  [50-60)  Unknown  Not Available   \n",
       "4          205  Caucasian  Female  [40-50)  Unknown      Emergency   \n",
       "\n",
       "  Discharge Disposition Admission Source  Days In Hospital Payer_Code  ...  \\\n",
       "0            Discharged    Not Available           Below 3    Unknown  ...   \n",
       "1            Discharged    Not Available  Between 03 to 06         HM  ...   \n",
       "2            Discharged         Referral  Between 03 to 06    Unknown  ...   \n",
       "3              Left AMA   Emergency Room           Below 3    Unknown  ...   \n",
       "4            Discharged   Emergency Room           Below 3         HM  ...   \n",
       "\n",
       "  Citoglipton  Insulin  Glyburide-Metformin  Glipizide-Metformin  \\\n",
       "0          No       No                   No                   No   \n",
       "1          No   Steady                   No                   No   \n",
       "2          No       No                   No                   No   \n",
       "3          No   Steady                   No                   No   \n",
       "4          No       Up                   No                   No   \n",
       "\n",
       "  Glimepiride-Pioglitazone Metformin-Rosiglitazone Metformin-Pioglitazone  \\\n",
       "0                       No                      No                     No   \n",
       "1                       No                      No                     No   \n",
       "2                       No                      No                     No   \n",
       "3                       No                      No                     No   \n",
       "4                       No                      No                     No   \n",
       "\n",
       "  Change Diabetesmed Readmitted  \n",
       "0     No          No        Yes  \n",
       "1     No         Yes        Yes  \n",
       "2     No          No        Yes  \n",
       "3     No         Yes         No  \n",
       "4     Ch         Yes         No  \n",
       "\n",
       "[5 rows x 43 columns]"
      ]
     },
     "execution_count": 6,
     "metadata": {},
     "output_type": "execute_result"
    }
   ],
   "source": [
    "df=pd.read_excel('Readmission dataset.xlsx')\n",
    "df.head()"
   ]
  },
  {
   "cell_type": "code",
   "execution_count": 7,
   "id": "bbcbcb92",
   "metadata": {},
   "outputs": [
    {
     "data": {
      "text/html": [
       "<div>\n",
       "<style scoped>\n",
       "    .dataframe tbody tr th:only-of-type {\n",
       "        vertical-align: middle;\n",
       "    }\n",
       "\n",
       "    .dataframe tbody tr th {\n",
       "        vertical-align: top;\n",
       "    }\n",
       "\n",
       "    .dataframe thead th {\n",
       "        text-align: right;\n",
       "    }\n",
       "</style>\n",
       "<table border=\"1\" class=\"dataframe\">\n",
       "  <thead>\n",
       "    <tr style=\"text-align: right;\">\n",
       "      <th></th>\n",
       "      <th>Patient_Nbr</th>\n",
       "      <th>Race</th>\n",
       "      <th>Gender</th>\n",
       "      <th>Age</th>\n",
       "      <th>Weight</th>\n",
       "      <th>Admission Type</th>\n",
       "      <th>Discharge Disposition</th>\n",
       "      <th>Admission Source</th>\n",
       "      <th>Days In Hospital</th>\n",
       "      <th>Payer_Code</th>\n",
       "      <th>...</th>\n",
       "      <th>Examide</th>\n",
       "      <th>Citoglipton</th>\n",
       "      <th>Insulin</th>\n",
       "      <th>Glyburide-Metformin</th>\n",
       "      <th>Glipizide-Metformin</th>\n",
       "      <th>Glimepiride-Pioglitazone</th>\n",
       "      <th>Metformin-Rosiglitazone</th>\n",
       "      <th>Metformin-Pioglitazone</th>\n",
       "      <th>Change</th>\n",
       "      <th>Diabetesmed</th>\n",
       "    </tr>\n",
       "  </thead>\n",
       "  <tbody>\n",
       "    <tr>\n",
       "      <th>0</th>\n",
       "      <td>12866</td>\n",
       "      <td>Caucasian</td>\n",
       "      <td>Male</td>\n",
       "      <td>[80-90)</td>\n",
       "      <td>Unknown</td>\n",
       "      <td>Not Available</td>\n",
       "      <td>Discharged</td>\n",
       "      <td>Referral</td>\n",
       "      <td>Above 9</td>\n",
       "      <td>Unknown</td>\n",
       "      <td>...</td>\n",
       "      <td>No</td>\n",
       "      <td>No</td>\n",
       "      <td>Steady</td>\n",
       "      <td>No</td>\n",
       "      <td>No</td>\n",
       "      <td>No</td>\n",
       "      <td>No</td>\n",
       "      <td>No</td>\n",
       "      <td>Ch</td>\n",
       "      <td>Yes</td>\n",
       "    </tr>\n",
       "    <tr>\n",
       "      <th>1</th>\n",
       "      <td>27788</td>\n",
       "      <td>Caucasian</td>\n",
       "      <td>Male</td>\n",
       "      <td>[50-60)</td>\n",
       "      <td>Unknown</td>\n",
       "      <td>Emergency</td>\n",
       "      <td>Discharged</td>\n",
       "      <td>Emergency Room</td>\n",
       "      <td>Between 03 to 06</td>\n",
       "      <td>MC</td>\n",
       "      <td>...</td>\n",
       "      <td>No</td>\n",
       "      <td>No</td>\n",
       "      <td>Down</td>\n",
       "      <td>No</td>\n",
       "      <td>No</td>\n",
       "      <td>No</td>\n",
       "      <td>No</td>\n",
       "      <td>No</td>\n",
       "      <td>Ch</td>\n",
       "      <td>Yes</td>\n",
       "    </tr>\n",
       "    <tr>\n",
       "      <th>2</th>\n",
       "      <td>50211</td>\n",
       "      <td>Caucasian</td>\n",
       "      <td>Female</td>\n",
       "      <td>[40-50)</td>\n",
       "      <td>Unknown</td>\n",
       "      <td>Emergency</td>\n",
       "      <td>Discharged</td>\n",
       "      <td>Referral</td>\n",
       "      <td>Below 3</td>\n",
       "      <td>HM</td>\n",
       "      <td>...</td>\n",
       "      <td>No</td>\n",
       "      <td>No</td>\n",
       "      <td>No</td>\n",
       "      <td>No</td>\n",
       "      <td>No</td>\n",
       "      <td>No</td>\n",
       "      <td>No</td>\n",
       "      <td>No</td>\n",
       "      <td>No</td>\n",
       "      <td>No</td>\n",
       "    </tr>\n",
       "    <tr>\n",
       "      <th>3</th>\n",
       "      <td>79</td>\n",
       "      <td>Caucasian</td>\n",
       "      <td>Male</td>\n",
       "      <td>[80-90)</td>\n",
       "      <td>Unknown</td>\n",
       "      <td>Emergency</td>\n",
       "      <td>Discharged</td>\n",
       "      <td>Emergency Room</td>\n",
       "      <td>Between 03 to 06</td>\n",
       "      <td>MC</td>\n",
       "      <td>...</td>\n",
       "      <td>No</td>\n",
       "      <td>No</td>\n",
       "      <td>No</td>\n",
       "      <td>No</td>\n",
       "      <td>No</td>\n",
       "      <td>No</td>\n",
       "      <td>No</td>\n",
       "      <td>No</td>\n",
       "      <td>No</td>\n",
       "      <td>Yes</td>\n",
       "    </tr>\n",
       "    <tr>\n",
       "      <th>4</th>\n",
       "      <td>47633</td>\n",
       "      <td>Caucasian</td>\n",
       "      <td>Female</td>\n",
       "      <td>[70-80)</td>\n",
       "      <td>Unknown</td>\n",
       "      <td>Not Available</td>\n",
       "      <td>Discharged</td>\n",
       "      <td>Not Available</td>\n",
       "      <td>Between 03 to 06</td>\n",
       "      <td>Unknown</td>\n",
       "      <td>...</td>\n",
       "      <td>No</td>\n",
       "      <td>No</td>\n",
       "      <td>No</td>\n",
       "      <td>No</td>\n",
       "      <td>No</td>\n",
       "      <td>No</td>\n",
       "      <td>No</td>\n",
       "      <td>No</td>\n",
       "      <td>No</td>\n",
       "      <td>Yes</td>\n",
       "    </tr>\n",
       "  </tbody>\n",
       "</table>\n",
       "<p>5 rows × 42 columns</p>\n",
       "</div>"
      ],
      "text/plain": [
       "   Patient_Nbr       Race  Gender      Age   Weight Admission Type  \\\n",
       "0        12866  Caucasian    Male  [80-90)  Unknown  Not Available   \n",
       "1        27788  Caucasian    Male  [50-60)  Unknown      Emergency   \n",
       "2        50211  Caucasian  Female  [40-50)  Unknown      Emergency   \n",
       "3           79  Caucasian    Male  [80-90)  Unknown      Emergency   \n",
       "4        47633  Caucasian  Female  [70-80)  Unknown  Not Available   \n",
       "\n",
       "  Discharge Disposition Admission Source  Days In Hospital Payer_Code  ...  \\\n",
       "0            Discharged         Referral           Above 9    Unknown  ...   \n",
       "1            Discharged   Emergency Room  Between 03 to 06         MC  ...   \n",
       "2            Discharged         Referral           Below 3         HM  ...   \n",
       "3            Discharged   Emergency Room  Between 03 to 06         MC  ...   \n",
       "4            Discharged    Not Available  Between 03 to 06    Unknown  ...   \n",
       "\n",
       "  Examide  Citoglipton  Insulin  Glyburide-Metformin Glipizide-Metformin  \\\n",
       "0      No           No   Steady                   No                  No   \n",
       "1      No           No     Down                   No                  No   \n",
       "2      No           No       No                   No                  No   \n",
       "3      No           No       No                   No                  No   \n",
       "4      No           No       No                   No                  No   \n",
       "\n",
       "  Glimepiride-Pioglitazone Metformin-Rosiglitazone Metformin-Pioglitazone  \\\n",
       "0                       No                      No                     No   \n",
       "1                       No                      No                     No   \n",
       "2                       No                      No                     No   \n",
       "3                       No                      No                     No   \n",
       "4                       No                      No                     No   \n",
       "\n",
       "  Change Diabetesmed  \n",
       "0     Ch         Yes  \n",
       "1     Ch         Yes  \n",
       "2     No          No  \n",
       "3     No         Yes  \n",
       "4     No         Yes  \n",
       "\n",
       "[5 rows x 42 columns]"
      ]
     },
     "execution_count": 7,
     "metadata": {},
     "output_type": "execute_result"
    }
   ],
   "source": [
    "df1=pd.read_excel('Readmission dataset - Score.xlsx')\n",
    "df1.head()"
   ]
  },
  {
   "cell_type": "code",
   "execution_count": 8,
   "id": "fdd4c40e",
   "metadata": {},
   "outputs": [
    {
     "data": {
      "text/plain": [
       "((36538, 43), (2035, 42))"
      ]
     },
     "execution_count": 8,
     "metadata": {},
     "output_type": "execute_result"
    }
   ],
   "source": [
    "df.shape,df1.shape"
   ]
  },
  {
   "cell_type": "code",
   "execution_count": 9,
   "id": "1a4009cd",
   "metadata": {},
   "outputs": [
    {
     "data": {
      "text/plain": [
       "Index(['Patient_Nbr', 'Race', 'Gender', 'Age', 'Weight', 'Admission Type',\n",
       "       'Discharge Disposition', 'Admission Source', 'Days In Hospital',\n",
       "       'Payer_Code', 'Medical_Specialty', 'Num_Lab_Procedures',\n",
       "       'Num_Procedures', 'Num_Medications', 'Number_Diagnoses',\n",
       "       'Max_Glu_Serum', 'A1Cresult', 'Metformin', 'Repaglinide', 'Nateglinide',\n",
       "       'Chlorpropamide', 'Glimepiride', 'Acetohexamide', 'Glipizide',\n",
       "       'Glyburide', 'Tolbutamide', 'Pioglitazone', 'Rosiglitazone', 'Acarbose',\n",
       "       'Miglitol', 'Troglitazone', 'Tolazamide', 'Examide', 'Citoglipton',\n",
       "       'Insulin', 'Glyburide-Metformin', 'Glipizide-Metformin',\n",
       "       'Glimepiride-Pioglitazone', 'Metformin-Rosiglitazone',\n",
       "       'Metformin-Pioglitazone', 'Change', 'Diabetesmed', 'Readmitted'],\n",
       "      dtype='object')"
      ]
     },
     "execution_count": 9,
     "metadata": {},
     "output_type": "execute_result"
    }
   ],
   "source": [
    "df.columns"
   ]
  },
  {
   "cell_type": "code",
   "execution_count": 10,
   "id": "ff3cf1fa",
   "metadata": {},
   "outputs": [
    {
     "data": {
      "text/plain": [
       "Index(['Patient_Nbr', 'Race', 'Gender', 'Age', 'Weight', 'Admission Type',\n",
       "       'Discharge Disposition', 'Admission Source', 'Days In Hospital',\n",
       "       'Payer_Code', 'Medical_Specialty', 'Num_Lab_Procedures',\n",
       "       'Num_Procedures', 'Num_Medications', 'Number_Diagnoses',\n",
       "       'Max_Glu_Serum', 'A1Cresult', 'Metformin', 'Repaglinide', 'Nateglinide',\n",
       "       'Chlorpropamide', 'Glimepiride', 'Acetohexamide', 'Glipizide',\n",
       "       'Glyburide', 'Tolbutamide', 'Pioglitazone', 'Rosiglitazone', 'Acarbose',\n",
       "       'Miglitol', 'Troglitazone', 'Tolazamide', 'Examide', 'Citoglipton',\n",
       "       'Insulin', 'Glyburide-Metformin', 'Glipizide-Metformin',\n",
       "       'Glimepiride-Pioglitazone', 'Metformin-Rosiglitazone',\n",
       "       'Metformin-Pioglitazone', 'Change', 'Diabetesmed'],\n",
       "      dtype='object')"
      ]
     },
     "execution_count": 10,
     "metadata": {},
     "output_type": "execute_result"
    }
   ],
   "source": [
    "df1.columns"
   ]
  },
  {
   "cell_type": "code",
   "execution_count": 11,
   "id": "9d532de8",
   "metadata": {},
   "outputs": [
    {
     "data": {
      "text/plain": [
       "Index(['Patient_Nbr', 'Num_Lab_Procedures', 'Num_Procedures',\n",
       "       'Num_Medications'],\n",
       "      dtype='object')"
      ]
     },
     "execution_count": 11,
     "metadata": {},
     "output_type": "execute_result"
    }
   ],
   "source": [
    "df_num=df.select_dtypes(np.number)\n",
    "df_num.columns"
   ]
  },
  {
   "cell_type": "code",
   "execution_count": 12,
   "id": "004a9597",
   "metadata": {},
   "outputs": [
    {
     "data": {
      "text/plain": [
       "Index(['Race', 'Gender', 'Age', 'Weight', 'Admission Type',\n",
       "       'Discharge Disposition', 'Admission Source', 'Days In Hospital',\n",
       "       'Payer_Code', 'Medical_Specialty', 'Number_Diagnoses', 'Max_Glu_Serum',\n",
       "       'A1Cresult', 'Metformin', 'Repaglinide', 'Nateglinide',\n",
       "       'Chlorpropamide', 'Glimepiride', 'Acetohexamide', 'Glipizide',\n",
       "       'Glyburide', 'Tolbutamide', 'Pioglitazone', 'Rosiglitazone', 'Acarbose',\n",
       "       'Miglitol', 'Troglitazone', 'Tolazamide', 'Examide', 'Citoglipton',\n",
       "       'Insulin', 'Glyburide-Metformin', 'Glipizide-Metformin',\n",
       "       'Glimepiride-Pioglitazone', 'Metformin-Rosiglitazone',\n",
       "       'Metformin-Pioglitazone', 'Change', 'Diabetesmed', 'Readmitted'],\n",
       "      dtype='object')"
      ]
     },
     "execution_count": 12,
     "metadata": {},
     "output_type": "execute_result"
    }
   ],
   "source": [
    "df_cat=df.select_dtypes(object)\n",
    "df_cat.columns"
   ]
  },
  {
   "cell_type": "code",
   "execution_count": 13,
   "id": "212d6a43",
   "metadata": {},
   "outputs": [
    {
     "data": {
      "text/html": [
       "<div>\n",
       "<style scoped>\n",
       "    .dataframe tbody tr th:only-of-type {\n",
       "        vertical-align: middle;\n",
       "    }\n",
       "\n",
       "    .dataframe tbody tr th {\n",
       "        vertical-align: top;\n",
       "    }\n",
       "\n",
       "    .dataframe thead th {\n",
       "        text-align: right;\n",
       "    }\n",
       "</style>\n",
       "<table border=\"1\" class=\"dataframe\">\n",
       "  <thead>\n",
       "    <tr style=\"text-align: right;\">\n",
       "      <th></th>\n",
       "      <th>Patient_Nbr</th>\n",
       "      <th>Num_Lab_Procedures</th>\n",
       "      <th>Num_Procedures</th>\n",
       "      <th>Num_Medications</th>\n",
       "    </tr>\n",
       "  </thead>\n",
       "  <tbody>\n",
       "    <tr>\n",
       "      <th>count</th>\n",
       "      <td>36538.000000</td>\n",
       "      <td>36538.000000</td>\n",
       "      <td>36538.000000</td>\n",
       "      <td>36538.000000</td>\n",
       "    </tr>\n",
       "    <tr>\n",
       "      <th>mean</th>\n",
       "      <td>29217.279216</td>\n",
       "      <td>43.800646</td>\n",
       "      <td>1.332448</td>\n",
       "      <td>16.007171</td>\n",
       "    </tr>\n",
       "    <tr>\n",
       "      <th>std</th>\n",
       "      <td>16904.104318</td>\n",
       "      <td>19.137932</td>\n",
       "      <td>1.681195</td>\n",
       "      <td>8.109806</td>\n",
       "    </tr>\n",
       "    <tr>\n",
       "      <th>min</th>\n",
       "      <td>1.000000</td>\n",
       "      <td>1.000000</td>\n",
       "      <td>0.000000</td>\n",
       "      <td>1.000000</td>\n",
       "    </tr>\n",
       "    <tr>\n",
       "      <th>25%</th>\n",
       "      <td>14562.250000</td>\n",
       "      <td>32.000000</td>\n",
       "      <td>0.000000</td>\n",
       "      <td>10.000000</td>\n",
       "    </tr>\n",
       "    <tr>\n",
       "      <th>50%</th>\n",
       "      <td>29216.000000</td>\n",
       "      <td>45.000000</td>\n",
       "      <td>1.000000</td>\n",
       "      <td>15.000000</td>\n",
       "    </tr>\n",
       "    <tr>\n",
       "      <th>75%</th>\n",
       "      <td>43831.750000</td>\n",
       "      <td>57.000000</td>\n",
       "      <td>2.000000</td>\n",
       "      <td>20.000000</td>\n",
       "    </tr>\n",
       "    <tr>\n",
       "      <th>max</th>\n",
       "      <td>58504.000000</td>\n",
       "      <td>114.000000</td>\n",
       "      <td>6.000000</td>\n",
       "      <td>75.000000</td>\n",
       "    </tr>\n",
       "  </tbody>\n",
       "</table>\n",
       "</div>"
      ],
      "text/plain": [
       "        Patient_Nbr  Num_Lab_Procedures  Num_Procedures  Num_Medications\n",
       "count  36538.000000        36538.000000    36538.000000     36538.000000\n",
       "mean   29217.279216           43.800646        1.332448        16.007171\n",
       "std    16904.104318           19.137932        1.681195         8.109806\n",
       "min        1.000000            1.000000        0.000000         1.000000\n",
       "25%    14562.250000           32.000000        0.000000        10.000000\n",
       "50%    29216.000000           45.000000        1.000000        15.000000\n",
       "75%    43831.750000           57.000000        2.000000        20.000000\n",
       "max    58504.000000          114.000000        6.000000        75.000000"
      ]
     },
     "execution_count": 13,
     "metadata": {},
     "output_type": "execute_result"
    }
   ],
   "source": [
    "df.describe()"
   ]
  },
  {
   "cell_type": "markdown",
   "id": "5e05684e",
   "metadata": {},
   "source": [
    "### Std of Num_procedures is less hence can be removed "
   ]
  },
  {
   "cell_type": "code",
   "execution_count": 14,
   "id": "780d42ff",
   "metadata": {},
   "outputs": [
    {
     "data": {
      "text/html": [
       "<div>\n",
       "<style scoped>\n",
       "    .dataframe tbody tr th:only-of-type {\n",
       "        vertical-align: middle;\n",
       "    }\n",
       "\n",
       "    .dataframe tbody tr th {\n",
       "        vertical-align: top;\n",
       "    }\n",
       "\n",
       "    .dataframe thead th {\n",
       "        text-align: right;\n",
       "    }\n",
       "</style>\n",
       "<table border=\"1\" class=\"dataframe\">\n",
       "  <thead>\n",
       "    <tr style=\"text-align: right;\">\n",
       "      <th></th>\n",
       "      <th>Race</th>\n",
       "      <th>Gender</th>\n",
       "      <th>Age</th>\n",
       "      <th>Weight</th>\n",
       "      <th>Admission Type</th>\n",
       "      <th>Discharge Disposition</th>\n",
       "      <th>Admission Source</th>\n",
       "      <th>Days In Hospital</th>\n",
       "      <th>Payer_Code</th>\n",
       "      <th>Medical_Specialty</th>\n",
       "      <th>...</th>\n",
       "      <th>Citoglipton</th>\n",
       "      <th>Insulin</th>\n",
       "      <th>Glyburide-Metformin</th>\n",
       "      <th>Glipizide-Metformin</th>\n",
       "      <th>Glimepiride-Pioglitazone</th>\n",
       "      <th>Metformin-Rosiglitazone</th>\n",
       "      <th>Metformin-Pioglitazone</th>\n",
       "      <th>Change</th>\n",
       "      <th>Diabetesmed</th>\n",
       "      <th>Readmitted</th>\n",
       "    </tr>\n",
       "  </thead>\n",
       "  <tbody>\n",
       "    <tr>\n",
       "      <th>count</th>\n",
       "      <td>36538</td>\n",
       "      <td>36538</td>\n",
       "      <td>36538</td>\n",
       "      <td>36538</td>\n",
       "      <td>36538</td>\n",
       "      <td>36538</td>\n",
       "      <td>36538</td>\n",
       "      <td>36538</td>\n",
       "      <td>36538</td>\n",
       "      <td>36538</td>\n",
       "      <td>...</td>\n",
       "      <td>36538</td>\n",
       "      <td>36538</td>\n",
       "      <td>36538</td>\n",
       "      <td>36538</td>\n",
       "      <td>36538</td>\n",
       "      <td>36538</td>\n",
       "      <td>36538</td>\n",
       "      <td>36538</td>\n",
       "      <td>36538</td>\n",
       "      <td>36538</td>\n",
       "    </tr>\n",
       "    <tr>\n",
       "      <th>unique</th>\n",
       "      <td>6</td>\n",
       "      <td>3</td>\n",
       "      <td>10</td>\n",
       "      <td>10</td>\n",
       "      <td>5</td>\n",
       "      <td>6</td>\n",
       "      <td>4</td>\n",
       "      <td>4</td>\n",
       "      <td>5</td>\n",
       "      <td>9</td>\n",
       "      <td>...</td>\n",
       "      <td>1</td>\n",
       "      <td>4</td>\n",
       "      <td>4</td>\n",
       "      <td>2</td>\n",
       "      <td>1</td>\n",
       "      <td>1</td>\n",
       "      <td>1</td>\n",
       "      <td>2</td>\n",
       "      <td>2</td>\n",
       "      <td>2</td>\n",
       "    </tr>\n",
       "    <tr>\n",
       "      <th>top</th>\n",
       "      <td>Caucasian</td>\n",
       "      <td>Female</td>\n",
       "      <td>[70-80)</td>\n",
       "      <td>Unknown</td>\n",
       "      <td>Emergency</td>\n",
       "      <td>Discharged</td>\n",
       "      <td>Emergency Room</td>\n",
       "      <td>Between 03 to 06</td>\n",
       "      <td>Unknown</td>\n",
       "      <td>Surgery</td>\n",
       "      <td>...</td>\n",
       "      <td>No</td>\n",
       "      <td>No</td>\n",
       "      <td>No</td>\n",
       "      <td>No</td>\n",
       "      <td>No</td>\n",
       "      <td>No</td>\n",
       "      <td>No</td>\n",
       "      <td>No</td>\n",
       "      <td>Yes</td>\n",
       "      <td>Yes</td>\n",
       "    </tr>\n",
       "    <tr>\n",
       "      <th>freq</th>\n",
       "      <td>27000</td>\n",
       "      <td>19913</td>\n",
       "      <td>9657</td>\n",
       "      <td>35137</td>\n",
       "      <td>25389</td>\n",
       "      <td>33919</td>\n",
       "      <td>19594</td>\n",
       "      <td>17838</td>\n",
       "      <td>18730</td>\n",
       "      <td>17444</td>\n",
       "      <td>...</td>\n",
       "      <td>36538</td>\n",
       "      <td>18715</td>\n",
       "      <td>36325</td>\n",
       "      <td>36534</td>\n",
       "      <td>36538</td>\n",
       "      <td>36538</td>\n",
       "      <td>36538</td>\n",
       "      <td>20205</td>\n",
       "      <td>27397</td>\n",
       "      <td>25432</td>\n",
       "    </tr>\n",
       "  </tbody>\n",
       "</table>\n",
       "<p>4 rows × 39 columns</p>\n",
       "</div>"
      ],
      "text/plain": [
       "             Race  Gender      Age   Weight Admission Type  \\\n",
       "count       36538   36538    36538    36538          36538   \n",
       "unique          6       3       10       10              5   \n",
       "top     Caucasian  Female  [70-80)  Unknown      Emergency   \n",
       "freq        27000   19913     9657    35137          25389   \n",
       "\n",
       "       Discharge Disposition Admission Source  Days In Hospital Payer_Code  \\\n",
       "count                  36538            36538             36538      36538   \n",
       "unique                     6                4                 4          5   \n",
       "top               Discharged   Emergency Room  Between 03 to 06    Unknown   \n",
       "freq                   33919            19594             17838      18730   \n",
       "\n",
       "       Medical_Specialty  ... Citoglipton Insulin Glyburide-Metformin  \\\n",
       "count              36538  ...       36538   36538               36538   \n",
       "unique                 9  ...           1       4                   4   \n",
       "top             Surgery   ...          No      No                  No   \n",
       "freq               17444  ...       36538   18715               36325   \n",
       "\n",
       "       Glipizide-Metformin Glimepiride-Pioglitazone Metformin-Rosiglitazone  \\\n",
       "count                36538                    36538                   36538   \n",
       "unique                   2                        1                       1   \n",
       "top                     No                       No                      No   \n",
       "freq                 36534                    36538                   36538   \n",
       "\n",
       "       Metformin-Pioglitazone Change Diabetesmed Readmitted  \n",
       "count                   36538  36538       36538      36538  \n",
       "unique                      1      2           2          2  \n",
       "top                        No     No         Yes        Yes  \n",
       "freq                    36538  20205       27397      25432  \n",
       "\n",
       "[4 rows x 39 columns]"
      ]
     },
     "execution_count": 14,
     "metadata": {},
     "output_type": "execute_result"
    }
   ],
   "source": [
    "df.describe(include=object)"
   ]
  },
  {
   "cell_type": "code",
   "execution_count": 15,
   "id": "9d8912d5",
   "metadata": {},
   "outputs": [
    {
     "name": "stdout",
     "output_type": "stream",
     "text": [
      "Race Column:\n",
      "Number of categories:  6 \n",
      "\n",
      "% of observations in  Race :\n",
      "Caucasian          0.738957\n",
      "AfricanAmerican    0.207921\n",
      "Hispanic           0.018884\n",
      "Unknown            0.017051\n",
      "Other              0.012617\n",
      "Asian              0.004571\n",
      "Name: Race, dtype: float64 \n",
      "\n",
      "Gender Column:\n",
      "Number of categories:  3 \n",
      "\n",
      "% of observations in  Gender :\n",
      "Female             0.544994\n",
      "Male               0.454978\n",
      "Unknown/Invalid    0.000027\n",
      "Name: Gender, dtype: float64 \n",
      "\n",
      "Age Column:\n",
      "Number of categories:  10 \n",
      "\n",
      "% of observations in  Age :\n",
      "[70-80)     0.264300\n",
      "[60-70)     0.220674\n",
      "[50-60)     0.169577\n",
      "[80-90)     0.166594\n",
      "[40-50)     0.095408\n",
      "[30-40)     0.035634\n",
      "[90-100)    0.025343\n",
      "[20-30)     0.014943\n",
      "[10-20)     0.006158\n",
      "[0-10)      0.001368\n",
      "Name: Age, dtype: float64 \n",
      "\n",
      "Weight Column:\n",
      "Number of categories:  10 \n",
      "\n",
      "% of observations in  Weight :\n",
      "Unknown      0.961656\n",
      "[75-100)     0.016093\n",
      "[50-75)      0.011057\n",
      "[100-125)    0.007362\n",
      "[125-150)    0.001451\n",
      "[25-50)      0.001204\n",
      "[0-25)       0.000629\n",
      "[150-175)    0.000411\n",
      "[175-200)    0.000109\n",
      ">200         0.000027\n",
      "Name: Weight, dtype: float64 \n",
      "\n",
      "Admission Type Column:\n",
      "Number of categories:  5 \n",
      "\n",
      "% of observations in  Admission Type :\n",
      "Emergency        0.694866\n",
      "Elective         0.168044\n",
      "Not Available    0.136871\n",
      "Trauma Center    0.000109\n",
      "Newborn          0.000109\n",
      "Name: Admission Type, dtype: float64 \n",
      "\n",
      "Discharge Disposition Column:\n",
      "Number of categories:  6 \n",
      "\n",
      "% of observations in  Discharge Disposition :\n",
      "Discharged                                                     0.928321\n",
      "Unknown/Invalid                                                0.052329\n",
      "Expired                                                        0.013383\n",
      "Left AMA                                                       0.005747\n",
      "Admitted as an inpatient to this hospital                      0.000164\n",
      "Still patient or expected to return for outpatient services    0.000055\n",
      "Name: Discharge Disposition, dtype: float64 \n",
      "\n",
      "Admission Source Column:\n",
      "Number of categories:  4 \n",
      "\n",
      "% of observations in  Admission Source :\n",
      "Emergency Room              0.536264\n",
      "Referral                    0.295802\n",
      "Not Available               0.100334\n",
      "Transfer from a hospital    0.067601\n",
      "Name: Admission Source, dtype: float64 \n",
      "\n",
      "Days In Hospital Column:\n",
      "Number of categories:  4 \n",
      "\n",
      "% of observations in  Days In Hospital :\n",
      "Between 03 to 06    0.488204\n",
      "Below 3             0.282473\n",
      "Between 06 to 09    0.141305\n",
      "Above 9             0.088018\n",
      "Name: Days In Hospital, dtype: float64 \n",
      "\n",
      "Payer_Code Column:\n",
      "Number of categories:  5 \n",
      "\n",
      "% of observations in  Payer_Code :\n",
      "Unknown    0.512617\n",
      "MC         0.293530\n",
      "HM         0.165335\n",
      "DM         0.022141\n",
      "OG         0.006377\n",
      "Name: Payer_Code, dtype: float64 \n",
      "\n",
      "Medical_Specialty Column:\n",
      "Number of categories:  9 \n",
      "\n",
      "% of observations in  Medical_Specialty :\n",
      "Surgery             0.477421\n",
      "InternalMedicine    0.174449\n",
      "General Practice    0.095599\n",
      "Cardiology          0.078357\n",
      "Emergency           0.061634\n",
      "Others              0.048881\n",
      "Orthopedics         0.035059\n",
      "Nephrology          0.020773\n",
      "Radiology           0.007827\n",
      "Name: Medical_Specialty, dtype: float64 \n",
      "\n",
      "Number_Diagnoses Column:\n",
      "Number of categories:  3 \n",
      "\n",
      "% of observations in  Number_Diagnoses :\n",
      "Above 5             0.806503\n",
      "Between 03 to 05    0.183535\n",
      "Below 3             0.009962\n",
      "Name: Number_Diagnoses, dtype: float64 \n",
      "\n",
      "Max_Glu_Serum Column:\n",
      "Number of categories:  4 \n",
      "\n",
      "% of observations in  Max_Glu_Serum :\n",
      "None    0.924189\n",
      "Norm    0.036318\n",
      ">200    0.021758\n",
      ">300    0.017735\n",
      "Name: Max_Glu_Serum, dtype: float64 \n",
      "\n",
      "A1Cresult Column:\n",
      "Number of categories:  4 \n",
      "\n",
      "% of observations in  A1Cresult :\n",
      "None    0.842329\n",
      ">8      0.080464\n",
      "Norm    0.044036\n",
      ">7      0.033171\n",
      "Name: A1Cresult, dtype: float64 \n",
      "\n",
      "Metformin Column:\n",
      "Number of categories:  4 \n",
      "\n",
      "% of observations in  Metformin :\n",
      "No        0.817177\n",
      "Steady    0.167907\n",
      "Up        0.009798\n",
      "Down      0.005118\n",
      "Name: Metformin, dtype: float64 \n",
      "\n",
      "Repaglinide Column:\n",
      "Number of categories:  4 \n",
      "\n",
      "% of observations in  Repaglinide :\n",
      "No        0.984783\n",
      "Steady    0.013821\n",
      "Up        0.000958\n",
      "Down      0.000438\n",
      "Name: Repaglinide, dtype: float64 \n",
      "\n",
      "Nateglinide Column:\n",
      "Number of categories:  4 \n",
      "\n",
      "% of observations in  Nateglinide :\n",
      "No        0.993678\n",
      "Steady    0.006076\n",
      "Up        0.000192\n",
      "Down      0.000055\n",
      "Name: Nateglinide, dtype: float64 \n",
      "\n",
      "Chlorpropamide Column:\n",
      "Number of categories:  4 \n",
      "\n",
      "% of observations in  Chlorpropamide :\n",
      "No        0.999042\n",
      "Steady    0.000821\n",
      "Up        0.000109\n",
      "Down      0.000027\n",
      "Name: Chlorpropamide, dtype: float64 \n",
      "\n",
      "Glimepiride Column:\n",
      "Number of categories:  4 \n",
      "\n",
      "% of observations in  Glimepiride :\n",
      "No        0.951694\n",
      "Steady    0.042942\n",
      "Up        0.003640\n",
      "Down      0.001724\n",
      "Name: Glimepiride, dtype: float64 \n",
      "\n",
      "Acetohexamide Column:\n",
      "Number of categories:  1 \n",
      "\n",
      "% of observations in  Acetohexamide :\n",
      "No    1.0\n",
      "Name: Acetohexamide, dtype: float64 \n",
      "\n",
      "Glipizide Column:\n",
      "Number of categories:  4 \n",
      "\n",
      "% of observations in  Glipizide :\n",
      "No        0.868904\n",
      "Steady    0.115934\n",
      "Up        0.009004\n",
      "Down      0.006158\n",
      "Name: Glipizide, dtype: float64 \n",
      "\n",
      "Glyburide Column:\n",
      "Number of categories:  4 \n",
      "\n",
      "% of observations in  Glyburide :\n",
      "No        0.888500\n",
      "Steady    0.096201\n",
      "Up        0.009169\n",
      "Down      0.006131\n",
      "Name: Glyburide, dtype: float64 \n",
      "\n",
      "Tolbutamide Column:\n",
      "Number of categories:  2 \n",
      "\n",
      "% of observations in  Tolbutamide :\n",
      "No        0.999754\n",
      "Steady    0.000246\n",
      "Name: Tolbutamide, dtype: float64 \n",
      "\n",
      "Pioglitazone Column:\n",
      "Number of categories:  4 \n",
      "\n",
      "% of observations in  Pioglitazone :\n",
      "No        0.931578\n",
      "Steady    0.064864\n",
      "Up        0.002655\n",
      "Down      0.000903\n",
      "Name: Pioglitazone, dtype: float64 \n",
      "\n",
      "Rosiglitazone Column:\n",
      "Number of categories:  4 \n",
      "\n",
      "% of observations in  Rosiglitazone :\n",
      "No        0.928157\n",
      "Steady    0.068805\n",
      "Up        0.002107\n",
      "Down      0.000931\n",
      "Name: Rosiglitazone, dtype: float64 \n",
      "\n",
      "Acarbose Column:\n",
      "Number of categories:  4 \n",
      "\n",
      "% of observations in  Acarbose :\n",
      "No        0.996798\n",
      "Steady    0.003065\n",
      "Up        0.000082\n",
      "Down      0.000055\n",
      "Name: Acarbose, dtype: float64 \n",
      "\n",
      "Miglitol Column:\n",
      "Number of categories:  3 \n",
      "\n",
      "% of observations in  Miglitol :\n",
      "No        0.999535\n",
      "Steady    0.000438\n",
      "Down      0.000027\n",
      "Name: Miglitol, dtype: float64 \n",
      "\n",
      "Troglitazone Column:\n",
      "Number of categories:  2 \n",
      "\n",
      "% of observations in  Troglitazone :\n",
      "No        0.999945\n",
      "Steady    0.000055\n",
      "Name: Troglitazone, dtype: float64 \n",
      "\n",
      "Tolazamide Column:\n",
      "Number of categories:  2 \n",
      "\n",
      "% of observations in  Tolazamide :\n",
      "No        0.999453\n",
      "Steady    0.000547\n",
      "Name: Tolazamide, dtype: float64 \n",
      "\n",
      "Examide Column:\n",
      "Number of categories:  1 \n",
      "\n",
      "% of observations in  Examide :\n",
      "No    1.0\n",
      "Name: Examide, dtype: float64 \n",
      "\n",
      "Citoglipton Column:\n",
      "Number of categories:  1 \n",
      "\n",
      "% of observations in  Citoglipton :\n",
      "No    1.0\n",
      "Name: Citoglipton, dtype: float64 \n",
      "\n",
      "Insulin Column:\n",
      "Number of categories:  4 \n",
      "\n",
      "% of observations in  Insulin :\n",
      "No        0.512206\n",
      "Steady    0.259182\n",
      "Down      0.123269\n",
      "Up        0.105342\n",
      "Name: Insulin, dtype: float64 \n",
      "\n",
      "Glyburide-Metformin Column:\n",
      "Number of categories:  4 \n",
      "\n",
      "% of observations in  Glyburide-Metformin :\n",
      "No        0.994170\n",
      "Steady    0.005638\n",
      "Up        0.000109\n",
      "Down      0.000082\n",
      "Name: Glyburide-Metformin, dtype: float64 \n",
      "\n",
      "Glipizide-Metformin Column:\n",
      "Number of categories:  2 \n",
      "\n",
      "% of observations in  Glipizide-Metformin :\n",
      "No        0.999891\n",
      "Steady    0.000109\n",
      "Name: Glipizide-Metformin, dtype: float64 \n",
      "\n",
      "Glimepiride-Pioglitazone Column:\n",
      "Number of categories:  1 \n",
      "\n",
      "% of observations in  Glimepiride-Pioglitazone :\n",
      "No    1.0\n",
      "Name: Glimepiride-Pioglitazone, dtype: float64 \n",
      "\n",
      "Metformin-Rosiglitazone Column:\n",
      "Number of categories:  1 \n",
      "\n",
      "% of observations in  Metformin-Rosiglitazone :\n",
      "No    1.0\n",
      "Name: Metformin-Rosiglitazone, dtype: float64 \n",
      "\n",
      "Metformin-Pioglitazone Column:\n",
      "Number of categories:  1 \n",
      "\n",
      "% of observations in  Metformin-Pioglitazone :\n",
      "No    1.0\n",
      "Name: Metformin-Pioglitazone, dtype: float64 \n",
      "\n",
      "Change Column:\n",
      "Number of categories:  2 \n",
      "\n",
      "% of observations in  Change :\n",
      "No    0.552986\n",
      "Ch    0.447014\n",
      "Name: Change, dtype: float64 \n",
      "\n",
      "Diabetesmed Column:\n",
      "Number of categories:  2 \n",
      "\n",
      "% of observations in  Diabetesmed :\n",
      "Yes    0.749822\n",
      "No     0.250178\n",
      "Name: Diabetesmed, dtype: float64 \n",
      "\n",
      "Readmitted Column:\n",
      "Number of categories:  2 \n",
      "\n",
      "% of observations in  Readmitted :\n",
      "Yes    0.696042\n",
      "No     0.303958\n",
      "Name: Readmitted, dtype: float64 \n",
      "\n"
     ]
    }
   ],
   "source": [
    "for i in df_cat.columns:\n",
    "    print(i,'Column:')\n",
    "    print('Number of categories: ', df[i].nunique(),'\\n')\n",
    "    print('% of observations in ',i, ':')\n",
    "    print(df[i].value_counts(normalize=True),'\\n')"
   ]
  },
  {
   "cell_type": "markdown",
   "id": "85ba6f54",
   "metadata": {},
   "source": [
    "# Null value treatment"
   ]
  },
  {
   "cell_type": "code",
   "execution_count": 16,
   "id": "dbaa9e82",
   "metadata": {},
   "outputs": [
    {
     "data": {
      "text/html": [
       "<div>\n",
       "<style scoped>\n",
       "    .dataframe tbody tr th:only-of-type {\n",
       "        vertical-align: middle;\n",
       "    }\n",
       "\n",
       "    .dataframe tbody tr th {\n",
       "        vertical-align: top;\n",
       "    }\n",
       "\n",
       "    .dataframe thead th {\n",
       "        text-align: right;\n",
       "    }\n",
       "</style>\n",
       "<table border=\"1\" class=\"dataframe\">\n",
       "  <thead>\n",
       "    <tr style=\"text-align: right;\">\n",
       "      <th></th>\n",
       "      <th>total</th>\n",
       "      <th>percent</th>\n",
       "    </tr>\n",
       "  </thead>\n",
       "  <tbody>\n",
       "    <tr>\n",
       "      <th>Patient_Nbr</th>\n",
       "      <td>0</td>\n",
       "      <td>0.0</td>\n",
       "    </tr>\n",
       "    <tr>\n",
       "      <th>Examide</th>\n",
       "      <td>0</td>\n",
       "      <td>0.0</td>\n",
       "    </tr>\n",
       "    <tr>\n",
       "      <th>Glyburide</th>\n",
       "      <td>0</td>\n",
       "      <td>0.0</td>\n",
       "    </tr>\n",
       "    <tr>\n",
       "      <th>Tolbutamide</th>\n",
       "      <td>0</td>\n",
       "      <td>0.0</td>\n",
       "    </tr>\n",
       "    <tr>\n",
       "      <th>Pioglitazone</th>\n",
       "      <td>0</td>\n",
       "      <td>0.0</td>\n",
       "    </tr>\n",
       "    <tr>\n",
       "      <th>Rosiglitazone</th>\n",
       "      <td>0</td>\n",
       "      <td>0.0</td>\n",
       "    </tr>\n",
       "    <tr>\n",
       "      <th>Acarbose</th>\n",
       "      <td>0</td>\n",
       "      <td>0.0</td>\n",
       "    </tr>\n",
       "    <tr>\n",
       "      <th>Miglitol</th>\n",
       "      <td>0</td>\n",
       "      <td>0.0</td>\n",
       "    </tr>\n",
       "    <tr>\n",
       "      <th>Troglitazone</th>\n",
       "      <td>0</td>\n",
       "      <td>0.0</td>\n",
       "    </tr>\n",
       "    <tr>\n",
       "      <th>Tolazamide</th>\n",
       "      <td>0</td>\n",
       "      <td>0.0</td>\n",
       "    </tr>\n",
       "    <tr>\n",
       "      <th>Citoglipton</th>\n",
       "      <td>0</td>\n",
       "      <td>0.0</td>\n",
       "    </tr>\n",
       "    <tr>\n",
       "      <th>Acetohexamide</th>\n",
       "      <td>0</td>\n",
       "      <td>0.0</td>\n",
       "    </tr>\n",
       "    <tr>\n",
       "      <th>Insulin</th>\n",
       "      <td>0</td>\n",
       "      <td>0.0</td>\n",
       "    </tr>\n",
       "    <tr>\n",
       "      <th>Glyburide-Metformin</th>\n",
       "      <td>0</td>\n",
       "      <td>0.0</td>\n",
       "    </tr>\n",
       "    <tr>\n",
       "      <th>Glipizide-Metformin</th>\n",
       "      <td>0</td>\n",
       "      <td>0.0</td>\n",
       "    </tr>\n",
       "    <tr>\n",
       "      <th>Glimepiride-Pioglitazone</th>\n",
       "      <td>0</td>\n",
       "      <td>0.0</td>\n",
       "    </tr>\n",
       "    <tr>\n",
       "      <th>Metformin-Rosiglitazone</th>\n",
       "      <td>0</td>\n",
       "      <td>0.0</td>\n",
       "    </tr>\n",
       "    <tr>\n",
       "      <th>Metformin-Pioglitazone</th>\n",
       "      <td>0</td>\n",
       "      <td>0.0</td>\n",
       "    </tr>\n",
       "    <tr>\n",
       "      <th>Change</th>\n",
       "      <td>0</td>\n",
       "      <td>0.0</td>\n",
       "    </tr>\n",
       "    <tr>\n",
       "      <th>Diabetesmed</th>\n",
       "      <td>0</td>\n",
       "      <td>0.0</td>\n",
       "    </tr>\n",
       "    <tr>\n",
       "      <th>Glipizide</th>\n",
       "      <td>0</td>\n",
       "      <td>0.0</td>\n",
       "    </tr>\n",
       "    <tr>\n",
       "      <th>Glimepiride</th>\n",
       "      <td>0</td>\n",
       "      <td>0.0</td>\n",
       "    </tr>\n",
       "    <tr>\n",
       "      <th>Race</th>\n",
       "      <td>0</td>\n",
       "      <td>0.0</td>\n",
       "    </tr>\n",
       "    <tr>\n",
       "      <th>Medical_Specialty</th>\n",
       "      <td>0</td>\n",
       "      <td>0.0</td>\n",
       "    </tr>\n",
       "    <tr>\n",
       "      <th>Gender</th>\n",
       "      <td>0</td>\n",
       "      <td>0.0</td>\n",
       "    </tr>\n",
       "    <tr>\n",
       "      <th>Age</th>\n",
       "      <td>0</td>\n",
       "      <td>0.0</td>\n",
       "    </tr>\n",
       "    <tr>\n",
       "      <th>Weight</th>\n",
       "      <td>0</td>\n",
       "      <td>0.0</td>\n",
       "    </tr>\n",
       "    <tr>\n",
       "      <th>Admission Type</th>\n",
       "      <td>0</td>\n",
       "      <td>0.0</td>\n",
       "    </tr>\n",
       "    <tr>\n",
       "      <th>Discharge Disposition</th>\n",
       "      <td>0</td>\n",
       "      <td>0.0</td>\n",
       "    </tr>\n",
       "    <tr>\n",
       "      <th>Admission Source</th>\n",
       "      <td>0</td>\n",
       "      <td>0.0</td>\n",
       "    </tr>\n",
       "    <tr>\n",
       "      <th>Days In Hospital</th>\n",
       "      <td>0</td>\n",
       "      <td>0.0</td>\n",
       "    </tr>\n",
       "    <tr>\n",
       "      <th>Payer_Code</th>\n",
       "      <td>0</td>\n",
       "      <td>0.0</td>\n",
       "    </tr>\n",
       "    <tr>\n",
       "      <th>Num_Lab_Procedures</th>\n",
       "      <td>0</td>\n",
       "      <td>0.0</td>\n",
       "    </tr>\n",
       "    <tr>\n",
       "      <th>Chlorpropamide</th>\n",
       "      <td>0</td>\n",
       "      <td>0.0</td>\n",
       "    </tr>\n",
       "    <tr>\n",
       "      <th>Num_Procedures</th>\n",
       "      <td>0</td>\n",
       "      <td>0.0</td>\n",
       "    </tr>\n",
       "    <tr>\n",
       "      <th>Num_Medications</th>\n",
       "      <td>0</td>\n",
       "      <td>0.0</td>\n",
       "    </tr>\n",
       "    <tr>\n",
       "      <th>Number_Diagnoses</th>\n",
       "      <td>0</td>\n",
       "      <td>0.0</td>\n",
       "    </tr>\n",
       "    <tr>\n",
       "      <th>Max_Glu_Serum</th>\n",
       "      <td>0</td>\n",
       "      <td>0.0</td>\n",
       "    </tr>\n",
       "    <tr>\n",
       "      <th>A1Cresult</th>\n",
       "      <td>0</td>\n",
       "      <td>0.0</td>\n",
       "    </tr>\n",
       "    <tr>\n",
       "      <th>Metformin</th>\n",
       "      <td>0</td>\n",
       "      <td>0.0</td>\n",
       "    </tr>\n",
       "    <tr>\n",
       "      <th>Repaglinide</th>\n",
       "      <td>0</td>\n",
       "      <td>0.0</td>\n",
       "    </tr>\n",
       "    <tr>\n",
       "      <th>Nateglinide</th>\n",
       "      <td>0</td>\n",
       "      <td>0.0</td>\n",
       "    </tr>\n",
       "    <tr>\n",
       "      <th>Readmitted</th>\n",
       "      <td>0</td>\n",
       "      <td>0.0</td>\n",
       "    </tr>\n",
       "  </tbody>\n",
       "</table>\n",
       "</div>"
      ],
      "text/plain": [
       "                          total  percent\n",
       "Patient_Nbr                   0      0.0\n",
       "Examide                       0      0.0\n",
       "Glyburide                     0      0.0\n",
       "Tolbutamide                   0      0.0\n",
       "Pioglitazone                  0      0.0\n",
       "Rosiglitazone                 0      0.0\n",
       "Acarbose                      0      0.0\n",
       "Miglitol                      0      0.0\n",
       "Troglitazone                  0      0.0\n",
       "Tolazamide                    0      0.0\n",
       "Citoglipton                   0      0.0\n",
       "Acetohexamide                 0      0.0\n",
       "Insulin                       0      0.0\n",
       "Glyburide-Metformin           0      0.0\n",
       "Glipizide-Metformin           0      0.0\n",
       "Glimepiride-Pioglitazone      0      0.0\n",
       "Metformin-Rosiglitazone       0      0.0\n",
       "Metformin-Pioglitazone        0      0.0\n",
       "Change                        0      0.0\n",
       "Diabetesmed                   0      0.0\n",
       "Glipizide                     0      0.0\n",
       "Glimepiride                   0      0.0\n",
       "Race                          0      0.0\n",
       "Medical_Specialty             0      0.0\n",
       "Gender                        0      0.0\n",
       "Age                           0      0.0\n",
       "Weight                        0      0.0\n",
       "Admission Type                0      0.0\n",
       "Discharge Disposition         0      0.0\n",
       "Admission Source              0      0.0\n",
       "Days In Hospital              0      0.0\n",
       "Payer_Code                    0      0.0\n",
       "Num_Lab_Procedures            0      0.0\n",
       "Chlorpropamide                0      0.0\n",
       "Num_Procedures                0      0.0\n",
       "Num_Medications               0      0.0\n",
       "Number_Diagnoses              0      0.0\n",
       "Max_Glu_Serum                 0      0.0\n",
       "A1Cresult                     0      0.0\n",
       "Metformin                     0      0.0\n",
       "Repaglinide                   0      0.0\n",
       "Nateglinide                   0      0.0\n",
       "Readmitted                    0      0.0"
      ]
     },
     "execution_count": 16,
     "metadata": {},
     "output_type": "execute_result"
    }
   ],
   "source": [
    "total=df.isnull().sum().sort_values(ascending=False)\n",
    "percent=(df.isnull().sum()/df.isnull().count()).sort_values(ascending=False)\n",
    "missed=pd.concat([total,percent],axis=1,keys=['total','percent'])\n",
    "missed\n",
    "#No Null values"
   ]
  },
  {
   "cell_type": "markdown",
   "id": "d685bc62",
   "metadata": {},
   "source": [
    "# checking of outliers"
   ]
  },
  {
   "cell_type": "code",
   "execution_count": 18,
   "id": "8d68e72c",
   "metadata": {},
   "outputs": [
    {
     "data": {
      "image/png": "[encoded data removed]",
      "text/plain": [
       "<Figure size 1080x864 with 4 Axes>"
      ]
     },
     "metadata": {
      "needs_background": "light"
     },
     "output_type": "display_data"
    }
   ],
   "source": [
    "fig,ax=plt.subplots(nrows=2,ncols=2,figsize=[15,12])\n",
    "for i,j in zip(df.select_dtypes(np.number).columns,ax.flatten()):\n",
    "    sb.boxplot(df[i],ax=j)\n",
    "plt.show()\n",
    "#Has outliers"
   ]
  },
  {
   "cell_type": "markdown",
   "id": "d286167f",
   "metadata": {},
   "source": [
    "# clipping of outliers"
   ]
  },
  {
   "cell_type": "code",
   "execution_count": 19,
   "id": "6256c488",
   "metadata": {},
   "outputs": [],
   "source": [
    "#clipping of outliers\n",
    "def outliers(df,col):\n",
    "    q1=df[col].quantile(0.25)\n",
    "    q3=df[col].quantile(0.75)\n",
    "    iqr=q3-q1\n",
    "    low_lim=q1-(1.5*iqr)\n",
    "    up_lim=q3+(1.5*iqr)\n",
    "    \n",
    "    for x in df[col]:\n",
    "        if x>up_lim:\n",
    "            df[col]=df[col].replace(to_replace=x,value=up_lim)\n",
    "        elif x<low_lim:\n",
    "            df[col]=df[col].replace(to_replace=x,value=low_lim)"
   ]
  },
  {
   "cell_type": "code",
   "execution_count": 20,
   "id": "baafacf6",
   "metadata": {},
   "outputs": [],
   "source": [
    "for i in ['Num_Lab_Procedures','Num_Medications']:\n",
    "    outliers(df,i)"
   ]
  },
  {
   "cell_type": "code",
   "execution_count": 23,
   "id": "49611009",
   "metadata": {},
   "outputs": [
    {
     "data": {
      "image/png": "[encoded data removed]",
      "text/plain": [
       "<Figure size 1080x864 with 4 Axes>"
      ]
     },
     "metadata": {
      "needs_background": "light"
     },
     "output_type": "display_data"
    }
   ],
   "source": [
    "fig,ax=plt.subplots(nrows=2,ncols=2,figsize=[15,12])\n",
    "for i,j in zip(df.select_dtypes(np.number).columns,ax.flatten()):\n",
    "    sb.boxplot(df[i],ax=j)\n",
    "plt.show()"
   ]
  },
  {
   "cell_type": "code",
   "execution_count": 29,
   "id": "c35c737c",
   "metadata": {},
   "outputs": [
    {
     "data": {
      "image/png": "[encoded data removed]",
      "text/plain": [
       "<Figure size 432x288 with 1 Axes>"
      ]
     },
     "metadata": {
      "needs_background": "light"
     },
     "output_type": "display_data"
    },
    {
     "data": {
      "image/png": "[encoded data removed]",
      "text/plain": [
       "<Figure size 432x288 with 1 Axes>"
      ]
     },
     "metadata": {
      "needs_background": "light"
     },
     "output_type": "display_data"
    },
    {
     "data": {
      "image/png": "[encoded data removed]",
      "text/plain": [
       "<Figure size 432x288 with 1 Axes>"
      ]
     },
     "metadata": {
      "needs_background": "light"
     },
     "output_type": "display_data"
    },
    {
     "data": {
      "image/png": "[encoded data removed]",
      "text/plain": [
       "<Figure size 432x288 with 1 Axes>"
      ]
     },
     "metadata": {
      "needs_background": "light"
     },
     "output_type": "display_data"
    },
    {
     "data": {
      "image/png": "[encoded data removed]",
      "text/plain": [
       "<Figure size 432x288 with 1 Axes>"
      ]
     },
     "metadata": {
      "needs_background": "light"
     },
     "output_type": "display_data"
    },
    {
     "data": {
      "image/png": "[encoded data removed]",
      "text/plain": [
       "<Figure size 432x288 with 1 Axes>"
      ]
     },
     "metadata": {
      "needs_background": "light"
     },
     "output_type": "display_data"
    },
    {
     "data": {
      "image/png": "[encoded data removed]",
      "text/plain": [
       "<Figure size 432x288 with 1 Axes>"
      ]
     },
     "metadata": {
      "needs_background": "light"
     },
     "output_type": "display_data"
    },
    {
     "data": {
      "image/png": "[encoded data removed]",
      "text/plain": [
       "<Figure size 432x288 with 1 Axes>"
      ]
     },
     "metadata": {
      "needs_background": "light"
     },
     "output_type": "display_data"
    },
    {
     "data": {
      "image/png": "[encoded data removed]",
      "text/plain": [
       "<Figure size 432x288 with 1 Axes>"
      ]
     },
     "metadata": {
      "needs_background": "light"
     },
     "output_type": "display_data"
    },
    {
     "data": {
      "image/png": "[encoded data removed]",
      "text/plain": [
       "<Figure size 432x288 with 1 Axes>"
      ]
     },
     "metadata": {
      "needs_background": "light"
     },
     "output_type": "display_data"
    },
    {
     "data": {
      "image/png": "[encoded data removed]",
      "text/plain": [
       "<Figure size 432x288 with 1 Axes>"
      ]
     },
     "metadata": {
      "needs_background": "light"
     },
     "output_type": "display_data"
    },
    {
     "data": {
      "image/png": "[encoded data removed]",
      "text/plain": [
       "<Figure size 432x288 with 1 Axes>"
      ]
     },
     "metadata": {
      "needs_background": "light"
     },
     "output_type": "display_data"
    },
    {
     "data": {
      "image/png": "[encoded data removed]",
      "text/plain": [
       "<Figure size 432x288 with 1 Axes>"
      ]
     },
     "metadata": {
      "needs_background": "light"
     },
     "output_type": "display_data"
    },
    {
     "data": {
      "image/png": "[encoded data removed]",
      "text/plain": [
       "<Figure size 432x288 with 1 Axes>"
      ]
     },
     "metadata": {
      "needs_background": "light"
     },
     "output_type": "display_data"
    },
    {
     "data": {
      "image/png": "[encoded data removed]",
      "text/plain": [
       "<Figure size 432x288 with 1 Axes>"
      ]
     },
     "metadata": {
      "needs_background": "light"
     },
     "output_type": "display_data"
    },
    {
     "data": {
      "image/png": "[encoded data removed]",
      "text/plain": [
       "<Figure size 432x288 with 1 Axes>"
      ]
     },
     "metadata": {
      "needs_background": "light"
     },
     "output_type": "display_data"
    },
    {
     "data": {
      "image/png": "[encoded data removed]",
      "text/plain": [
       "<Figure size 432x288 with 1 Axes>"
      ]
     },
     "metadata": {
      "needs_background": "light"
     },
     "output_type": "display_data"
    },
    {
     "data": {
      "image/png": "[encoded data removed]",
      "text/plain": [
       "<Figure size 432x288 with 1 Axes>"
      ]
     },
     "metadata": {
      "needs_background": "light"
     },
     "output_type": "display_data"
    },
    {
     "data": {
      "image/png": "[encoded data removed]",
      "text/plain": [
       "<Figure size 432x288 with 1 Axes>"
      ]
     },
     "metadata": {
      "needs_background": "light"
     },
     "output_type": "display_data"
    },
    {
     "data": {
      "image/png": "[encoded data removed]",
      "text/plain": [
       "<Figure size 432x288 with 1 Axes>"
      ]
     },
     "metadata": {
      "needs_background": "light"
     },
     "output_type": "display_data"
    },
    {
     "data": {
      "image/png": "[encoded data removed]",
      "text/plain": [
       "<Figure size 432x288 with 1 Axes>"
      ]
     },
     "metadata": {
      "needs_background": "light"
     },
     "output_type": "display_data"
    },
    {
     "data": {
      "image/png": "[encoded data removed]",
      "text/plain": [
       "<Figure size 432x288 with 1 Axes>"
      ]
     },
     "metadata": {
      "needs_background": "light"
     },
     "output_type": "display_data"
    },
    {
     "data": {
      "image/png": "[encoded data removed]",
      "text/plain": [
       "<Figure size 432x288 with 1 Axes>"
      ]
     },
     "metadata": {
      "needs_background": "light"
     },
     "output_type": "display_data"
    },
    {
     "data": {
      "image/png": "[encoded data removed]",
      "text/plain": [
       "<Figure size 432x288 with 1 Axes>"
      ]
     },
     "metadata": {
      "needs_background": "light"
     },
     "output_type": "display_data"
    },
    {
     "data": {
      "image/png": "[encoded data removed]",
      "text/plain": [
       "<Figure size 432x288 with 1 Axes>"
      ]
     },
     "metadata": {
      "needs_background": "light"
     },
     "output_type": "display_data"
    },
    {
     "data": {
      "image/png": "[encoded data removed]",
      "text/plain": [
       "<Figure size 432x288 with 1 Axes>"
      ]
     },
     "metadata": {
      "needs_background": "light"
     },
     "output_type": "display_data"
    },
    {
     "data": {
      "image/png": "[encoded data removed]",
      "text/plain": [
       "<Figure size 432x288 with 1 Axes>"
      ]
     },
     "metadata": {
      "needs_background": "light"
     },
     "output_type": "display_data"
    },
    {
     "data": {
      "image/png": "[encoded data removed]",
      "text/plain": [
       "<Figure size 432x288 with 1 Axes>"
      ]
     },
     "metadata": {
      "needs_background": "light"
     },
     "output_type": "display_data"
    },
    {
     "data": {
      "image/png": "[encoded data removed]",
      "text/plain": [
       "<Figure size 432x288 with 1 Axes>"
      ]
     },
     "metadata": {
      "needs_background": "light"
     },
     "output_type": "display_data"
    },
    {
     "data": {
      "image/png": "[encoded data removed]",
      "text/plain": [
       "<Figure size 432x288 with 1 Axes>"
      ]
     },
     "metadata": {
      "needs_background": "light"
     },
     "output_type": "display_data"
    },
    {
     "data": {
      "image/png": "[encoded data removed]",
      "text/plain": [
       "<Figure size 432x288 with 1 Axes>"
      ]
     },
     "metadata": {
      "needs_background": "light"
     },
     "output_type": "display_data"
    },
    {
     "data": {
      "image/png": "[encoded data removed]",
      "text/plain": [
       "<Figure size 432x288 with 1 Axes>"
      ]
     },
     "metadata": {
      "needs_background": "light"
     },
     "output_type": "display_data"
    },
    {
     "data": {
      "image/png": "[encoded data removed]",
      "text/plain": [
       "<Figure size 432x288 with 1 Axes>"
      ]
     },
     "metadata": {
      "needs_background": "light"
     },
     "output_type": "display_data"
    },
    {
     "data": {
      "image/png": "[encoded data removed]",
      "text/plain": [
       "<Figure size 432x288 with 1 Axes>"
      ]
     },
     "metadata": {
      "needs_background": "light"
     },
     "output_type": "display_data"
    },
    {
     "data": {
      "image/png": "[encoded data removed]",
      "text/plain": [
       "<Figure size 432x288 with 1 Axes>"
      ]
     },
     "metadata": {
      "needs_background": "light"
     },
     "output_type": "display_data"
    },
    {
     "data": {
      "image/png": "[encoded data removed]",
      "text/plain": [
       "<Figure size 432x288 with 1 Axes>"
      ]
     },
     "metadata": {
      "needs_background": "light"
     },
     "output_type": "display_data"
    },
    {
     "data": {
      "image/png": "[encoded data removed]",
      "text/plain": [
       "<Figure size 432x288 with 1 Axes>"
      ]
     },
     "metadata": {
      "needs_background": "light"
     },
     "output_type": "display_data"
    },
    {
     "data": {
      "image/png": "[encoded data removed]",
      "text/plain": [
       "<Figure size 432x288 with 1 Axes>"
      ]
     },
     "metadata": {
      "needs_background": "light"
     },
     "output_type": "display_data"
    },
    {
     "data": {
      "image/png": "[encoded data removed]",
      "text/plain": [
       "<Figure size 432x288 with 1 Axes>"
      ]
     },
     "metadata": {
      "needs_background": "light"
     },
     "output_type": "display_data"
    }
   ],
   "source": [
    "for i in(df.select_dtypes(object)):\n",
    "    sb.countplot(df[i])\n",
    "    plt.show()"
   ]
  },
  {
   "cell_type": "markdown",
   "id": "a6920293",
   "metadata": {},
   "source": [
    "# correlation matrix of Numeric features"
   ]
  },
  {
   "cell_type": "code",
   "execution_count": 30,
   "id": "f8c4d16c",
   "metadata": {},
   "outputs": [
    {
     "data": {
      "image/png": "[encoded data removed]",
      "text/plain": [
       "<Figure size 432x288 with 2 Axes>"
      ]
     },
     "metadata": {
      "needs_background": "light"
     },
     "output_type": "display_data"
    }
   ],
   "source": [
    "sb.heatmap(df.corr(),annot=True)\n",
    "plt.show()"
   ]
  },
  {
   "cell_type": "code",
   "execution_count": 32,
   "id": "1f7118a8",
   "metadata": {},
   "outputs": [
    {
     "data": {
      "image/png": "[encoded data removed]",
      "text/plain": [
       "<Figure size 1080x864 with 4 Axes>"
      ]
     },
     "metadata": {
      "needs_background": "light"
     },
     "output_type": "display_data"
    }
   ],
   "source": [
    "fig,ax=plt.subplots(nrows=2,ncols=2,figsize=[15,12])\n",
    "for i,j in zip(df_num.columns,ax.flatten()):\n",
    "    sb.scatterplot(x=df[i],y=df['Readmitted'],ax=j)\n",
    "plt.show()"
   ]
  },
  {
   "cell_type": "markdown",
   "id": "29d68b96",
   "metadata": {},
   "source": [
    "### patient_nbr is irrelevant so can be removed or set as index"
   ]
  },
  {
   "cell_type": "code",
   "execution_count": 48,
   "id": "0f6bcd2f",
   "metadata": {},
   "outputs": [
    {
     "data": {
      "text/html": [
       "<div>\n",
       "<style scoped>\n",
       "    .dataframe tbody tr th:only-of-type {\n",
       "        vertical-align: middle;\n",
       "    }\n",
       "\n",
       "    .dataframe tbody tr th {\n",
       "        vertical-align: top;\n",
       "    }\n",
       "\n",
       "    .dataframe thead th {\n",
       "        text-align: right;\n",
       "    }\n",
       "</style>\n",
       "<table border=\"1\" class=\"dataframe\">\n",
       "  <thead>\n",
       "    <tr style=\"text-align: right;\">\n",
       "      <th></th>\n",
       "      <th>Race</th>\n",
       "      <th>Gender</th>\n",
       "      <th>Age</th>\n",
       "      <th>Weight</th>\n",
       "      <th>Admission Type</th>\n",
       "      <th>Discharge Disposition</th>\n",
       "      <th>Admission Source</th>\n",
       "      <th>Days In Hospital</th>\n",
       "      <th>Payer_Code</th>\n",
       "      <th>Medical_Specialty</th>\n",
       "      <th>...</th>\n",
       "      <th>Citoglipton</th>\n",
       "      <th>Insulin</th>\n",
       "      <th>Glyburide-Metformin</th>\n",
       "      <th>Glipizide-Metformin</th>\n",
       "      <th>Glimepiride-Pioglitazone</th>\n",
       "      <th>Metformin-Rosiglitazone</th>\n",
       "      <th>Metformin-Pioglitazone</th>\n",
       "      <th>Change</th>\n",
       "      <th>Diabetesmed</th>\n",
       "      <th>Readmitted</th>\n",
       "    </tr>\n",
       "    <tr>\n",
       "      <th>Patient_Nbr</th>\n",
       "      <th></th>\n",
       "      <th></th>\n",
       "      <th></th>\n",
       "      <th></th>\n",
       "      <th></th>\n",
       "      <th></th>\n",
       "      <th></th>\n",
       "      <th></th>\n",
       "      <th></th>\n",
       "      <th></th>\n",
       "      <th></th>\n",
       "      <th></th>\n",
       "      <th></th>\n",
       "      <th></th>\n",
       "      <th></th>\n",
       "      <th></th>\n",
       "      <th></th>\n",
       "      <th></th>\n",
       "      <th></th>\n",
       "      <th></th>\n",
       "      <th></th>\n",
       "    </tr>\n",
       "  </thead>\n",
       "  <tbody>\n",
       "    <tr>\n",
       "      <th>8390</th>\n",
       "      <td>Caucasian</td>\n",
       "      <td>Male</td>\n",
       "      <td>[70-80)</td>\n",
       "      <td>Unknown</td>\n",
       "      <td>Not Available</td>\n",
       "      <td>Discharged</td>\n",
       "      <td>Not Available</td>\n",
       "      <td>Below 3</td>\n",
       "      <td>Unknown</td>\n",
       "      <td>Surgery</td>\n",
       "      <td>...</td>\n",
       "      <td>No</td>\n",
       "      <td>No</td>\n",
       "      <td>No</td>\n",
       "      <td>No</td>\n",
       "      <td>No</td>\n",
       "      <td>No</td>\n",
       "      <td>No</td>\n",
       "      <td>No</td>\n",
       "      <td>No</td>\n",
       "      <td>Yes</td>\n",
       "    </tr>\n",
       "    <tr>\n",
       "      <th>20012</th>\n",
       "      <td>Caucasian</td>\n",
       "      <td>Male</td>\n",
       "      <td>[60-70)</td>\n",
       "      <td>Unknown</td>\n",
       "      <td>Not Available</td>\n",
       "      <td>Discharged</td>\n",
       "      <td>Not Available</td>\n",
       "      <td>Between 03 to 06</td>\n",
       "      <td>HM</td>\n",
       "      <td>Surgery</td>\n",
       "      <td>...</td>\n",
       "      <td>No</td>\n",
       "      <td>Steady</td>\n",
       "      <td>No</td>\n",
       "      <td>No</td>\n",
       "      <td>No</td>\n",
       "      <td>No</td>\n",
       "      <td>No</td>\n",
       "      <td>No</td>\n",
       "      <td>Yes</td>\n",
       "      <td>Yes</td>\n",
       "    </tr>\n",
       "    <tr>\n",
       "      <th>50903</th>\n",
       "      <td>Caucasian</td>\n",
       "      <td>Female</td>\n",
       "      <td>[70-80)</td>\n",
       "      <td>Unknown</td>\n",
       "      <td>Emergency</td>\n",
       "      <td>Discharged</td>\n",
       "      <td>Referral</td>\n",
       "      <td>Between 03 to 06</td>\n",
       "      <td>Unknown</td>\n",
       "      <td>General Practice</td>\n",
       "      <td>...</td>\n",
       "      <td>No</td>\n",
       "      <td>No</td>\n",
       "      <td>No</td>\n",
       "      <td>No</td>\n",
       "      <td>No</td>\n",
       "      <td>No</td>\n",
       "      <td>No</td>\n",
       "      <td>No</td>\n",
       "      <td>No</td>\n",
       "      <td>Yes</td>\n",
       "    </tr>\n",
       "    <tr>\n",
       "      <th>50636</th>\n",
       "      <td>Caucasian</td>\n",
       "      <td>Male</td>\n",
       "      <td>[50-60)</td>\n",
       "      <td>Unknown</td>\n",
       "      <td>Not Available</td>\n",
       "      <td>Left AMA</td>\n",
       "      <td>Emergency Room</td>\n",
       "      <td>Below 3</td>\n",
       "      <td>Unknown</td>\n",
       "      <td>Surgery</td>\n",
       "      <td>...</td>\n",
       "      <td>No</td>\n",
       "      <td>Steady</td>\n",
       "      <td>No</td>\n",
       "      <td>No</td>\n",
       "      <td>No</td>\n",
       "      <td>No</td>\n",
       "      <td>No</td>\n",
       "      <td>No</td>\n",
       "      <td>Yes</td>\n",
       "      <td>No</td>\n",
       "    </tr>\n",
       "    <tr>\n",
       "      <th>205</th>\n",
       "      <td>Caucasian</td>\n",
       "      <td>Female</td>\n",
       "      <td>[40-50)</td>\n",
       "      <td>Unknown</td>\n",
       "      <td>Emergency</td>\n",
       "      <td>Discharged</td>\n",
       "      <td>Emergency Room</td>\n",
       "      <td>Below 3</td>\n",
       "      <td>HM</td>\n",
       "      <td>Surgery</td>\n",
       "      <td>...</td>\n",
       "      <td>No</td>\n",
       "      <td>Up</td>\n",
       "      <td>No</td>\n",
       "      <td>No</td>\n",
       "      <td>No</td>\n",
       "      <td>No</td>\n",
       "      <td>No</td>\n",
       "      <td>Ch</td>\n",
       "      <td>Yes</td>\n",
       "      <td>No</td>\n",
       "    </tr>\n",
       "  </tbody>\n",
       "</table>\n",
       "<p>5 rows × 42 columns</p>\n",
       "</div>"
      ],
      "text/plain": [
       "                  Race  Gender      Age   Weight Admission Type  \\\n",
       "Patient_Nbr                                                       \n",
       "8390         Caucasian    Male  [70-80)  Unknown  Not Available   \n",
       "20012        Caucasian    Male  [60-70)  Unknown  Not Available   \n",
       "50903        Caucasian  Female  [70-80)  Unknown      Emergency   \n",
       "50636        Caucasian    Male  [50-60)  Unknown  Not Available   \n",
       "205          Caucasian  Female  [40-50)  Unknown      Emergency   \n",
       "\n",
       "            Discharge Disposition Admission Source  Days In Hospital  \\\n",
       "Patient_Nbr                                                            \n",
       "8390                   Discharged    Not Available           Below 3   \n",
       "20012                  Discharged    Not Available  Between 03 to 06   \n",
       "50903                  Discharged         Referral  Between 03 to 06   \n",
       "50636                    Left AMA   Emergency Room           Below 3   \n",
       "205                    Discharged   Emergency Room           Below 3   \n",
       "\n",
       "            Payer_Code Medical_Specialty  ...  Citoglipton  Insulin  \\\n",
       "Patient_Nbr                               ...                         \n",
       "8390           Unknown          Surgery   ...           No       No   \n",
       "20012               HM          Surgery   ...           No   Steady   \n",
       "50903          Unknown  General Practice  ...           No       No   \n",
       "50636          Unknown          Surgery   ...           No   Steady   \n",
       "205                 HM          Surgery   ...           No       Up   \n",
       "\n",
       "             Glyburide-Metformin Glipizide-Metformin Glimepiride-Pioglitazone  \\\n",
       "Patient_Nbr                                                                     \n",
       "8390                          No                  No                       No   \n",
       "20012                         No                  No                       No   \n",
       "50903                         No                  No                       No   \n",
       "50636                         No                  No                       No   \n",
       "205                           No                  No                       No   \n",
       "\n",
       "            Metformin-Rosiglitazone Metformin-Pioglitazone Change Diabetesmed  \\\n",
       "Patient_Nbr                                                                     \n",
       "8390                             No                     No     No          No   \n",
       "20012                            No                     No     No         Yes   \n",
       "50903                            No                     No     No          No   \n",
       "50636                            No                     No     No         Yes   \n",
       "205                              No                     No     Ch         Yes   \n",
       "\n",
       "            Readmitted  \n",
       "Patient_Nbr             \n",
       "8390               Yes  \n",
       "20012              Yes  \n",
       "50903              Yes  \n",
       "50636               No  \n",
       "205                 No  \n",
       "\n",
       "[5 rows x 42 columns]"
      ]
     },
     "execution_count": 48,
     "metadata": {},
     "output_type": "execute_result"
    }
   ],
   "source": [
    "df2=df.set_index('Patient_Nbr')\n",
    "df2.head()"
   ]
  },
  {
   "cell_type": "markdown",
   "id": "a39f2709",
   "metadata": {},
   "source": [
    "# Replacing not available and invalid valid values with mode of the columns"
   ]
  },
  {
   "cell_type": "code",
   "execution_count": 49,
   "id": "2f4af458",
   "metadata": {},
   "outputs": [
    {
     "data": {
      "text/plain": [
       "Female             19913\n",
       "Male               16624\n",
       "Unknown/Invalid        1\n",
       "Name: Gender, dtype: int64"
      ]
     },
     "execution_count": 49,
     "metadata": {},
     "output_type": "execute_result"
    }
   ],
   "source": [
    "df2.Gender.value_counts()"
   ]
  },
  {
   "cell_type": "code",
   "execution_count": 54,
   "id": "6c77b0d1",
   "metadata": {},
   "outputs": [
    {
     "data": {
      "text/plain": [
       "0    Female\n",
       "dtype: object"
      ]
     },
     "execution_count": 54,
     "metadata": {},
     "output_type": "execute_result"
    }
   ],
   "source": [
    "df2.Gender.mode()"
   ]
  },
  {
   "cell_type": "code",
   "execution_count": 55,
   "id": "edf713b6",
   "metadata": {},
   "outputs": [],
   "source": [
    "df2['Gender'].replace('Unknown/Invalid','Female',inplace=True)"
   ]
  },
  {
   "cell_type": "code",
   "execution_count": 56,
   "id": "d4b622f5",
   "metadata": {},
   "outputs": [
    {
     "data": {
      "text/plain": [
       "Female    19914\n",
       "Male      16624\n",
       "Name: Gender, dtype: int64"
      ]
     },
     "execution_count": 56,
     "metadata": {},
     "output_type": "execute_result"
    }
   ],
   "source": [
    "df2.Gender.value_counts()"
   ]
  },
  {
   "cell_type": "code",
   "execution_count": 57,
   "id": "465462ec",
   "metadata": {},
   "outputs": [
    {
     "data": {
      "text/plain": [
       "Unknown      35137\n",
       "[75-100)       588\n",
       "[50-75)        404\n",
       "[100-125)      269\n",
       "[125-150)       53\n",
       "[25-50)         44\n",
       "[0-25)          23\n",
       "[150-175)       15\n",
       "[175-200)        4\n",
       ">200             1\n",
       "Name: Weight, dtype: int64"
      ]
     },
     "execution_count": 57,
     "metadata": {},
     "output_type": "execute_result"
    }
   ],
   "source": [
    "df2.Weight.value_counts()"
   ]
  },
  {
   "cell_type": "code",
   "execution_count": 60,
   "id": "3e823542",
   "metadata": {},
   "outputs": [],
   "source": [
    "df2.Weight.replace('Unknown','[75-100)',inplace=True)"
   ]
  },
  {
   "cell_type": "code",
   "execution_count": 61,
   "id": "619d7fce",
   "metadata": {},
   "outputs": [
    {
     "data": {
      "text/plain": [
       "[75-100)     35725\n",
       "[50-75)        404\n",
       "[100-125)      269\n",
       "[125-150)       53\n",
       "[25-50)         44\n",
       "[0-25)          23\n",
       "[150-175)       15\n",
       "[175-200)        4\n",
       ">200             1\n",
       "Name: Weight, dtype: int64"
      ]
     },
     "execution_count": 61,
     "metadata": {},
     "output_type": "execute_result"
    }
   ],
   "source": [
    "df2.Weight.value_counts()"
   ]
  },
  {
   "cell_type": "code",
   "execution_count": 62,
   "id": "945dd6b6",
   "metadata": {},
   "outputs": [],
   "source": [
    "df2['Admission Type'].replace('Not Available','Emergency',inplace=True)"
   ]
  },
  {
   "cell_type": "code",
   "execution_count": 63,
   "id": "91116a07",
   "metadata": {},
   "outputs": [
    {
     "data": {
      "text/plain": [
       "Emergency        30390\n",
       "Elective          6140\n",
       "Trauma Center        4\n",
       "Newborn              4\n",
       "Name: Admission Type, dtype: int64"
      ]
     },
     "execution_count": 63,
     "metadata": {},
     "output_type": "execute_result"
    }
   ],
   "source": [
    "df2['Admission Type'].value_counts()"
   ]
  },
  {
   "cell_type": "code",
   "execution_count": 64,
   "id": "b7424353",
   "metadata": {},
   "outputs": [],
   "source": [
    "df2['Admission Source'].replace('Not Available','Emergency Room',inplace=True)"
   ]
  },
  {
   "cell_type": "code",
   "execution_count": 65,
   "id": "a9c3efe1",
   "metadata": {},
   "outputs": [
    {
     "data": {
      "text/plain": [
       "Emergency Room              23260\n",
       "Referral                    10808\n",
       "Transfer from a hospital     2470\n",
       "Name: Admission Source, dtype: int64"
      ]
     },
     "execution_count": 65,
     "metadata": {},
     "output_type": "execute_result"
    }
   ],
   "source": [
    "df2['Admission Source'].value_counts()"
   ]
  },
  {
   "cell_type": "markdown",
   "id": "71821c71",
   "metadata": {},
   "source": [
    "# Removal of Insignificant features"
   ]
  },
  {
   "cell_type": "code",
   "execution_count": 67,
   "id": "cf8837c4",
   "metadata": {},
   "outputs": [
    {
     "name": "stdout",
     "output_type": "stream",
     "text": [
      "                     Feature  P-Value  Significance\n",
      "0                       Race   0.0000   Significant\n",
      "1                     Gender   0.0275   Significant\n",
      "2                        Age   0.0000   Significant\n",
      "3                     Weight   0.0000   Significant\n",
      "4             Admission Type   0.0000   Significant\n",
      "5      Discharge Disposition   0.0000   Significant\n",
      "6           Admission Source   0.0000   Significant\n",
      "7           Days In Hospital   0.0000   Significant\n",
      "8                 Payer_Code   0.0000   Significant\n",
      "9          Medical_Specialty   0.0000   Significant\n",
      "10          Number_Diagnoses   0.0000   Significant\n",
      "11             Max_Glu_Serum   0.0000   Significant\n",
      "12                 A1Cresult   0.0285   Significant\n",
      "13                 Metformin   0.0000   Significant\n",
      "14               Repaglinide   0.0003   Significant\n",
      "15               Nateglinide   0.4275  Insignifcant\n",
      "16            Chlorpropamide   0.4802  Insignifcant\n",
      "17               Glimepiride   0.5263  Insignifcant\n",
      "18             Acetohexamide   1.0000  Insignifcant\n",
      "19                 Glipizide   0.0266   Significant\n",
      "20                 Glyburide   0.1003  Insignifcant\n",
      "21               Tolbutamide   0.8644  Insignifcant\n",
      "22              Pioglitazone   0.8216  Insignifcant\n",
      "23             Rosiglitazone   0.7949  Insignifcant\n",
      "24                  Acarbose   0.3529  Insignifcant\n",
      "25                  Miglitol   0.7200  Insignifcant\n",
      "26              Troglitazone   0.8682  Insignifcant\n",
      "27                Tolazamide   0.0316   Significant\n",
      "28                   Examide   1.0000  Insignifcant\n",
      "29               Citoglipton   1.0000  Insignifcant\n",
      "30                   Insulin   0.0000   Significant\n",
      "31       Glyburide-Metformin   0.0090   Significant\n",
      "32       Glipizide-Metformin   0.7574  Insignifcant\n",
      "33  Glimepiride-Pioglitazone   1.0000  Insignifcant\n",
      "34   Metformin-Rosiglitazone   1.0000  Insignifcant\n",
      "35    Metformin-Pioglitazone   1.0000  Insignifcant\n",
      "36                    Change   0.0006   Significant\n",
      "37               Diabetesmed   0.0000   Significant\n",
      "38                Readmitted   0.0000   Significant\n"
     ]
    }
   ],
   "source": [
    "from scipy.stats import chi2_contingency\n",
    "scol=[]\n",
    "spval=[]\n",
    "ss=[]\n",
    "for n in df2.select_dtypes(include=object).columns:\n",
    "    scol.append(n)\n",
    "    cp=chi2_contingency(pd.crosstab(df2[n],df2['Readmitted']))[1]\n",
    "    spval.append(round(cp,4))\n",
    "    if(cp<0.05):\n",
    "        ss.append('Significant')\n",
    "    else:\n",
    "        ss.append('Insignifcant')\n",
    "a=pd.DataFrame({'Feature':scol,'P-Value':spval,'Significance':ss})\n",
    "print(a)"
   ]
  },
  {
   "cell_type": "code",
   "execution_count": 72,
   "id": "39f37b6d",
   "metadata": {},
   "outputs": [
    {
     "data": {
      "text/plain": [
       "[15                 Nateglinide\n",
       " 16              Chlorpropamide\n",
       " 17                 Glimepiride\n",
       " 18               Acetohexamide\n",
       " 20                   Glyburide\n",
       " 21                 Tolbutamide\n",
       " 22                Pioglitazone\n",
       " 23               Rosiglitazone\n",
       " 24                    Acarbose\n",
       " 25                    Miglitol\n",
       " 26                Troglitazone\n",
       " 28                     Examide\n",
       " 29                 Citoglipton\n",
       " 32         Glipizide-Metformin\n",
       " 33    Glimepiride-Pioglitazone\n",
       " 34     Metformin-Rosiglitazone\n",
       " 35      Metformin-Pioglitazone\n",
       " Name: Feature, dtype: object]"
      ]
     },
     "execution_count": 72,
     "metadata": {},
     "output_type": "execute_result"
    }
   ],
   "source": [
    "b=[a.Feature[a.Significance=='Insignifcant']"
   ]
  },
  {
   "cell_type": "code",
   "execution_count": 73,
   "id": "0fcc8750",
   "metadata": {},
   "outputs": [],
   "source": [
    "df2=df2.drop(['Nateglinide','Chlorpropamide',\n",
    " 'Glimepiride','Acetohexamide','Glyburide','Tolbutamide','Pioglitazone','Rosiglitazone',\n",
    " 'Acarbose','Miglitol','Troglitazone','Examide','Citoglipton','Glipizide-Metformin',\n",
    " 'Glimepiride-Pioglitazone','Metformin-Rosiglitazone','Metformin-Pioglitazone'],axis=1)"
   ]
  },
  {
   "cell_type": "code",
   "execution_count": 75,
   "id": "af8e4647",
   "metadata": {},
   "outputs": [
    {
     "data": {
      "text/plain": [
       "(36538, 25)"
      ]
     },
     "execution_count": 75,
     "metadata": {},
     "output_type": "execute_result"
    }
   ],
   "source": [
    "df2.shape"
   ]
  },
  {
   "cell_type": "code",
   "execution_count": 78,
   "id": "d31ddd8f",
   "metadata": {},
   "outputs": [
    {
     "name": "stdout",
     "output_type": "stream",
     "text": [
      "              Feature  P-Value  Significance\n",
      "0  Num_Lab_Procedures   0.0000   Significant\n",
      "1      Num_Procedures   0.9686  Insignifcant\n",
      "2     Num_Medications   0.0000   Significant\n"
     ]
    }
   ],
   "source": [
    "from scipy.stats import f_oneway\n",
    "\n",
    "tcol=[]\n",
    "tpval=[]\n",
    "ts=[]\n",
    "for n in df2.select_dtypes(include='number').columns:\n",
    "    tcol.append(n)\n",
    "    g1=df2[n][df2['Readmitted']=='Yes']\n",
    "    g2=df2[n][df2['Readmitted']=='No']\n",
    "    \n",
    "    s,p=f_oneway(g1,g2)\n",
    "    tpval.append(round(p,4))\n",
    "    if (p<=0.05):\n",
    "        ts.append('Significant')\n",
    "    else:\n",
    "        ts.append('Insignifcant')\n",
    "print(pd.DataFrame({'Feature':tcol,'P-Value':tpval,'Significance':ts}))"
   ]
  },
  {
   "cell_type": "code",
   "execution_count": 79,
   "id": "2bc84e43",
   "metadata": {},
   "outputs": [],
   "source": [
    "df2=df2.drop(['Num_Procedures'],axis=1)"
   ]
  },
  {
   "cell_type": "code",
   "execution_count": 81,
   "id": "e9ad917f",
   "metadata": {},
   "outputs": [
    {
     "data": {
      "text/plain": [
       "(36538, 24)"
      ]
     },
     "execution_count": 81,
     "metadata": {},
     "output_type": "execute_result"
    }
   ],
   "source": [
    "df2.shape"
   ]
  },
  {
   "cell_type": "code",
   "execution_count": 82,
   "id": "acc97e1a",
   "metadata": {},
   "outputs": [
    {
     "data": {
      "text/html": [
       "<div>\n",
       "<style scoped>\n",
       "    .dataframe tbody tr th:only-of-type {\n",
       "        vertical-align: middle;\n",
       "    }\n",
       "\n",
       "    .dataframe tbody tr th {\n",
       "        vertical-align: top;\n",
       "    }\n",
       "\n",
       "    .dataframe thead th {\n",
       "        text-align: right;\n",
       "    }\n",
       "</style>\n",
       "<table border=\"1\" class=\"dataframe\">\n",
       "  <thead>\n",
       "    <tr style=\"text-align: right;\">\n",
       "      <th></th>\n",
       "      <th>Race</th>\n",
       "      <th>Gender</th>\n",
       "      <th>Age</th>\n",
       "      <th>Weight</th>\n",
       "      <th>Admission Type</th>\n",
       "      <th>Discharge Disposition</th>\n",
       "      <th>Admission Source</th>\n",
       "      <th>Days In Hospital</th>\n",
       "      <th>Payer_Code</th>\n",
       "      <th>Medical_Specialty</th>\n",
       "      <th>...</th>\n",
       "      <th>A1Cresult</th>\n",
       "      <th>Metformin</th>\n",
       "      <th>Repaglinide</th>\n",
       "      <th>Glipizide</th>\n",
       "      <th>Tolazamide</th>\n",
       "      <th>Insulin</th>\n",
       "      <th>Glyburide-Metformin</th>\n",
       "      <th>Change</th>\n",
       "      <th>Diabetesmed</th>\n",
       "      <th>Readmitted</th>\n",
       "    </tr>\n",
       "    <tr>\n",
       "      <th>Patient_Nbr</th>\n",
       "      <th></th>\n",
       "      <th></th>\n",
       "      <th></th>\n",
       "      <th></th>\n",
       "      <th></th>\n",
       "      <th></th>\n",
       "      <th></th>\n",
       "      <th></th>\n",
       "      <th></th>\n",
       "      <th></th>\n",
       "      <th></th>\n",
       "      <th></th>\n",
       "      <th></th>\n",
       "      <th></th>\n",
       "      <th></th>\n",
       "      <th></th>\n",
       "      <th></th>\n",
       "      <th></th>\n",
       "      <th></th>\n",
       "      <th></th>\n",
       "      <th></th>\n",
       "    </tr>\n",
       "  </thead>\n",
       "  <tbody>\n",
       "    <tr>\n",
       "      <th>8390</th>\n",
       "      <td>Caucasian</td>\n",
       "      <td>Male</td>\n",
       "      <td>[70-80)</td>\n",
       "      <td>[75-100)</td>\n",
       "      <td>Emergency</td>\n",
       "      <td>Discharged</td>\n",
       "      <td>Emergency Room</td>\n",
       "      <td>Below 3</td>\n",
       "      <td>Unknown</td>\n",
       "      <td>Surgery</td>\n",
       "      <td>...</td>\n",
       "      <td>&gt;8</td>\n",
       "      <td>No</td>\n",
       "      <td>No</td>\n",
       "      <td>No</td>\n",
       "      <td>No</td>\n",
       "      <td>No</td>\n",
       "      <td>No</td>\n",
       "      <td>No</td>\n",
       "      <td>No</td>\n",
       "      <td>Yes</td>\n",
       "    </tr>\n",
       "    <tr>\n",
       "      <th>20012</th>\n",
       "      <td>Caucasian</td>\n",
       "      <td>Male</td>\n",
       "      <td>[60-70)</td>\n",
       "      <td>[75-100)</td>\n",
       "      <td>Emergency</td>\n",
       "      <td>Discharged</td>\n",
       "      <td>Emergency Room</td>\n",
       "      <td>Between 03 to 06</td>\n",
       "      <td>HM</td>\n",
       "      <td>Surgery</td>\n",
       "      <td>...</td>\n",
       "      <td>None</td>\n",
       "      <td>No</td>\n",
       "      <td>No</td>\n",
       "      <td>No</td>\n",
       "      <td>No</td>\n",
       "      <td>Steady</td>\n",
       "      <td>No</td>\n",
       "      <td>No</td>\n",
       "      <td>Yes</td>\n",
       "      <td>Yes</td>\n",
       "    </tr>\n",
       "    <tr>\n",
       "      <th>50903</th>\n",
       "      <td>Caucasian</td>\n",
       "      <td>Female</td>\n",
       "      <td>[70-80)</td>\n",
       "      <td>[75-100)</td>\n",
       "      <td>Emergency</td>\n",
       "      <td>Discharged</td>\n",
       "      <td>Referral</td>\n",
       "      <td>Between 03 to 06</td>\n",
       "      <td>Unknown</td>\n",
       "      <td>General Practice</td>\n",
       "      <td>...</td>\n",
       "      <td>None</td>\n",
       "      <td>No</td>\n",
       "      <td>No</td>\n",
       "      <td>No</td>\n",
       "      <td>No</td>\n",
       "      <td>No</td>\n",
       "      <td>No</td>\n",
       "      <td>No</td>\n",
       "      <td>No</td>\n",
       "      <td>Yes</td>\n",
       "    </tr>\n",
       "    <tr>\n",
       "      <th>50636</th>\n",
       "      <td>Caucasian</td>\n",
       "      <td>Male</td>\n",
       "      <td>[50-60)</td>\n",
       "      <td>[75-100)</td>\n",
       "      <td>Emergency</td>\n",
       "      <td>Left AMA</td>\n",
       "      <td>Emergency Room</td>\n",
       "      <td>Below 3</td>\n",
       "      <td>Unknown</td>\n",
       "      <td>Surgery</td>\n",
       "      <td>...</td>\n",
       "      <td>None</td>\n",
       "      <td>No</td>\n",
       "      <td>No</td>\n",
       "      <td>No</td>\n",
       "      <td>No</td>\n",
       "      <td>Steady</td>\n",
       "      <td>No</td>\n",
       "      <td>No</td>\n",
       "      <td>Yes</td>\n",
       "      <td>No</td>\n",
       "    </tr>\n",
       "    <tr>\n",
       "      <th>205</th>\n",
       "      <td>Caucasian</td>\n",
       "      <td>Female</td>\n",
       "      <td>[40-50)</td>\n",
       "      <td>[75-100)</td>\n",
       "      <td>Emergency</td>\n",
       "      <td>Discharged</td>\n",
       "      <td>Emergency Room</td>\n",
       "      <td>Below 3</td>\n",
       "      <td>HM</td>\n",
       "      <td>Surgery</td>\n",
       "      <td>...</td>\n",
       "      <td>None</td>\n",
       "      <td>No</td>\n",
       "      <td>No</td>\n",
       "      <td>No</td>\n",
       "      <td>No</td>\n",
       "      <td>Up</td>\n",
       "      <td>No</td>\n",
       "      <td>Ch</td>\n",
       "      <td>Yes</td>\n",
       "      <td>No</td>\n",
       "    </tr>\n",
       "  </tbody>\n",
       "</table>\n",
       "<p>5 rows × 24 columns</p>\n",
       "</div>"
      ],
      "text/plain": [
       "                  Race  Gender      Age    Weight Admission Type  \\\n",
       "Patient_Nbr                                                        \n",
       "8390         Caucasian    Male  [70-80)  [75-100)      Emergency   \n",
       "20012        Caucasian    Male  [60-70)  [75-100)      Emergency   \n",
       "50903        Caucasian  Female  [70-80)  [75-100)      Emergency   \n",
       "50636        Caucasian    Male  [50-60)  [75-100)      Emergency   \n",
       "205          Caucasian  Female  [40-50)  [75-100)      Emergency   \n",
       "\n",
       "            Discharge Disposition Admission Source  Days In Hospital  \\\n",
       "Patient_Nbr                                                            \n",
       "8390                   Discharged   Emergency Room           Below 3   \n",
       "20012                  Discharged   Emergency Room  Between 03 to 06   \n",
       "50903                  Discharged         Referral  Between 03 to 06   \n",
       "50636                    Left AMA   Emergency Room           Below 3   \n",
       "205                    Discharged   Emergency Room           Below 3   \n",
       "\n",
       "            Payer_Code Medical_Specialty  ...  A1Cresult  Metformin  \\\n",
       "Patient_Nbr                               ...                         \n",
       "8390           Unknown          Surgery   ...         >8         No   \n",
       "20012               HM          Surgery   ...       None         No   \n",
       "50903          Unknown  General Practice  ...       None         No   \n",
       "50636          Unknown          Surgery   ...       None         No   \n",
       "205                 HM          Surgery   ...       None         No   \n",
       "\n",
       "            Repaglinide Glipizide Tolazamide Insulin Glyburide-Metformin  \\\n",
       "Patient_Nbr                                                                \n",
       "8390                 No        No         No      No                  No   \n",
       "20012                No        No         No  Steady                  No   \n",
       "50903                No        No         No      No                  No   \n",
       "50636                No        No         No  Steady                  No   \n",
       "205                  No        No         No      Up                  No   \n",
       "\n",
       "            Change Diabetesmed Readmitted  \n",
       "Patient_Nbr                                \n",
       "8390            No          No        Yes  \n",
       "20012           No         Yes        Yes  \n",
       "50903           No          No        Yes  \n",
       "50636           No         Yes         No  \n",
       "205             Ch         Yes         No  \n",
       "\n",
       "[5 rows x 24 columns]"
      ]
     },
     "execution_count": 82,
     "metadata": {},
     "output_type": "execute_result"
    }
   ],
   "source": [
    "df2.head()"
   ]
  },
  {
   "cell_type": "code",
   "execution_count": 83,
   "id": "16ae2d25",
   "metadata": {},
   "outputs": [
    {
     "data": {
      "text/html": [
       "<div>\n",
       "<style scoped>\n",
       "    .dataframe tbody tr th:only-of-type {\n",
       "        vertical-align: middle;\n",
       "    }\n",
       "\n",
       "    .dataframe tbody tr th {\n",
       "        vertical-align: top;\n",
       "    }\n",
       "\n",
       "    .dataframe thead th {\n",
       "        text-align: right;\n",
       "    }\n",
       "</style>\n",
       "<table border=\"1\" class=\"dataframe\">\n",
       "  <thead>\n",
       "    <tr style=\"text-align: right;\">\n",
       "      <th></th>\n",
       "      <th>Race</th>\n",
       "      <th>Gender</th>\n",
       "      <th>Age</th>\n",
       "      <th>Weight</th>\n",
       "      <th>Admission Type</th>\n",
       "      <th>Discharge Disposition</th>\n",
       "      <th>Admission Source</th>\n",
       "      <th>Days In Hospital</th>\n",
       "      <th>Payer_Code</th>\n",
       "      <th>Medical_Specialty</th>\n",
       "      <th>...</th>\n",
       "      <th>A1Cresult</th>\n",
       "      <th>Metformin</th>\n",
       "      <th>Repaglinide</th>\n",
       "      <th>Glipizide</th>\n",
       "      <th>Tolazamide</th>\n",
       "      <th>Insulin</th>\n",
       "      <th>Glyburide-Metformin</th>\n",
       "      <th>Change</th>\n",
       "      <th>Diabetesmed</th>\n",
       "      <th>Readmitted</th>\n",
       "    </tr>\n",
       "    <tr>\n",
       "      <th>Patient_Nbr</th>\n",
       "      <th></th>\n",
       "      <th></th>\n",
       "      <th></th>\n",
       "      <th></th>\n",
       "      <th></th>\n",
       "      <th></th>\n",
       "      <th></th>\n",
       "      <th></th>\n",
       "      <th></th>\n",
       "      <th></th>\n",
       "      <th></th>\n",
       "      <th></th>\n",
       "      <th></th>\n",
       "      <th></th>\n",
       "      <th></th>\n",
       "      <th></th>\n",
       "      <th></th>\n",
       "      <th></th>\n",
       "      <th></th>\n",
       "      <th></th>\n",
       "      <th></th>\n",
       "    </tr>\n",
       "  </thead>\n",
       "  <tbody>\n",
       "    <tr>\n",
       "      <th>8390</th>\n",
       "      <td>Caucasian</td>\n",
       "      <td>Male</td>\n",
       "      <td>[70-80)</td>\n",
       "      <td>[75-100)</td>\n",
       "      <td>Emergency</td>\n",
       "      <td>Discharged</td>\n",
       "      <td>Emergency Room</td>\n",
       "      <td>Below 3</td>\n",
       "      <td>Unknown</td>\n",
       "      <td>Surgery</td>\n",
       "      <td>...</td>\n",
       "      <td>&gt;8</td>\n",
       "      <td>No</td>\n",
       "      <td>No</td>\n",
       "      <td>No</td>\n",
       "      <td>No</td>\n",
       "      <td>No</td>\n",
       "      <td>No</td>\n",
       "      <td>No</td>\n",
       "      <td>No</td>\n",
       "      <td>Yes</td>\n",
       "    </tr>\n",
       "    <tr>\n",
       "      <th>20012</th>\n",
       "      <td>Caucasian</td>\n",
       "      <td>Male</td>\n",
       "      <td>[60-70)</td>\n",
       "      <td>[75-100)</td>\n",
       "      <td>Emergency</td>\n",
       "      <td>Discharged</td>\n",
       "      <td>Emergency Room</td>\n",
       "      <td>Between 03 to 06</td>\n",
       "      <td>HM</td>\n",
       "      <td>Surgery</td>\n",
       "      <td>...</td>\n",
       "      <td>None</td>\n",
       "      <td>No</td>\n",
       "      <td>No</td>\n",
       "      <td>No</td>\n",
       "      <td>No</td>\n",
       "      <td>Steady</td>\n",
       "      <td>No</td>\n",
       "      <td>No</td>\n",
       "      <td>Yes</td>\n",
       "      <td>Yes</td>\n",
       "    </tr>\n",
       "    <tr>\n",
       "      <th>50903</th>\n",
       "      <td>Caucasian</td>\n",
       "      <td>Female</td>\n",
       "      <td>[70-80)</td>\n",
       "      <td>[75-100)</td>\n",
       "      <td>Emergency</td>\n",
       "      <td>Discharged</td>\n",
       "      <td>Referral</td>\n",
       "      <td>Between 03 to 06</td>\n",
       "      <td>Unknown</td>\n",
       "      <td>General Practice</td>\n",
       "      <td>...</td>\n",
       "      <td>None</td>\n",
       "      <td>No</td>\n",
       "      <td>No</td>\n",
       "      <td>No</td>\n",
       "      <td>No</td>\n",
       "      <td>No</td>\n",
       "      <td>No</td>\n",
       "      <td>No</td>\n",
       "      <td>No</td>\n",
       "      <td>Yes</td>\n",
       "    </tr>\n",
       "    <tr>\n",
       "      <th>50636</th>\n",
       "      <td>Caucasian</td>\n",
       "      <td>Male</td>\n",
       "      <td>[50-60)</td>\n",
       "      <td>[75-100)</td>\n",
       "      <td>Emergency</td>\n",
       "      <td>Left AMA</td>\n",
       "      <td>Emergency Room</td>\n",
       "      <td>Below 3</td>\n",
       "      <td>Unknown</td>\n",
       "      <td>Surgery</td>\n",
       "      <td>...</td>\n",
       "      <td>None</td>\n",
       "      <td>No</td>\n",
       "      <td>No</td>\n",
       "      <td>No</td>\n",
       "      <td>No</td>\n",
       "      <td>Steady</td>\n",
       "      <td>No</td>\n",
       "      <td>No</td>\n",
       "      <td>Yes</td>\n",
       "      <td>No</td>\n",
       "    </tr>\n",
       "    <tr>\n",
       "      <th>205</th>\n",
       "      <td>Caucasian</td>\n",
       "      <td>Female</td>\n",
       "      <td>[40-50)</td>\n",
       "      <td>[75-100)</td>\n",
       "      <td>Emergency</td>\n",
       "      <td>Discharged</td>\n",
       "      <td>Emergency Room</td>\n",
       "      <td>Below 3</td>\n",
       "      <td>HM</td>\n",
       "      <td>Surgery</td>\n",
       "      <td>...</td>\n",
       "      <td>None</td>\n",
       "      <td>No</td>\n",
       "      <td>No</td>\n",
       "      <td>No</td>\n",
       "      <td>No</td>\n",
       "      <td>Up</td>\n",
       "      <td>No</td>\n",
       "      <td>Ch</td>\n",
       "      <td>Yes</td>\n",
       "      <td>No</td>\n",
       "    </tr>\n",
       "  </tbody>\n",
       "</table>\n",
       "<p>5 rows × 24 columns</p>\n",
       "</div>"
      ],
      "text/plain": [
       "                  Race  Gender      Age    Weight Admission Type  \\\n",
       "Patient_Nbr                                                        \n",
       "8390         Caucasian    Male  [70-80)  [75-100)      Emergency   \n",
       "20012        Caucasian    Male  [60-70)  [75-100)      Emergency   \n",
       "50903        Caucasian  Female  [70-80)  [75-100)      Emergency   \n",
       "50636        Caucasian    Male  [50-60)  [75-100)      Emergency   \n",
       "205          Caucasian  Female  [40-50)  [75-100)      Emergency   \n",
       "\n",
       "            Discharge Disposition Admission Source  Days In Hospital  \\\n",
       "Patient_Nbr                                                            \n",
       "8390                   Discharged   Emergency Room           Below 3   \n",
       "20012                  Discharged   Emergency Room  Between 03 to 06   \n",
       "50903                  Discharged         Referral  Between 03 to 06   \n",
       "50636                    Left AMA   Emergency Room           Below 3   \n",
       "205                    Discharged   Emergency Room           Below 3   \n",
       "\n",
       "            Payer_Code Medical_Specialty  ...  A1Cresult  Metformin  \\\n",
       "Patient_Nbr                               ...                         \n",
       "8390           Unknown          Surgery   ...         >8         No   \n",
       "20012               HM          Surgery   ...       None         No   \n",
       "50903          Unknown  General Practice  ...       None         No   \n",
       "50636          Unknown          Surgery   ...       None         No   \n",
       "205                 HM          Surgery   ...       None         No   \n",
       "\n",
       "            Repaglinide Glipizide Tolazamide Insulin Glyburide-Metformin  \\\n",
       "Patient_Nbr                                                                \n",
       "8390                 No        No         No      No                  No   \n",
       "20012                No        No         No  Steady                  No   \n",
       "50903                No        No         No      No                  No   \n",
       "50636                No        No         No  Steady                  No   \n",
       "205                  No        No         No      Up                  No   \n",
       "\n",
       "            Change Diabetesmed Readmitted  \n",
       "Patient_Nbr                                \n",
       "8390            No          No        Yes  \n",
       "20012           No         Yes        Yes  \n",
       "50903           No          No        Yes  \n",
       "50636           No         Yes         No  \n",
       "205             Ch         Yes         No  \n",
       "\n",
       "[5 rows x 24 columns]"
      ]
     },
     "execution_count": 83,
     "metadata": {},
     "output_type": "execute_result"
    }
   ],
   "source": [
    "df_final=df2\n",
    "df_final.head()"
   ]
  },
  {
   "cell_type": "markdown",
   "id": "06fd1cb3",
   "metadata": {},
   "source": [
    "# Encoding of Categorical variables"
   ]
  },
  {
   "cell_type": "code",
   "execution_count": 85,
   "id": "12376de7",
   "metadata": {},
   "outputs": [],
   "source": [
    "from sklearn.preprocessing import LabelEncoder\n",
    "l=LabelEncoder()\n",
    "for i in df_final.select_dtypes(object).columns:\n",
    "    df_final[i]=l.fit_transform(df_final[i])"
   ]
  },
  {
   "cell_type": "markdown",
   "id": "80296b89",
   "metadata": {},
   "source": [
    "# Final Dataset"
   ]
  },
  {
   "cell_type": "code",
   "execution_count": 86,
   "id": "a4587942",
   "metadata": {},
   "outputs": [
    {
     "data": {
      "text/html": [
       "<div>\n",
       "<style scoped>\n",
       "    .dataframe tbody tr th:only-of-type {\n",
       "        vertical-align: middle;\n",
       "    }\n",
       "\n",
       "    .dataframe tbody tr th {\n",
       "        vertical-align: top;\n",
       "    }\n",
       "\n",
       "    .dataframe thead th {\n",
       "        text-align: right;\n",
       "    }\n",
       "</style>\n",
       "<table border=\"1\" class=\"dataframe\">\n",
       "  <thead>\n",
       "    <tr style=\"text-align: right;\">\n",
       "      <th></th>\n",
       "      <th>Race</th>\n",
       "      <th>Gender</th>\n",
       "      <th>Age</th>\n",
       "      <th>Weight</th>\n",
       "      <th>Admission Type</th>\n",
       "      <th>Discharge Disposition</th>\n",
       "      <th>Admission Source</th>\n",
       "      <th>Days In Hospital</th>\n",
       "      <th>Payer_Code</th>\n",
       "      <th>Medical_Specialty</th>\n",
       "      <th>...</th>\n",
       "      <th>A1Cresult</th>\n",
       "      <th>Metformin</th>\n",
       "      <th>Repaglinide</th>\n",
       "      <th>Glipizide</th>\n",
       "      <th>Tolazamide</th>\n",
       "      <th>Insulin</th>\n",
       "      <th>Glyburide-Metformin</th>\n",
       "      <th>Change</th>\n",
       "      <th>Diabetesmed</th>\n",
       "      <th>Readmitted</th>\n",
       "    </tr>\n",
       "    <tr>\n",
       "      <th>Patient_Nbr</th>\n",
       "      <th></th>\n",
       "      <th></th>\n",
       "      <th></th>\n",
       "      <th></th>\n",
       "      <th></th>\n",
       "      <th></th>\n",
       "      <th></th>\n",
       "      <th></th>\n",
       "      <th></th>\n",
       "      <th></th>\n",
       "      <th></th>\n",
       "      <th></th>\n",
       "      <th></th>\n",
       "      <th></th>\n",
       "      <th></th>\n",
       "      <th></th>\n",
       "      <th></th>\n",
       "      <th></th>\n",
       "      <th></th>\n",
       "      <th></th>\n",
       "      <th></th>\n",
       "    </tr>\n",
       "  </thead>\n",
       "  <tbody>\n",
       "    <tr>\n",
       "      <th>8390</th>\n",
       "      <td>2</td>\n",
       "      <td>1</td>\n",
       "      <td>7</td>\n",
       "      <td>8</td>\n",
       "      <td>1</td>\n",
       "      <td>1</td>\n",
       "      <td>0</td>\n",
       "      <td>1</td>\n",
       "      <td>4</td>\n",
       "      <td>8</td>\n",
       "      <td>...</td>\n",
       "      <td>1</td>\n",
       "      <td>1</td>\n",
       "      <td>1</td>\n",
       "      <td>1</td>\n",
       "      <td>0</td>\n",
       "      <td>1</td>\n",
       "      <td>1</td>\n",
       "      <td>1</td>\n",
       "      <td>0</td>\n",
       "      <td>1</td>\n",
       "    </tr>\n",
       "    <tr>\n",
       "      <th>20012</th>\n",
       "      <td>2</td>\n",
       "      <td>1</td>\n",
       "      <td>6</td>\n",
       "      <td>8</td>\n",
       "      <td>1</td>\n",
       "      <td>1</td>\n",
       "      <td>0</td>\n",
       "      <td>2</td>\n",
       "      <td>1</td>\n",
       "      <td>8</td>\n",
       "      <td>...</td>\n",
       "      <td>2</td>\n",
       "      <td>1</td>\n",
       "      <td>1</td>\n",
       "      <td>1</td>\n",
       "      <td>0</td>\n",
       "      <td>2</td>\n",
       "      <td>1</td>\n",
       "      <td>1</td>\n",
       "      <td>1</td>\n",
       "      <td>1</td>\n",
       "    </tr>\n",
       "    <tr>\n",
       "      <th>50903</th>\n",
       "      <td>2</td>\n",
       "      <td>0</td>\n",
       "      <td>7</td>\n",
       "      <td>8</td>\n",
       "      <td>1</td>\n",
       "      <td>1</td>\n",
       "      <td>1</td>\n",
       "      <td>2</td>\n",
       "      <td>4</td>\n",
       "      <td>2</td>\n",
       "      <td>...</td>\n",
       "      <td>2</td>\n",
       "      <td>1</td>\n",
       "      <td>1</td>\n",
       "      <td>1</td>\n",
       "      <td>0</td>\n",
       "      <td>1</td>\n",
       "      <td>1</td>\n",
       "      <td>1</td>\n",
       "      <td>0</td>\n",
       "      <td>1</td>\n",
       "    </tr>\n",
       "    <tr>\n",
       "      <th>50636</th>\n",
       "      <td>2</td>\n",
       "      <td>1</td>\n",
       "      <td>5</td>\n",
       "      <td>8</td>\n",
       "      <td>1</td>\n",
       "      <td>3</td>\n",
       "      <td>0</td>\n",
       "      <td>1</td>\n",
       "      <td>4</td>\n",
       "      <td>8</td>\n",
       "      <td>...</td>\n",
       "      <td>2</td>\n",
       "      <td>1</td>\n",
       "      <td>1</td>\n",
       "      <td>1</td>\n",
       "      <td>0</td>\n",
       "      <td>2</td>\n",
       "      <td>1</td>\n",
       "      <td>1</td>\n",
       "      <td>1</td>\n",
       "      <td>0</td>\n",
       "    </tr>\n",
       "    <tr>\n",
       "      <th>205</th>\n",
       "      <td>2</td>\n",
       "      <td>0</td>\n",
       "      <td>4</td>\n",
       "      <td>8</td>\n",
       "      <td>1</td>\n",
       "      <td>1</td>\n",
       "      <td>0</td>\n",
       "      <td>1</td>\n",
       "      <td>1</td>\n",
       "      <td>8</td>\n",
       "      <td>...</td>\n",
       "      <td>2</td>\n",
       "      <td>1</td>\n",
       "      <td>1</td>\n",
       "      <td>1</td>\n",
       "      <td>0</td>\n",
       "      <td>3</td>\n",
       "      <td>1</td>\n",
       "      <td>0</td>\n",
       "      <td>1</td>\n",
       "      <td>0</td>\n",
       "    </tr>\n",
       "  </tbody>\n",
       "</table>\n",
       "<p>5 rows × 24 columns</p>\n",
       "</div>"
      ],
      "text/plain": [
       "             Race  Gender  Age  Weight  Admission Type  Discharge Disposition  \\\n",
       "Patient_Nbr                                                                     \n",
       "8390            2       1    7       8               1                      1   \n",
       "20012           2       1    6       8               1                      1   \n",
       "50903           2       0    7       8               1                      1   \n",
       "50636           2       1    5       8               1                      3   \n",
       "205             2       0    4       8               1                      1   \n",
       "\n",
       "             Admission Source  Days In Hospital  Payer_Code  \\\n",
       "Patient_Nbr                                                   \n",
       "8390                        0                 1           4   \n",
       "20012                       0                 2           1   \n",
       "50903                       1                 2           4   \n",
       "50636                       0                 1           4   \n",
       "205                         0                 1           1   \n",
       "\n",
       "             Medical_Specialty  ...  A1Cresult  Metformin  Repaglinide  \\\n",
       "Patient_Nbr                     ...                                      \n",
       "8390                         8  ...          1          1            1   \n",
       "20012                        8  ...          2          1            1   \n",
       "50903                        2  ...          2          1            1   \n",
       "50636                        8  ...          2          1            1   \n",
       "205                          8  ...          2          1            1   \n",
       "\n",
       "             Glipizide  Tolazamide  Insulin  Glyburide-Metformin  Change  \\\n",
       "Patient_Nbr                                                                \n",
       "8390                 1           0        1                    1       1   \n",
       "20012                1           0        2                    1       1   \n",
       "50903                1           0        1                    1       1   \n",
       "50636                1           0        2                    1       1   \n",
       "205                  1           0        3                    1       0   \n",
       "\n",
       "             Diabetesmed  Readmitted  \n",
       "Patient_Nbr                           \n",
       "8390                   0           1  \n",
       "20012                  1           1  \n",
       "50903                  0           1  \n",
       "50636                  1           0  \n",
       "205                    1           0  \n",
       "\n",
       "[5 rows x 24 columns]"
      ]
     },
     "execution_count": 86,
     "metadata": {},
     "output_type": "execute_result"
    }
   ],
   "source": [
    "df_final.head()"
   ]
  },
  {
   "cell_type": "code",
   "execution_count": 89,
   "id": "47adce24",
   "metadata": {},
   "outputs": [],
   "source": [
    "from sklearn.model_selection import train_test_split\n",
    "import statsmodels.api as sm"
   ]
  },
  {
   "cell_type": "code",
   "execution_count": 90,
   "id": "949ff2cf",
   "metadata": {},
   "outputs": [],
   "source": [
    "x=df_final.drop('Readmitted',axis=1)\n",
    "y=df_final.Readmitted\n",
    "xc=sm.add_constant(x)"
   ]
  },
  {
   "cell_type": "code",
   "execution_count": 92,
   "id": "4bb990cc",
   "metadata": {},
   "outputs": [
    {
     "data": {
      "text/plain": [
       "((25576, 24), (10962, 24), (25576,), (10962,))"
      ]
     },
     "execution_count": 92,
     "metadata": {},
     "output_type": "execute_result"
    }
   ],
   "source": [
    "xtrain,xtest,ytrain,ytest=train_test_split(xc,y,test_size=0.30,random_state=10)\n",
    "xtrain.shape,xtest.shape,ytrain.shape,ytest.shape"
   ]
  },
  {
   "cell_type": "code",
   "execution_count": 93,
   "id": "62f1cbd5",
   "metadata": {},
   "outputs": [
    {
     "data": {
      "text/plain": [
       "F_onewayResult(statistic=0.5690015578865193, pvalue=0.5660928732031498)"
      ]
     },
     "execution_count": 93,
     "metadata": {},
     "output_type": "execute_result"
    }
   ],
   "source": [
    "f_oneway(ytrain,ytest,y)"
   ]
  },
  {
   "cell_type": "markdown",
   "id": "ff4ef312",
   "metadata": {},
   "source": [
    "#### above test proves that they are from the same population"
   ]
  },
  {
   "cell_type": "code",
   "execution_count": 94,
   "id": "15d9dff4",
   "metadata": {},
   "outputs": [
    {
     "data": {
      "text/plain": [
       "1    17759\n",
       "0     7817\n",
       "Name: Readmitted, dtype: int64"
      ]
     },
     "execution_count": 94,
     "metadata": {},
     "output_type": "execute_result"
    }
   ],
   "source": [
    "ytrain.value_counts()"
   ]
  },
  {
   "cell_type": "code",
   "execution_count": 115,
   "id": "f5f669d2",
   "metadata": {},
   "outputs": [],
   "source": [
    "import statsmodels.api as sm\n",
    "from sklearn import metrics\n",
    "from sklearn.metrics import classification_report\n",
    "from sklearn.metrics import confusion_matrix\n",
    "from sklearn.metrics import roc_curve,precision_score,recall_score,f1_score,accuracy_score\n",
    "from sklearn.metrics import roc_auc_score\n",
    "from sklearn.metrics import cohen_kappa_score\n",
    "from sklearn.neighbors import KNeighborsClassifier\n",
    "from sklearn.naive_bayes import GaussianNB\n",
    "from sklearn.model_selection import GridSearchCV\n",
    "from sklearn.model_selection import cross_val_score "
   ]
  },
  {
   "cell_type": "code",
   "execution_count": 100,
   "id": "1e6ccc3a",
   "metadata": {},
   "outputs": [],
   "source": [
    "result=pd.DataFrame(columns=['Model','Misclassifications','type1 error','type2 error','precision','recall','accuracy','f1','auc'])"
   ]
  },
  {
   "cell_type": "code",
   "execution_count": 106,
   "id": "50b06809",
   "metadata": {},
   "outputs": [
    {
     "name": "stdout",
     "output_type": "stream",
     "text": [
      "Optimization terminated successfully.\n",
      "         Current function value: 0.542145\n",
      "         Iterations 6\n"
     ]
    },
    {
     "data": {
      "text/html": [
       "<table class=\"simpletable\">\n",
       "<caption>Logit Regression Results</caption>\n",
       "<tr>\n",
       "  <th>Dep. Variable:</th>      <td>Readmitted</td>    <th>  No. Observations:  </th>  <td> 25576</td> \n",
       "</tr>\n",
       "<tr>\n",
       "  <th>Model:</th>                 <td>Logit</td>      <th>  Df Residuals:      </th>  <td> 25552</td> \n",
       "</tr>\n",
       "<tr>\n",
       "  <th>Method:</th>                 <td>MLE</td>       <th>  Df Model:          </th>  <td>    23</td> \n",
       "</tr>\n",
       "<tr>\n",
       "  <th>Date:</th>            <td>Fri, 20 May 2022</td> <th>  Pseudo R-squ.:     </th>  <td>0.1193</td> \n",
       "</tr>\n",
       "<tr>\n",
       "  <th>Time:</th>                <td>15:34:58</td>     <th>  Log-Likelihood:    </th> <td> -13866.</td>\n",
       "</tr>\n",
       "<tr>\n",
       "  <th>converged:</th>             <td>True</td>       <th>  LL-Null:           </th> <td> -15744.</td>\n",
       "</tr>\n",
       "<tr>\n",
       "  <th>Covariance Type:</th>     <td>nonrobust</td>    <th>  LLR p-value:       </th>  <td> 0.000</td> \n",
       "</tr>\n",
       "</table>\n",
       "<table class=\"simpletable\">\n",
       "<tr>\n",
       "            <td></td>               <th>coef</th>     <th>std err</th>      <th>z</th>      <th>P>|z|</th>  <th>[0.025</th>    <th>0.975]</th>  \n",
       "</tr>\n",
       "<tr>\n",
       "  <th>const</th>                 <td>    3.0921</td> <td>    0.363</td> <td>    8.514</td> <td> 0.000</td> <td>    2.380</td> <td>    3.804</td>\n",
       "</tr>\n",
       "<tr>\n",
       "  <th>Race</th>                  <td>    0.0131</td> <td>    0.015</td> <td>    0.855</td> <td> 0.392</td> <td>   -0.017</td> <td>    0.043</td>\n",
       "</tr>\n",
       "<tr>\n",
       "  <th>Gender</th>                <td>   -0.0372</td> <td>    0.030</td> <td>   -1.247</td> <td> 0.212</td> <td>   -0.096</td> <td>    0.021</td>\n",
       "</tr>\n",
       "<tr>\n",
       "  <th>Age</th>                   <td>    0.0254</td> <td>    0.010</td> <td>    2.662</td> <td> 0.008</td> <td>    0.007</td> <td>    0.044</td>\n",
       "</tr>\n",
       "<tr>\n",
       "  <th>Weight</th>                <td>   -0.1209</td> <td>    0.030</td> <td>   -4.015</td> <td> 0.000</td> <td>   -0.180</td> <td>   -0.062</td>\n",
       "</tr>\n",
       "<tr>\n",
       "  <th>Admission Type</th>        <td>    0.0925</td> <td>    0.043</td> <td>    2.130</td> <td> 0.033</td> <td>    0.007</td> <td>    0.178</td>\n",
       "</tr>\n",
       "<tr>\n",
       "  <th>Discharge Disposition</th> <td>   -0.3448</td> <td>    0.016</td> <td>  -22.153</td> <td> 0.000</td> <td>   -0.375</td> <td>   -0.314</td>\n",
       "</tr>\n",
       "<tr>\n",
       "  <th>Admission Source</th>      <td>   -0.2927</td> <td>    0.026</td> <td>  -11.177</td> <td> 0.000</td> <td>   -0.344</td> <td>   -0.241</td>\n",
       "</tr>\n",
       "<tr>\n",
       "  <th>Days In Hospital</th>      <td>    0.0195</td> <td>    0.018</td> <td>    1.064</td> <td> 0.287</td> <td>   -0.016</td> <td>    0.055</td>\n",
       "</tr>\n",
       "<tr>\n",
       "  <th>Payer_Code</th>            <td>    0.0959</td> <td>    0.012</td> <td>    8.011</td> <td> 0.000</td> <td>    0.072</td> <td>    0.119</td>\n",
       "</tr>\n",
       "<tr>\n",
       "  <th>Medical_Specialty</th>     <td>   -0.0118</td> <td>    0.005</td> <td>   -2.331</td> <td> 0.020</td> <td>   -0.022</td> <td>   -0.002</td>\n",
       "</tr>\n",
       "<tr>\n",
       "  <th>Num_Lab_Procedures</th>    <td>   -0.0003</td> <td>    0.001</td> <td>   -0.303</td> <td> 0.762</td> <td>   -0.002</td> <td>    0.001</td>\n",
       "</tr>\n",
       "<tr>\n",
       "  <th>Num_Medications</th>       <td>    0.0153</td> <td>    0.002</td> <td>    6.725</td> <td> 0.000</td> <td>    0.011</td> <td>    0.020</td>\n",
       "</tr>\n",
       "<tr>\n",
       "  <th>Number_Diagnoses</th>      <td>   -0.7731</td> <td>    0.018</td> <td>  -41.828</td> <td> 0.000</td> <td>   -0.809</td> <td>   -0.737</td>\n",
       "</tr>\n",
       "<tr>\n",
       "  <th>Max_Glu_Serum</th>         <td>   -0.0751</td> <td>    0.041</td> <td>   -1.819</td> <td> 0.069</td> <td>   -0.156</td> <td>    0.006</td>\n",
       "</tr>\n",
       "<tr>\n",
       "  <th>A1Cresult</th>             <td>   -0.0481</td> <td>    0.030</td> <td>   -1.582</td> <td> 0.114</td> <td>   -0.108</td> <td>    0.012</td>\n",
       "</tr>\n",
       "<tr>\n",
       "  <th>Metformin</th>             <td>   -0.1491</td> <td>    0.036</td> <td>   -4.099</td> <td> 0.000</td> <td>   -0.220</td> <td>   -0.078</td>\n",
       "</tr>\n",
       "<tr>\n",
       "  <th>Repaglinide</th>           <td>    0.2759</td> <td>    0.120</td> <td>    2.304</td> <td> 0.021</td> <td>    0.041</td> <td>    0.511</td>\n",
       "</tr>\n",
       "<tr>\n",
       "  <th>Glipizide</th>             <td>    0.0368</td> <td>    0.040</td> <td>    0.911</td> <td> 0.362</td> <td>   -0.042</td> <td>    0.116</td>\n",
       "</tr>\n",
       "<tr>\n",
       "  <th>Tolazamide</th>            <td>   -1.8129</td> <td>    0.713</td> <td>   -2.542</td> <td> 0.011</td> <td>   -3.211</td> <td>   -0.415</td>\n",
       "</tr>\n",
       "<tr>\n",
       "  <th>Insulin</th>               <td>   -0.3431</td> <td>    0.019</td> <td>  -18.064</td> <td> 0.000</td> <td>   -0.380</td> <td>   -0.306</td>\n",
       "</tr>\n",
       "<tr>\n",
       "  <th>Glyburide-Metformin</th>   <td>   -0.0970</td> <td>    0.173</td> <td>   -0.559</td> <td> 0.576</td> <td>   -0.437</td> <td>    0.243</td>\n",
       "</tr>\n",
       "<tr>\n",
       "  <th>Change</th>                <td>   -0.2429</td> <td>    0.036</td> <td>   -6.750</td> <td> 0.000</td> <td>   -0.313</td> <td>   -0.172</td>\n",
       "</tr>\n",
       "<tr>\n",
       "  <th>Diabetesmed</th>           <td>   -0.3877</td> <td>    0.042</td> <td>   -9.167</td> <td> 0.000</td> <td>   -0.471</td> <td>   -0.305</td>\n",
       "</tr>\n",
       "</table>"
      ],
      "text/plain": [
       "<class 'statsmodels.iolib.summary.Summary'>\n",
       "\"\"\"\n",
       "                           Logit Regression Results                           \n",
       "==============================================================================\n",
       "Dep. Variable:             Readmitted   No. Observations:                25576\n",
       "Model:                          Logit   Df Residuals:                    25552\n",
       "Method:                           MLE   Df Model:                           23\n",
       "Date:                Fri, 20 May 2022   Pseudo R-squ.:                  0.1193\n",
       "Time:                        15:34:58   Log-Likelihood:                -13866.\n",
       "converged:                       True   LL-Null:                       -15744.\n",
       "Covariance Type:            nonrobust   LLR p-value:                     0.000\n",
       "=========================================================================================\n",
       "                            coef    std err          z      P>|z|      [0.025      0.975]\n",
       "-----------------------------------------------------------------------------------------\n",
       "const                     3.0921      0.363      8.514      0.000       2.380       3.804\n",
       "Race                      0.0131      0.015      0.855      0.392      -0.017       0.043\n",
       "Gender                   -0.0372      0.030     -1.247      0.212      -0.096       0.021\n",
       "Age                       0.0254      0.010      2.662      0.008       0.007       0.044\n",
       "Weight                   -0.1209      0.030     -4.015      0.000      -0.180      -0.062\n",
       "Admission Type            0.0925      0.043      2.130      0.033       0.007       0.178\n",
       "Discharge Disposition    -0.3448      0.016    -22.153      0.000      -0.375      -0.314\n",
       "Admission Source         -0.2927      0.026    -11.177      0.000      -0.344      -0.241\n",
       "Days In Hospital          0.0195      0.018      1.064      0.287      -0.016       0.055\n",
       "Payer_Code                0.0959      0.012      8.011      0.000       0.072       0.119\n",
       "Medical_Specialty        -0.0118      0.005     -2.331      0.020      -0.022      -0.002\n",
       "Num_Lab_Procedures       -0.0003      0.001     -0.303      0.762      -0.002       0.001\n",
       "Num_Medications           0.0153      0.002      6.725      0.000       0.011       0.020\n",
       "Number_Diagnoses         -0.7731      0.018    -41.828      0.000      -0.809      -0.737\n",
       "Max_Glu_Serum            -0.0751      0.041     -1.819      0.069      -0.156       0.006\n",
       "A1Cresult                -0.0481      0.030     -1.582      0.114      -0.108       0.012\n",
       "Metformin                -0.1491      0.036     -4.099      0.000      -0.220      -0.078\n",
       "Repaglinide               0.2759      0.120      2.304      0.021       0.041       0.511\n",
       "Glipizide                 0.0368      0.040      0.911      0.362      -0.042       0.116\n",
       "Tolazamide               -1.8129      0.713     -2.542      0.011      -3.211      -0.415\n",
       "Insulin                  -0.3431      0.019    -18.064      0.000      -0.380      -0.306\n",
       "Glyburide-Metformin      -0.0970      0.173     -0.559      0.576      -0.437       0.243\n",
       "Change                   -0.2429      0.036     -6.750      0.000      -0.313      -0.172\n",
       "Diabetesmed              -0.3877      0.042     -9.167      0.000      -0.471      -0.305\n",
       "=========================================================================================\n",
       "\"\"\""
      ]
     },
     "execution_count": 106,
     "metadata": {},
     "output_type": "execute_result"
    }
   ],
   "source": [
    "l=sm.Logit(ytrain,xtrain).fit()\n",
    "l.summary()"
   ]
  },
  {
   "cell_type": "code",
   "execution_count": 107,
   "id": "baa29c6d",
   "metadata": {},
   "outputs": [],
   "source": [
    "ypred_prob = l.predict(xtest)\n",
    "ypred = [ 0 if x < 0.5 else 1 for x in ypred_prob]"
   ]
  },
  {
   "cell_type": "code",
   "execution_count": 108,
   "id": "8df669cc",
   "metadata": {},
   "outputs": [
    {
     "data": {
      "text/plain": [
       "array([[1212, 2077],\n",
       "       [ 707, 6966]], dtype=int64)"
      ]
     },
     "execution_count": 108,
     "metadata": {},
     "output_type": "execute_result"
    }
   ],
   "source": [
    "cm = confusion_matrix(ytest, ypred)\n",
    "cm"
   ]
  },
  {
   "cell_type": "code",
   "execution_count": 109,
   "id": "19f949ba",
   "metadata": {},
   "outputs": [
    {
     "name": "stdout",
     "output_type": "stream",
     "text": [
      "              precision    recall  f1-score   support\n",
      "\n",
      "           0       0.63      0.37      0.47      3289\n",
      "           1       0.77      0.91      0.83      7673\n",
      "\n",
      "    accuracy                           0.75     10962\n",
      "   macro avg       0.70      0.64      0.65     10962\n",
      "weighted avg       0.73      0.75      0.72     10962\n",
      "\n"
     ]
    }
   ],
   "source": [
    "print(classification_report(ytest,ypred))"
   ]
  },
  {
   "cell_type": "code",
   "execution_count": 111,
   "id": "3a8cb6cb",
   "metadata": {},
   "outputs": [],
   "source": [
    "plt.rcParams['figure.figsize']=[15,8]"
   ]
  },
  {
   "cell_type": "code",
   "execution_count": 112,
   "id": "be17a519",
   "metadata": {},
   "outputs": [
    {
     "data": {
      "image/png": "[encoded data removed]",
      "text/plain": [
       "<Figure size 1080x576 with 1 Axes>"
      ]
     },
     "metadata": {
      "needs_background": "light"
     },
     "output_type": "display_data"
    }
   ],
   "source": [
    "fpr, tpr, thresholds = roc_curve(ytest, ypred)\n",
    "plt.plot(fpr, tpr)\n",
    "plt.xlim([0.0, 1.0])\n",
    "plt.ylim([0.0, 1.0])\n",
    "plt.plot([0, 1], [0, 1],'r--')\n",
    "plt.text(x = 0.02, y = 0.9, s = ('AUC Score:',round(roc_auc_score(ytest, ypred),4)))\n",
    "plt.show()"
   ]
  },
  {
   "cell_type": "code",
   "execution_count": 116,
   "id": "1db27f35",
   "metadata": {},
   "outputs": [],
   "source": [
    "TN, FP, FN, TP = cm[0,0], cm[0,1], cm[1,0], cm[1,1]\n",
    "m=pd.Series({'Model':'Base Logit',\n",
    "             'Misclassifications':FP+FN,\n",
    "             'type1 error' : FP,\n",
    "             'type2 error' : FN,\n",
    "             'precision': round(precision_score(ytest,ypred),2),\n",
    "             'recall':round(recall_score(ytest,ypred),2),\n",
    "             'accuracy':round(accuracy_score(ytest,ypred),2),\n",
    "             'f1':round(f1_score(ytest,ypred),2),\n",
    "             'auc':round(roc_auc_score(ytest,ypred),4)\n",
    "            })\n",
    "result=result.append(m,ignore_index=True)"
   ]
  },
  {
   "cell_type": "code",
   "execution_count": 117,
   "id": "ac45cd13",
   "metadata": {},
   "outputs": [
    {
     "data": {
      "text/html": [
       "<div>\n",
       "<style scoped>\n",
       "    .dataframe tbody tr th:only-of-type {\n",
       "        vertical-align: middle;\n",
       "    }\n",
       "\n",
       "    .dataframe tbody tr th {\n",
       "        vertical-align: top;\n",
       "    }\n",
       "\n",
       "    .dataframe thead th {\n",
       "        text-align: right;\n",
       "    }\n",
       "</style>\n",
       "<table border=\"1\" class=\"dataframe\">\n",
       "  <thead>\n",
       "    <tr style=\"text-align: right;\">\n",
       "      <th></th>\n",
       "      <th>Model</th>\n",
       "      <th>Misclassifications</th>\n",
       "      <th>type1 error</th>\n",
       "      <th>type2 error</th>\n",
       "      <th>precision</th>\n",
       "      <th>recall</th>\n",
       "      <th>accuracy</th>\n",
       "      <th>f1</th>\n",
       "      <th>auc</th>\n",
       "    </tr>\n",
       "  </thead>\n",
       "  <tbody>\n",
       "    <tr>\n",
       "      <th>0</th>\n",
       "      <td>Base Logit</td>\n",
       "      <td>2784</td>\n",
       "      <td>2077</td>\n",
       "      <td>707</td>\n",
       "      <td>0.77</td>\n",
       "      <td>0.91</td>\n",
       "      <td>0.75</td>\n",
       "      <td>0.83</td>\n",
       "      <td>0.6382</td>\n",
       "    </tr>\n",
       "  </tbody>\n",
       "</table>\n",
       "</div>"
      ],
      "text/plain": [
       "        Model Misclassifications type1 error type2 error  precision  recall  \\\n",
       "0  Base Logit               2784        2077         707       0.77    0.91   \n",
       "\n",
       "   accuracy    f1     auc  \n",
       "0      0.75  0.83  0.6382  "
      ]
     },
     "execution_count": 117,
     "metadata": {},
     "output_type": "execute_result"
    }
   ],
   "source": [
    "result"
   ]
  },
  {
   "cell_type": "code",
   "execution_count": 119,
   "id": "9c44b94a",
   "metadata": {},
   "outputs": [
    {
     "data": {
      "text/plain": [
       "Index(['Race', 'Gender', 'Days In Hospital', 'Num_Lab_Procedures',\n",
       "       'Max_Glu_Serum', 'A1Cresult', 'Glipizide', 'Glyburide-Metformin'],\n",
       "      dtype='object')"
      ]
     },
     "execution_count": 119,
     "metadata": {},
     "output_type": "execute_result"
    }
   ],
   "source": [
    "l.params[l.pvalues>0.05].index"
   ]
  },
  {
   "cell_type": "code",
   "execution_count": 123,
   "id": "58a910ce",
   "metadata": {},
   "outputs": [],
   "source": [
    "xtrain=xtrain.drop(['Race', 'Gender', 'Days In Hospital', 'Num_Lab_Procedures',\n",
    "       'Max_Glu_Serum', 'A1Cresult', 'Glipizide', 'Glyburide-Metformin'],axis=1)\n",
    "xtest1=xtest.drop(['Race', 'Gender', 'Days In Hospital', 'Num_Lab_Procedures',\n",
    "       'Max_Glu_Serum', 'A1Cresult', 'Glipizide', 'Glyburide-Metformin'],axis=1)"
   ]
  },
  {
   "cell_type": "code",
   "execution_count": 124,
   "id": "939bfc7c",
   "metadata": {},
   "outputs": [
    {
     "name": "stdout",
     "output_type": "stream",
     "text": [
      "Optimization terminated successfully.\n",
      "         Current function value: 0.542348\n",
      "         Iterations 6\n"
     ]
    },
    {
     "data": {
      "text/html": [
       "<table class=\"simpletable\">\n",
       "<caption>Logit Regression Results</caption>\n",
       "<tr>\n",
       "  <th>Dep. Variable:</th>      <td>Readmitted</td>    <th>  No. Observations:  </th>  <td> 25576</td> \n",
       "</tr>\n",
       "<tr>\n",
       "  <th>Model:</th>                 <td>Logit</td>      <th>  Df Residuals:      </th>  <td> 25560</td> \n",
       "</tr>\n",
       "<tr>\n",
       "  <th>Method:</th>                 <td>MLE</td>       <th>  Df Model:          </th>  <td>    15</td> \n",
       "</tr>\n",
       "<tr>\n",
       "  <th>Date:</th>            <td>Fri, 20 May 2022</td> <th>  Pseudo R-squ.:     </th>  <td>0.1189</td> \n",
       "</tr>\n",
       "<tr>\n",
       "  <th>Time:</th>                <td>15:42:44</td>     <th>  Log-Likelihood:    </th> <td> -13871.</td>\n",
       "</tr>\n",
       "<tr>\n",
       "  <th>converged:</th>             <td>True</td>       <th>  LL-Null:           </th> <td> -15744.</td>\n",
       "</tr>\n",
       "<tr>\n",
       "  <th>Covariance Type:</th>     <td>nonrobust</td>    <th>  LLR p-value:       </th>  <td> 0.000</td> \n",
       "</tr>\n",
       "</table>\n",
       "<table class=\"simpletable\">\n",
       "<tr>\n",
       "            <td></td>               <th>coef</th>     <th>std err</th>      <th>z</th>      <th>P>|z|</th>  <th>[0.025</th>    <th>0.975]</th>  \n",
       "</tr>\n",
       "<tr>\n",
       "  <th>const</th>                 <td>    2.8021</td> <td>    0.289</td> <td>    9.693</td> <td> 0.000</td> <td>    2.235</td> <td>    3.369</td>\n",
       "</tr>\n",
       "<tr>\n",
       "  <th>Age</th>                   <td>    0.0269</td> <td>    0.009</td> <td>    2.858</td> <td> 0.004</td> <td>    0.008</td> <td>    0.045</td>\n",
       "</tr>\n",
       "<tr>\n",
       "  <th>Weight</th>                <td>   -0.1212</td> <td>    0.030</td> <td>   -4.031</td> <td> 0.000</td> <td>   -0.180</td> <td>   -0.062</td>\n",
       "</tr>\n",
       "<tr>\n",
       "  <th>Admission Type</th>        <td>    0.0956</td> <td>    0.043</td> <td>    2.246</td> <td> 0.025</td> <td>    0.012</td> <td>    0.179</td>\n",
       "</tr>\n",
       "<tr>\n",
       "  <th>Discharge Disposition</th> <td>   -0.3446</td> <td>    0.016</td> <td>  -22.169</td> <td> 0.000</td> <td>   -0.375</td> <td>   -0.314</td>\n",
       "</tr>\n",
       "<tr>\n",
       "  <th>Admission Source</th>      <td>   -0.2923</td> <td>    0.026</td> <td>  -11.195</td> <td> 0.000</td> <td>   -0.343</td> <td>   -0.241</td>\n",
       "</tr>\n",
       "<tr>\n",
       "  <th>Payer_Code</th>            <td>    0.0967</td> <td>    0.012</td> <td>    8.126</td> <td> 0.000</td> <td>    0.073</td> <td>    0.120</td>\n",
       "</tr>\n",
       "<tr>\n",
       "  <th>Medical_Specialty</th>     <td>   -0.0118</td> <td>    0.005</td> <td>   -2.340</td> <td> 0.019</td> <td>   -0.022</td> <td>   -0.002</td>\n",
       "</tr>\n",
       "<tr>\n",
       "  <th>Num_Medications</th>       <td>    0.0155</td> <td>    0.002</td> <td>    7.079</td> <td> 0.000</td> <td>    0.011</td> <td>    0.020</td>\n",
       "</tr>\n",
       "<tr>\n",
       "  <th>Number_Diagnoses</th>      <td>   -0.7721</td> <td>    0.018</td> <td>  -41.859</td> <td> 0.000</td> <td>   -0.808</td> <td>   -0.736</td>\n",
       "</tr>\n",
       "<tr>\n",
       "  <th>Metformin</th>             <td>   -0.1475</td> <td>    0.036</td> <td>   -4.063</td> <td> 0.000</td> <td>   -0.219</td> <td>   -0.076</td>\n",
       "</tr>\n",
       "<tr>\n",
       "  <th>Repaglinide</th>           <td>    0.2776</td> <td>    0.120</td> <td>    2.321</td> <td> 0.020</td> <td>    0.043</td> <td>    0.512</td>\n",
       "</tr>\n",
       "<tr>\n",
       "  <th>Tolazamide</th>            <td>   -1.8347</td> <td>    0.710</td> <td>   -2.583</td> <td> 0.010</td> <td>   -3.227</td> <td>   -0.443</td>\n",
       "</tr>\n",
       "<tr>\n",
       "  <th>Insulin</th>               <td>   -0.3430</td> <td>    0.019</td> <td>  -18.136</td> <td> 0.000</td> <td>   -0.380</td> <td>   -0.306</td>\n",
       "</tr>\n",
       "<tr>\n",
       "  <th>Change</th>                <td>   -0.2502</td> <td>    0.036</td> <td>   -6.993</td> <td> 0.000</td> <td>   -0.320</td> <td>   -0.180</td>\n",
       "</tr>\n",
       "<tr>\n",
       "  <th>Diabetesmed</th>           <td>   -0.3802</td> <td>    0.042</td> <td>   -9.099</td> <td> 0.000</td> <td>   -0.462</td> <td>   -0.298</td>\n",
       "</tr>\n",
       "</table>"
      ],
      "text/plain": [
       "<class 'statsmodels.iolib.summary.Summary'>\n",
       "\"\"\"\n",
       "                           Logit Regression Results                           \n",
       "==============================================================================\n",
       "Dep. Variable:             Readmitted   No. Observations:                25576\n",
       "Model:                          Logit   Df Residuals:                    25560\n",
       "Method:                           MLE   Df Model:                           15\n",
       "Date:                Fri, 20 May 2022   Pseudo R-squ.:                  0.1189\n",
       "Time:                        15:42:44   Log-Likelihood:                -13871.\n",
       "converged:                       True   LL-Null:                       -15744.\n",
       "Covariance Type:            nonrobust   LLR p-value:                     0.000\n",
       "=========================================================================================\n",
       "                            coef    std err          z      P>|z|      [0.025      0.975]\n",
       "-----------------------------------------------------------------------------------------\n",
       "const                     2.8021      0.289      9.693      0.000       2.235       3.369\n",
       "Age                       0.0269      0.009      2.858      0.004       0.008       0.045\n",
       "Weight                   -0.1212      0.030     -4.031      0.000      -0.180      -0.062\n",
       "Admission Type            0.0956      0.043      2.246      0.025       0.012       0.179\n",
       "Discharge Disposition    -0.3446      0.016    -22.169      0.000      -0.375      -0.314\n",
       "Admission Source         -0.2923      0.026    -11.195      0.000      -0.343      -0.241\n",
       "Payer_Code                0.0967      0.012      8.126      0.000       0.073       0.120\n",
       "Medical_Specialty        -0.0118      0.005     -2.340      0.019      -0.022      -0.002\n",
       "Num_Medications           0.0155      0.002      7.079      0.000       0.011       0.020\n",
       "Number_Diagnoses         -0.7721      0.018    -41.859      0.000      -0.808      -0.736\n",
       "Metformin                -0.1475      0.036     -4.063      0.000      -0.219      -0.076\n",
       "Repaglinide               0.2776      0.120      2.321      0.020       0.043       0.512\n",
       "Tolazamide               -1.8347      0.710     -2.583      0.010      -3.227      -0.443\n",
       "Insulin                  -0.3430      0.019    -18.136      0.000      -0.380      -0.306\n",
       "Change                   -0.2502      0.036     -6.993      0.000      -0.320      -0.180\n",
       "Diabetesmed              -0.3802      0.042     -9.099      0.000      -0.462      -0.298\n",
       "=========================================================================================\n",
       "\"\"\""
      ]
     },
     "execution_count": 124,
     "metadata": {},
     "output_type": "execute_result"
    }
   ],
   "source": [
    "l=sm.Logit(ytrain,xtrain).fit()\n",
    "l.summary()"
   ]
  },
  {
   "cell_type": "code",
   "execution_count": 125,
   "id": "e0684de2",
   "metadata": {},
   "outputs": [
    {
     "data": {
      "text/plain": [
       "array([[1214, 2075],\n",
       "       [ 708, 6965]], dtype=int64)"
      ]
     },
     "execution_count": 125,
     "metadata": {},
     "output_type": "execute_result"
    }
   ],
   "source": [
    "ypred_prob = l.predict(xtest1)\n",
    "ypred = [ 0 if x < 0.5 else 1 for x in ypred_prob]\n",
    "cm = confusion_matrix(ytest, ypred)\n",
    "cm"
   ]
  },
  {
   "cell_type": "code",
   "execution_count": 126,
   "id": "5a1f6fdb",
   "metadata": {},
   "outputs": [
    {
     "name": "stdout",
     "output_type": "stream",
     "text": [
      "              precision    recall  f1-score   support\n",
      "\n",
      "           0       0.63      0.37      0.47      3289\n",
      "           1       0.77      0.91      0.83      7673\n",
      "\n",
      "    accuracy                           0.75     10962\n",
      "   macro avg       0.70      0.64      0.65     10962\n",
      "weighted avg       0.73      0.75      0.72     10962\n",
      "\n"
     ]
    }
   ],
   "source": [
    "print(classification_report(ytest,ypred))"
   ]
  },
  {
   "cell_type": "code",
   "execution_count": 127,
   "id": "9991e065",
   "metadata": {},
   "outputs": [
    {
     "data": {
      "image/png": "[encoded data removed]",
      "text/plain": [
       "<Figure size 1080x576 with 1 Axes>"
      ]
     },
     "metadata": {
      "needs_background": "light"
     },
     "output_type": "display_data"
    }
   ],
   "source": [
    "fpr, tpr, thresholds = roc_curve(ytest, ypred)\n",
    "plt.plot(fpr, tpr)\n",
    "plt.xlim([0.0, 1.0])\n",
    "plt.ylim([0.0, 1.0])\n",
    "plt.plot([0, 1], [0, 1],'r--')\n",
    "plt.text(x = 0.02, y = 0.9, s = ('AUC Score:',round(roc_auc_score(ytest, ypred),4)))\n",
    "plt.show()"
   ]
  },
  {
   "cell_type": "code",
   "execution_count": 128,
   "id": "fed753c1",
   "metadata": {},
   "outputs": [
    {
     "data": {
      "text/html": [
       "<div>\n",
       "<style scoped>\n",
       "    .dataframe tbody tr th:only-of-type {\n",
       "        vertical-align: middle;\n",
       "    }\n",
       "\n",
       "    .dataframe tbody tr th {\n",
       "        vertical-align: top;\n",
       "    }\n",
       "\n",
       "    .dataframe thead th {\n",
       "        text-align: right;\n",
       "    }\n",
       "</style>\n",
       "<table border=\"1\" class=\"dataframe\">\n",
       "  <thead>\n",
       "    <tr style=\"text-align: right;\">\n",
       "      <th></th>\n",
       "      <th>Model</th>\n",
       "      <th>Misclassifications</th>\n",
       "      <th>type1 error</th>\n",
       "      <th>type2 error</th>\n",
       "      <th>precision</th>\n",
       "      <th>recall</th>\n",
       "      <th>accuracy</th>\n",
       "      <th>f1</th>\n",
       "      <th>auc</th>\n",
       "    </tr>\n",
       "  </thead>\n",
       "  <tbody>\n",
       "    <tr>\n",
       "      <th>0</th>\n",
       "      <td>Base Logit</td>\n",
       "      <td>2784</td>\n",
       "      <td>2077</td>\n",
       "      <td>707</td>\n",
       "      <td>0.77</td>\n",
       "      <td>0.91</td>\n",
       "      <td>0.75</td>\n",
       "      <td>0.83</td>\n",
       "      <td>0.6382</td>\n",
       "    </tr>\n",
       "    <tr>\n",
       "      <th>1</th>\n",
       "      <td>Logit signi</td>\n",
       "      <td>2783</td>\n",
       "      <td>2075</td>\n",
       "      <td>708</td>\n",
       "      <td>0.77</td>\n",
       "      <td>0.91</td>\n",
       "      <td>0.75</td>\n",
       "      <td>0.83</td>\n",
       "      <td>0.6384</td>\n",
       "    </tr>\n",
       "  </tbody>\n",
       "</table>\n",
       "</div>"
      ],
      "text/plain": [
       "         Model Misclassifications type1 error type2 error  precision  recall  \\\n",
       "0   Base Logit               2784        2077         707       0.77    0.91   \n",
       "1  Logit signi               2783        2075         708       0.77    0.91   \n",
       "\n",
       "   accuracy    f1     auc  \n",
       "0      0.75  0.83  0.6382  \n",
       "1      0.75  0.83  0.6384  "
      ]
     },
     "execution_count": 128,
     "metadata": {},
     "output_type": "execute_result"
    }
   ],
   "source": [
    "TN, FP, FN, TP = cm[0,0], cm[0,1], cm[1,0], cm[1,1]\n",
    "m=pd.Series({'Model':'Logit signi',\n",
    "             'Misclassifications':FP+FN,\n",
    "             'type1 error' : FP,\n",
    "             'type2 error' : FN,\n",
    "             'precision': round(precision_score(ytest,ypred),2),\n",
    "             'recall':round(recall_score(ytest,ypred),2),\n",
    "             'accuracy':round(accuracy_score(ytest,ypred),2),\n",
    "             'f1':round(f1_score(ytest,ypred),2),\n",
    "             'auc':round(roc_auc_score(ytest,ypred),4)\n",
    "            })\n",
    "result=result.append(m,ignore_index=True)\n",
    "result"
   ]
  },
  {
   "cell_type": "code",
   "execution_count": null,
   "id": "d12df28a",
   "metadata": {},
   "outputs": [],
   "source": [
    "xtrain=xtrain.drop('const',axis=1)\n",
    "xtest1=xtest1.drop('const',axis=1)"
   ]
  },
  {
   "cell_type": "code",
   "execution_count": 133,
   "id": "5c026166",
   "metadata": {},
   "outputs": [
    {
     "data": {
      "text/plain": [
       "array([[1382, 1907],\n",
       "       [1049, 6624]], dtype=int64)"
      ]
     },
     "execution_count": 133,
     "metadata": {},
     "output_type": "execute_result"
    }
   ],
   "source": [
    "knn_classification = KNeighborsClassifier()\n",
    "knn_model = knn_classification.fit(xtrain, ytrain)\n",
    "ypred = knn_model.predict(xtest1)\n",
    "cm = confusion_matrix(ytest, ypred)\n",
    "cm"
   ]
  },
  {
   "cell_type": "code",
   "execution_count": 134,
   "id": "6d36df69",
   "metadata": {},
   "outputs": [],
   "source": [
    "def get_test_report(model, test_data): \n",
    "    testpred = model.predict(test_data)\n",
    "    return(classification_report(ytest, testpred))"
   ]
  },
  {
   "cell_type": "code",
   "execution_count": 135,
   "id": "59b181bd",
   "metadata": {},
   "outputs": [
    {
     "name": "stdout",
     "output_type": "stream",
     "text": [
      "              precision    recall  f1-score   support\n",
      "\n",
      "           0       0.57      0.42      0.48      3289\n",
      "           1       0.78      0.86      0.82      7673\n",
      "\n",
      "    accuracy                           0.73     10962\n",
      "   macro avg       0.67      0.64      0.65     10962\n",
      "weighted avg       0.71      0.73      0.72     10962\n",
      "\n"
     ]
    }
   ],
   "source": [
    "test_report = get_test_report(knn_model, test_data=xtest1)\n",
    "print(test_report)"
   ]
  },
  {
   "cell_type": "code",
   "execution_count": 136,
   "id": "4a949de6",
   "metadata": {},
   "outputs": [
    {
     "data": {
      "image/png": "[encoded data removed]",
      "text/plain": [
       "<Figure size 1080x576 with 1 Axes>"
      ]
     },
     "metadata": {
      "needs_background": "light"
     },
     "output_type": "display_data"
    }
   ],
   "source": [
    "fpr, tpr, thresholds = roc_curve(ytest, ypred)\n",
    "plt.plot(fpr, tpr)\n",
    "plt.xlim([0.0, 1.0])\n",
    "plt.ylim([0.0, 1.0])\n",
    "plt.plot([0, 1], [0, 1],'r--')\n",
    "plt.text(x = 0.02, y = 0.9, s = ('AUC Score:',round(roc_auc_score(ytest, ypred),4)))\n",
    "plt.show()"
   ]
  },
  {
   "cell_type": "code",
   "execution_count": 137,
   "id": "4988ebf8",
   "metadata": {},
   "outputs": [
    {
     "data": {
      "text/html": [
       "<div>\n",
       "<style scoped>\n",
       "    .dataframe tbody tr th:only-of-type {\n",
       "        vertical-align: middle;\n",
       "    }\n",
       "\n",
       "    .dataframe tbody tr th {\n",
       "        vertical-align: top;\n",
       "    }\n",
       "\n",
       "    .dataframe thead th {\n",
       "        text-align: right;\n",
       "    }\n",
       "</style>\n",
       "<table border=\"1\" class=\"dataframe\">\n",
       "  <thead>\n",
       "    <tr style=\"text-align: right;\">\n",
       "      <th></th>\n",
       "      <th>Model</th>\n",
       "      <th>Misclassifications</th>\n",
       "      <th>type1 error</th>\n",
       "      <th>type2 error</th>\n",
       "      <th>precision</th>\n",
       "      <th>recall</th>\n",
       "      <th>accuracy</th>\n",
       "      <th>f1</th>\n",
       "      <th>auc</th>\n",
       "    </tr>\n",
       "  </thead>\n",
       "  <tbody>\n",
       "    <tr>\n",
       "      <th>0</th>\n",
       "      <td>Base Logit</td>\n",
       "      <td>2784</td>\n",
       "      <td>2077</td>\n",
       "      <td>707</td>\n",
       "      <td>0.77</td>\n",
       "      <td>0.91</td>\n",
       "      <td>0.75</td>\n",
       "      <td>0.83</td>\n",
       "      <td>0.6382</td>\n",
       "    </tr>\n",
       "    <tr>\n",
       "      <th>1</th>\n",
       "      <td>Logit signi</td>\n",
       "      <td>2783</td>\n",
       "      <td>2075</td>\n",
       "      <td>708</td>\n",
       "      <td>0.77</td>\n",
       "      <td>0.91</td>\n",
       "      <td>0.75</td>\n",
       "      <td>0.83</td>\n",
       "      <td>0.6384</td>\n",
       "    </tr>\n",
       "    <tr>\n",
       "      <th>2</th>\n",
       "      <td>Base KNN</td>\n",
       "      <td>2956</td>\n",
       "      <td>1907</td>\n",
       "      <td>1049</td>\n",
       "      <td>0.78</td>\n",
       "      <td>0.86</td>\n",
       "      <td>0.73</td>\n",
       "      <td>0.82</td>\n",
       "      <td>0.6417</td>\n",
       "    </tr>\n",
       "  </tbody>\n",
       "</table>\n",
       "</div>"
      ],
      "text/plain": [
       "         Model Misclassifications type1 error type2 error  precision  recall  \\\n",
       "0   Base Logit               2784        2077         707       0.77    0.91   \n",
       "1  Logit signi               2783        2075         708       0.77    0.91   \n",
       "2     Base KNN               2956        1907        1049       0.78    0.86   \n",
       "\n",
       "   accuracy    f1     auc  \n",
       "0      0.75  0.83  0.6382  \n",
       "1      0.75  0.83  0.6384  \n",
       "2      0.73  0.82  0.6417  "
      ]
     },
     "execution_count": 137,
     "metadata": {},
     "output_type": "execute_result"
    }
   ],
   "source": [
    "TN, FP, FN, TP = cm[0,0], cm[0,1], cm[1,0], cm[1,1]\n",
    "m=pd.Series({'Model':'Base KNN',\n",
    "             'Misclassifications':FP+FN,\n",
    "             'type1 error' : FP,\n",
    "             'type2 error' : FN,\n",
    "             'precision': round(precision_score(ytest,ypred),2),\n",
    "             'recall':round(recall_score(ytest,ypred),2),\n",
    "             'accuracy':round(accuracy_score(ytest,ypred),2),\n",
    "             'f1':round(f1_score(ytest,ypred),2),\n",
    "             'auc':round(roc_auc_score(ytest,ypred),4)\n",
    "            })\n",
    "result=result.append(m,ignore_index=True)\n",
    "result"
   ]
  },
  {
   "cell_type": "code",
   "execution_count": 139,
   "id": "9f4eba01",
   "metadata": {},
   "outputs": [
    {
     "name": "stdout",
     "output_type": "stream",
     "text": [
      "Best parameters for KNN Classifier:  {'metric': 'hamming', 'n_neighbors': 21} \n",
      "\n"
     ]
    }
   ],
   "source": [
    "tuned_paramaters = {'n_neighbors': np.arange(1, 25, 1),\n",
    "                   'metric': ['hamming','euclidean','manhattan','Chebyshev']}\n",
    "knn_grid = GridSearchCV(estimator = knn_classification, \n",
    "                        param_grid = tuned_paramaters, \n",
    "                        cv = 5, \n",
    "                        scoring = 'accuracy')\n",
    "knn_grid.fit(xtrain,ytrain)\n",
    "print('Best parameters for KNN Classifier: ', knn_grid.best_params_, '\\n')"
   ]
  },
  {
   "cell_type": "code",
   "execution_count": 142,
   "id": "56b88915",
   "metadata": {},
   "outputs": [
    {
     "data": {
      "text/plain": [
       "<matplotlib.lines.Line2D at 0x262d475ebb0>"
      ]
     },
     "execution_count": 142,
     "metadata": {},
     "output_type": "execute_result"
    },
    {
     "data": {
      "image/png": "[encoded data removed]",
      "text/plain": [
       "<Figure size 1080x576 with 1 Axes>"
      ]
     },
     "metadata": {
      "needs_background": "light"
     },
     "output_type": "display_data"
    }
   ],
   "source": [
    "error_rate = []\n",
    "for i in np.arange(1,25,1):\n",
    "    knn = KNeighborsClassifier(i, metric = 'euclidean')\n",
    "    score = cross_val_score(knn,xtrain, ytrain, cv = 5)\n",
    "    score = score.mean() \n",
    "    error_rate.append(1 - score)\n",
    "plt.plot(range(1,25,1), error_rate)\n",
    "plt.axvline(x = 15, color = 'red')"
   ]
  },
  {
   "cell_type": "code",
   "execution_count": 144,
   "id": "aaa9a737",
   "metadata": {},
   "outputs": [
    {
     "data": {
      "text/plain": [
       "array([[1401, 1888],\n",
       "       [ 726, 6947]], dtype=int64)"
      ]
     },
     "execution_count": 144,
     "metadata": {},
     "output_type": "execute_result"
    }
   ],
   "source": [
    "knn_classification = KNeighborsClassifier(n_neighbors = 15,metric='hamming')\n",
    "knn_model = knn_classification.fit(xtrain, ytrain)\n",
    "ypred = knn_model.predict(xtest1)\n",
    "cm = confusion_matrix(ytest, ypred)\n",
    "cm"
   ]
  },
  {
   "cell_type": "code",
   "execution_count": 145,
   "id": "25098a2a",
   "metadata": {},
   "outputs": [
    {
     "name": "stdout",
     "output_type": "stream",
     "text": [
      "              precision    recall  f1-score   support\n",
      "\n",
      "           0       0.66      0.43      0.52      3289\n",
      "           1       0.79      0.91      0.84      7673\n",
      "\n",
      "    accuracy                           0.76     10962\n",
      "   macro avg       0.72      0.67      0.68     10962\n",
      "weighted avg       0.75      0.76      0.74     10962\n",
      "\n"
     ]
    }
   ],
   "source": [
    "test_report = get_test_report(knn_model, test_data=xtest1)\n",
    "print(test_report)"
   ]
  },
  {
   "cell_type": "code",
   "execution_count": 146,
   "id": "80a8f98a",
   "metadata": {},
   "outputs": [
    {
     "data": {
      "image/png": "[encoded data removed]",
      "text/plain": [
       "<Figure size 1080x576 with 1 Axes>"
      ]
     },
     "metadata": {
      "needs_background": "light"
     },
     "output_type": "display_data"
    }
   ],
   "source": [
    "fpr, tpr, thresholds = roc_curve(ytest, ypred)\n",
    "plt.plot(fpr, tpr)\n",
    "plt.xlim([0.0, 1.0])\n",
    "plt.ylim([0.0, 1.0])\n",
    "plt.plot([0, 1], [0, 1],'r--')\n",
    "plt.text(x = 0.02, y = 0.9, s = ('AUC Score:',round(roc_auc_score(ytest, ypred),4)))\n",
    "plt.show()"
   ]
  },
  {
   "cell_type": "code",
   "execution_count": 147,
   "id": "18601214",
   "metadata": {},
   "outputs": [
    {
     "data": {
      "text/html": [
       "<div>\n",
       "<style scoped>\n",
       "    .dataframe tbody tr th:only-of-type {\n",
       "        vertical-align: middle;\n",
       "    }\n",
       "\n",
       "    .dataframe tbody tr th {\n",
       "        vertical-align: top;\n",
       "    }\n",
       "\n",
       "    .dataframe thead th {\n",
       "        text-align: right;\n",
       "    }\n",
       "</style>\n",
       "<table border=\"1\" class=\"dataframe\">\n",
       "  <thead>\n",
       "    <tr style=\"text-align: right;\">\n",
       "      <th></th>\n",
       "      <th>Model</th>\n",
       "      <th>Misclassifications</th>\n",
       "      <th>type1 error</th>\n",
       "      <th>type2 error</th>\n",
       "      <th>precision</th>\n",
       "      <th>recall</th>\n",
       "      <th>accuracy</th>\n",
       "      <th>f1</th>\n",
       "      <th>auc</th>\n",
       "    </tr>\n",
       "  </thead>\n",
       "  <tbody>\n",
       "    <tr>\n",
       "      <th>0</th>\n",
       "      <td>Base Logit</td>\n",
       "      <td>2784</td>\n",
       "      <td>2077</td>\n",
       "      <td>707</td>\n",
       "      <td>0.77</td>\n",
       "      <td>0.91</td>\n",
       "      <td>0.75</td>\n",
       "      <td>0.83</td>\n",
       "      <td>0.6382</td>\n",
       "    </tr>\n",
       "    <tr>\n",
       "      <th>1</th>\n",
       "      <td>Logit signi</td>\n",
       "      <td>2783</td>\n",
       "      <td>2075</td>\n",
       "      <td>708</td>\n",
       "      <td>0.77</td>\n",
       "      <td>0.91</td>\n",
       "      <td>0.75</td>\n",
       "      <td>0.83</td>\n",
       "      <td>0.6384</td>\n",
       "    </tr>\n",
       "    <tr>\n",
       "      <th>2</th>\n",
       "      <td>Base KNN</td>\n",
       "      <td>2956</td>\n",
       "      <td>1907</td>\n",
       "      <td>1049</td>\n",
       "      <td>0.78</td>\n",
       "      <td>0.86</td>\n",
       "      <td>0.73</td>\n",
       "      <td>0.82</td>\n",
       "      <td>0.6417</td>\n",
       "    </tr>\n",
       "    <tr>\n",
       "      <th>3</th>\n",
       "      <td>KNN grid</td>\n",
       "      <td>2614</td>\n",
       "      <td>1888</td>\n",
       "      <td>726</td>\n",
       "      <td>0.79</td>\n",
       "      <td>0.91</td>\n",
       "      <td>0.76</td>\n",
       "      <td>0.84</td>\n",
       "      <td>0.6657</td>\n",
       "    </tr>\n",
       "  </tbody>\n",
       "</table>\n",
       "</div>"
      ],
      "text/plain": [
       "         Model Misclassifications type1 error type2 error  precision  recall  \\\n",
       "0   Base Logit               2784        2077         707       0.77    0.91   \n",
       "1  Logit signi               2783        2075         708       0.77    0.91   \n",
       "2     Base KNN               2956        1907        1049       0.78    0.86   \n",
       "3     KNN grid               2614        1888         726       0.79    0.91   \n",
       "\n",
       "   accuracy    f1     auc  \n",
       "0      0.75  0.83  0.6382  \n",
       "1      0.75  0.83  0.6384  \n",
       "2      0.73  0.82  0.6417  \n",
       "3      0.76  0.84  0.6657  "
      ]
     },
     "execution_count": 147,
     "metadata": {},
     "output_type": "execute_result"
    }
   ],
   "source": [
    "TN, FP, FN, TP = cm[0,0], cm[0,1], cm[1,0], cm[1,1]\n",
    "m=pd.Series({'Model':'KNN grid',\n",
    "             'Misclassifications':FP+FN,\n",
    "             'type1 error' : FP,\n",
    "             'type2 error' : FN,\n",
    "             'precision': round(precision_score(ytest,ypred),2),\n",
    "             'recall':round(recall_score(ytest,ypred),2),\n",
    "             'accuracy':round(accuracy_score(ytest,ypred),2),\n",
    "             'f1':round(f1_score(ytest,ypred),2),\n",
    "             'auc':round(roc_auc_score(ytest,ypred),4)\n",
    "            })\n",
    "result=result.append(m,ignore_index=True)\n",
    "result"
   ]
  },
  {
   "cell_type": "code",
   "execution_count": 148,
   "id": "83d2e730",
   "metadata": {},
   "outputs": [
    {
     "data": {
      "text/plain": [
       "array([[1300, 1989],\n",
       "       [ 654, 7019]], dtype=int64)"
      ]
     },
     "execution_count": 148,
     "metadata": {},
     "output_type": "execute_result"
    }
   ],
   "source": [
    "knn_classification = KNeighborsClassifier(n_neighbors = 21,metric='hamming')\n",
    "knn_model = knn_classification.fit(xtrain, ytrain)\n",
    "ypred = knn_model.predict(xtest1)\n",
    "cm = confusion_matrix(ytest, ypred)\n",
    "cm"
   ]
  },
  {
   "cell_type": "code",
   "execution_count": 149,
   "id": "e10ea53d",
   "metadata": {},
   "outputs": [
    {
     "name": "stdout",
     "output_type": "stream",
     "text": [
      "              precision    recall  f1-score   support\n",
      "\n",
      "           0       0.67      0.40      0.50      3289\n",
      "           1       0.78      0.91      0.84      7673\n",
      "\n",
      "    accuracy                           0.76     10962\n",
      "   macro avg       0.72      0.66      0.67     10962\n",
      "weighted avg       0.75      0.76      0.74     10962\n",
      "\n"
     ]
    }
   ],
   "source": [
    "test_report = get_test_report(knn_model, test_data=xtest1)\n",
    "print(test_report)"
   ]
  },
  {
   "cell_type": "code",
   "execution_count": 150,
   "id": "e9f5b433",
   "metadata": {},
   "outputs": [
    {
     "data": {
      "image/png": "[encoded data removed]",
      "text/plain": [
       "<Figure size 1080x576 with 1 Axes>"
      ]
     },
     "metadata": {
      "needs_background": "light"
     },
     "output_type": "display_data"
    }
   ],
   "source": [
    "fpr, tpr, thresholds = roc_curve(ytest, ypred)\n",
    "plt.plot(fpr, tpr)\n",
    "plt.xlim([0.0, 1.0])\n",
    "plt.ylim([0.0, 1.0])\n",
    "plt.plot([0, 1], [0, 1],'r--')\n",
    "plt.text(x = 0.02, y = 0.9, s = ('AUC Score:',round(roc_auc_score(ytest, ypred),4)))\n",
    "plt.show()"
   ]
  },
  {
   "cell_type": "markdown",
   "id": "3f56a805",
   "metadata": {},
   "source": [
    "# Final Result table and selection of model"
   ]
  },
  {
   "cell_type": "code",
   "execution_count": 151,
   "id": "8fe1638f",
   "metadata": {},
   "outputs": [
    {
     "data": {
      "text/html": [
       "<div>\n",
       "<style scoped>\n",
       "    .dataframe tbody tr th:only-of-type {\n",
       "        vertical-align: middle;\n",
       "    }\n",
       "\n",
       "    .dataframe tbody tr th {\n",
       "        vertical-align: top;\n",
       "    }\n",
       "\n",
       "    .dataframe thead th {\n",
       "        text-align: right;\n",
       "    }\n",
       "</style>\n",
       "<table border=\"1\" class=\"dataframe\">\n",
       "  <thead>\n",
       "    <tr style=\"text-align: right;\">\n",
       "      <th></th>\n",
       "      <th>Model</th>\n",
       "      <th>Misclassifications</th>\n",
       "      <th>type1 error</th>\n",
       "      <th>type2 error</th>\n",
       "      <th>precision</th>\n",
       "      <th>recall</th>\n",
       "      <th>accuracy</th>\n",
       "      <th>f1</th>\n",
       "      <th>auc</th>\n",
       "    </tr>\n",
       "  </thead>\n",
       "  <tbody>\n",
       "    <tr>\n",
       "      <th>0</th>\n",
       "      <td>Base Logit</td>\n",
       "      <td>2784</td>\n",
       "      <td>2077</td>\n",
       "      <td>707</td>\n",
       "      <td>0.77</td>\n",
       "      <td>0.91</td>\n",
       "      <td>0.75</td>\n",
       "      <td>0.83</td>\n",
       "      <td>0.6382</td>\n",
       "    </tr>\n",
       "    <tr>\n",
       "      <th>1</th>\n",
       "      <td>Logit signi</td>\n",
       "      <td>2783</td>\n",
       "      <td>2075</td>\n",
       "      <td>708</td>\n",
       "      <td>0.77</td>\n",
       "      <td>0.91</td>\n",
       "      <td>0.75</td>\n",
       "      <td>0.83</td>\n",
       "      <td>0.6384</td>\n",
       "    </tr>\n",
       "    <tr>\n",
       "      <th>2</th>\n",
       "      <td>Base KNN</td>\n",
       "      <td>2956</td>\n",
       "      <td>1907</td>\n",
       "      <td>1049</td>\n",
       "      <td>0.78</td>\n",
       "      <td>0.86</td>\n",
       "      <td>0.73</td>\n",
       "      <td>0.82</td>\n",
       "      <td>0.6417</td>\n",
       "    </tr>\n",
       "    <tr>\n",
       "      <th>3</th>\n",
       "      <td>KNN grid</td>\n",
       "      <td>2614</td>\n",
       "      <td>1888</td>\n",
       "      <td>726</td>\n",
       "      <td>0.79</td>\n",
       "      <td>0.91</td>\n",
       "      <td>0.76</td>\n",
       "      <td>0.84</td>\n",
       "      <td>0.6657</td>\n",
       "    </tr>\n",
       "    <tr>\n",
       "      <th>4</th>\n",
       "      <td>KNN grid 2</td>\n",
       "      <td>2643</td>\n",
       "      <td>1989</td>\n",
       "      <td>654</td>\n",
       "      <td>0.78</td>\n",
       "      <td>0.91</td>\n",
       "      <td>0.76</td>\n",
       "      <td>0.84</td>\n",
       "      <td>0.6550</td>\n",
       "    </tr>\n",
       "  </tbody>\n",
       "</table>\n",
       "</div>"
      ],
      "text/plain": [
       "         Model Misclassifications type1 error type2 error  precision  recall  \\\n",
       "0   Base Logit               2784        2077         707       0.77    0.91   \n",
       "1  Logit signi               2783        2075         708       0.77    0.91   \n",
       "2     Base KNN               2956        1907        1049       0.78    0.86   \n",
       "3     KNN grid               2614        1888         726       0.79    0.91   \n",
       "4   KNN grid 2               2643        1989         654       0.78    0.91   \n",
       "\n",
       "   accuracy    f1     auc  \n",
       "0      0.75  0.83  0.6382  \n",
       "1      0.75  0.83  0.6384  \n",
       "2      0.73  0.82  0.6417  \n",
       "3      0.76  0.84  0.6657  \n",
       "4      0.76  0.84  0.6550  "
      ]
     },
     "execution_count": 151,
     "metadata": {},
     "output_type": "execute_result"
    }
   ],
   "source": [
    "TN, FP, FN, TP = cm[0,0], cm[0,1], cm[1,0], cm[1,1]\n",
    "m=pd.Series({'Model':'KNN grid 2',\n",
    "             'Misclassifications':FP+FN,\n",
    "             'type1 error' : FP,\n",
    "             'type2 error' : FN,\n",
    "             'precision': round(precision_score(ytest,ypred),2),\n",
    "             'recall':round(recall_score(ytest,ypred),2),\n",
    "             'accuracy':round(accuracy_score(ytest,ypred),2),\n",
    "             'f1':round(f1_score(ytest,ypred),2),\n",
    "             'auc':round(roc_auc_score(ytest,ypred),4)\n",
    "            })\n",
    "result=result.append(m,ignore_index=True)\n",
    "result"
   ]
  },
  {
   "cell_type": "markdown",
   "id": "919d0eba",
   "metadata": {},
   "source": [
    "###  4th model has been selected as the final model as it has least type 2 error and with good accuracy"
   ]
  },
  {
   "cell_type": "code",
   "execution_count": 153,
   "id": "4b4997f9",
   "metadata": {},
   "outputs": [
    {
     "data": {
      "text/plain": [
       "Index(['Age', 'Weight', 'Admission Type', 'Discharge Disposition',\n",
       "       'Admission Source', 'Payer_Code', 'Medical_Specialty',\n",
       "       'Num_Medications', 'Number_Diagnoses', 'Metformin', 'Repaglinide',\n",
       "       'Tolazamide', 'Insulin', 'Change', 'Diabetesmed'],\n",
       "      dtype='object')"
      ]
     },
     "execution_count": 153,
     "metadata": {},
     "output_type": "execute_result"
    }
   ],
   "source": [
    "xtrain.columns"
   ]
  },
  {
   "cell_type": "code",
   "execution_count": 165,
   "id": "81c4468a",
   "metadata": {},
   "outputs": [],
   "source": [
    "df3=df1[['Patient_Nbr','Age', 'Weight', 'Admission Type', 'Discharge Disposition',\n",
    "       'Admission Source', 'Payer_Code', 'Medical_Specialty',\n",
    "       'Num_Medications', 'Number_Diagnoses', 'Metformin', 'Repaglinide',\n",
    "       'Tolazamide', 'Insulin', 'Change', 'Diabetesmed']]"
   ]
  },
  {
   "cell_type": "code",
   "execution_count": 166,
   "id": "ab89d2c5",
   "metadata": {},
   "outputs": [
    {
     "data": {
      "text/html": [
       "<div>\n",
       "<style scoped>\n",
       "    .dataframe tbody tr th:only-of-type {\n",
       "        vertical-align: middle;\n",
       "    }\n",
       "\n",
       "    .dataframe tbody tr th {\n",
       "        vertical-align: top;\n",
       "    }\n",
       "\n",
       "    .dataframe thead th {\n",
       "        text-align: right;\n",
       "    }\n",
       "</style>\n",
       "<table border=\"1\" class=\"dataframe\">\n",
       "  <thead>\n",
       "    <tr style=\"text-align: right;\">\n",
       "      <th></th>\n",
       "      <th>Patient_Nbr</th>\n",
       "      <th>Age</th>\n",
       "      <th>Weight</th>\n",
       "      <th>Admission Type</th>\n",
       "      <th>Discharge Disposition</th>\n",
       "      <th>Admission Source</th>\n",
       "      <th>Payer_Code</th>\n",
       "      <th>Medical_Specialty</th>\n",
       "      <th>Num_Medications</th>\n",
       "      <th>Number_Diagnoses</th>\n",
       "      <th>Metformin</th>\n",
       "      <th>Repaglinide</th>\n",
       "      <th>Tolazamide</th>\n",
       "      <th>Insulin</th>\n",
       "      <th>Change</th>\n",
       "      <th>Diabetesmed</th>\n",
       "    </tr>\n",
       "  </thead>\n",
       "  <tbody>\n",
       "    <tr>\n",
       "      <th>0</th>\n",
       "      <td>12866</td>\n",
       "      <td>[80-90)</td>\n",
       "      <td>Unknown</td>\n",
       "      <td>Not Available</td>\n",
       "      <td>Discharged</td>\n",
       "      <td>Referral</td>\n",
       "      <td>Unknown</td>\n",
       "      <td>Surgery</td>\n",
       "      <td>27</td>\n",
       "      <td>Above 5</td>\n",
       "      <td>No</td>\n",
       "      <td>No</td>\n",
       "      <td>No</td>\n",
       "      <td>Steady</td>\n",
       "      <td>Ch</td>\n",
       "      <td>Yes</td>\n",
       "    </tr>\n",
       "    <tr>\n",
       "      <th>1</th>\n",
       "      <td>27788</td>\n",
       "      <td>[50-60)</td>\n",
       "      <td>Unknown</td>\n",
       "      <td>Emergency</td>\n",
       "      <td>Discharged</td>\n",
       "      <td>Emergency Room</td>\n",
       "      <td>MC</td>\n",
       "      <td>Surgery</td>\n",
       "      <td>8</td>\n",
       "      <td>Above 5</td>\n",
       "      <td>No</td>\n",
       "      <td>No</td>\n",
       "      <td>No</td>\n",
       "      <td>Down</td>\n",
       "      <td>Ch</td>\n",
       "      <td>Yes</td>\n",
       "    </tr>\n",
       "    <tr>\n",
       "      <th>2</th>\n",
       "      <td>50211</td>\n",
       "      <td>[40-50)</td>\n",
       "      <td>Unknown</td>\n",
       "      <td>Emergency</td>\n",
       "      <td>Discharged</td>\n",
       "      <td>Referral</td>\n",
       "      <td>HM</td>\n",
       "      <td>Others</td>\n",
       "      <td>11</td>\n",
       "      <td>Above 5</td>\n",
       "      <td>No</td>\n",
       "      <td>No</td>\n",
       "      <td>No</td>\n",
       "      <td>No</td>\n",
       "      <td>No</td>\n",
       "      <td>No</td>\n",
       "    </tr>\n",
       "    <tr>\n",
       "      <th>3</th>\n",
       "      <td>79</td>\n",
       "      <td>[80-90)</td>\n",
       "      <td>Unknown</td>\n",
       "      <td>Emergency</td>\n",
       "      <td>Discharged</td>\n",
       "      <td>Emergency Room</td>\n",
       "      <td>MC</td>\n",
       "      <td>Surgery</td>\n",
       "      <td>14</td>\n",
       "      <td>Above 5</td>\n",
       "      <td>No</td>\n",
       "      <td>No</td>\n",
       "      <td>No</td>\n",
       "      <td>No</td>\n",
       "      <td>No</td>\n",
       "      <td>Yes</td>\n",
       "    </tr>\n",
       "    <tr>\n",
       "      <th>4</th>\n",
       "      <td>47633</td>\n",
       "      <td>[70-80)</td>\n",
       "      <td>Unknown</td>\n",
       "      <td>Not Available</td>\n",
       "      <td>Discharged</td>\n",
       "      <td>Not Available</td>\n",
       "      <td>Unknown</td>\n",
       "      <td>Surgery</td>\n",
       "      <td>7</td>\n",
       "      <td>Between 03 to 05</td>\n",
       "      <td>No</td>\n",
       "      <td>No</td>\n",
       "      <td>No</td>\n",
       "      <td>No</td>\n",
       "      <td>No</td>\n",
       "      <td>Yes</td>\n",
       "    </tr>\n",
       "  </tbody>\n",
       "</table>\n",
       "</div>"
      ],
      "text/plain": [
       "   Patient_Nbr      Age   Weight Admission Type Discharge Disposition  \\\n",
       "0        12866  [80-90)  Unknown  Not Available            Discharged   \n",
       "1        27788  [50-60)  Unknown      Emergency            Discharged   \n",
       "2        50211  [40-50)  Unknown      Emergency            Discharged   \n",
       "3           79  [80-90)  Unknown      Emergency            Discharged   \n",
       "4        47633  [70-80)  Unknown  Not Available            Discharged   \n",
       "\n",
       "  Admission Source Payer_Code Medical_Specialty  Num_Medications  \\\n",
       "0         Referral    Unknown          Surgery                27   \n",
       "1   Emergency Room         MC          Surgery                 8   \n",
       "2         Referral         HM            Others               11   \n",
       "3   Emergency Room         MC          Surgery                14   \n",
       "4    Not Available    Unknown          Surgery                 7   \n",
       "\n",
       "   Number_Diagnoses Metformin Repaglinide Tolazamide Insulin Change  \\\n",
       "0           Above 5        No          No         No  Steady     Ch   \n",
       "1           Above 5        No          No         No    Down     Ch   \n",
       "2           Above 5        No          No         No      No     No   \n",
       "3           Above 5        No          No         No      No     No   \n",
       "4  Between 03 to 05        No          No         No      No     No   \n",
       "\n",
       "  Diabetesmed  \n",
       "0         Yes  \n",
       "1         Yes  \n",
       "2          No  \n",
       "3         Yes  \n",
       "4         Yes  "
      ]
     },
     "execution_count": 166,
     "metadata": {},
     "output_type": "execute_result"
    }
   ],
   "source": [
    "df3.head()"
   ]
  },
  {
   "cell_type": "code",
   "execution_count": 167,
   "id": "31ea338d",
   "metadata": {},
   "outputs": [],
   "source": [
    "df3.set_index('Patient_Nbr',inplace=True)"
   ]
  },
  {
   "cell_type": "code",
   "execution_count": 168,
   "id": "4bff7f84",
   "metadata": {},
   "outputs": [
    {
     "data": {
      "text/plain": [
       "Index(['Age', 'Weight', 'Admission Type', 'Discharge Disposition',\n",
       "       'Admission Source', 'Payer_Code', 'Medical_Specialty',\n",
       "       'Num_Medications', 'Number_Diagnoses', 'Metformin', 'Repaglinide',\n",
       "       'Tolazamide', 'Insulin', 'Change', 'Diabetesmed'],\n",
       "      dtype='object')"
      ]
     },
     "execution_count": 168,
     "metadata": {},
     "output_type": "execute_result"
    }
   ],
   "source": [
    "df3.columns"
   ]
  },
  {
   "cell_type": "code",
   "execution_count": 169,
   "id": "5192cbf2",
   "metadata": {},
   "outputs": [],
   "source": [
    "df3.Weight.replace('Unknown','[75-100)',inplace=True)"
   ]
  },
  {
   "cell_type": "code",
   "execution_count": 170,
   "id": "ff810465",
   "metadata": {},
   "outputs": [],
   "source": [
    "df3['Admission Type'].replace('Not Available','Emergency',inplace=True)"
   ]
  },
  {
   "cell_type": "code",
   "execution_count": 171,
   "id": "cc060cc5",
   "metadata": {},
   "outputs": [],
   "source": [
    "df3['Admission Source'].replace('Not Available','Emergency Room',inplace=True)"
   ]
  },
  {
   "cell_type": "code",
   "execution_count": 172,
   "id": "2e20838c",
   "metadata": {},
   "outputs": [],
   "source": [
    "le=LabelEncoder()\n",
    "for i in df3.select_dtypes(object).columns:\n",
    "    df3[i]=le.fit_transform(df3[i])"
   ]
  },
  {
   "cell_type": "code",
   "execution_count": 173,
   "id": "79e427b5",
   "metadata": {},
   "outputs": [
    {
     "data": {
      "text/html": [
       "<div>\n",
       "<style scoped>\n",
       "    .dataframe tbody tr th:only-of-type {\n",
       "        vertical-align: middle;\n",
       "    }\n",
       "\n",
       "    .dataframe tbody tr th {\n",
       "        vertical-align: top;\n",
       "    }\n",
       "\n",
       "    .dataframe thead th {\n",
       "        text-align: right;\n",
       "    }\n",
       "</style>\n",
       "<table border=\"1\" class=\"dataframe\">\n",
       "  <thead>\n",
       "    <tr style=\"text-align: right;\">\n",
       "      <th></th>\n",
       "      <th>Age</th>\n",
       "      <th>Weight</th>\n",
       "      <th>Admission Type</th>\n",
       "      <th>Discharge Disposition</th>\n",
       "      <th>Admission Source</th>\n",
       "      <th>Payer_Code</th>\n",
       "      <th>Medical_Specialty</th>\n",
       "      <th>Num_Medications</th>\n",
       "      <th>Number_Diagnoses</th>\n",
       "      <th>Metformin</th>\n",
       "      <th>Repaglinide</th>\n",
       "      <th>Tolazamide</th>\n",
       "      <th>Insulin</th>\n",
       "      <th>Change</th>\n",
       "      <th>Diabetesmed</th>\n",
       "    </tr>\n",
       "    <tr>\n",
       "      <th>Patient_Nbr</th>\n",
       "      <th></th>\n",
       "      <th></th>\n",
       "      <th></th>\n",
       "      <th></th>\n",
       "      <th></th>\n",
       "      <th></th>\n",
       "      <th></th>\n",
       "      <th></th>\n",
       "      <th></th>\n",
       "      <th></th>\n",
       "      <th></th>\n",
       "      <th></th>\n",
       "      <th></th>\n",
       "      <th></th>\n",
       "      <th></th>\n",
       "    </tr>\n",
       "  </thead>\n",
       "  <tbody>\n",
       "    <tr>\n",
       "      <th>12866</th>\n",
       "      <td>8</td>\n",
       "      <td>5</td>\n",
       "      <td>1</td>\n",
       "      <td>1</td>\n",
       "      <td>1</td>\n",
       "      <td>4</td>\n",
       "      <td>8</td>\n",
       "      <td>27</td>\n",
       "      <td>0</td>\n",
       "      <td>1</td>\n",
       "      <td>0</td>\n",
       "      <td>0</td>\n",
       "      <td>2</td>\n",
       "      <td>0</td>\n",
       "      <td>1</td>\n",
       "    </tr>\n",
       "    <tr>\n",
       "      <th>27788</th>\n",
       "      <td>5</td>\n",
       "      <td>5</td>\n",
       "      <td>1</td>\n",
       "      <td>1</td>\n",
       "      <td>0</td>\n",
       "      <td>2</td>\n",
       "      <td>8</td>\n",
       "      <td>8</td>\n",
       "      <td>0</td>\n",
       "      <td>1</td>\n",
       "      <td>0</td>\n",
       "      <td>0</td>\n",
       "      <td>0</td>\n",
       "      <td>0</td>\n",
       "      <td>1</td>\n",
       "    </tr>\n",
       "    <tr>\n",
       "      <th>50211</th>\n",
       "      <td>4</td>\n",
       "      <td>5</td>\n",
       "      <td>1</td>\n",
       "      <td>1</td>\n",
       "      <td>1</td>\n",
       "      <td>1</td>\n",
       "      <td>6</td>\n",
       "      <td>11</td>\n",
       "      <td>0</td>\n",
       "      <td>1</td>\n",
       "      <td>0</td>\n",
       "      <td>0</td>\n",
       "      <td>1</td>\n",
       "      <td>1</td>\n",
       "      <td>0</td>\n",
       "    </tr>\n",
       "    <tr>\n",
       "      <th>79</th>\n",
       "      <td>8</td>\n",
       "      <td>5</td>\n",
       "      <td>1</td>\n",
       "      <td>1</td>\n",
       "      <td>0</td>\n",
       "      <td>2</td>\n",
       "      <td>8</td>\n",
       "      <td>14</td>\n",
       "      <td>0</td>\n",
       "      <td>1</td>\n",
       "      <td>0</td>\n",
       "      <td>0</td>\n",
       "      <td>1</td>\n",
       "      <td>1</td>\n",
       "      <td>1</td>\n",
       "    </tr>\n",
       "    <tr>\n",
       "      <th>47633</th>\n",
       "      <td>7</td>\n",
       "      <td>5</td>\n",
       "      <td>1</td>\n",
       "      <td>1</td>\n",
       "      <td>0</td>\n",
       "      <td>4</td>\n",
       "      <td>8</td>\n",
       "      <td>7</td>\n",
       "      <td>2</td>\n",
       "      <td>1</td>\n",
       "      <td>0</td>\n",
       "      <td>0</td>\n",
       "      <td>1</td>\n",
       "      <td>1</td>\n",
       "      <td>1</td>\n",
       "    </tr>\n",
       "  </tbody>\n",
       "</table>\n",
       "</div>"
      ],
      "text/plain": [
       "             Age  Weight  Admission Type  Discharge Disposition  \\\n",
       "Patient_Nbr                                                       \n",
       "12866          8       5               1                      1   \n",
       "27788          5       5               1                      1   \n",
       "50211          4       5               1                      1   \n",
       "79             8       5               1                      1   \n",
       "47633          7       5               1                      1   \n",
       "\n",
       "             Admission Source  Payer_Code  Medical_Specialty  Num_Medications  \\\n",
       "Patient_Nbr                                                                     \n",
       "12866                       1           4                  8               27   \n",
       "27788                       0           2                  8                8   \n",
       "50211                       1           1                  6               11   \n",
       "79                          0           2                  8               14   \n",
       "47633                       0           4                  8                7   \n",
       "\n",
       "             Number_Diagnoses  Metformin  Repaglinide  Tolazamide  Insulin  \\\n",
       "Patient_Nbr                                                                  \n",
       "12866                       0          1            0           0        2   \n",
       "27788                       0          1            0           0        0   \n",
       "50211                       0          1            0           0        1   \n",
       "79                          0          1            0           0        1   \n",
       "47633                       2          1            0           0        1   \n",
       "\n",
       "             Change  Diabetesmed  \n",
       "Patient_Nbr                       \n",
       "12866             0            1  \n",
       "27788             0            1  \n",
       "50211             1            0  \n",
       "79                1            1  \n",
       "47633             1            1  "
      ]
     },
     "execution_count": 173,
     "metadata": {},
     "output_type": "execute_result"
    }
   ],
   "source": [
    "df3.head()"
   ]
  },
  {
   "cell_type": "code",
   "execution_count": 176,
   "id": "0710a8e1",
   "metadata": {},
   "outputs": [
    {
     "data": {
      "text/plain": [
       "Patient_Nbr\n",
       "8390     1\n",
       "20012    1\n",
       "50903    1\n",
       "50636    0\n",
       "205      0\n",
       "Name: Readmitted, dtype: int32"
      ]
     },
     "execution_count": 176,
     "metadata": {},
     "output_type": "execute_result"
    }
   ],
   "source": [
    "y.head()"
   ]
  },
  {
   "cell_type": "code",
   "execution_count": 179,
   "id": "a3d9f5fb",
   "metadata": {},
   "outputs": [],
   "source": [
    "ypred = knn_model.predict(df3)"
   ]
  },
  {
   "cell_type": "code",
   "execution_count": 181,
   "id": "49df7694",
   "metadata": {},
   "outputs": [],
   "source": [
    "df3['Readmitted']=ypred"
   ]
  },
  {
   "cell_type": "code",
   "execution_count": 182,
   "id": "cecc017c",
   "metadata": {},
   "outputs": [
    {
     "data": {
      "text/html": [
       "<div>\n",
       "<style scoped>\n",
       "    .dataframe tbody tr th:only-of-type {\n",
       "        vertical-align: middle;\n",
       "    }\n",
       "\n",
       "    .dataframe tbody tr th {\n",
       "        vertical-align: top;\n",
       "    }\n",
       "\n",
       "    .dataframe thead th {\n",
       "        text-align: right;\n",
       "    }\n",
       "</style>\n",
       "<table border=\"1\" class=\"dataframe\">\n",
       "  <thead>\n",
       "    <tr style=\"text-align: right;\">\n",
       "      <th></th>\n",
       "      <th>Age</th>\n",
       "      <th>Weight</th>\n",
       "      <th>Admission Type</th>\n",
       "      <th>Discharge Disposition</th>\n",
       "      <th>Admission Source</th>\n",
       "      <th>Payer_Code</th>\n",
       "      <th>Medical_Specialty</th>\n",
       "      <th>Num_Medications</th>\n",
       "      <th>Number_Diagnoses</th>\n",
       "      <th>Metformin</th>\n",
       "      <th>Repaglinide</th>\n",
       "      <th>Tolazamide</th>\n",
       "      <th>Insulin</th>\n",
       "      <th>Change</th>\n",
       "      <th>Diabetesmed</th>\n",
       "      <th>Readmitted</th>\n",
       "    </tr>\n",
       "    <tr>\n",
       "      <th>Patient_Nbr</th>\n",
       "      <th></th>\n",
       "      <th></th>\n",
       "      <th></th>\n",
       "      <th></th>\n",
       "      <th></th>\n",
       "      <th></th>\n",
       "      <th></th>\n",
       "      <th></th>\n",
       "      <th></th>\n",
       "      <th></th>\n",
       "      <th></th>\n",
       "      <th></th>\n",
       "      <th></th>\n",
       "      <th></th>\n",
       "      <th></th>\n",
       "      <th></th>\n",
       "    </tr>\n",
       "  </thead>\n",
       "  <tbody>\n",
       "    <tr>\n",
       "      <th>12866</th>\n",
       "      <td>8</td>\n",
       "      <td>5</td>\n",
       "      <td>1</td>\n",
       "      <td>1</td>\n",
       "      <td>1</td>\n",
       "      <td>4</td>\n",
       "      <td>8</td>\n",
       "      <td>27</td>\n",
       "      <td>0</td>\n",
       "      <td>1</td>\n",
       "      <td>0</td>\n",
       "      <td>0</td>\n",
       "      <td>2</td>\n",
       "      <td>0</td>\n",
       "      <td>1</td>\n",
       "      <td>0</td>\n",
       "    </tr>\n",
       "    <tr>\n",
       "      <th>27788</th>\n",
       "      <td>5</td>\n",
       "      <td>5</td>\n",
       "      <td>1</td>\n",
       "      <td>1</td>\n",
       "      <td>0</td>\n",
       "      <td>2</td>\n",
       "      <td>8</td>\n",
       "      <td>8</td>\n",
       "      <td>0</td>\n",
       "      <td>1</td>\n",
       "      <td>0</td>\n",
       "      <td>0</td>\n",
       "      <td>0</td>\n",
       "      <td>0</td>\n",
       "      <td>1</td>\n",
       "      <td>1</td>\n",
       "    </tr>\n",
       "    <tr>\n",
       "      <th>50211</th>\n",
       "      <td>4</td>\n",
       "      <td>5</td>\n",
       "      <td>1</td>\n",
       "      <td>1</td>\n",
       "      <td>1</td>\n",
       "      <td>1</td>\n",
       "      <td>6</td>\n",
       "      <td>11</td>\n",
       "      <td>0</td>\n",
       "      <td>1</td>\n",
       "      <td>0</td>\n",
       "      <td>0</td>\n",
       "      <td>1</td>\n",
       "      <td>1</td>\n",
       "      <td>0</td>\n",
       "      <td>1</td>\n",
       "    </tr>\n",
       "    <tr>\n",
       "      <th>79</th>\n",
       "      <td>8</td>\n",
       "      <td>5</td>\n",
       "      <td>1</td>\n",
       "      <td>1</td>\n",
       "      <td>0</td>\n",
       "      <td>2</td>\n",
       "      <td>8</td>\n",
       "      <td>14</td>\n",
       "      <td>0</td>\n",
       "      <td>1</td>\n",
       "      <td>0</td>\n",
       "      <td>0</td>\n",
       "      <td>1</td>\n",
       "      <td>1</td>\n",
       "      <td>1</td>\n",
       "      <td>1</td>\n",
       "    </tr>\n",
       "    <tr>\n",
       "      <th>47633</th>\n",
       "      <td>7</td>\n",
       "      <td>5</td>\n",
       "      <td>1</td>\n",
       "      <td>1</td>\n",
       "      <td>0</td>\n",
       "      <td>4</td>\n",
       "      <td>8</td>\n",
       "      <td>7</td>\n",
       "      <td>2</td>\n",
       "      <td>1</td>\n",
       "      <td>0</td>\n",
       "      <td>0</td>\n",
       "      <td>1</td>\n",
       "      <td>1</td>\n",
       "      <td>1</td>\n",
       "      <td>1</td>\n",
       "    </tr>\n",
       "  </tbody>\n",
       "</table>\n",
       "</div>"
      ],
      "text/plain": [
       "             Age  Weight  Admission Type  Discharge Disposition  \\\n",
       "Patient_Nbr                                                       \n",
       "12866          8       5               1                      1   \n",
       "27788          5       5               1                      1   \n",
       "50211          4       5               1                      1   \n",
       "79             8       5               1                      1   \n",
       "47633          7       5               1                      1   \n",
       "\n",
       "             Admission Source  Payer_Code  Medical_Specialty  Num_Medications  \\\n",
       "Patient_Nbr                                                                     \n",
       "12866                       1           4                  8               27   \n",
       "27788                       0           2                  8                8   \n",
       "50211                       1           1                  6               11   \n",
       "79                          0           2                  8               14   \n",
       "47633                       0           4                  8                7   \n",
       "\n",
       "             Number_Diagnoses  Metformin  Repaglinide  Tolazamide  Insulin  \\\n",
       "Patient_Nbr                                                                  \n",
       "12866                       0          1            0           0        2   \n",
       "27788                       0          1            0           0        0   \n",
       "50211                       0          1            0           0        1   \n",
       "79                          0          1            0           0        1   \n",
       "47633                       2          1            0           0        1   \n",
       "\n",
       "             Change  Diabetesmed  Readmitted  \n",
       "Patient_Nbr                                   \n",
       "12866             0            1           0  \n",
       "27788             0            1           1  \n",
       "50211             1            0           1  \n",
       "79                1            1           1  \n",
       "47633             1            1           1  "
      ]
     },
     "execution_count": 182,
     "metadata": {},
     "output_type": "execute_result"
    }
   ],
   "source": [
    "df3.head()"
   ]
  },
  {
   "cell_type": "code",
   "execution_count": 183,
   "id": "6a9fb238",
   "metadata": {},
   "outputs": [],
   "source": [
    "df1['Readmitted']=ypred"
   ]
  },
  {
   "cell_type": "code",
   "execution_count": 187,
   "id": "9b795092",
   "metadata": {},
   "outputs": [],
   "source": [
    "df1.Readmitted=df1.Readmitted.map({1:'Yes',0:'No'})"
   ]
  },
  {
   "cell_type": "code",
   "execution_count": 188,
   "id": "c561929b",
   "metadata": {},
   "outputs": [
    {
     "data": {
      "text/html": [
       "<div>\n",
       "<style scoped>\n",
       "    .dataframe tbody tr th:only-of-type {\n",
       "        vertical-align: middle;\n",
       "    }\n",
       "\n",
       "    .dataframe tbody tr th {\n",
       "        vertical-align: top;\n",
       "    }\n",
       "\n",
       "    .dataframe thead th {\n",
       "        text-align: right;\n",
       "    }\n",
       "</style>\n",
       "<table border=\"1\" class=\"dataframe\">\n",
       "  <thead>\n",
       "    <tr style=\"text-align: right;\">\n",
       "      <th></th>\n",
       "      <th>Patient_Nbr</th>\n",
       "      <th>Race</th>\n",
       "      <th>Gender</th>\n",
       "      <th>Age</th>\n",
       "      <th>Weight</th>\n",
       "      <th>Admission Type</th>\n",
       "      <th>Discharge Disposition</th>\n",
       "      <th>Admission Source</th>\n",
       "      <th>Days In Hospital</th>\n",
       "      <th>Payer_Code</th>\n",
       "      <th>...</th>\n",
       "      <th>Citoglipton</th>\n",
       "      <th>Insulin</th>\n",
       "      <th>Glyburide-Metformin</th>\n",
       "      <th>Glipizide-Metformin</th>\n",
       "      <th>Glimepiride-Pioglitazone</th>\n",
       "      <th>Metformin-Rosiglitazone</th>\n",
       "      <th>Metformin-Pioglitazone</th>\n",
       "      <th>Change</th>\n",
       "      <th>Diabetesmed</th>\n",
       "      <th>Readmitted</th>\n",
       "    </tr>\n",
       "  </thead>\n",
       "  <tbody>\n",
       "    <tr>\n",
       "      <th>0</th>\n",
       "      <td>12866</td>\n",
       "      <td>Caucasian</td>\n",
       "      <td>Male</td>\n",
       "      <td>[80-90)</td>\n",
       "      <td>Unknown</td>\n",
       "      <td>Not Available</td>\n",
       "      <td>Discharged</td>\n",
       "      <td>Referral</td>\n",
       "      <td>Above 9</td>\n",
       "      <td>Unknown</td>\n",
       "      <td>...</td>\n",
       "      <td>No</td>\n",
       "      <td>Steady</td>\n",
       "      <td>No</td>\n",
       "      <td>No</td>\n",
       "      <td>No</td>\n",
       "      <td>No</td>\n",
       "      <td>No</td>\n",
       "      <td>Ch</td>\n",
       "      <td>Yes</td>\n",
       "      <td>No</td>\n",
       "    </tr>\n",
       "    <tr>\n",
       "      <th>1</th>\n",
       "      <td>27788</td>\n",
       "      <td>Caucasian</td>\n",
       "      <td>Male</td>\n",
       "      <td>[50-60)</td>\n",
       "      <td>Unknown</td>\n",
       "      <td>Emergency</td>\n",
       "      <td>Discharged</td>\n",
       "      <td>Emergency Room</td>\n",
       "      <td>Between 03 to 06</td>\n",
       "      <td>MC</td>\n",
       "      <td>...</td>\n",
       "      <td>No</td>\n",
       "      <td>Down</td>\n",
       "      <td>No</td>\n",
       "      <td>No</td>\n",
       "      <td>No</td>\n",
       "      <td>No</td>\n",
       "      <td>No</td>\n",
       "      <td>Ch</td>\n",
       "      <td>Yes</td>\n",
       "      <td>Yes</td>\n",
       "    </tr>\n",
       "    <tr>\n",
       "      <th>2</th>\n",
       "      <td>50211</td>\n",
       "      <td>Caucasian</td>\n",
       "      <td>Female</td>\n",
       "      <td>[40-50)</td>\n",
       "      <td>Unknown</td>\n",
       "      <td>Emergency</td>\n",
       "      <td>Discharged</td>\n",
       "      <td>Referral</td>\n",
       "      <td>Below 3</td>\n",
       "      <td>HM</td>\n",
       "      <td>...</td>\n",
       "      <td>No</td>\n",
       "      <td>No</td>\n",
       "      <td>No</td>\n",
       "      <td>No</td>\n",
       "      <td>No</td>\n",
       "      <td>No</td>\n",
       "      <td>No</td>\n",
       "      <td>No</td>\n",
       "      <td>No</td>\n",
       "      <td>Yes</td>\n",
       "    </tr>\n",
       "    <tr>\n",
       "      <th>3</th>\n",
       "      <td>79</td>\n",
       "      <td>Caucasian</td>\n",
       "      <td>Male</td>\n",
       "      <td>[80-90)</td>\n",
       "      <td>Unknown</td>\n",
       "      <td>Emergency</td>\n",
       "      <td>Discharged</td>\n",
       "      <td>Emergency Room</td>\n",
       "      <td>Between 03 to 06</td>\n",
       "      <td>MC</td>\n",
       "      <td>...</td>\n",
       "      <td>No</td>\n",
       "      <td>No</td>\n",
       "      <td>No</td>\n",
       "      <td>No</td>\n",
       "      <td>No</td>\n",
       "      <td>No</td>\n",
       "      <td>No</td>\n",
       "      <td>No</td>\n",
       "      <td>Yes</td>\n",
       "      <td>Yes</td>\n",
       "    </tr>\n",
       "    <tr>\n",
       "      <th>4</th>\n",
       "      <td>47633</td>\n",
       "      <td>Caucasian</td>\n",
       "      <td>Female</td>\n",
       "      <td>[70-80)</td>\n",
       "      <td>Unknown</td>\n",
       "      <td>Not Available</td>\n",
       "      <td>Discharged</td>\n",
       "      <td>Not Available</td>\n",
       "      <td>Between 03 to 06</td>\n",
       "      <td>Unknown</td>\n",
       "      <td>...</td>\n",
       "      <td>No</td>\n",
       "      <td>No</td>\n",
       "      <td>No</td>\n",
       "      <td>No</td>\n",
       "      <td>No</td>\n",
       "      <td>No</td>\n",
       "      <td>No</td>\n",
       "      <td>No</td>\n",
       "      <td>Yes</td>\n",
       "      <td>Yes</td>\n",
       "    </tr>\n",
       "    <tr>\n",
       "      <th>...</th>\n",
       "      <td>...</td>\n",
       "      <td>...</td>\n",
       "      <td>...</td>\n",
       "      <td>...</td>\n",
       "      <td>...</td>\n",
       "      <td>...</td>\n",
       "      <td>...</td>\n",
       "      <td>...</td>\n",
       "      <td>...</td>\n",
       "      <td>...</td>\n",
       "      <td>...</td>\n",
       "      <td>...</td>\n",
       "      <td>...</td>\n",
       "      <td>...</td>\n",
       "      <td>...</td>\n",
       "      <td>...</td>\n",
       "      <td>...</td>\n",
       "      <td>...</td>\n",
       "      <td>...</td>\n",
       "      <td>...</td>\n",
       "      <td>...</td>\n",
       "    </tr>\n",
       "    <tr>\n",
       "      <th>2030</th>\n",
       "      <td>21797</td>\n",
       "      <td>Caucasian</td>\n",
       "      <td>Male</td>\n",
       "      <td>[60-70)</td>\n",
       "      <td>Unknown</td>\n",
       "      <td>Emergency</td>\n",
       "      <td>Discharged</td>\n",
       "      <td>Referral</td>\n",
       "      <td>Between 03 to 06</td>\n",
       "      <td>HM</td>\n",
       "      <td>...</td>\n",
       "      <td>No</td>\n",
       "      <td>Steady</td>\n",
       "      <td>No</td>\n",
       "      <td>No</td>\n",
       "      <td>No</td>\n",
       "      <td>No</td>\n",
       "      <td>No</td>\n",
       "      <td>No</td>\n",
       "      <td>Yes</td>\n",
       "      <td>No</td>\n",
       "    </tr>\n",
       "    <tr>\n",
       "      <th>2031</th>\n",
       "      <td>46334</td>\n",
       "      <td>Caucasian</td>\n",
       "      <td>Male</td>\n",
       "      <td>[60-70)</td>\n",
       "      <td>Unknown</td>\n",
       "      <td>Elective</td>\n",
       "      <td>Discharged</td>\n",
       "      <td>Referral</td>\n",
       "      <td>Above 9</td>\n",
       "      <td>MC</td>\n",
       "      <td>...</td>\n",
       "      <td>No</td>\n",
       "      <td>No</td>\n",
       "      <td>No</td>\n",
       "      <td>No</td>\n",
       "      <td>No</td>\n",
       "      <td>No</td>\n",
       "      <td>No</td>\n",
       "      <td>No</td>\n",
       "      <td>No</td>\n",
       "      <td>Yes</td>\n",
       "    </tr>\n",
       "    <tr>\n",
       "      <th>2032</th>\n",
       "      <td>2388</td>\n",
       "      <td>Caucasian</td>\n",
       "      <td>Male</td>\n",
       "      <td>[70-80)</td>\n",
       "      <td>Unknown</td>\n",
       "      <td>Emergency</td>\n",
       "      <td>Discharged</td>\n",
       "      <td>Emergency Room</td>\n",
       "      <td>Between 06 to 09</td>\n",
       "      <td>Unknown</td>\n",
       "      <td>...</td>\n",
       "      <td>No</td>\n",
       "      <td>No</td>\n",
       "      <td>No</td>\n",
       "      <td>No</td>\n",
       "      <td>No</td>\n",
       "      <td>No</td>\n",
       "      <td>No</td>\n",
       "      <td>No</td>\n",
       "      <td>No</td>\n",
       "      <td>Yes</td>\n",
       "    </tr>\n",
       "    <tr>\n",
       "      <th>2033</th>\n",
       "      <td>50773</td>\n",
       "      <td>Caucasian</td>\n",
       "      <td>Male</td>\n",
       "      <td>[70-80)</td>\n",
       "      <td>Unknown</td>\n",
       "      <td>Emergency</td>\n",
       "      <td>Discharged</td>\n",
       "      <td>Referral</td>\n",
       "      <td>Below 3</td>\n",
       "      <td>MC</td>\n",
       "      <td>...</td>\n",
       "      <td>No</td>\n",
       "      <td>No</td>\n",
       "      <td>No</td>\n",
       "      <td>No</td>\n",
       "      <td>No</td>\n",
       "      <td>No</td>\n",
       "      <td>No</td>\n",
       "      <td>No</td>\n",
       "      <td>Yes</td>\n",
       "      <td>Yes</td>\n",
       "    </tr>\n",
       "    <tr>\n",
       "      <th>2034</th>\n",
       "      <td>8390</td>\n",
       "      <td>Caucasian</td>\n",
       "      <td>Male</td>\n",
       "      <td>[70-80)</td>\n",
       "      <td>Unknown</td>\n",
       "      <td>Not Available</td>\n",
       "      <td>Discharged</td>\n",
       "      <td>Not Available</td>\n",
       "      <td>Below 3</td>\n",
       "      <td>Unknown</td>\n",
       "      <td>...</td>\n",
       "      <td>No</td>\n",
       "      <td>No</td>\n",
       "      <td>No</td>\n",
       "      <td>No</td>\n",
       "      <td>No</td>\n",
       "      <td>No</td>\n",
       "      <td>No</td>\n",
       "      <td>No</td>\n",
       "      <td>No</td>\n",
       "      <td>Yes</td>\n",
       "    </tr>\n",
       "  </tbody>\n",
       "</table>\n",
       "<p>2035 rows × 43 columns</p>\n",
       "</div>"
      ],
      "text/plain": [
       "      Patient_Nbr       Race  Gender      Age   Weight Admission Type  \\\n",
       "0           12866  Caucasian    Male  [80-90)  Unknown  Not Available   \n",
       "1           27788  Caucasian    Male  [50-60)  Unknown      Emergency   \n",
       "2           50211  Caucasian  Female  [40-50)  Unknown      Emergency   \n",
       "3              79  Caucasian    Male  [80-90)  Unknown      Emergency   \n",
       "4           47633  Caucasian  Female  [70-80)  Unknown  Not Available   \n",
       "...           ...        ...     ...      ...      ...            ...   \n",
       "2030        21797  Caucasian    Male  [60-70)  Unknown      Emergency   \n",
       "2031        46334  Caucasian    Male  [60-70)  Unknown       Elective   \n",
       "2032         2388  Caucasian    Male  [70-80)  Unknown      Emergency   \n",
       "2033        50773  Caucasian    Male  [70-80)  Unknown      Emergency   \n",
       "2034         8390  Caucasian    Male  [70-80)  Unknown  Not Available   \n",
       "\n",
       "     Discharge Disposition Admission Source  Days In Hospital Payer_Code  ...  \\\n",
       "0               Discharged         Referral           Above 9    Unknown  ...   \n",
       "1               Discharged   Emergency Room  Between 03 to 06         MC  ...   \n",
       "2               Discharged         Referral           Below 3         HM  ...   \n",
       "3               Discharged   Emergency Room  Between 03 to 06         MC  ...   \n",
       "4               Discharged    Not Available  Between 03 to 06    Unknown  ...   \n",
       "...                    ...              ...               ...        ...  ...   \n",
       "2030            Discharged         Referral  Between 03 to 06         HM  ...   \n",
       "2031            Discharged         Referral           Above 9         MC  ...   \n",
       "2032            Discharged   Emergency Room  Between 06 to 09    Unknown  ...   \n",
       "2033            Discharged         Referral           Below 3         MC  ...   \n",
       "2034            Discharged    Not Available           Below 3    Unknown  ...   \n",
       "\n",
       "     Citoglipton  Insulin  Glyburide-Metformin  Glipizide-Metformin  \\\n",
       "0             No   Steady                   No                   No   \n",
       "1             No     Down                   No                   No   \n",
       "2             No       No                   No                   No   \n",
       "3             No       No                   No                   No   \n",
       "4             No       No                   No                   No   \n",
       "...          ...      ...                  ...                  ...   \n",
       "2030          No   Steady                   No                   No   \n",
       "2031          No       No                   No                   No   \n",
       "2032          No       No                   No                   No   \n",
       "2033          No       No                   No                   No   \n",
       "2034          No       No                   No                   No   \n",
       "\n",
       "     Glimepiride-Pioglitazone Metformin-Rosiglitazone Metformin-Pioglitazone  \\\n",
       "0                          No                      No                     No   \n",
       "1                          No                      No                     No   \n",
       "2                          No                      No                     No   \n",
       "3                          No                      No                     No   \n",
       "4                          No                      No                     No   \n",
       "...                       ...                     ...                    ...   \n",
       "2030                       No                      No                     No   \n",
       "2031                       No                      No                     No   \n",
       "2032                       No                      No                     No   \n",
       "2033                       No                      No                     No   \n",
       "2034                       No                      No                     No   \n",
       "\n",
       "     Change Diabetesmed Readmitted  \n",
       "0        Ch         Yes         No  \n",
       "1        Ch         Yes        Yes  \n",
       "2        No          No        Yes  \n",
       "3        No         Yes        Yes  \n",
       "4        No         Yes        Yes  \n",
       "...     ...         ...        ...  \n",
       "2030     No         Yes         No  \n",
       "2031     No          No        Yes  \n",
       "2032     No          No        Yes  \n",
       "2033     No         Yes        Yes  \n",
       "2034     No          No        Yes  \n",
       "\n",
       "[2035 rows x 43 columns]"
      ]
     },
     "execution_count": 188,
     "metadata": {},
     "output_type": "execute_result"
    }
   ],
   "source": [
    "df1"
   ]
  },
  {
   "cell_type": "code",
   "execution_count": 189,
   "id": "c2eb6a9d",
   "metadata": {},
   "outputs": [
    {
     "data": {
      "text/plain": [
       "Yes    1666\n",
       "No      369\n",
       "Name: Readmitted, dtype: int64"
      ]
     },
     "execution_count": 189,
     "metadata": {},
     "output_type": "execute_result"
    }
   ],
   "source": [
    "df1.Readmitted.value_counts()"
   ]
  },
  {
   "cell_type": "markdown",
   "id": "ec142dd1",
   "metadata": {},
   "source": [
    "### Out of 2035 1666 were readmitted and 369 were not admitted as predicted by the model that has been selected as best fit"
   ]
  },
  {
   "cell_type": "code",
   "execution_count": null,
   "id": "7a76f046",
   "metadata": {},
   "outputs": [],
   "source": []
  }
 ],
 "metadata": {
  "kernelspec": {
   "display_name": "Python 3 (ipykernel)",
   "language": "python",
   "name": "python3"
  },
  "language_info": {
   "codemirror_mode": {
    "name": "ipython",
    "version": 3
   },
   "file_extension": ".py",
   "mimetype": "text/x-python",
   "name": "python",
   "nbconvert_exporter": "python",
   "pygments_lexer": "ipython3",
   "version": "3.9.17"
  }
 },
 "nbformat": 4,
 "nbformat_minor": 5
}
