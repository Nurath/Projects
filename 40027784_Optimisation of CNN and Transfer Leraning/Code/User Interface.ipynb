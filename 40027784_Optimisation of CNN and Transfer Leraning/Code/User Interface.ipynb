{
 "cells": [
  {
   "cell_type": "code",
   "execution_count": 4,
   "id": "184e0164",
   "metadata": {},
   "outputs": [
    {
     "name": "stdout",
     "output_type": "stream",
     "text": [
      "1/1 [==============================] - 1s 1s/step\n",
      "[5.7771575e-07 4.6448768e-08 4.0479431e-06 5.0907224e-06 2.8920120e-03\n",
      " 1.7123120e-05 2.3851475e-08 9.9708074e-01 6.2961199e-08 3.3487382e-07]\n",
      "Horse\n"
     ]
    }
   ],
   "source": [
    "import tkinter as tk\n",
    "from tkinter import filedialog\n",
    "from tkinter import *\n",
    "from PIL import ImageTk, Image\n",
    "import numpy as np\n",
    "#load the trained model to classify sign\n",
    "from keras.models import load_model\n",
    "model = load_model('Effnet1.h5')\n",
    "#dictionary to label all traffic signs class.\n",
    "classes = {0: 'Airplane',\n",
    " 1: 'Automobile',\n",
    " 2: 'Bird',\n",
    " 3: 'Cat',\n",
    " 4: 'Deer',\n",
    " 5: 'Dog',\n",
    " 6: 'Frog',\n",
    " 7: 'Horse',\n",
    " 8: 'Ship',\n",
    " 9: 'Truck'}\n",
    "#initialise GUI\n",
    "top=tk.Tk()\n",
    "top.geometry('800x600')\n",
    "top.title('Image classification')\n",
    "top.configure(background='#a0bbc4')\n",
    "label=Label(top,background='#CDCDCD', font=('roboto',15,'bold'))\n",
    "sign_image = Label(top)\n",
    "# print(sign_image)\n",
    "\n",
    "def classify(file_path):\n",
    "    img = Image.open(file_path)\n",
    "    img=img.resize((32,32))\n",
    "    img1=np.array(img)\n",
    "    img1=np.reshape(img1,[-1, 32, 32, 3])\n",
    "    img1=img1.astype('float')\n",
    "    img1/=255\n",
    "    pred = model.predict([img1])[0]\n",
    "    print(pred)\n",
    "    #     sign = classes[pred+1]\n",
    "    sign=classes[max(range(len(pred)), key = lambda x: pred[x])]\n",
    "    print(sign)\n",
    "    label.configure(foreground='#011638', text=sign)\n",
    "    \n",
    "def show_classify_button(file_path):\n",
    "    classify_b=Button(top,text=\"Classify Image\",command=lambda: classify(file_path),padx=10,pady=5)\n",
    "    classify_b.configure(background='#364156', foreground='white',font=('roboto',10,'bold'))\n",
    "    classify_b.place(relx=0.79,rely=0.46)\n",
    "def upload_image():\n",
    "    try:\n",
    "        file_path=filedialog.askopenfilename()\n",
    "        uploaded=Image.open(file_path)\n",
    "        uploaded.thumbnail(((top.winfo_width()/2.25),(top.winfo_height()/2.25)))\n",
    "        im=ImageTk.PhotoImage(uploaded)\n",
    "        sign_image.configure(image=im)\n",
    "        sign_image.image=im\n",
    "        label.configure(text='')\n",
    "        show_classify_button(file_path)\n",
    "    except:\n",
    "        pass\n",
    "upload=Button(top,text=\"Upload an image\",command=upload_image,padx=10,pady=5)\n",
    "upload.configure(background='#364156', foreground='white',font=('roboto',10,'bold'))\n",
    "upload.pack(side=BOTTOM,pady=50)\n",
    "sign_image.pack(side=BOTTOM,expand=True)\n",
    "label.pack(side=BOTTOM,expand=True)\n",
    "heading = Label(top, text=\"Upload Image to Classify\",pady=20, font=('roboto',20,'bold'))\n",
    "heading.configure(background='#CDCDCD',foreground='#364156')\n",
    "heading.pack()\n",
    "top.mainloop()\n",
    "\n"
   ]
  },
  {
   "cell_type": "code",
   "execution_count": null,
   "id": "8be37974",
   "metadata": {},
   "outputs": [],
   "source": []
  }
 ],
 "metadata": {
  "kernelspec": {
   "display_name": "Python 3 (ipykernel)",
   "language": "python",
   "name": "python3"
  },
  "language_info": {
   "codemirror_mode": {
    "name": "ipython",
    "version": 3
   },
   "file_extension": ".py",
   "mimetype": "text/x-python",
   "name": "python",
   "nbconvert_exporter": "python",
   "pygments_lexer": "ipython3",
   "version": "3.9.12"
  }
 },
 "nbformat": 4,
 "nbformat_minor": 5
}
