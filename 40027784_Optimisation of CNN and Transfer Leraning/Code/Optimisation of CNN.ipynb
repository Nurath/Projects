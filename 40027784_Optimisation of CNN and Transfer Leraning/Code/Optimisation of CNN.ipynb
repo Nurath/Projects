{
 "cells": [
  {
   "cell_type": "markdown",
   "metadata": {},
   "source": [
    "# Importing Libraries"
   ]
  },
  {
   "cell_type": "code",
   "execution_count": 4,
   "metadata": {
    "id": "yDaav7zQImZh"
   },
   "outputs": [],
   "source": [
    "import pandas as pd\n",
    "import numpy as np\n",
    "import matplotlib.pyplot as plt\n",
    "import seaborn as sns\n",
    "from pandas.plotting import scatter_matrix\n",
    "import tensorflow as tf\n",
    "from tensorflow.keras.datasets import cifar10\n",
    "from sklearn.metrics import confusion_matrix\n",
    "from sklearn.metrics import accuracy_score\n",
    "from tensorflow.keras.layers import Conv2D,MaxPooling2D,Flatten,Dense\n",
    "from tensorflow.keras import Sequential\n",
    "from tensorflow.keras import models,layers"
   ]
  },
  {
   "cell_type": "markdown",
   "metadata": {},
   "source": [
    "# Loading Dataset"
   ]
  },
  {
   "cell_type": "code",
   "execution_count": 2,
   "metadata": {
    "id": "GXOangoHImZk"
   },
   "outputs": [],
   "source": [
    "(X_train, y_train), (X_test, y_test) = cifar10.load_data()"
   ]
  },
  {
   "cell_type": "code",
   "execution_count": 3,
   "metadata": {
    "colab": {
     "base_uri": "https://localhost:8080/"
    },
    "id": "VEMh6CMrImZk",
    "outputId": "a7c3e8b3-2ce0-46f1-b64c-0a31b926e102"
   },
   "outputs": [
    {
     "data": {
      "text/plain": [
       "((50000, 32, 32, 3), (50000, 1), (10000, 32, 32, 3), (10000, 1))"
      ]
     },
     "execution_count": 3,
     "metadata": {},
     "output_type": "execute_result"
    }
   ],
   "source": [
    "X_train.shape, y_train.shape,X_test.shape, y_test.shape"
   ]
  },
  {
   "cell_type": "markdown",
   "metadata": {
    "id": "OUqGY_iMImZl"
   },
   "source": [
    "# data Exploration"
   ]
  },
  {
   "cell_type": "code",
   "execution_count": 4,
   "metadata": {
    "colab": {
     "base_uri": "https://localhost:8080/"
    },
    "id": "jUPXAtQWImZm",
    "outputId": "8b3e5be5-28a9-4855-e96e-87aa48671b03"
   },
   "outputs": [
    {
     "data": {
      "text/plain": [
       "array([6, 9, 9, ..., 9, 1, 1], dtype=uint8)"
      ]
     },
     "execution_count": 4,
     "metadata": {},
     "output_type": "execute_result"
    }
   ],
   "source": [
    "y_train = y_train.reshape(-1,)\n",
    "y_test = y_test.reshape(-1,)\n",
    "y_train"
   ]
  },
  {
   "cell_type": "code",
   "execution_count": 387,
   "metadata": {
    "colab": {
     "base_uri": "https://localhost:8080/",
     "height": 283
    },
    "id": "joXh8o3AImZm",
    "outputId": "3f939c46-edbf-458f-987d-b650453b2f1f"
   },
   "outputs": [
    {
     "data": {
      "text/plain": [
       "<matplotlib.image.AxesImage at 0x1df38e8a400>"
      ]
     },
     "execution_count": 387,
     "metadata": {},
     "output_type": "execute_result"
    },
    {
     "data": {
      "image/png": "[encoded data removed]",
      "text/plain": [
       "<Figure size 432x288 with 1 Axes>"
      ]
     },
     "metadata": {
      "needs_background": "light"
     },
     "output_type": "display_data"
    }
   ],
   "source": [
    "plt.imshow(X_train[3])"
   ]
  },
  {
   "cell_type": "code",
   "execution_count": 388,
   "metadata": {
    "colab": {
     "base_uri": "https://localhost:8080/"
    },
    "id": "ijYsKR6Zt8Vb",
    "outputId": "a8bc1093-ea4e-498a-e0e5-8ef5813807d2"
   },
   "outputs": [
    {
     "data": {
      "text/plain": [
       "4"
      ]
     },
     "execution_count": 388,
     "metadata": {},
     "output_type": "execute_result"
    }
   ],
   "source": [
    "y_train[3]"
   ]
  },
  {
   "cell_type": "code",
   "execution_count": 389,
   "metadata": {
    "id": "ZDFsQOOauA58"
   },
   "outputs": [],
   "source": [
    "labels = {'Airplane':0, 'Automobile':1, 'Bird':2, 'Cat':3, 'Deer':4, 'Dog':5, 'Frog':6, 'Horse':7, 'Ship':8,'Truck':9}"
   ]
  },
  {
   "cell_type": "code",
   "execution_count": 390,
   "metadata": {
    "colab": {
     "base_uri": "https://localhost:8080/"
    },
    "id": "wwlKX25xtnw-",
    "outputId": "d7642164-c2ae-4dbe-f98c-19bf9c1db34e"
   },
   "outputs": [
    {
     "data": {
      "text/plain": [
       "0    5000\n",
       "1    5000\n",
       "2    5000\n",
       "3    5000\n",
       "4    5000\n",
       "5    5000\n",
       "6    5000\n",
       "7    5000\n",
       "8    5000\n",
       "9    5000\n",
       "dtype: int64"
      ]
     },
     "execution_count": 390,
     "metadata": {},
     "output_type": "execute_result"
    }
   ],
   "source": [
    "pd.DataFrame(y_train).value_counts()"
   ]
  },
  {
   "cell_type": "code",
   "execution_count": 527,
   "metadata": {},
   "outputs": [
    {
     "data": {
      "text/plain": [
       "0    1000\n",
       "1    1000\n",
       "2    1000\n",
       "3    1000\n",
       "4    1000\n",
       "5    1000\n",
       "6    1000\n",
       "7    1000\n",
       "8    1000\n",
       "9    1000\n",
       "dtype: int64"
      ]
     },
     "execution_count": 527,
     "metadata": {},
     "output_type": "execute_result"
    }
   ],
   "source": [
    "pd.DataFrame(y_test).value_counts()"
   ]
  },
  {
   "cell_type": "markdown",
   "metadata": {
    "id": "rZOKp6k1ImZn"
   },
   "source": [
    "# Normalising data"
   ]
  },
  {
   "cell_type": "code",
   "execution_count": 5,
   "metadata": {
    "id": "1qJ2mdotImZn"
   },
   "outputs": [],
   "source": [
    "X_train = X_train / 255.0\n",
    "X_test = X_test / 255.0"
   ]
  },
  {
   "cell_type": "markdown",
   "metadata": {},
   "source": [
    "## User Input"
   ]
  },
  {
   "cell_type": "code",
   "execution_count": 474,
   "metadata": {
    "colab": {
     "base_uri": "https://localhost:8080/"
    },
    "id": "3Eb5tdsQN9Gu",
    "outputId": "743db5d2-37ea-4c3d-aede-ba3b8c8c4f95"
   },
   "outputs": [],
   "source": [
    "labels = dict(zip(labels.values(),labels.keys()))"
   ]
  },
  {
   "cell_type": "code",
   "execution_count": 475,
   "metadata": {},
   "outputs": [
    {
     "data": {
      "text/plain": [
       "{0: 'Airplane',\n",
       " 1: 'Automobile',\n",
       " 2: 'Bird',\n",
       " 3: 'Cat',\n",
       " 4: 'Deer',\n",
       " 5: 'Dog',\n",
       " 6: 'Frog',\n",
       " 7: 'Horse',\n",
       " 8: 'Ship',\n",
       " 9: 'Truck'}"
      ]
     },
     "execution_count": 475,
     "metadata": {},
     "output_type": "execute_result"
    }
   ],
   "source": [
    "labels"
   ]
  },
  {
   "cell_type": "code",
   "execution_count": 477,
   "metadata": {
    "id": "I_wF7izEQhgs"
   },
   "outputs": [],
   "source": [
    "from PIL import Image\n"
   ]
  },
  {
   "cell_type": "code",
   "execution_count": 63,
   "metadata": {},
   "outputs": [],
   "source": [
    "from keras.models import load_model"
   ]
  },
  {
   "cell_type": "code",
   "execution_count": 1,
   "metadata": {},
   "outputs": [
    {
     "name": "stderr",
     "output_type": "stream",
     "text": [
      "Exception in Tkinter callback\n",
      "Traceback (most recent call last):\n",
      "  File \"C:\\ProgramData\\Anaconda3\\lib\\tkinter\\__init__.py\", line 1892, in __call__\n",
      "    return self.func(*args)\n",
      "  File \"C:\\Users\\40027784\\AppData\\Local\\Temp\\ipykernel_31224\\38986147.py\", line 44, in <lambda>\n",
      "    classify_b=Button(top,text=\"Classify Image\",command=lambda: classify(file_path),padx=10,pady=5)\n",
      "  File \"C:\\Users\\40027784\\AppData\\Local\\Temp\\ipykernel_31224\\38986147.py\", line 32, in classify\n",
      "    img1=np.array(img)\n",
      "NameError: name 'np' is not defined\n"
     ]
    }
   ],
   "source": [
    "import tkinter as tk\n",
    "from tkinter import filedialog\n",
    "from tkinter import *\n",
    "from PIL import ImageTk, Image\n",
    "import numpy\n",
    "#load the trained model to classify sign\n",
    "from keras.models import load_model\n",
    "model = load_model('cnn10.h5')\n",
    "#dictionary to label all traffic signs class.\n",
    "classes = {0: 'Airplane',\n",
    " 1: 'Automobile',\n",
    " 2: 'Bird',\n",
    " 3: 'Cat',\n",
    " 4: 'Deer',\n",
    " 5: 'Dog',\n",
    " 6: 'Frog',\n",
    " 7: 'Horse',\n",
    " 8: 'Ship',\n",
    " 9: 'Truck'}\n",
    "#initialise GUI\n",
    "top=tk.Tk()\n",
    "top.geometry('800x600')\n",
    "top.title('Image classification')\n",
    "top.configure(background='#CDCDCD')\n",
    "label=Label(top,background='#CDCDCD', font=('arial',15,'bold'))\n",
    "sign_image = Label(top)\n",
    "# print(sign_image)\n",
    "\n",
    "def classify(file_path):\n",
    "    img = Image.open(file_path)\n",
    "    img=img.resize((32,32))\n",
    "    img1=np.array(img)\n",
    "    img1=np.reshape(img1,[-1, 32, 32, 3])\n",
    "    img1=img1.astype('float')\n",
    "    img1/=255\n",
    "    pred = model.predict([img1])[0]\n",
    "    print(pred)\n",
    "    #     sign = classes[pred+1]\n",
    "    sign=classes[max(range(len(pred)), key = lambda x: pred[x])]\n",
    "    print(sign)\n",
    "    label.configure(foreground='#011638', text=sign)\n",
    "    \n",
    "def show_classify_button(file_path):\n",
    "    classify_b=Button(top,text=\"Classify Image\",command=lambda: classify(file_path),padx=10,pady=5)\n",
    "    classify_b.configure(background='#364156', foreground='white',font=('arial',10,'bold'))\n",
    "    classify_b.place(relx=0.79,rely=0.46)\n",
    "def upload_image():\n",
    "    try:\n",
    "        file_path=filedialog.askopenfilename()\n",
    "        uploaded=Image.open(file_path)\n",
    "        uploaded.thumbnail(((top.winfo_width()/2.25),(top.winfo_height()/2.25)))\n",
    "        im=ImageTk.PhotoImage(uploaded)\n",
    "        sign_image.configure(image=im)\n",
    "        sign_image.image=im\n",
    "        label.configure(text='')\n",
    "        show_classify_button(file_path)\n",
    "    except:\n",
    "        pass\n",
    "upload=Button(top,text=\"Upload an image\",command=upload_image,padx=10,pady=5)\n",
    "upload.configure(background='#364156', foreground='white',font=('arial',10,'bold'))\n",
    "upload.pack(side=BOTTOM,pady=50)\n",
    "sign_image.pack(side=BOTTOM,expand=True)\n",
    "label.pack(side=BOTTOM,expand=True)\n",
    "heading = Label(top, text=\"Upload Image to Classify\",pady=20, font=('arial',20,'bold'))\n",
    "heading.configure(background='#CDCDCD',foreground='#364156')\n",
    "heading.pack()\n",
    "top.mainloop()\n",
    "\n"
   ]
  },
  {
   "cell_type": "code",
   "execution_count": 10,
   "metadata": {},
   "outputs": [],
   "source": [
    "cnn10=load_model('cnn10.h5')"
   ]
  },
  {
   "cell_type": "markdown",
   "metadata": {},
   "source": [
    "# Model tuning"
   ]
  },
  {
   "cell_type": "code",
   "execution_count": 31,
   "metadata": {},
   "outputs": [],
   "source": [
    "import ssl\n",
    "ssl._create_default_https_context = ssl._create_unverified_context"
   ]
  },
  {
   "cell_type": "code",
   "execution_count": 7,
   "metadata": {},
   "outputs": [
    {
     "name": "stdout",
     "output_type": "stream",
     "text": [
      "Num GPUs Available:  1\n",
      "2.9.1\n"
     ]
    },
    {
     "data": {
      "text/plain": [
       "'3.8.8 (default, Apr 13 2021, 15:08:03) [MSC v.1916 64 bit (AMD64)]'"
      ]
     },
     "execution_count": 7,
     "metadata": {},
     "output_type": "execute_result"
    }
   ],
   "source": [
    "import tensorflow as tf\n",
    "from tensorflow import keras\n",
    "print(\"Num GPUs Available: \", len(tf.config.experimental.list_physical_devices('GPU')))\n",
    "tf.test.is_built_with_cuda()\n",
    "print(tf.version.VERSION)\n",
    "import sys\n",
    "sys.version"
   ]
  },
  {
   "cell_type": "code",
   "execution_count": 10,
   "metadata": {},
   "outputs": [
    {
     "name": "stdout",
     "output_type": "stream",
     "text": [
      "Epoch 1/15\n",
      "782/782 [==============================] - 10s 12ms/step - loss: 1.4126 - accuracy: 0.4853 - val_loss: 1.1102 - val_accuracy: 0.6022\n",
      "Epoch 2/15\n",
      "782/782 [==============================] - 9s 12ms/step - loss: 0.9679 - accuracy: 0.6599 - val_loss: 0.9595 - val_accuracy: 0.6637\n",
      "Epoch 3/15\n",
      "782/782 [==============================] - 9s 11ms/step - loss: 0.7820 - accuracy: 0.7236 - val_loss: 0.8550 - val_accuracy: 0.7006\n",
      "Epoch 4/15\n",
      "782/782 [==============================] - 9s 11ms/step - loss: 0.6587 - accuracy: 0.7688 - val_loss: 0.7479 - val_accuracy: 0.7394\n",
      "Epoch 5/15\n",
      "782/782 [==============================] - 9s 11ms/step - loss: 0.5647 - accuracy: 0.8019 - val_loss: 0.7318 - val_accuracy: 0.7527\n",
      "Epoch 6/15\n",
      "782/782 [==============================] - 9s 12ms/step - loss: 0.4803 - accuracy: 0.8309 - val_loss: 0.7707 - val_accuracy: 0.7517\n",
      "Epoch 7/15\n",
      "782/782 [==============================] - 9s 11ms/step - loss: 0.4101 - accuracy: 0.8576 - val_loss: 0.7619 - val_accuracy: 0.7595\n"
     ]
    },
    {
     "data": {
      "text/plain": [
       "<keras.callbacks.History at 0x29b21f64a00>"
      ]
     },
     "execution_count": 10,
     "metadata": {},
     "output_type": "execute_result"
    }
   ],
   "source": [
    "cnn10 = models.Sequential([\n",
    "    layers.Conv2D(filters=32, kernel_size=(3, 3),activation=\"relu\",kernel_initializer='he_uniform',padding='same',\n",
    "                  input_shape=(32,32,3)),\n",
    "    layers.Conv2D(filters=32, kernel_size=(3, 3),activation='relu',kernel_initializer='he_uniform',padding='same',\n",
    "                  input_shape=(32,32,3)),\n",
    "    layers.MaxPooling2D((3, 3)),\n",
    "    \n",
    "    layers.Conv2D(filters=64, kernel_size=(3, 3),activation=\"relu\",kernel_initializer='he_uniform',padding='same'),\n",
    "    layers.Conv2D(filters=64, kernel_size=(3, 3),activation='relu',kernel_initializer='he_uniform',padding='same'),\n",
    "    layers.MaxPooling2D((3, 3)),\n",
    "    \n",
    "    layers.Conv2D(filters=128, kernel_size=(3, 3),activation=\"relu\",kernel_initializer='he_uniform',padding='same'),\n",
    "    layers.Conv2D(filters=128, kernel_size=(3, 3),activation='relu',kernel_initializer='he_uniform',padding='same'),\n",
    "    layers.MaxPooling2D((3, 3)),\n",
    "    \n",
    "    layers.Flatten(),\n",
    "    layers.Dense(64,activation=\"relu\"),\n",
    "    layers.Dense(10,activation=\"softmax\")\n",
    "])\n",
    "\n",
    "cnn10.compile(\n",
    "   optimizer=\"adam\",\n",
    "   loss=\"sparse_categorical_crossentropy\",\n",
    "   metrics=[\"accuracy\"]\n",
    "\n",
    ")\n",
    "callback=tf.keras.callbacks.EarlyStopping(monitor='val_loss',patience=2)\n",
    "cnn10.fit(X_train, y_train, epochs = 15, batch_size=64, validation_data=(X_test, y_test), verbose= 1,callbacks=callback)"
   ]
  },
  {
   "cell_type": "code",
   "execution_count": 11,
   "metadata": {},
   "outputs": [],
   "source": [
    "cnn10.save('cnn11.h5')"
   ]
  },
  {
   "cell_type": "code",
   "execution_count": 13,
   "metadata": {},
   "outputs": [
    {
     "name": "stdout",
     "output_type": "stream",
     "text": [
      "Epoch 1/10\n",
      "782/782 [==============================] - 10s 12ms/step - loss: 1.4718 - accuracy: 0.4632 - val_loss: 1.1425 - val_accuracy: 0.5945 - lr: 0.0010\n",
      "Epoch 2/10\n",
      "782/782 [==============================] - 9s 11ms/step - loss: 0.9989 - accuracy: 0.6455 - val_loss: 0.9483 - val_accuracy: 0.6689 - lr: 0.0010\n",
      "Epoch 3/10\n",
      "782/782 [==============================] - 9s 11ms/step - loss: 0.7957 - accuracy: 0.7191 - val_loss: 0.8125 - val_accuracy: 0.7199 - lr: 0.0010\n",
      "Epoch 4/10\n",
      "782/782 [==============================] - 9s 11ms/step - loss: 0.6663 - accuracy: 0.7679 - val_loss: 0.8434 - val_accuracy: 0.7165 - lr: 0.0010\n",
      "Epoch 5/10\n",
      "782/782 [==============================] - 9s 11ms/step - loss: 0.5676 - accuracy: 0.8013 - val_loss: 0.7501 - val_accuracy: 0.7446 - lr: 0.0010\n",
      "Epoch 6/10\n",
      "782/782 [==============================] - 9s 11ms/step - loss: 0.4876 - accuracy: 0.8298 - val_loss: 0.7406 - val_accuracy: 0.7518 - lr: 0.0010\n",
      "Epoch 7/10\n",
      "782/782 [==============================] - 9s 11ms/step - loss: 0.4084 - accuracy: 0.8575 - val_loss: 0.7877 - val_accuracy: 0.7509 - lr: 0.0010\n",
      "Epoch 8/10\n",
      "782/782 [==============================] - 9s 11ms/step - loss: 0.3478 - accuracy: 0.8782 - val_loss: 0.8847 - val_accuracy: 0.7487 - lr: 0.0010\n",
      "Epoch 9/10\n",
      "782/782 [==============================] - 9s 11ms/step - loss: 0.1531 - accuracy: 0.9498 - val_loss: 0.8793 - val_accuracy: 0.7736 - lr: 1.0000e-04\n",
      "Epoch 10/10\n",
      "782/782 [==============================] - 9s 12ms/step - loss: 0.1025 - accuracy: 0.9688 - val_loss: 0.9538 - val_accuracy: 0.7706 - lr: 1.0000e-04\n"
     ]
    },
    {
     "data": {
      "text/plain": [
       "<keras.callbacks.History at 0x29b385e0b20>"
      ]
     },
     "execution_count": 13,
     "metadata": {},
     "output_type": "execute_result"
    }
   ],
   "source": [
    "cnn10 = models.Sequential([\n",
    "    layers.Conv2D(filters=32, kernel_size=(3, 3),activation=\"relu\",kernel_initializer='he_uniform',padding='same',\n",
    "                  input_shape=(32,32,3)),\n",
    "    layers.Conv2D(filters=32, kernel_size=(3, 3),activation='relu',kernel_initializer='he_uniform',padding='same',\n",
    "                  input_shape=(32,32,3)),\n",
    "    layers.MaxPooling2D((3, 3)),\n",
    "    \n",
    "    layers.Conv2D(filters=64, kernel_size=(3, 3),activation=\"relu\",kernel_initializer='he_uniform',padding='same'),\n",
    "    layers.Conv2D(filters=64, kernel_size=(3, 3),activation='relu',kernel_initializer='he_uniform',padding='same'),\n",
    "    layers.MaxPooling2D((3, 3)),\n",
    "    \n",
    "    layers.Conv2D(filters=128, kernel_size=(3, 3),activation=\"relu\",kernel_initializer='he_uniform',padding='same'),\n",
    "    layers.Conv2D(filters=128, kernel_size=(3, 3),activation='relu',kernel_initializer='he_uniform',padding='same'),\n",
    "    layers.MaxPooling2D((3, 3)),\n",
    "    \n",
    "    layers.Flatten(),\n",
    "    layers.Dense(64,activation=\"relu\"),\n",
    "    layers.Dense(10,activation=\"softmax\")\n",
    "])\n",
    "\n",
    "cnn10.compile(\n",
    "   optimizer=\"adam\",\n",
    "   loss=\"sparse_categorical_crossentropy\",\n",
    "   metrics=[\"accuracy\"]\n",
    "\n",
    ")\n",
    "callback=tf.keras.callbacks.EarlyStopping(monitor='val_loss',patience=2)\n",
    "lr=tf.keras.callbacks.ReduceLROnPlateau(monitor='val_accuracy',patience=3)\n",
    "cnn10.fit(X_train, y_train, epochs = 10, batch_size=64, validation_data=(X_test, y_test), verbose= 1,callbacks=[lr])"
   ]
  },
  {
   "cell_type": "code",
   "execution_count": 14,
   "metadata": {},
   "outputs": [],
   "source": [
    "cnn10.save('cnn12.h5')"
   ]
  },
  {
   "cell_type": "code",
   "execution_count": 17,
   "metadata": {},
   "outputs": [],
   "source": [
    "def scheduler(epoch,lr):\n",
    "    if epoch not in [5,10,15,20]:\n",
    "        return lr\n",
    "    else:\n",
    "        return lr * tf.math.exp(-0.1)\n",
    "\n",
    "\n",
    "lr1=tf.keras.callbacks.LearningRateScheduler(scheduler)"
   ]
  },
  {
   "cell_type": "code",
   "execution_count": 22,
   "metadata": {},
   "outputs": [
    {
     "name": "stdout",
     "output_type": "stream",
     "text": [
      "Epoch 1/20\n",
      "782/782 [==============================] - 10s 12ms/step - loss: 1.4552 - accuracy: 0.4711 - val_loss: 1.0900 - val_accuracy: 0.6058 - lr: 0.0010\n",
      "Epoch 2/20\n",
      "782/782 [==============================] - 8s 11ms/step - loss: 0.9759 - accuracy: 0.6561 - val_loss: 0.9335 - val_accuracy: 0.6705 - lr: 0.0010\n",
      "Epoch 3/20\n",
      "782/782 [==============================] - 8s 10ms/step - loss: 0.7751 - accuracy: 0.7300 - val_loss: 0.8139 - val_accuracy: 0.7183 - lr: 0.0010\n",
      "Epoch 4/20\n",
      "782/782 [==============================] - 8s 11ms/step - loss: 0.6549 - accuracy: 0.7708 - val_loss: 0.7548 - val_accuracy: 0.7397 - lr: 0.0010\n",
      "Epoch 5/20\n",
      "782/782 [==============================] - 8s 11ms/step - loss: 0.5542 - accuracy: 0.8048 - val_loss: 0.7322 - val_accuracy: 0.7548 - lr: 0.0010\n",
      "Epoch 6/20\n",
      "782/782 [==============================] - 8s 11ms/step - loss: 0.4534 - accuracy: 0.8416 - val_loss: 0.7787 - val_accuracy: 0.7486 - lr: 9.0484e-04\n",
      "Epoch 7/20\n",
      "782/782 [==============================] - 8s 11ms/step - loss: 0.3882 - accuracy: 0.8629 - val_loss: 0.7361 - val_accuracy: 0.7673 - lr: 9.0484e-04\n",
      "Epoch 8/20\n",
      "782/782 [==============================] - 9s 11ms/step - loss: 0.3163 - accuracy: 0.8887 - val_loss: 0.8671 - val_accuracy: 0.7500 - lr: 9.0484e-04\n",
      "Epoch 9/20\n",
      "782/782 [==============================] - 8s 11ms/step - loss: 0.2716 - accuracy: 0.9036 - val_loss: 0.9048 - val_accuracy: 0.7555 - lr: 9.0484e-04\n",
      "Epoch 10/20\n",
      "782/782 [==============================] - 8s 11ms/step - loss: 0.2298 - accuracy: 0.9192 - val_loss: 0.9105 - val_accuracy: 0.7597 - lr: 9.0484e-04\n"
     ]
    }
   ],
   "source": [
    "cnn10 = models.Sequential([\n",
    "    layers.Conv2D(filters=32, kernel_size=(3, 3),activation=\"relu\",kernel_initializer='he_uniform',padding='same',\n",
    "                  input_shape=(32,32,3)),\n",
    "    layers.Conv2D(filters=32, kernel_size=(3, 3),activation='relu',kernel_initializer='he_uniform',padding='same',\n",
    "                  input_shape=(32,32,3)),\n",
    "    layers.MaxPooling2D((3, 3)),\n",
    "    \n",
    "    layers.Conv2D(filters=64, kernel_size=(3, 3),activation=\"relu\",kernel_initializer='he_uniform',padding='same'),\n",
    "    layers.Conv2D(filters=64, kernel_size=(3, 3),activation='relu',kernel_initializer='he_uniform',padding='same'),\n",
    "    layers.MaxPooling2D((3, 3)),\n",
    "    \n",
    "    layers.Conv2D(filters=128, kernel_size=(3, 3),activation=\"relu\",kernel_initializer='he_uniform',padding='same'),\n",
    "    layers.Conv2D(filters=128, kernel_size=(3, 3),activation='relu',kernel_initializer='he_uniform',padding='same'),\n",
    "    layers.MaxPooling2D((3, 3)),\n",
    "    \n",
    "    layers.Flatten(),\n",
    "    layers.Dense(64,activation=\"relu\"),\n",
    "    layers.Dense(10,activation=\"softmax\")\n",
    "])\n",
    "\n",
    "cnn10.compile(\n",
    "   optimizer=\"adam\",\n",
    "   loss=\"sparse_categorical_crossentropy\",\n",
    "   metrics=[\"accuracy\"]\n",
    "\n",
    ")\n",
    "callback=tf.keras.callbacks.EarlyStopping(monitor='val_accuracy',patience=3)\n",
    "lr=tf.keras.callbacks.ReduceLROnPlateau(monitor='val_accuracy',patience=2)\n",
    "h=cnn10.fit(X_train, y_train, epochs = 20, batch_size=64, validation_data=(X_test, y_test), verbose= 1,callbacks=[lr1,callback])"
   ]
  },
  {
   "cell_type": "code",
   "execution_count": 23,
   "metadata": {},
   "outputs": [],
   "source": [
    "cnn10.save('cnn13.h5')"
   ]
  },
  {
   "cell_type": "code",
   "execution_count": 31,
   "metadata": {},
   "outputs": [
    {
     "name": "stdout",
     "output_type": "stream",
     "text": [
      "Epoch 1/20\n",
      "782/782 [==============================] - 10s 12ms/step - loss: 1.4231 - accuracy: 0.4813 - val_loss: 1.2220 - val_accuracy: 0.5687 - lr: 0.0010\n",
      "Epoch 2/20\n",
      "782/782 [==============================] - 9s 11ms/step - loss: 0.9725 - accuracy: 0.6545 - val_loss: 0.9702 - val_accuracy: 0.6566 - lr: 0.0010\n",
      "Epoch 3/20\n",
      "782/782 [==============================] - 8s 10ms/step - loss: 0.7722 - accuracy: 0.7285 - val_loss: 0.8882 - val_accuracy: 0.6866 - lr: 0.0010\n",
      "Epoch 4/20\n",
      "782/782 [==============================] - 8s 11ms/step - loss: 0.6507 - accuracy: 0.7717 - val_loss: 0.7384 - val_accuracy: 0.7507 - lr: 0.0010\n",
      "Epoch 5/20\n",
      "782/782 [==============================] - 9s 11ms/step - loss: 0.5681 - accuracy: 0.8011 - val_loss: 0.7420 - val_accuracy: 0.7482 - lr: 0.0010\n",
      "Epoch 6/20\n",
      "782/782 [==============================] - 9s 11ms/step - loss: 0.4623 - accuracy: 0.8371 - val_loss: 0.7375 - val_accuracy: 0.7594 - lr: 9.0484e-04\n",
      "Epoch 7/20\n",
      "782/782 [==============================] - 9s 11ms/step - loss: 0.3923 - accuracy: 0.8613 - val_loss: 0.7975 - val_accuracy: 0.7526 - lr: 9.0484e-04\n",
      "Epoch 8/20\n",
      "782/782 [==============================] - 8s 11ms/step - loss: 0.3310 - accuracy: 0.8832 - val_loss: 0.8257 - val_accuracy: 0.7551 - lr: 9.0484e-04\n",
      "Epoch 9/20\n",
      "782/782 [==============================] - 9s 11ms/step - loss: 0.2797 - accuracy: 0.8994 - val_loss: 0.8572 - val_accuracy: 0.7523 - lr: 9.0484e-04\n",
      "Epoch 10/20\n",
      "782/782 [==============================] - 9s 11ms/step - loss: 0.2287 - accuracy: 0.9186 - val_loss: 0.9103 - val_accuracy: 0.7613 - lr: 9.0484e-04\n",
      "Epoch 11/20\n",
      "782/782 [==============================] - 9s 11ms/step - loss: 0.1733 - accuracy: 0.9383 - val_loss: 1.0439 - val_accuracy: 0.7636 - lr: 8.1873e-04\n",
      "Epoch 12/20\n",
      "782/782 [==============================] - 9s 11ms/step - loss: 0.1498 - accuracy: 0.9460 - val_loss: 1.1129 - val_accuracy: 0.7557 - lr: 8.1873e-04\n",
      "Epoch 13/20\n",
      "782/782 [==============================] - 9s 11ms/step - loss: 0.1402 - accuracy: 0.9512 - val_loss: 1.1531 - val_accuracy: 0.7618 - lr: 8.1873e-04\n",
      "Epoch 14/20\n",
      "782/782 [==============================] - 9s 11ms/step - loss: 0.1269 - accuracy: 0.9549 - val_loss: 1.2783 - val_accuracy: 0.7529 - lr: 8.1873e-04\n",
      "Epoch 15/20\n",
      "782/782 [==============================] - 9s 11ms/step - loss: 0.1142 - accuracy: 0.9600 - val_loss: 1.2427 - val_accuracy: 0.7534 - lr: 8.1873e-04\n",
      "Epoch 16/20\n",
      "782/782 [==============================] - 9s 11ms/step - loss: 0.0946 - accuracy: 0.9664 - val_loss: 1.3950 - val_accuracy: 0.7578 - lr: 7.4082e-04\n",
      "Epoch 17/20\n",
      "782/782 [==============================] - 9s 11ms/step - loss: 0.0862 - accuracy: 0.9705 - val_loss: 1.4322 - val_accuracy: 0.7451 - lr: 7.4082e-04\n",
      "Epoch 18/20\n",
      "782/782 [==============================] - 9s 11ms/step - loss: 0.0859 - accuracy: 0.9700 - val_loss: 1.4029 - val_accuracy: 0.7530 - lr: 7.4082e-04\n",
      "Epoch 19/20\n",
      "782/782 [==============================] - 9s 11ms/step - loss: 0.0792 - accuracy: 0.9725 - val_loss: 1.4564 - val_accuracy: 0.7581 - lr: 7.4082e-04\n",
      "Epoch 20/20\n",
      "782/782 [==============================] - 9s 11ms/step - loss: 0.0798 - accuracy: 0.9721 - val_loss: 1.4650 - val_accuracy: 0.7507 - lr: 7.4082e-04\n"
     ]
    }
   ],
   "source": [
    "cnn10 = models.Sequential([\n",
    "    layers.Conv2D(filters=32, kernel_size=(3, 3),activation=\"relu\",kernel_initializer='he_uniform',padding='same',input_shape=(32,32,3)),\n",
    "    layers.Conv2D(filters=32, kernel_size=(3, 3),activation='relu',kernel_initializer='he_uniform',padding='same',input_shape=(32,32,3)),\n",
    "    layers.MaxPooling2D((3, 3)),\n",
    "    \n",
    "    layers.Conv2D(filters=64, kernel_size=(3, 3),activation=\"relu\",kernel_initializer='he_uniform',padding='same'),\n",
    "    layers.Conv2D(filters=64, kernel_size=(3, 3),activation='relu',kernel_initializer='he_uniform',padding='same'),\n",
    "    layers.MaxPooling2D((3, 3)),\n",
    "    \n",
    "    layers.Conv2D(filters=128, kernel_size=(3, 3),activation=\"relu\",kernel_initializer='he_uniform',padding='same'),\n",
    "    layers.Conv2D(filters=128, kernel_size=(3, 3),activation='relu',kernel_initializer='he_uniform',padding='same'),\n",
    "    layers.MaxPooling2D((3, 3)),\n",
    "    \n",
    "    layers.Flatten(),\n",
    "    layers.Dense(64,activation=\"relu\"),\n",
    "    layers.Dense(10,activation=\"softmax\")\n",
    "])\n",
    "\n",
    "cnn10.compile(\n",
    "   optimizer=\"adam\",\n",
    "   loss=\"sparse_categorical_crossentropy\",\n",
    "   metrics=[\"accuracy\"]\n",
    "\n",
    ")\n",
    "chk=tf.keras.callbacks.ModelCheckpoint(filepath='Checkpoint2/checkpoint',mode='max',monitor='val_accuracy',\n",
    "                                       save_best_only=True,save_weights_only=True)\n",
    "callback=tf.keras.callbacks.EarlyStopping(monitor='val_accuracy',patience=1,mode='max')\n",
    "lr=tf.keras.callbacks.ReduceLROnPlateau(monitor='val_accuracy',patience=2)\n",
    "h=cnn10.fit(X_train, y_train, epochs = 20, batch_size=64, validation_data=(X_test, y_test), verbose= 1,callbacks=[lr1,chk])"
   ]
  },
  {
   "cell_type": "code",
   "execution_count": 32,
   "metadata": {},
   "outputs": [
    {
     "name": "stdout",
     "output_type": "stream",
     "text": [
      "313/313 [==============================] - 5s 4ms/step\n"
     ]
    },
    {
     "data": {
      "text/plain": [
       "array([3, 8, 8, ..., 5, 1, 7], dtype=int64)"
      ]
     },
     "execution_count": 32,
     "metadata": {},
     "output_type": "execute_result"
    }
   ],
   "source": [
    "result8 = cnn10.predict(X_test)\n",
    "res8 = np.argmax(result8,axis=1)\n",
    "res8"
   ]
  },
  {
   "cell_type": "code",
   "execution_count": 33,
   "metadata": {},
   "outputs": [
    {
     "data": {
      "text/plain": [
       "0.7507"
      ]
     },
     "execution_count": 33,
     "metadata": {},
     "output_type": "execute_result"
    }
   ],
   "source": [
    "accuracy_score(res8,y_test)"
   ]
  },
  {
   "cell_type": "code",
   "execution_count": 43,
   "metadata": {},
   "outputs": [
    {
     "data": {
      "text/plain": [
       "<tensorflow.python.training.tracking.util.CheckpointLoadStatus at 0x29b45d37ee0>"
      ]
     },
     "execution_count": 43,
     "metadata": {},
     "output_type": "execute_result"
    }
   ],
   "source": [
    "cnn10.load_weights('Checkpoint2/checkpoint')"
   ]
  },
  {
   "cell_type": "code",
   "execution_count": 44,
   "metadata": {},
   "outputs": [
    {
     "name": "stdout",
     "output_type": "stream",
     "text": [
      "313/313 [==============================] - 1s 4ms/step\n"
     ]
    },
    {
     "data": {
      "text/plain": [
       "array([3, 8, 8, ..., 5, 1, 7], dtype=int64)"
      ]
     },
     "execution_count": 44,
     "metadata": {},
     "output_type": "execute_result"
    }
   ],
   "source": [
    "result8 = cnn10.predict(X_test)\n",
    "res8 = np.argmax(result8,axis=1)\n",
    "res8"
   ]
  },
  {
   "cell_type": "code",
   "execution_count": 45,
   "metadata": {},
   "outputs": [
    {
     "data": {
      "text/plain": [
       "0.7636"
      ]
     },
     "execution_count": 45,
     "metadata": {},
     "output_type": "execute_result"
    }
   ],
   "source": [
    "accuracy_score(res8,y_test)"
   ]
  },
  {
   "cell_type": "code",
   "execution_count": 46,
   "metadata": {},
   "outputs": [],
   "source": [
    "cnn10.save('cnn14.h5')"
   ]
  },
  {
   "cell_type": "code",
   "execution_count": 47,
   "metadata": {},
   "outputs": [
    {
     "name": "stdout",
     "output_type": "stream",
     "text": [
      "Epoch 1/10\n",
      "782/782 [==============================] - 10s 11ms/step - loss: 1.4322 - accuracy: 0.4764 - val_loss: 1.1480 - val_accuracy: 0.5875 - lr: 0.0010\n",
      "Epoch 2/10\n",
      "782/782 [==============================] - 8s 11ms/step - loss: 0.9581 - accuracy: 0.6618 - val_loss: 0.8540 - val_accuracy: 0.6996 - lr: 0.0010\n",
      "Epoch 3/10\n",
      "782/782 [==============================] - 9s 11ms/step - loss: 0.7564 - accuracy: 0.7354 - val_loss: 0.7715 - val_accuracy: 0.7345 - lr: 0.0010\n",
      "Epoch 4/10\n",
      "782/782 [==============================] - 8s 11ms/step - loss: 0.6348 - accuracy: 0.7777 - val_loss: 0.8119 - val_accuracy: 0.7220 - lr: 0.0010\n",
      "Epoch 5/10\n",
      "782/782 [==============================] - 9s 11ms/step - loss: 0.5353 - accuracy: 0.8121 - val_loss: 0.7276 - val_accuracy: 0.7597 - lr: 0.0010\n",
      "Epoch 6/10\n",
      "782/782 [==============================] - 8s 11ms/step - loss: 0.4549 - accuracy: 0.8395 - val_loss: 0.7426 - val_accuracy: 0.7613 - lr: 0.0010\n",
      "Epoch 7/10\n",
      "782/782 [==============================] - 9s 11ms/step - loss: 0.3828 - accuracy: 0.8660 - val_loss: 0.7867 - val_accuracy: 0.7566 - lr: 0.0010\n",
      "Epoch 8/10\n",
      "782/782 [==============================] - 8s 11ms/step - loss: 0.3180 - accuracy: 0.8883 - val_loss: 0.7795 - val_accuracy: 0.7601 - lr: 0.0010\n",
      "Epoch 9/10\n",
      "782/782 [==============================] - 9s 11ms/step - loss: 0.1343 - accuracy: 0.9573 - val_loss: 0.8386 - val_accuracy: 0.7900 - lr: 1.0000e-04\n",
      "Epoch 10/10\n",
      "782/782 [==============================] - 8s 11ms/step - loss: 0.0848 - accuracy: 0.9746 - val_loss: 0.9049 - val_accuracy: 0.7908 - lr: 1.0000e-04\n"
     ]
    },
    {
     "data": {
      "text/plain": [
       "<keras.callbacks.History at 0x29b3fbbb040>"
      ]
     },
     "execution_count": 47,
     "metadata": {},
     "output_type": "execute_result"
    }
   ],
   "source": [
    "cnn10 = models.Sequential([\n",
    "    layers.Conv2D(filters=32, kernel_size=(3, 3),activation=\"relu\",kernel_initializer='he_uniform',padding='same',input_shape=(32,32,3)),\n",
    "    layers.Conv2D(filters=32, kernel_size=(3, 3),activation='relu',kernel_initializer='he_uniform',padding='same',input_shape=(32,32,3)),\n",
    "    layers.MaxPooling2D((3, 3)),\n",
    "    \n",
    "    layers.Conv2D(filters=64, kernel_size=(3, 3),activation=\"relu\",kernel_initializer='he_uniform',padding='same'),\n",
    "    layers.Conv2D(filters=64, kernel_size=(3, 3),activation='relu',kernel_initializer='he_uniform',padding='same'),\n",
    "    layers.MaxPooling2D((3, 3)),\n",
    "    \n",
    "    layers.Conv2D(filters=128, kernel_size=(3, 3),activation=\"relu\",kernel_initializer='he_uniform',padding='same'),\n",
    "    layers.Conv2D(filters=128, kernel_size=(3, 3),activation='relu',kernel_initializer='he_uniform',padding='same'),\n",
    "    layers.MaxPooling2D((3, 3)),\n",
    "    \n",
    "    layers.Flatten(),\n",
    "    layers.Dense(64,activation=\"relu\"),\n",
    "    layers.Dense(10,activation=\"softmax\")\n",
    "])\n",
    "\n",
    "cnn10.compile(\n",
    "   optimizer=\"adam\",\n",
    "   loss=\"sparse_categorical_crossentropy\",\n",
    "   metrics=[\"accuracy\"]\n",
    "\n",
    ")\n",
    "callback=tf.keras.callbacks.EarlyStopping(monitor='val_loss',patience=2)\n",
    "lr=tf.keras.callbacks.ReduceLROnPlateau(monitor='val_accuracy',patience=2)\n",
    "cnn10.fit(X_train, y_train, epochs = 10, batch_size=64, validation_data=(X_test, y_test), verbose= 1,callbacks=[lr])"
   ]
  },
  {
   "cell_type": "code",
   "execution_count": 48,
   "metadata": {},
   "outputs": [],
   "source": [
    "cnn10.save('cnn15.h5')"
   ]
  },
  {
   "cell_type": "markdown",
   "metadata": {},
   "source": [
    "# Testing"
   ]
  },
  {
   "cell_type": "code",
   "execution_count": 76,
   "metadata": {},
   "outputs": [],
   "source": [
    "tf.config.experimental.reset_memory_stats(\n",
    "    'GPU:0'\n",
    ")"
   ]
  },
  {
   "cell_type": "code",
   "execution_count": 77,
   "metadata": {},
   "outputs": [],
   "source": [
    "physical_devices = tf.config.list_physical_devices('GPU')\n",
    "try:\n",
    "    tf.config.experimental.set_memory_growth(physical_devices[0], True)\n",
    "except:\n",
    "  # Invalid device or cannot modify virtual devices once initialized.\n",
    "  pass"
   ]
  },
  {
   "cell_type": "code",
   "execution_count": 78,
   "metadata": {},
   "outputs": [],
   "source": [
    "tf.keras.backend.clear_session()"
   ]
  },
  {
   "cell_type": "markdown",
   "metadata": {},
   "source": [
    "# Continue"
   ]
  },
  {
   "cell_type": "code",
   "execution_count": 50,
   "metadata": {},
   "outputs": [
    {
     "name": "stdout",
     "output_type": "stream",
     "text": [
      "Epoch 1/20\n",
      "782/782 [==============================] - 10s 12ms/step - loss: 1.4118 - accuracy: 0.4881 - val_loss: 1.1155 - val_accuracy: 0.6079 - lr: 0.0010\n",
      "Epoch 2/20\n",
      "782/782 [==============================] - 9s 12ms/step - loss: 0.9567 - accuracy: 0.6636 - val_loss: 0.9193 - val_accuracy: 0.6721 - lr: 0.0010\n",
      "Epoch 3/20\n",
      "782/782 [==============================] - 9s 12ms/step - loss: 0.7728 - accuracy: 0.7293 - val_loss: 0.8291 - val_accuracy: 0.7147 - lr: 0.0010\n",
      "Epoch 4/20\n",
      "782/782 [==============================] - 9s 11ms/step - loss: 0.6518 - accuracy: 0.7716 - val_loss: 0.7622 - val_accuracy: 0.7398 - lr: 0.0010\n",
      "Epoch 5/20\n",
      "782/782 [==============================] - 9s 11ms/step - loss: 0.5532 - accuracy: 0.8048 - val_loss: 0.7748 - val_accuracy: 0.7404 - lr: 0.0010\n",
      "Epoch 6/20\n",
      "782/782 [==============================] - 9s 12ms/step - loss: 0.4730 - accuracy: 0.8339 - val_loss: 0.7573 - val_accuracy: 0.7540 - lr: 0.0010\n",
      "Epoch 7/20\n",
      "782/782 [==============================] - 9s 11ms/step - loss: 0.4009 - accuracy: 0.8586 - val_loss: 0.8079 - val_accuracy: 0.7461 - lr: 0.0010\n",
      "Epoch 8/20\n",
      "782/782 [==============================] - 10s 12ms/step - loss: 0.3402 - accuracy: 0.8797 - val_loss: 0.8683 - val_accuracy: 0.7464 - lr: 0.0010\n",
      "Epoch 9/20\n",
      "782/782 [==============================] - 9s 12ms/step - loss: 0.1521 - accuracy: 0.9513 - val_loss: 0.8721 - val_accuracy: 0.7787 - lr: 1.0000e-04\n",
      "Epoch 10/20\n",
      "782/782 [==============================] - 10s 12ms/step - loss: 0.1003 - accuracy: 0.9692 - val_loss: 0.9473 - val_accuracy: 0.7762 - lr: 1.0000e-04\n",
      "Epoch 11/20\n",
      "782/782 [==============================] - 10s 12ms/step - loss: 0.0735 - accuracy: 0.9795 - val_loss: 1.0205 - val_accuracy: 0.7790 - lr: 1.0000e-04\n",
      "Epoch 12/20\n",
      "782/782 [==============================] - 10s 13ms/step - loss: 0.0523 - accuracy: 0.9876 - val_loss: 1.1254 - val_accuracy: 0.7774 - lr: 1.0000e-04\n",
      "Epoch 13/20\n",
      "782/782 [==============================] - 9s 12ms/step - loss: 0.0364 - accuracy: 0.9925 - val_loss: 1.2129 - val_accuracy: 0.7770 - lr: 1.0000e-04\n",
      "Epoch 14/20\n",
      "782/782 [==============================] - 10s 13ms/step - loss: 0.0210 - accuracy: 0.9976 - val_loss: 1.2355 - val_accuracy: 0.7774 - lr: 1.0000e-05\n",
      "Epoch 15/20\n",
      "782/782 [==============================] - 9s 12ms/step - loss: 0.0189 - accuracy: 0.9979 - val_loss: 1.2601 - val_accuracy: 0.7768 - lr: 1.0000e-05\n",
      "Epoch 16/20\n",
      "782/782 [==============================] - 10s 13ms/step - loss: 0.0172 - accuracy: 0.9984 - val_loss: 1.2634 - val_accuracy: 0.7770 - lr: 1.0000e-06\n",
      "Epoch 17/20\n",
      "782/782 [==============================] - 9s 12ms/step - loss: 0.0171 - accuracy: 0.9985 - val_loss: 1.2664 - val_accuracy: 0.7773 - lr: 1.0000e-06\n",
      "Epoch 18/20\n",
      "782/782 [==============================] - 9s 12ms/step - loss: 0.0169 - accuracy: 0.9985 - val_loss: 1.2667 - val_accuracy: 0.7773 - lr: 1.0000e-07\n",
      "Epoch 19/20\n",
      "782/782 [==============================] - 10s 12ms/step - loss: 0.0168 - accuracy: 0.9985 - val_loss: 1.2671 - val_accuracy: 0.7772 - lr: 1.0000e-07\n",
      "Epoch 20/20\n",
      "782/782 [==============================] - 10s 13ms/step - loss: 0.0168 - accuracy: 0.9985 - val_loss: 1.2671 - val_accuracy: 0.7772 - lr: 1.0000e-08\n"
     ]
    },
    {
     "data": {
      "text/plain": [
       "<keras.callbacks.History at 0x29b48d58220>"
      ]
     },
     "execution_count": 50,
     "metadata": {},
     "output_type": "execute_result"
    }
   ],
   "source": [
    "cnn10 = models.Sequential([\n",
    "    layers.Conv2D(filters=32, kernel_size=(3, 3),activation=\"relu\",kernel_initializer='he_uniform',padding='same',input_shape=(32,32,3)),\n",
    "    layers.Conv2D(filters=32, kernel_size=(3, 3),activation='relu',kernel_initializer='he_uniform',padding='same',input_shape=(32,32,3)),\n",
    "    layers.MaxPooling2D((3, 3)),\n",
    "    \n",
    "    layers.Conv2D(filters=64, kernel_size=(3, 3),activation=\"relu\",kernel_initializer='he_uniform',padding='same'),\n",
    "    layers.Conv2D(filters=64, kernel_size=(3, 3),activation='relu',kernel_initializer='he_uniform',padding='same'),\n",
    "    layers.MaxPooling2D((3, 3)),\n",
    "    \n",
    "    layers.Conv2D(filters=128, kernel_size=(3, 3),activation=\"relu\",kernel_initializer='he_uniform',padding='same'),\n",
    "    layers.Conv2D(filters=128, kernel_size=(3, 3),activation='relu',kernel_initializer='he_uniform',padding='same'),\n",
    "    layers.MaxPooling2D((3, 3)),\n",
    "    \n",
    "    layers.Flatten(),\n",
    "    layers.Dense(64,activation=\"relu\"),\n",
    "    layers.Dense(10,activation=\"softmax\")\n",
    "])\n",
    "\n",
    "cnn10.compile(\n",
    "   optimizer=\"adam\",\n",
    "   loss=\"sparse_categorical_crossentropy\",\n",
    "   metrics=[\"accuracy\"]\n",
    "\n",
    ")\n",
    "chk=tf.keras.callbacks.ModelCheckpoint(filepath='Checkpoint3/checkpoint',mode='max',monitor='val_accuracy',\n",
    "                                       save_best_only=True,save_weights_only=True)\n",
    "lr=tf.keras.callbacks.ReduceLROnPlateau(monitor='val_accuracy',patience=2)\n",
    "cnn10.fit(X_train, y_train, epochs = 20, batch_size=64, validation_data=(X_test, y_test), verbose= 1,callbacks=[lr,chk])"
   ]
  },
  {
   "cell_type": "code",
   "execution_count": 51,
   "metadata": {
    "scrolled": true
   },
   "outputs": [
    {
     "data": {
      "image/png": "[encoded data removed]",
      "text/plain": [
       "<Figure size 432x288 with 1 Axes>"
      ]
     },
     "metadata": {
      "needs_background": "light"
     },
     "output_type": "display_data"
    }
   ],
   "source": [
    "plt.plot(h.history['loss'])\n",
    "plt.plot(h.history['val_loss'])\n",
    "plt.title('model loss')\n",
    "plt.ylabel('loss')\n",
    "plt.xlabel('epoch')\n",
    "plt.legend(['train', 'test'], loc='upper left')\n",
    "plt.show()"
   ]
  },
  {
   "cell_type": "code",
   "execution_count": 52,
   "metadata": {},
   "outputs": [
    {
     "data": {
      "text/plain": [
       "<tensorflow.python.training.tracking.util.CheckpointLoadStatus at 0x29b48a98790>"
      ]
     },
     "execution_count": 52,
     "metadata": {},
     "output_type": "execute_result"
    }
   ],
   "source": [
    "cnn10.load_weights('Checkpoint3/checkpoint')"
   ]
  },
  {
   "cell_type": "code",
   "execution_count": 53,
   "metadata": {},
   "outputs": [
    {
     "name": "stdout",
     "output_type": "stream",
     "text": [
      "313/313 [==============================] - 1s 4ms/step\n"
     ]
    },
    {
     "data": {
      "text/plain": [
       "0.779"
      ]
     },
     "execution_count": 53,
     "metadata": {},
     "output_type": "execute_result"
    }
   ],
   "source": [
    "result9 = cnn10.predict(X_test)\n",
    "res9 = np.argmax(result9,axis=1)\n",
    "accuracy_score(y_test,res9)"
   ]
  },
  {
   "cell_type": "code",
   "execution_count": 54,
   "metadata": {},
   "outputs": [],
   "source": [
    "cnn10.save('cnn16.h5')"
   ]
  },
  {
   "cell_type": "code",
   "execution_count": 9,
   "metadata": {},
   "outputs": [
    {
     "name": "stdout",
     "output_type": "stream",
     "text": [
      "Epoch 1/20\n",
      "782/782 [==============================] - 10s 12ms/step - loss: 1.4675 - accuracy: 0.4666 - val_loss: 1.1527 - val_accuracy: 0.5899 - lr: 0.0010\n",
      "Epoch 2/20\n",
      "782/782 [==============================] - 9s 11ms/step - loss: 0.9975 - accuracy: 0.6496 - val_loss: 0.9582 - val_accuracy: 0.6734 - lr: 0.0010\n",
      "Epoch 3/20\n",
      "782/782 [==============================] - 9s 11ms/step - loss: 0.7927 - accuracy: 0.7237 - val_loss: 0.7878 - val_accuracy: 0.7263 - lr: 0.0010\n",
      "Epoch 4/20\n",
      "782/782 [==============================] - 9s 11ms/step - loss: 0.6632 - accuracy: 0.7674 - val_loss: 0.7892 - val_accuracy: 0.7282 - lr: 0.0010\n",
      "Epoch 5/20\n",
      "782/782 [==============================] - 9s 11ms/step - loss: 0.5630 - accuracy: 0.8043 - val_loss: 0.7500 - val_accuracy: 0.7471 - lr: 0.0010\n",
      "Epoch 6/20\n",
      "782/782 [==============================] - 9s 11ms/step - loss: 0.4814 - accuracy: 0.8318 - val_loss: 0.7837 - val_accuracy: 0.7448 - lr: 0.0010\n",
      "Epoch 7/20\n",
      "782/782 [==============================] - 9s 11ms/step - loss: 0.4079 - accuracy: 0.8553 - val_loss: 0.7483 - val_accuracy: 0.7582 - lr: 0.0010\n",
      "Epoch 8/20\n",
      "782/782 [==============================] - 9s 11ms/step - loss: 0.3455 - accuracy: 0.8772 - val_loss: 0.8424 - val_accuracy: 0.7522 - lr: 0.0010\n",
      "Epoch 9/20\n",
      "782/782 [==============================] - 9s 11ms/step - loss: 0.2906 - accuracy: 0.8966 - val_loss: 0.8846 - val_accuracy: 0.7488 - lr: 0.0010\n"
     ]
    },
    {
     "data": {
      "text/plain": [
       "<keras.callbacks.History at 0x21678cd00d0>"
      ]
     },
     "execution_count": 9,
     "metadata": {},
     "output_type": "execute_result"
    }
   ],
   "source": [
    "cnn10 = models.Sequential([\n",
    "    layers.Conv2D(filters=32, kernel_size=(3, 3),activation=\"relu\",kernel_initializer='he_uniform',padding='same',input_shape=(32,32,3)),\n",
    "    layers.Conv2D(filters=32, kernel_size=(3, 3),activation='relu',kernel_initializer='he_uniform',padding='same',input_shape=(32,32,3)),\n",
    "    layers.MaxPooling2D((3, 3)),\n",
    "    \n",
    "    layers.Conv2D(filters=64, kernel_size=(3, 3),activation=\"relu\",kernel_initializer='he_uniform',padding='same'),\n",
    "    layers.Conv2D(filters=64, kernel_size=(3, 3),activation='relu',kernel_initializer='he_uniform',padding='same'),\n",
    "    layers.MaxPooling2D((3, 3)),\n",
    "    \n",
    "    layers.Conv2D(filters=128, kernel_size=(3, 3),activation=\"relu\",kernel_initializer='he_uniform',padding='same'),\n",
    "    layers.Conv2D(filters=128, kernel_size=(3, 3),activation='relu',kernel_initializer='he_uniform',padding='same'),\n",
    "    layers.MaxPooling2D((3, 3)),\n",
    "    \n",
    "    layers.Flatten(),\n",
    "    layers.Dense(64,activation=\"relu\"),\n",
    "    layers.Dense(10,activation=\"softmax\")\n",
    "])\n",
    "\n",
    "cnn10.compile(\n",
    "   optimizer=\"adam\",\n",
    "   loss=\"sparse_categorical_crossentropy\",\n",
    "   metrics=[\"accuracy\"]\n",
    "\n",
    ")\n",
    "chk=tf.keras.callbacks.ModelCheckpoint(filepath='Checkpoint4/checkpoint',mode='max',monitor='val_accuracy',\n",
    "                                       save_best_only=True,save_weights_only=True)\n",
    "callback=tf.keras.callbacks.EarlyStopping(monitor='val_loss',patience=2)\n",
    "lr=tf.keras.callbacks.ReduceLROnPlateau(monitor='val_accuracy',patience=2)\n",
    "cnn10.fit(X_train, y_train, epochs = 20, batch_size=64, validation_data=(X_test, y_test), verbose= 1,callbacks=[lr,chk,callback])"
   ]
  },
  {
   "cell_type": "code",
   "execution_count": 10,
   "metadata": {},
   "outputs": [],
   "source": [
    "cnn10.save('cnn17.h5')"
   ]
  },
  {
   "cell_type": "markdown",
   "metadata": {},
   "source": [
    "# Hyperparameter tuning "
   ]
  },
  {
   "cell_type": "code",
   "execution_count": 13,
   "metadata": {},
   "outputs": [],
   "source": [
    "from keras_tuner import RandomSearch\n",
    "from keras_tuner.engine.hyperparameters import HyperParameters"
   ]
  },
  {
   "cell_type": "code",
   "execution_count": 30,
   "metadata": {},
   "outputs": [],
   "source": [
    "def build_model(hp):\n",
    "    model=Sequential()\n",
    "    \n",
    "    #Buiding the convolutional layer\n",
    "    model.add(Conv2D(filters=32,kernel_size=hp.Choice('kernel_size_1',values=[3,5]),\n",
    "                     kernel_initializer='he_uniform',padding='same',activation='relu',input_shape=(32,32,3)))\n",
    "    model.add(Conv2D(filters=32,kernel_size=hp.Choice('kernel_size_2',values=[3,5]),\n",
    "                     kernel_initializer='he_uniform',padding='same',activation='relu',input_shape=(32,32,3)))\n",
    "    model.add(MaxPooling2D(pool_size=hp.Choice('pool_1',values=[2,3])))\n",
    "    \n",
    "    #2nd \n",
    "    model.add(Conv2D(filters=64,kernel_size=hp.Choice('kernel_size_3',values=[3,5]),\n",
    "                     kernel_initializer='he_uniform',padding='same',activation='relu'))\n",
    "    model.add(Conv2D(filters=64,kernel_size=hp.Choice('kernel_size_4',values=[3,5]),\n",
    "                     kernel_initializer='he_uniform',padding='same',activation='relu'))\n",
    "    model.add(MaxPooling2D(pool_size=hp.Choice('pool_2',values=[2,3]))) \n",
    "    \n",
    "    #3rd\n",
    "    model.add(Conv2D(filters=128,kernel_size=hp.Choice('kernel_size_5',values=[3,5]),\n",
    "                     kernel_initializer='he_uniform',padding='same',activation='relu'))\n",
    "    model.add(Conv2D(filters=128,kernel_size=hp.Choice('kernel_size_6',values=[3,5]),\n",
    "                     kernel_initializer='he_uniform',padding='same',activation='relu'))\n",
    "    model.add(MaxPooling2D(pool_size=hp.Choice('pool_3',values=[2,3])))\n",
    "    \n",
    "    #Flattening the feature map\n",
    "    model.add(Flatten())\n",
    "\n",
    "    #Adding ANN layers \n",
    "    model.add(Dense(units=hp.Int('Unit_1',min_value=64,max_value=256,step=16),activation='relu'))\n",
    "   \n",
    "    #adding the final layer\n",
    "    model.add(Dense(units=10,activation='softmax'))\n",
    "\n",
    "    #compiling the model\n",
    "    model.compile(optimizer='adam',loss='sparse_categorical_crossentropy',metrics=['accuracy'])\n",
    "    return model"
   ]
  },
  {
   "cell_type": "code",
   "execution_count": 31,
   "metadata": {},
   "outputs": [],
   "source": [
    "tuner=RandomSearch(build_model,\n",
    "                   objective='val_accuracy',\n",
    "                   max_trials=3,overwrite=True\n",
    "                  )"
   ]
  },
  {
   "cell_type": "code",
   "execution_count": 32,
   "metadata": {},
   "outputs": [
    {
     "name": "stdout",
     "output_type": "stream",
     "text": [
      "Trial 3 Complete [00h 00m 41s]\n",
      "val_accuracy: 0.7350000143051147\n",
      "\n",
      "Best val_accuracy So Far: 0.7350000143051147\n",
      "Total elapsed time: 00h 02m 02s\n",
      "INFO:tensorflow:Oracle triggered exit\n"
     ]
    }
   ],
   "source": [
    "tuner.search(X_train,y_train,epochs=3,validation_split=0.2,verbose=2)"
   ]
  },
  {
   "cell_type": "code",
   "execution_count": 36,
   "metadata": {},
   "outputs": [],
   "source": [
    "model=tuner.get_best_models(num_models=1)[0]"
   ]
  },
  {
   "cell_type": "code",
   "execution_count": 37,
   "metadata": {},
   "outputs": [
    {
     "name": "stdout",
     "output_type": "stream",
     "text": [
      "Model: \"sequential\"\n",
      "_________________________________________________________________\n",
      " Layer (type)                Output Shape              Param #   \n",
      "=================================================================\n",
      " conv2d (Conv2D)             (None, 32, 32, 32)        896       \n",
      "                                                                 \n",
      " conv2d_1 (Conv2D)           (None, 32, 32, 32)        9248      \n",
      "                                                                 \n",
      " max_pooling2d (MaxPooling2D  (None, 16, 16, 32)       0         \n",
      " )                                                               \n",
      "                                                                 \n",
      " conv2d_2 (Conv2D)           (None, 16, 16, 64)        51264     \n",
      "                                                                 \n",
      " conv2d_3 (Conv2D)           (None, 16, 16, 64)        36928     \n",
      "                                                                 \n",
      " max_pooling2d_1 (MaxPooling  (None, 5, 5, 64)         0         \n",
      " 2D)                                                             \n",
      "                                                                 \n",
      " conv2d_4 (Conv2D)           (None, 5, 5, 128)         204928    \n",
      "                                                                 \n",
      " conv2d_5 (Conv2D)           (None, 5, 5, 128)         409728    \n",
      "                                                                 \n",
      " max_pooling2d_2 (MaxPooling  (None, 1, 1, 128)        0         \n",
      " 2D)                                                             \n",
      "                                                                 \n",
      " flatten (Flatten)           (None, 128)               0         \n",
      "                                                                 \n",
      " dense (Dense)               (None, 80)                10320     \n",
      "                                                                 \n",
      " dense_1 (Dense)             (None, 10)                810       \n",
      "                                                                 \n",
      "=================================================================\n",
      "Total params: 724,122\n",
      "Trainable params: 724,122\n",
      "Non-trainable params: 0\n",
      "_________________________________________________________________\n"
     ]
    }
   ],
   "source": [
    "model.summary()"
   ]
  },
  {
   "cell_type": "code",
   "execution_count": 38,
   "metadata": {},
   "outputs": [
    {
     "name": "stdout",
     "output_type": "stream",
     "text": [
      "Epoch 1/10\n",
      "1563/1563 [==============================] - 19s 12ms/step - loss: 0.6262 - accuracy: 0.7819 - val_loss: 0.7361 - val_accuracy: 0.7467\n",
      "Epoch 2/10\n",
      "1563/1563 [==============================] - 19s 12ms/step - loss: 0.5070 - accuracy: 0.8241 - val_loss: 0.7125 - val_accuracy: 0.7646\n",
      "Epoch 3/10\n",
      "1563/1563 [==============================] - 18s 12ms/step - loss: 0.4135 - accuracy: 0.8568 - val_loss: 0.7506 - val_accuracy: 0.7561\n",
      "Epoch 4/10\n",
      "1563/1563 [==============================] - 18s 12ms/step - loss: 0.3370 - accuracy: 0.8822 - val_loss: 0.8394 - val_accuracy: 0.7567\n",
      "Epoch 5/10\n",
      "1563/1563 [==============================] - 18s 12ms/step - loss: 0.2780 - accuracy: 0.9028 - val_loss: 0.8364 - val_accuracy: 0.7599\n",
      "Epoch 6/10\n",
      "1563/1563 [==============================] - 18s 12ms/step - loss: 0.2320 - accuracy: 0.9185 - val_loss: 0.8875 - val_accuracy: 0.7623\n",
      "Epoch 7/10\n",
      "1563/1563 [==============================] - 18s 12ms/step - loss: 0.2038 - accuracy: 0.9292 - val_loss: 0.9710 - val_accuracy: 0.7547\n",
      "Epoch 8/10\n",
      "1563/1563 [==============================] - 18s 12ms/step - loss: 0.1845 - accuracy: 0.9363 - val_loss: 1.0098 - val_accuracy: 0.7624\n",
      "Epoch 9/10\n",
      "1563/1563 [==============================] - 18s 12ms/step - loss: 0.1729 - accuracy: 0.9404 - val_loss: 1.0963 - val_accuracy: 0.7556\n",
      "Epoch 10/10\n",
      "1563/1563 [==============================] - 18s 12ms/step - loss: 0.1520 - accuracy: 0.9483 - val_loss: 1.1260 - val_accuracy: 0.7663\n"
     ]
    }
   ],
   "source": [
    "answer=model.fit(X_train,y_train,epochs=10,validation_data=(X_test,y_test))"
   ]
  },
  {
   "cell_type": "code",
   "execution_count": 39,
   "metadata": {},
   "outputs": [],
   "source": [
    "model.save('hyp1cnn10.h5')"
   ]
  },
  {
   "cell_type": "code",
   "execution_count": 40,
   "metadata": {},
   "outputs": [],
   "source": [
    "def build_model(hp):\n",
    "    model=Sequential()\n",
    "    #Buiding the convolutional layer\n",
    "    model.add(Conv2D(filters=hp.Int('filter_1',min_value=16,max_value=256,step=16),\n",
    "                     kernel_size=hp.Choice('kernel_size_1',values=[3,5]),\n",
    "                     kernel_initializer='he_uniform',padding='same',activation='relu',input_shape=(32,32,3)))\n",
    "    model.add(Conv2D(filters=hp.Int('filter_2',min_value=16,max_value=256,step=16),\n",
    "                     kernel_size=hp.Choice('kernel_size_2',values=[3,5]),\n",
    "                     kernel_initializer='he_uniform',padding='same',activation='relu',input_shape=(32,32,3)))\n",
    "    model.add(MaxPooling2D(pool_size=hp.Choice('pool_1',values=[2,3])))\n",
    "    \n",
    "    #2nd \n",
    "    model.add(Conv2D(filters=hp.Int('filter_3',min_value=16,max_value=256,step=16),\n",
    "                     kernel_size=hp.Choice('kernel_size_3',values=[3,5]),\n",
    "                     kernel_initializer='he_uniform',padding='same',activation='relu'))\n",
    "    model.add(Conv2D(filters=hp.Int('filter_4',min_value=16,max_value=256,step=16),\n",
    "                     kernel_size=hp.Choice('kernel_size_4',values=[3,5]),\n",
    "                     kernel_initializer='he_uniform',padding='same',activation='relu'))\n",
    "    model.add(MaxPooling2D(pool_size=hp.Choice('pool_2',values=[2,3]))) \n",
    "    \n",
    "    #3rd\n",
    "    model.add(Conv2D(filters=hp.Int('filter_5',min_value=16,max_value=256,step=16),\n",
    "                     kernel_size=hp.Choice('kernel_size_5',values=[3,5]),\n",
    "                     kernel_initializer='he_uniform',padding='same',activation='relu'))\n",
    "    model.add(Conv2D(filters=hp.Int('filter_6',min_value=16,max_value=256,step=16),\n",
    "                     kernel_size=hp.Choice('kernel_size_6',values=[3,5]),\n",
    "                     kernel_initializer='he_uniform',padding='same',activation='relu'))\n",
    "    model.add(MaxPooling2D(pool_size=hp.Choice('pool_3',values=[2,3])))\n",
    "    \n",
    "    #Flattening the feature map\n",
    "    model.add(Flatten())\n",
    "    #Adding ANN layers \n",
    "    model.add(Dense(units=hp.Int('Unit_1',min_value=64,max_value=256,step=16),activation='relu'))\n",
    "    #adding the final layer\n",
    "    model.add(Dense(units=10,activation='softmax'))\n",
    "    #compiling the model\n",
    "    model.compile(optimizer='adam',loss='sparse_categorical_crossentropy',metrics=['accuracy'])\n",
    "    return model"
   ]
  },
  {
   "cell_type": "code",
   "execution_count": 42,
   "metadata": {},
   "outputs": [
    {
     "name": "stdout",
     "output_type": "stream",
     "text": [
      "Trial 3 Complete [00h 01m 34s]\n",
      "val_accuracy: 0.6669999957084656\n",
      "\n",
      "Best val_accuracy So Far: 0.7419999837875366\n",
      "Total elapsed time: 00h 04m 03s\n",
      "INFO:tensorflow:Oracle triggered exit\n"
     ]
    }
   ],
   "source": [
    "tuner=RandomSearch(build_model,\n",
    "                   objective='val_accuracy',\n",
    "                   max_trials=3,\n",
    "                   overwrite=True\n",
    "                  )\n",
    "tuner.search(X_train,y_train,epochs=3,validation_data=(X_test,y_test),verbose=2)"
   ]
  },
  {
   "cell_type": "code",
   "execution_count": 46,
   "metadata": {},
   "outputs": [
    {
     "name": "stdout",
     "output_type": "stream",
     "text": [
      "Model: \"sequential\"\n",
      "_________________________________________________________________\n",
      " Layer (type)                Output Shape              Param #   \n",
      "=================================================================\n",
      " conv2d (Conv2D)             (None, 32, 32, 32)        896       \n",
      "                                                                 \n",
      " conv2d_1 (Conv2D)           (None, 32, 32, 128)       102528    \n",
      "                                                                 \n",
      " max_pooling2d (MaxPooling2D  (None, 16, 16, 128)      0         \n",
      " )                                                               \n",
      "                                                                 \n",
      " conv2d_2 (Conv2D)           (None, 16, 16, 144)       166032    \n",
      "                                                                 \n",
      " conv2d_3 (Conv2D)           (None, 16, 16, 224)       806624    \n",
      "                                                                 \n",
      " max_pooling2d_1 (MaxPooling  (None, 8, 8, 224)        0         \n",
      " 2D)                                                             \n",
      "                                                                 \n",
      " conv2d_4 (Conv2D)           (None, 8, 8, 96)          537696    \n",
      "                                                                 \n",
      " conv2d_5 (Conv2D)           (None, 8, 8, 176)         422576    \n",
      "                                                                 \n",
      " max_pooling2d_2 (MaxPooling  (None, 2, 2, 176)        0         \n",
      " 2D)                                                             \n",
      "                                                                 \n",
      " flatten (Flatten)           (None, 704)               0         \n",
      "                                                                 \n",
      " dense (Dense)               (None, 80)                56400     \n",
      "                                                                 \n",
      " dense_1 (Dense)             (None, 10)                810       \n",
      "                                                                 \n",
      "=================================================================\n",
      "Total params: 2,093,562\n",
      "Trainable params: 2,093,562\n",
      "Non-trainable params: 0\n",
      "_________________________________________________________________\n"
     ]
    }
   ],
   "source": [
    "model=tuner.get_best_models(num_models=1)[0]\n",
    "model.summary()"
   ]
  },
  {
   "cell_type": "code",
   "execution_count": 47,
   "metadata": {},
   "outputs": [
    {
     "name": "stdout",
     "output_type": "stream",
     "text": [
      "Epoch 1/10\n",
      "1563/1563 [==============================] - 30s 19ms/step - loss: 0.5772 - accuracy: 0.8011 - val_loss: 0.7109 - val_accuracy: 0.7572\n",
      "Epoch 2/10\n",
      "1563/1563 [==============================] - 29s 18ms/step - loss: 0.4693 - accuracy: 0.8380 - val_loss: 0.6823 - val_accuracy: 0.7727\n",
      "Epoch 3/10\n",
      "1563/1563 [==============================] - 29s 19ms/step - loss: 0.3814 - accuracy: 0.8673 - val_loss: 0.7452 - val_accuracy: 0.7682\n",
      "Epoch 4/10\n",
      "1563/1563 [==============================] - 29s 19ms/step - loss: 0.3135 - accuracy: 0.8895 - val_loss: 0.9798 - val_accuracy: 0.7343\n",
      "Epoch 5/10\n",
      "1563/1563 [==============================] - 29s 19ms/step - loss: 0.2630 - accuracy: 0.9096 - val_loss: 0.8945 - val_accuracy: 0.7564\n",
      "Epoch 6/10\n",
      "1563/1563 [==============================] - 30s 19ms/step - loss: 0.2282 - accuracy: 0.9219 - val_loss: 0.8714 - val_accuracy: 0.7642\n",
      "Epoch 7/10\n",
      "1563/1563 [==============================] - 30s 19ms/step - loss: 0.1992 - accuracy: 0.9318 - val_loss: 0.9830 - val_accuracy: 0.7780\n",
      "Epoch 8/10\n",
      "1563/1563 [==============================] - 30s 19ms/step - loss: 0.1867 - accuracy: 0.9366 - val_loss: 1.0072 - val_accuracy: 0.7581\n",
      "Epoch 9/10\n",
      "1563/1563 [==============================] - 34s 22ms/step - loss: 0.1636 - accuracy: 0.9439 - val_loss: 1.0033 - val_accuracy: 0.7787\n",
      "Epoch 10/10\n",
      "1563/1563 [==============================] - 30s 19ms/step - loss: 0.1577 - accuracy: 0.9472 - val_loss: 1.0060 - val_accuracy: 0.7787\n"
     ]
    }
   ],
   "source": [
    "chk=tf.keras.callbacks.ModelCheckpoint(filepath='Checkpoint5/checkpoint',mode='max',monitor='val_accuracy',\n",
    "                                       save_best_only=True,save_weights_only=True)\n",
    "answer=model.fit(X_train,y_train,epochs=10,validation_data=(X_test,y_test),callbacks=chk)"
   ]
  },
  {
   "cell_type": "code",
   "execution_count": 49,
   "metadata": {},
   "outputs": [],
   "source": [
    "model.save('hyp2cnn10.h5')"
   ]
  },
  {
   "cell_type": "code",
   "execution_count": 56,
   "metadata": {},
   "outputs": [],
   "source": [
    "def build_model(hp):\n",
    "    model=Sequential()\n",
    "\n",
    "    #Buiding the convolutional layer\n",
    "    model.add(Conv2D(filters=hp.Int('filter_1',min_value=16,max_value=256,step=16),\n",
    "                     kernel_size=hp.Choice('kernel_size_1',values=[3,5]),\n",
    "                     kernel_initializer='he_uniform',padding='same',activation='relu',input_shape=(32,32,3)))\n",
    "    model.add(Conv2D(filters=hp.Int('filter_2',min_value=16,max_value=256,step=16),\n",
    "                     kernel_size=hp.Choice('kernel_size_2',values=[3,5]),\n",
    "                     kernel_initializer='he_uniform',padding='same',activation='relu',input_shape=(32,32,3)))\n",
    "    model.add(MaxPooling2D(pool_size=hp.Choice('pool_1',values=[2,3])))\n",
    "    \n",
    "    #2nd \n",
    "    model.add(Conv2D(filters=hp.Int('filter_3',min_value=16,max_value=256,step=16),\n",
    "                     kernel_size=hp.Choice('kernel_size_3',values=[3,5]),\n",
    "                     kernel_initializer='he_uniform',padding='same',activation='relu'))\n",
    "    model.add(Conv2D(filters=hp.Int('filter_4',min_value=16,max_value=256,step=16),\n",
    "                     kernel_size=hp.Choice('kernel_size_4',values=[3,5]),\n",
    "                     kernel_initializer='he_uniform',padding='same',activation='relu'))\n",
    "    model.add(MaxPooling2D(pool_size=hp.Choice('pool_2',values=[2,3]))) \n",
    "    \n",
    "    #3rd\n",
    "    model.add(Conv2D(filters=hp.Int('filter_5',min_value=16,max_value=256,step=16),\n",
    "                     kernel_size=hp.Choice('kernel_size_5',values=[3,5]),\n",
    "                     kernel_initializer='he_uniform',padding='same',activation='relu'))\n",
    "    model.add(Conv2D(filters=hp.Int('filter_6',min_value=16,max_value=256,step=16),\n",
    "                     kernel_size=hp.Choice('kernel_size_6',values=[3,5]),\n",
    "                     kernel_initializer='he_uniform',padding='same',activation='relu'))\n",
    "    model.add(MaxPooling2D(pool_size=hp.Choice('pool_3',values=[2,3])))\n",
    "    \n",
    "    \n",
    "\n",
    "    #Flattening the feature map\n",
    "    model.add(Flatten())\n",
    "\n",
    "    #Adding ANN layers \n",
    "    model.add(Dense(units=hp.Int('Unit_1',min_value=64,max_value=256,step=16),activation='relu'))\n",
    "   \n",
    "    #adding the final layer\n",
    "    model.add(Dense(units=10,activation='softmax'))\n",
    "    \n",
    "    adam=tf.keras.optimizers.Adam(learning_rate=hp.Choice('leraning_rate1',values=[0.01,0.001,0.0001,1.0e-5,1.0e-6]))\n",
    "    #compiling the model\n",
    "    model.compile(optimizer=adam,loss='sparse_categorical_crossentropy',metrics=['accuracy'])\n",
    "    return model"
   ]
  },
  {
   "cell_type": "code",
   "execution_count": 57,
   "metadata": {},
   "outputs": [
    {
     "name": "stdout",
     "output_type": "stream",
     "text": [
      "Trial 3 Complete [00h 01m 05s]\n",
      "val_accuracy: 0.33500000834465027\n",
      "\n",
      "Best val_accuracy So Far: 0.33500000834465027\n",
      "Total elapsed time: 00h 04m 36s\n",
      "INFO:tensorflow:Oracle triggered exit\n"
     ]
    }
   ],
   "source": [
    "tuner=RandomSearch(build_model,\n",
    "                   objective='val_accuracy',\n",
    "                   max_trials=3,\n",
    "                   overwrite=True\n",
    "                  )\n",
    "tuner.search(X_train,y_train,epochs=3,validation_data=(X_test,y_test),verbose=2)"
   ]
  },
  {
   "cell_type": "code",
   "execution_count": 70,
   "metadata": {},
   "outputs": [
    {
     "name": "stdout",
     "output_type": "stream",
     "text": [
      "Trial 6 Complete [00h 02m 40s]\n",
      "val_accuracy: 0.7914999723434448\n",
      "\n",
      "Best val_accuracy So Far: 0.7914999723434448\n",
      "Total elapsed time: 00h 16m 24s\n",
      "INFO:tensorflow:Oracle triggered exit\n"
     ]
    }
   ],
   "source": [
    "def build_model(hp):\n",
    "    model=load_model('cnn15.h5')\n",
    "    adam=tf.keras.optimizers.Adam(learning_rate=hp.Choice('leraning_rate1',values=[0.01,0.001,0.0001,1.0e-5,1.0e-6,\n",
    "                                                                                   1.0e-7,1.0e-8]))\n",
    "    model.compile(optimizer=adam,loss='sparse_categorical_crossentropy',metrics=['accuracy'])\n",
    "    return model\n",
    "\n",
    "tuner=RandomSearch(build_model,\n",
    "                   objective='val_accuracy',\n",
    "                   max_trials=7,\n",
    "                   overwrite=True\n",
    "                  )\n",
    "tuner.search(X_train,y_train,epochs=10,validation_data=(X_test,y_test),verbose=2)"
   ]
  },
  {
   "cell_type": "code",
   "execution_count": 71,
   "metadata": {},
   "outputs": [
    {
     "name": "stdout",
     "output_type": "stream",
     "text": [
      "Model: \"sequential_17\"\n",
      "_________________________________________________________________\n",
      " Layer (type)                Output Shape              Param #   \n",
      "=================================================================\n",
      " conv2d_102 (Conv2D)         (None, 32, 32, 32)        896       \n",
      "                                                                 \n",
      " conv2d_103 (Conv2D)         (None, 32, 32, 32)        9248      \n",
      "                                                                 \n",
      " max_pooling2d_51 (MaxPoolin  (None, 10, 10, 32)       0         \n",
      " g2D)                                                            \n",
      "                                                                 \n",
      " conv2d_104 (Conv2D)         (None, 10, 10, 64)        18496     \n",
      "                                                                 \n",
      " conv2d_105 (Conv2D)         (None, 10, 10, 64)        36928     \n",
      "                                                                 \n",
      " max_pooling2d_52 (MaxPoolin  (None, 3, 3, 64)         0         \n",
      " g2D)                                                            \n",
      "                                                                 \n",
      " conv2d_106 (Conv2D)         (None, 3, 3, 128)         73856     \n",
      "                                                                 \n",
      " conv2d_107 (Conv2D)         (None, 3, 3, 128)         147584    \n",
      "                                                                 \n",
      " max_pooling2d_53 (MaxPoolin  (None, 1, 1, 128)        0         \n",
      " g2D)                                                            \n",
      "                                                                 \n",
      " flatten_17 (Flatten)        (None, 128)               0         \n",
      "                                                                 \n",
      " dense_34 (Dense)            (None, 64)                8256      \n",
      "                                                                 \n",
      " dense_35 (Dense)            (None, 10)                650       \n",
      "                                                                 \n",
      "=================================================================\n",
      "Total params: 295,914\n",
      "Trainable params: 295,914\n",
      "Non-trainable params: 0\n",
      "_________________________________________________________________\n"
     ]
    }
   ],
   "source": [
    "model=tuner.get_best_models(num_models=1)[0]\n",
    "model.summary()"
   ]
  },
  {
   "cell_type": "code",
   "execution_count": 72,
   "metadata": {},
   "outputs": [],
   "source": [
    "model.save('hyp3cnn15.h5')"
   ]
  },
  {
   "cell_type": "code",
   "execution_count": 79,
   "metadata": {},
   "outputs": [
    {
     "name": "stdout",
     "output_type": "stream",
     "text": [
      "WARNING:tensorflow:Error in loading the saved optimizer state. As a result, your model is starting with a freshly initialized optimizer.\n"
     ]
    }
   ],
   "source": [
    "cnn15=load_model('cnn15.h5')\n",
    "hypcnn15=load_model('hyp3cnn15.h5')"
   ]
  },
  {
   "cell_type": "code",
   "execution_count": 80,
   "metadata": {},
   "outputs": [
    {
     "name": "stdout",
     "output_type": "stream",
     "text": [
      "313/313 [==============================] - 5s 5ms/step\n"
     ]
    },
    {
     "data": {
      "text/plain": [
       "0.7908"
      ]
     },
     "execution_count": 80,
     "metadata": {},
     "output_type": "execute_result"
    }
   ],
   "source": [
    "result9 = cnn15.predict(X_test)\n",
    "res9 = np.argmax(result9,axis=1)\n",
    "accuracy_score(y_test,res9)"
   ]
  },
  {
   "cell_type": "code",
   "execution_count": 81,
   "metadata": {},
   "outputs": [
    {
     "name": "stdout",
     "output_type": "stream",
     "text": [
      "313/313 [==============================] - 1s 4ms/step\n"
     ]
    },
    {
     "data": {
      "text/plain": [
       "0.7915"
      ]
     },
     "execution_count": 81,
     "metadata": {},
     "output_type": "execute_result"
    }
   ],
   "source": [
    "result9 = hypcnn15.predict(X_test)\n",
    "res9 = np.argmax(result9,axis=1)\n",
    "accuracy_score(y_test,res9)"
   ]
  },
  {
   "cell_type": "code",
   "execution_count": 3,
   "metadata": {},
   "outputs": [
    {
     "name": "stdout",
     "output_type": "stream",
     "text": [
      "WARNING:tensorflow:Error in loading the saved optimizer state. As a result, your model is starting with a freshly initialized optimizer.\n"
     ]
    },
    {
     "name": "stderr",
     "output_type": "stream",
     "text": [
      "Exception in Tkinter callback\n",
      "Traceback (most recent call last):\n",
      "  File \"C:\\ProgramData\\Anaconda3\\lib\\tkinter\\__init__.py\", line 1892, in __call__\n",
      "    return self.func(*args)\n",
      "  File \"C:\\Users\\40027784\\AppData\\Local\\Temp\\ipykernel_31224\\2267754497.py\", line 44, in <lambda>\n",
      "    classify_b=Button(top,text=\"Classify Image\",command=lambda: classify(file_path),padx=10,pady=5)\n",
      "  File \"C:\\Users\\40027784\\AppData\\Local\\Temp\\ipykernel_31224\\2267754497.py\", line 32, in classify\n",
      "    img1=np.array(img)\n",
      "NameError: name 'np' is not defined\n"
     ]
    }
   ],
   "source": [
    "import tkinter as tk\n",
    "from tkinter import filedialog\n",
    "from tkinter import *\n",
    "from PIL import ImageTk, Image\n",
    "import numpy\n",
    "#load the trained model to classify sign\n",
    "from keras.models import load_model\n",
    "model = load_model('hyp3cnn15.h5')\n",
    "#dictionary to label all traffic signs class.\n",
    "classes = {0: 'Airplane',\n",
    " 1: 'Automobile',\n",
    " 2: 'Bird',\n",
    " 3: 'Cat',\n",
    " 4: 'Deer',\n",
    " 5: 'Dog',\n",
    " 6: 'Frog',\n",
    " 7: 'Horse',\n",
    " 8: 'Ship',\n",
    " 9: 'Truck'}\n",
    "#initialise GUI\n",
    "top=tk.Tk()\n",
    "top.geometry('800x600')\n",
    "top.title('Image classification')\n",
    "top.configure(background='#0000FF')\n",
    "label=Label(top,background='#CDCDCD', font=('arial',15,'bold'))\n",
    "sign_image = Label(top)\n",
    "# print(sign_image)\n",
    "\n",
    "def classify(file_path):\n",
    "    img = Image.open(file_path)\n",
    "    img=img.resize((32,32))\n",
    "    img1=np.array(img)\n",
    "    img1=np.reshape(img1,[-1, 32, 32, 3])\n",
    "    img1=img1.astype('float')\n",
    "    img1/=255\n",
    "    pred = model.predict([img1])[0]\n",
    "    print(pred)\n",
    "    #     sign = classes[pred+1]\n",
    "    sign=classes[max(range(len(pred)), key = lambda x: pred[x])]\n",
    "    print(sign)\n",
    "    label.configure(foreground='#011638', text=sign)\n",
    "    \n",
    "def show_classify_button(file_path):\n",
    "    classify_b=Button(top,text=\"Classify Image\",command=lambda: classify(file_path),padx=10,pady=5)\n",
    "    classify_b.configure(background='#364156', foreground='white',font=('arial',10,'bold'))\n",
    "    classify_b.place(relx=0.79,rely=0.46)\n",
    "def upload_image():\n",
    "    try:\n",
    "        file_path=filedialog.askopenfilename()\n",
    "        uploaded=Image.open(file_path)\n",
    "        uploaded.thumbnail(((top.winfo_width()/2.25),(top.winfo_height()/2.25)))\n",
    "        im=ImageTk.PhotoImage(uploaded)\n",
    "        sign_image.configure(image=im)\n",
    "        sign_image.image=im\n",
    "        label.configure(text='')\n",
    "        show_classify_button(file_path)\n",
    "    except:\n",
    "        pass\n",
    "upload=Button(top,text=\"Upload an image\",command=upload_image,padx=10,pady=5)\n",
    "upload.configure(background='#364156', foreground='white',font=('arial',10,'bold'))\n",
    "upload.pack(side=BOTTOM,pady=50)\n",
    "sign_image.pack(side=BOTTOM,expand=True)\n",
    "label.pack(side=BOTTOM,expand=True)\n",
    "heading = Label(top, text=\"Upload Image to Classify\",pady=20, font=('arial',20,'bold'))\n",
    "heading.configure(background='#CDCDCD',foreground='#364156')\n",
    "heading.pack()\n",
    "top.mainloop()\n",
    "\n"
   ]
  },
  {
   "cell_type": "code",
   "execution_count": null,
   "metadata": {},
   "outputs": [],
   "source": []
  }
 ],
 "metadata": {
  "accelerator": "GPU",
  "colab": {
   "collapsed_sections": [],
   "name": "cifar10-dataset.ipynb",
   "provenance": []
  },
  "gpuClass": "standard",
  "kernelspec": {
   "display_name": "Python 3 (ipykernel)",
   "language": "python",
   "name": "python3"
  },
  "language_info": {
   "codemirror_mode": {
    "name": "ipython",
    "version": 3
   },
   "file_extension": ".py",
   "mimetype": "text/x-python",
   "name": "python",
   "nbconvert_exporter": "python",
   "pygments_lexer": "ipython3",
   "version": "3.9.12"
  }
 },
 "nbformat": 4,
 "nbformat_minor": 1
}
