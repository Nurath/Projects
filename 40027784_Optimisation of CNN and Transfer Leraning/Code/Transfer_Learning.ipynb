{
 "cells": [
  {
   "cell_type": "code",
   "execution_count": 42,
   "id": "3d45a947",
   "metadata": {
    "id": "3d45a947"
   },
   "outputs": [],
   "source": [
    "import pandas as pd\n",
    "import numpy as np\n",
    "import matplotlib.pyplot as plt\n",
    "import seaborn as sns\n",
    "from pandas.plotting import scatter_matrix\n",
    "import tensorflow as tf\n",
    "from tensorflow.keras.datasets import cifar10\n",
    "from sklearn.metrics import confusion_matrix\n",
    "from sklearn.metrics import accuracy_score\n",
    "from tensorflow.keras.layers import Conv2D,MaxPooling2D,Flatten,Dense\n",
    "from tensorflow.keras import Sequential\n",
    "from tensorflow.keras import models,layers\n",
    "from PIL import Image\n",
    "from keras.models import load_model\n",
    "from tensorflow.keras.applications.resnet50 import ResNet50\n",
    "from tensorflow.keras.applications import EfficientNetB0"
   ]
  },
  {
   "cell_type": "code",
   "execution_count": 20,
   "id": "491deab6",
   "metadata": {
    "id": "491deab6"
   },
   "outputs": [],
   "source": [
    "(X_train, y_train), (X_test, y_test) = cifar10.load_data()"
   ]
  },
  {
   "cell_type": "code",
   "execution_count": 21,
   "id": "41db7d0a",
   "metadata": {
    "colab": {
     "base_uri": "https://localhost:8080/"
    },
    "id": "41db7d0a",
    "outputId": "fe292612-0bec-4a26-8746-53837982f362"
   },
   "outputs": [
    {
     "data": {
      "text/plain": [
       "((50000, 32, 32, 3), (50000, 1), (10000, 32, 32, 3), (10000, 1))"
      ]
     },
     "execution_count": 21,
     "metadata": {},
     "output_type": "execute_result"
    }
   ],
   "source": [
    "X_train.shape, y_train.shape,X_test.shape, y_test.shape"
   ]
  },
  {
   "cell_type": "code",
   "execution_count": 22,
   "id": "40b08e6d",
   "metadata": {
    "colab": {
     "base_uri": "https://localhost:8080/"
    },
    "id": "40b08e6d",
    "outputId": "82f67d52-dcb1-4dc8-bf8b-46ceafaa1b82"
   },
   "outputs": [
    {
     "data": {
      "text/plain": [
       "array([6, 9, 9, ..., 9, 1, 1], dtype=uint8)"
      ]
     },
     "execution_count": 22,
     "metadata": {},
     "output_type": "execute_result"
    }
   ],
   "source": [
    "y_train = y_train.reshape(-1,)\n",
    "y_test = y_test.reshape(-1,)\n",
    "y_train"
   ]
  },
  {
   "cell_type": "code",
   "execution_count": 23,
   "id": "3960d0ee",
   "metadata": {
    "id": "3960d0ee"
   },
   "outputs": [],
   "source": [
    "X_train = X_train / 255.0\n",
    "X_test = X_test / 255.0"
   ]
  },
  {
   "cell_type": "code",
   "execution_count": 24,
   "id": "c939d595",
   "metadata": {
    "colab": {
     "base_uri": "https://localhost:8080/"
    },
    "id": "c939d595",
    "outputId": "bcb097af-bd10-42aa-f33e-7823baf77583"
   },
   "outputs": [
    {
     "data": {
      "text/plain": [
       "{0: 'Airplane',\n",
       " 1: 'Automobile',\n",
       " 2: 'Bird',\n",
       " 3: 'Cat',\n",
       " 4: 'Deer',\n",
       " 5: 'Dog',\n",
       " 6: 'Frog',\n",
       " 7: 'Horse',\n",
       " 8: 'Ship',\n",
       " 9: 'Truck'}"
      ]
     },
     "execution_count": 24,
     "metadata": {},
     "output_type": "execute_result"
    }
   ],
   "source": [
    "labels = {'Airplane':0, 'Automobile':1, 'Bird':2, 'Cat':3, 'Deer':4, 'Dog':5, 'Frog':6, 'Horse':7, 'Ship':8,'Truck':9}\n",
    "labels = dict(zip(labels.values(),labels.keys()))\n",
    "labels"
   ]
  },
  {
   "cell_type": "code",
   "execution_count": 25,
   "id": "wjy5vCmmLpzL",
   "metadata": {
    "id": "wjy5vCmmLpzL"
   },
   "outputs": [],
   "source": [
    "resnet50_imagenet_model = ResNet50(include_top=False, weights='imagenet', input_shape=(32, 32, 3))\n",
    "\n",
    "#Flatten output layer of Resnet\n",
    "flattened = tf.keras.layers.Flatten()(resnet50_imagenet_model.output)\n",
    "#Fully connected layer 1\n",
    "fc1 = tf.keras.layers.Dense(64, activation='relu', name=\"AddedDense1\")(flattened)\n",
    "#Fully connected layer, output layer\n",
    "fc2 = tf.keras.layers.Dense(10, activation='softmax', name=\"AddedDense2\")(fc1)\n",
    "\n",
    "model = tf.keras.models.Model(inputs=resnet50_imagenet_model.input, outputs=fc2)"
   ]
  },
  {
   "cell_type": "code",
   "execution_count": 26,
   "id": "a83d9f7e",
   "metadata": {
    "id": "a83d9f7e"
   },
   "outputs": [],
   "source": [
    "model.compile(optimizer='adam',\n",
    "               loss='sparse_categorical_crossentropy',\n",
    "               metrics=['accuracy'])"
   ]
  },
  {
   "cell_type": "code",
   "execution_count": 28,
   "id": "SAsjPv3v7vJB",
   "metadata": {
    "id": "SAsjPv3v7vJB"
   },
   "outputs": [],
   "source": [
    "lr=tf.keras.callbacks.ReduceLROnPlateau(monitor='val_accuracy',patience=2)\n",
    "callback=tf.keras.callbacks.EarlyStopping(monitor='val_loss',patience=2)\n",
    "chk=tf.keras.callbacks.ModelCheckpoint(filepath='Checkpoint1/checkpoint',mode='max',monitor='val_accuracy',\n",
    "                                       save_best_only=True,save_weights_only=True)"
   ]
  },
  {
   "cell_type": "code",
   "execution_count": 29,
   "id": "40bfcfcc",
   "metadata": {
    "colab": {
     "base_uri": "https://localhost:8080/"
    },
    "id": "40bfcfcc",
    "outputId": "8c10f0c1-5ba9-4fe6-c9cd-40c26743bf0c"
   },
   "outputs": [
    {
     "name": "stdout",
     "output_type": "stream",
     "text": [
      "Epoch 1/10\n",
      "782/782 [==============================] - 45s 51ms/step - loss: 1.1852 - accuracy: 0.6048 - val_loss: 2.4323 - val_accuracy: 0.2436 - lr: 0.0010\n",
      "Epoch 2/10\n",
      "782/782 [==============================] - 39s 49ms/step - loss: 0.9498 - accuracy: 0.6843 - val_loss: 0.8799 - val_accuracy: 0.6968 - lr: 0.0010\n",
      "Epoch 3/10\n",
      "782/782 [==============================] - 37s 47ms/step - loss: 0.7405 - accuracy: 0.7510 - val_loss: 1.2637 - val_accuracy: 0.6190 - lr: 0.0010\n",
      "Epoch 4/10\n",
      "782/782 [==============================] - 38s 49ms/step - loss: 0.6579 - accuracy: 0.7797 - val_loss: 0.9325 - val_accuracy: 0.7029 - lr: 0.0010\n",
      "Epoch 5/10\n",
      "782/782 [==============================] - 37s 47ms/step - loss: 0.5206 - accuracy: 0.8251 - val_loss: 1.2536 - val_accuracy: 0.6342 - lr: 0.0010\n",
      "Epoch 6/10\n",
      "782/782 [==============================] - 38s 49ms/step - loss: 0.4552 - accuracy: 0.8468 - val_loss: 0.7561 - val_accuracy: 0.7532 - lr: 0.0010\n",
      "Epoch 7/10\n",
      "782/782 [==============================] - 37s 48ms/step - loss: 0.4119 - accuracy: 0.8613 - val_loss: 0.9706 - val_accuracy: 0.7125 - lr: 0.0010\n",
      "Epoch 8/10\n",
      "782/782 [==============================] - 38s 49ms/step - loss: 0.3662 - accuracy: 0.8763 - val_loss: 0.6710 - val_accuracy: 0.7926 - lr: 0.0010\n",
      "Epoch 9/10\n",
      "782/782 [==============================] - 37s 47ms/step - loss: 0.3005 - accuracy: 0.9003 - val_loss: 0.9386 - val_accuracy: 0.7401 - lr: 0.0010\n",
      "Epoch 10/10\n",
      "782/782 [==============================] - 37s 47ms/step - loss: 0.2499 - accuracy: 0.9166 - val_loss: 0.7597 - val_accuracy: 0.7790 - lr: 0.0010\n"
     ]
    }
   ],
   "source": [
    "resnet_history = model.fit(X_train, y_train,\n",
    "                            batch_size=64,\n",
    "                            epochs=10,\n",
    "                            validation_data=(X_test, y_test),\n",
    "                            callbacks=[lr,chk],\n",
    "                            verbose=1)"
   ]
  },
  {
   "cell_type": "code",
   "execution_count": 30,
   "id": "nmI0EBlAjSXN",
   "metadata": {
    "colab": {
     "base_uri": "https://localhost:8080/"
    },
    "id": "nmI0EBlAjSXN",
    "outputId": "853af24c-83b1-4086-b641-5f6d65644ab3"
   },
   "outputs": [
    {
     "data": {
      "text/plain": [
       "0.779"
      ]
     },
     "execution_count": 30,
     "metadata": {},
     "output_type": "execute_result"
    }
   ],
   "source": [
    "result=model.predict(X_test)\n",
    "res=np.argmax(result,axis=1)\n",
    "accuracy_score(y_test,res)"
   ]
  },
  {
   "cell_type": "code",
   "execution_count": 31,
   "id": "3b6be0ae",
   "metadata": {
    "id": "3b6be0ae"
   },
   "outputs": [],
   "source": [
    "resnet50_imagenet_model = ResNet50(include_top=False, weights='imagenet', input_shape=(32, 32, 3))\n",
    "\n",
    "#Flatten output layer of Resnet\n",
    "flattened = tf.keras.layers.Flatten()(resnet50_imagenet_model.output)\n",
    "#Fully connected layer 1\n",
    "fc1 = tf.keras.layers.Dense(80, activation='relu', name=\"AddedDense1\")(flattened)\n",
    "#Fully connected layer, output layer\n",
    "fc2 = tf.keras.layers.Dense(10, activation='softmax', name=\"AddedDense2\")(fc1)\n",
    "\n",
    "model1 = tf.keras.models.Model(inputs=resnet50_imagenet_model.input, outputs=fc2)"
   ]
  },
  {
   "cell_type": "code",
   "execution_count": 32,
   "id": "ug1ts8DfQdGX",
   "metadata": {
    "id": "ug1ts8DfQdGX"
   },
   "outputs": [],
   "source": [
    "model1.compile(optimizer='adam',\n",
    "               loss='sparse_categorical_crossentropy',\n",
    "               metrics=['accuracy'])"
   ]
  },
  {
   "cell_type": "code",
   "execution_count": 34,
   "id": "4BGDoF9_Qfae",
   "metadata": {
    "colab": {
     "base_uri": "https://localhost:8080/"
    },
    "id": "4BGDoF9_Qfae",
    "outputId": "f87e8e27-9966-4ec8-9487-59569543bbd3"
   },
   "outputs": [
    {
     "name": "stdout",
     "output_type": "stream",
     "text": [
      "Epoch 1/15\n",
      "782/782 [==============================] - 43s 49ms/step - loss: 1.1974 - accuracy: 0.5957 - val_loss: 3.1423 - val_accuracy: 0.1720 - lr: 0.0010\n",
      "Epoch 2/15\n",
      "782/782 [==============================] - 37s 47ms/step - loss: 0.9007 - accuracy: 0.6985 - val_loss: 1.0153 - val_accuracy: 0.6703 - lr: 0.0010\n",
      "Epoch 3/15\n",
      "782/782 [==============================] - 37s 47ms/step - loss: 0.6694 - accuracy: 0.7774 - val_loss: 0.7044 - val_accuracy: 0.7643 - lr: 0.0010\n",
      "Epoch 4/15\n",
      "782/782 [==============================] - 37s 48ms/step - loss: 0.5959 - accuracy: 0.8021 - val_loss: 1.4856 - val_accuracy: 0.5683 - lr: 0.0010\n",
      "Epoch 5/15\n",
      "782/782 [==============================] - 37s 47ms/step - loss: 0.5158 - accuracy: 0.8267 - val_loss: 0.8556 - val_accuracy: 0.7173 - lr: 0.0010\n",
      "Epoch 6/15\n",
      "782/782 [==============================] - 39s 50ms/step - loss: 0.2661 - accuracy: 0.9110 - val_loss: 0.5318 - val_accuracy: 0.8340 - lr: 1.0000e-04\n",
      "Epoch 7/15\n",
      "782/782 [==============================] - 38s 49ms/step - loss: 0.1807 - accuracy: 0.9400 - val_loss: 0.5653 - val_accuracy: 0.8346 - lr: 1.0000e-04\n",
      "Epoch 8/15\n",
      "782/782 [==============================] - 37s 48ms/step - loss: 0.1232 - accuracy: 0.9605 - val_loss: 0.6523 - val_accuracy: 0.8286 - lr: 1.0000e-04\n",
      "Epoch 9/15\n",
      "782/782 [==============================] - 37s 47ms/step - loss: 0.0813 - accuracy: 0.9746 - val_loss: 0.7109 - val_accuracy: 0.8290 - lr: 1.0000e-04\n",
      "Epoch 10/15\n",
      "782/782 [==============================] - 37s 48ms/step - loss: 0.0463 - accuracy: 0.9865 - val_loss: 0.7295 - val_accuracy: 0.8331 - lr: 1.0000e-05\n",
      "Epoch 11/15\n",
      "782/782 [==============================] - 38s 48ms/step - loss: 0.0380 - accuracy: 0.9894 - val_loss: 0.7683 - val_accuracy: 0.8318 - lr: 1.0000e-05\n",
      "Epoch 12/15\n",
      "782/782 [==============================] - 37s 48ms/step - loss: 0.0314 - accuracy: 0.9910 - val_loss: 0.7711 - val_accuracy: 0.8317 - lr: 1.0000e-06\n",
      "Epoch 13/15\n",
      "782/782 [==============================] - 37s 47ms/step - loss: 0.0329 - accuracy: 0.9907 - val_loss: 0.7745 - val_accuracy: 0.8312 - lr: 1.0000e-06\n",
      "Epoch 14/15\n",
      "782/782 [==============================] - 37s 47ms/step - loss: 0.0320 - accuracy: 0.9913 - val_loss: 0.7779 - val_accuracy: 0.8311 - lr: 1.0000e-07\n",
      "Epoch 15/15\n",
      "782/782 [==============================] - 37s 47ms/step - loss: 0.0316 - accuracy: 0.9913 - val_loss: 0.7814 - val_accuracy: 0.8312 - lr: 1.0000e-07\n"
     ]
    }
   ],
   "source": [
    "resnet_history1 = model1.fit(X_train, y_train,\n",
    "                            batch_size=64,\n",
    "                            epochs=15,\n",
    "                            validation_data=(X_test, y_test),\n",
    "                            callbacks=[lr,chk],\n",
    "                            verbose=1)"
   ]
  },
  {
   "cell_type": "code",
   "execution_count": 35,
   "id": "_mk0qcPFiSt8",
   "metadata": {
    "colab": {
     "base_uri": "https://localhost:8080/"
    },
    "id": "_mk0qcPFiSt8",
    "outputId": "f7937443-998c-4f2d-e415-b26fb4964b9d"
   },
   "outputs": [
    {
     "data": {
      "text/plain": [
       "<tensorflow.python.training.tracking.util.CheckpointLoadStatus at 0x7f92b678fa90>"
      ]
     },
     "execution_count": 35,
     "metadata": {},
     "output_type": "execute_result"
    }
   ],
   "source": [
    "model1.load_weights('Checkpoint1/checkpoint')"
   ]
  },
  {
   "cell_type": "code",
   "execution_count": 36,
   "id": "XMk4RtkSiqXj",
   "metadata": {
    "colab": {
     "base_uri": "https://localhost:8080/"
    },
    "id": "XMk4RtkSiqXj",
    "outputId": "8a4e319b-cdf7-4f97-f386-a6b2a62d8eb0"
   },
   "outputs": [
    {
     "data": {
      "text/plain": [
       "0.8346"
      ]
     },
     "execution_count": 36,
     "metadata": {},
     "output_type": "execute_result"
    }
   ],
   "source": [
    "result1=model1.predict(X_test)\n",
    "res1=np.argmax(result1,axis=1)\n",
    "accuracy_score(y_test,res1)"
   ]
  },
  {
   "cell_type": "code",
   "execution_count": 37,
   "id": "wOeNfVg_jGgs",
   "metadata": {
    "id": "wOeNfVg_jGgs"
   },
   "outputs": [],
   "source": [
    "model.save('Resnet1.h5')\n",
    "model1.save('Resnet2.h5')"
   ]
  },
  {
   "cell_type": "code",
   "execution_count": 44,
   "id": "AGdPVIV97d6O",
   "metadata": {
    "id": "AGdPVIV97d6O"
   },
   "outputs": [],
   "source": [
    "efficientb0_imagenet_model = EfficientNetB0(include_top=False, weights='imagenet', input_shape=(32, 32, 3))\n",
    "\n",
    "#Flatten output layer of Resnet\n",
    "flattened = tf.keras.layers.Flatten()(efficientb0_imagenet_model.output)\n",
    "#Fully connected layer 1\n",
    "fc1 = tf.keras.layers.Dense(80, activation='relu', name=\"AddedDense1\")(flattened)\n",
    "#Fully connected layer, output layer\n",
    "fc2 = tf.keras.layers.Dense(10, activation='softmax', name=\"AddedDense2\")(fc1)\n",
    "\n",
    "model2 = tf.keras.models.Model(inputs=resnet50_imagenet_model.input, outputs=fc2)"
   ]
  },
  {
   "cell_type": "code",
   "execution_count": 45,
   "id": "VTf4Gwpx8lbz",
   "metadata": {
    "id": "VTf4Gwpx8lbz"
   },
   "outputs": [],
   "source": [
    "model2.compile(optimizer='adam',\n",
    "               loss='sparse_categorical_crossentropy',\n",
    "               metrics=['accuracy'])"
   ]
  },
  {
   "cell_type": "code",
   "execution_count": 46,
   "id": "8tya-2ss8t1z",
   "metadata": {
    "colab": {
     "base_uri": "https://localhost:8080/"
    },
    "id": "8tya-2ss8t1z",
    "outputId": "19398aa3-7d4a-41da-fb0b-9e9eaa10fcbb"
   },
   "outputs": [
    {
     "name": "stdout",
     "output_type": "stream",
     "text": [
      "Epoch 1/15\n",
      "782/782 [==============================] - 44s 43ms/step - loss: 1.2813 - accuracy: 0.5504 - val_loss: 2.3967 - val_accuracy: 0.1267 - lr: 0.0010\n",
      "Epoch 2/15\n",
      "782/782 [==============================] - 32s 40ms/step - loss: 0.8295 - accuracy: 0.7173 - val_loss: 3.0486 - val_accuracy: 0.1008 - lr: 0.0010\n",
      "Epoch 3/15\n",
      "782/782 [==============================] - 31s 40ms/step - loss: 0.6751 - accuracy: 0.7698 - val_loss: 3.9469 - val_accuracy: 0.0982 - lr: 0.0010\n",
      "Epoch 4/15\n",
      "782/782 [==============================] - 32s 41ms/step - loss: 0.4669 - accuracy: 0.8389 - val_loss: 2.2744 - val_accuracy: 0.2929 - lr: 1.0000e-04\n",
      "Epoch 5/15\n",
      "782/782 [==============================] - 31s 40ms/step - loss: 0.4082 - accuracy: 0.8585 - val_loss: 1.0934 - val_accuracy: 0.6571 - lr: 1.0000e-04\n",
      "Epoch 6/15\n",
      "782/782 [==============================] - 31s 40ms/step - loss: 0.3710 - accuracy: 0.8692 - val_loss: 2.5727 - val_accuracy: 0.2400 - lr: 1.0000e-04\n",
      "Epoch 7/15\n",
      "782/782 [==============================] - 31s 39ms/step - loss: 0.3356 - accuracy: 0.8828 - val_loss: 0.7081 - val_accuracy: 0.7751 - lr: 1.0000e-04\n",
      "Epoch 8/15\n",
      "782/782 [==============================] - 31s 40ms/step - loss: 0.3040 - accuracy: 0.8927 - val_loss: 4.6688 - val_accuracy: 0.1498 - lr: 1.0000e-04\n",
      "Epoch 9/15\n",
      "782/782 [==============================] - 31s 39ms/step - loss: 0.2692 - accuracy: 0.9047 - val_loss: 2.5181 - val_accuracy: 0.3418 - lr: 1.0000e-04\n",
      "Epoch 10/15\n",
      "782/782 [==============================] - 31s 40ms/step - loss: 0.2231 - accuracy: 0.9233 - val_loss: 0.6250 - val_accuracy: 0.8103 - lr: 1.0000e-05\n",
      "Epoch 11/15\n",
      "782/782 [==============================] - 32s 41ms/step - loss: 0.2142 - accuracy: 0.9262 - val_loss: 0.5890 - val_accuracy: 0.8229 - lr: 1.0000e-05\n",
      "Epoch 12/15\n",
      "782/782 [==============================] - 31s 39ms/step - loss: 0.2100 - accuracy: 0.9268 - val_loss: 0.7284 - val_accuracy: 0.7849 - lr: 1.0000e-05\n",
      "Epoch 13/15\n",
      "782/782 [==============================] - 31s 40ms/step - loss: 0.2026 - accuracy: 0.9297 - val_loss: 0.6467 - val_accuracy: 0.8045 - lr: 1.0000e-05\n",
      "Epoch 14/15\n",
      "782/782 [==============================] - 31s 40ms/step - loss: 0.1956 - accuracy: 0.9320 - val_loss: 0.5860 - val_accuracy: 0.8271 - lr: 1.0000e-06\n",
      "Epoch 15/15\n",
      "782/782 [==============================] - 32s 41ms/step - loss: 0.1962 - accuracy: 0.9316 - val_loss: 0.5867 - val_accuracy: 0.8277 - lr: 1.0000e-06\n"
     ]
    }
   ],
   "source": [
    "resnet_history2 = model2.fit(X_train, y_train,\n",
    "                            batch_size=64,\n",
    "                            epochs=15,\n",
    "                            validation_data=(X_test, y_test),\n",
    "                            callbacks=[lr,chk],\n",
    "                            verbose=1)"
   ]
  },
  {
   "cell_type": "code",
   "execution_count": 47,
   "id": "TJSv9taJ8wJD",
   "metadata": {
    "id": "TJSv9taJ8wJD"
   },
   "outputs": [],
   "source": [
    "model2.save('Effnet1.h5')"
   ]
  },
  {
   "cell_type": "code",
   "execution_count": 50,
   "id": "zT3TsxMI_u84",
   "metadata": {
    "id": "zT3TsxMI_u84"
   },
   "outputs": [],
   "source": [
    "efficientb0_imagenet_model = EfficientNetB0(include_top=False, weights='imagenet', input_shape=(32, 32, 3))\n",
    "\n",
    "#Flatten output layer of Resnet\n",
    "flattened = tf.keras.layers.Flatten()(efficientb0_imagenet_model.output)\n",
    "#Fully connected layer 1\n",
    "fc1 = tf.keras.layers.Dense(80, activation='relu', name=\"AddedDense1\")(flattened)\n",
    "#Fully connected layer, output layer\n",
    "fc2 = tf.keras.layers.Dense(10, activation='softmax', name=\"AddedDense2\")(fc1)\n",
    "\n",
    "model3 = tf.keras.models.Model(inputs=efficientb0_imagenet_model.input, outputs=fc2)"
   ]
  },
  {
   "cell_type": "code",
   "execution_count": 51,
   "id": "yVRtx72c_zei",
   "metadata": {
    "id": "yVRtx72c_zei"
   },
   "outputs": [],
   "source": [
    "model3.compile(optimizer='adam',\n",
    "               loss='sparse_categorical_crossentropy',\n",
    "               metrics=['accuracy'])"
   ]
  },
  {
   "cell_type": "code",
   "execution_count": 52,
   "id": "UTkbz9x9_2RB",
   "metadata": {
    "colab": {
     "base_uri": "https://localhost:8080/"
    },
    "id": "UTkbz9x9_2RB",
    "outputId": "13494fbc-b2dd-4065-b395-f7f4c6db6cb0"
   },
   "outputs": [
    {
     "name": "stdout",
     "output_type": "stream",
     "text": [
      "Epoch 1/20\n",
      "782/782 [==============================] - 44s 46ms/step - loss: 1.2802 - accuracy: 0.5532 - val_loss: 3.0960 - val_accuracy: 0.1163 - lr: 0.0010\n",
      "Epoch 2/20\n",
      "782/782 [==============================] - 35s 45ms/step - loss: 0.8345 - accuracy: 0.7127 - val_loss: 3.4865 - val_accuracy: 0.1667 - lr: 0.0010\n",
      "Epoch 3/20\n",
      "782/782 [==============================] - 32s 41ms/step - loss: 0.6715 - accuracy: 0.7715 - val_loss: 4.3575 - val_accuracy: 0.1128 - lr: 0.0010\n",
      "Epoch 4/20\n",
      "782/782 [==============================] - 33s 43ms/step - loss: 0.5825 - accuracy: 0.8032 - val_loss: 3.3959 - val_accuracy: 0.1124 - lr: 0.0010\n",
      "Epoch 5/20\n",
      "782/782 [==============================] - 35s 45ms/step - loss: 0.3927 - accuracy: 0.8665 - val_loss: 3.3419 - val_accuracy: 0.1925 - lr: 1.0000e-04\n",
      "Epoch 6/20\n",
      "782/782 [==============================] - 33s 42ms/step - loss: 0.3368 - accuracy: 0.8834 - val_loss: 0.9192 - val_accuracy: 0.7109 - lr: 1.0000e-04\n",
      "Epoch 7/20\n",
      "782/782 [==============================] - 32s 41ms/step - loss: 0.3030 - accuracy: 0.8972 - val_loss: 0.8150 - val_accuracy: 0.7423 - lr: 1.0000e-04\n",
      "Epoch 8/20\n",
      "782/782 [==============================] - 31s 40ms/step - loss: 0.2669 - accuracy: 0.9081 - val_loss: 2.1898 - val_accuracy: 0.4399 - lr: 1.0000e-04\n",
      "Epoch 9/20\n",
      "782/782 [==============================] - 32s 41ms/step - loss: 0.2373 - accuracy: 0.9174 - val_loss: 5.3953 - val_accuracy: 0.1135 - lr: 1.0000e-04\n",
      "Epoch 10/20\n",
      "782/782 [==============================] - 33s 42ms/step - loss: 0.1987 - accuracy: 0.9324 - val_loss: 0.5497 - val_accuracy: 0.8333 - lr: 1.0000e-05\n",
      "Epoch 11/20\n",
      "782/782 [==============================] - 31s 40ms/step - loss: 0.1881 - accuracy: 0.9361 - val_loss: 0.5536 - val_accuracy: 0.8317 - lr: 1.0000e-05\n",
      "Epoch 12/20\n",
      "782/782 [==============================] - 31s 40ms/step - loss: 0.1837 - accuracy: 0.9372 - val_loss: 0.5807 - val_accuracy: 0.8248 - lr: 1.0000e-05\n",
      "Epoch 13/20\n",
      "782/782 [==============================] - 31s 40ms/step - loss: 0.1801 - accuracy: 0.9380 - val_loss: 0.5515 - val_accuracy: 0.8342 - lr: 1.0000e-06\n",
      "Epoch 14/20\n",
      "782/782 [==============================] - 31s 40ms/step - loss: 0.1802 - accuracy: 0.9386 - val_loss: 0.5510 - val_accuracy: 0.8344 - lr: 1.0000e-06\n",
      "Epoch 15/20\n",
      "782/782 [==============================] - 32s 41ms/step - loss: 0.1781 - accuracy: 0.9388 - val_loss: 0.5515 - val_accuracy: 0.8355 - lr: 1.0000e-06\n",
      "Epoch 16/20\n",
      "782/782 [==============================] - 31s 40ms/step - loss: 0.1784 - accuracy: 0.9383 - val_loss: 0.5514 - val_accuracy: 0.8353 - lr: 1.0000e-06\n",
      "Epoch 17/20\n",
      "782/782 [==============================] - 32s 41ms/step - loss: 0.1784 - accuracy: 0.9388 - val_loss: 0.5521 - val_accuracy: 0.8339 - lr: 1.0000e-06\n",
      "Epoch 18/20\n",
      "782/782 [==============================] - 32s 41ms/step - loss: 0.1782 - accuracy: 0.9390 - val_loss: 0.5532 - val_accuracy: 0.8339 - lr: 1.0000e-07\n",
      "Epoch 19/20\n",
      "782/782 [==============================] - 32s 41ms/step - loss: 0.1773 - accuracy: 0.9394 - val_loss: 0.5525 - val_accuracy: 0.8352 - lr: 1.0000e-07\n",
      "Epoch 20/20\n",
      "782/782 [==============================] - 31s 39ms/step - loss: 0.1746 - accuracy: 0.9412 - val_loss: 0.5528 - val_accuracy: 0.8343 - lr: 1.0000e-08\n"
     ]
    }
   ],
   "source": [
    "resnet_history3 = model3.fit(X_train, y_train,\n",
    "                            batch_size=64,\n",
    "                            epochs=20,\n",
    "                            validation_data=(X_test, y_test),\n",
    "                            callbacks=[lr,chk],\n",
    "                            verbose=1)"
   ]
  },
  {
   "cell_type": "code",
   "execution_count": 54,
   "id": "3Z7bsulaABRR",
   "metadata": {
    "colab": {
     "base_uri": "https://localhost:8080/"
    },
    "id": "3Z7bsulaABRR",
    "outputId": "0dbc0753-820b-4427-9265-9c0d53e0abec"
   },
   "outputs": [
    {
     "data": {
      "text/plain": [
       "<tensorflow.python.training.tracking.util.CheckpointLoadStatus at 0x7f9069c8ee10>"
      ]
     },
     "execution_count": 54,
     "metadata": {},
     "output_type": "execute_result"
    }
   ],
   "source": [
    "model3.load_weights('/content/Checkpoint1/checkpoint')"
   ]
  },
  {
   "cell_type": "code",
   "execution_count": 55,
   "id": "hkyD7N-BCv0W",
   "metadata": {
    "colab": {
     "base_uri": "https://localhost:8080/"
    },
    "id": "hkyD7N-BCv0W",
    "outputId": "db4d6116-27f7-4c40-f77e-b0b2b8ae90f2"
   },
   "outputs": [
    {
     "data": {
      "text/plain": [
       "0.8355"
      ]
     },
     "execution_count": 55,
     "metadata": {},
     "output_type": "execute_result"
    }
   ],
   "source": [
    "result1=model3.predict(X_test)\n",
    "res1=np.argmax(result1,axis=1)\n",
    "accuracy_score(y_test,res1)"
   ]
  },
  {
   "cell_type": "code",
   "execution_count": 56,
   "id": "-StrL32EC5ve",
   "metadata": {
    "id": "-StrL32EC5ve"
   },
   "outputs": [],
   "source": [
    "model.save('Effnet2.h5')"
   ]
  },
  {
   "cell_type": "code",
   "execution_count": null,
   "id": "eTC_MLs4DC0e",
   "metadata": {
    "id": "eTC_MLs4DC0e"
   },
   "outputs": [],
   "source": []
  }
 ],
 "metadata": {
  "accelerator": "GPU",
  "colab": {
   "name": "Transfer Learning.ipynb",
   "provenance": []
  },
  "gpuClass": "standard",
  "kernelspec": {
   "display_name": "Python 3 (ipykernel)",
   "language": "python",
   "name": "python3"
  },
  "language_info": {
   "codemirror_mode": {
    "name": "ipython",
    "version": 3
   },
   "file_extension": ".py",
   "mimetype": "text/x-python",
   "name": "python",
   "nbconvert_exporter": "python",
   "pygments_lexer": "ipython3",
   "version": "3.9.12"
  }
 },
 "nbformat": 4,
 "nbformat_minor": 5
}
