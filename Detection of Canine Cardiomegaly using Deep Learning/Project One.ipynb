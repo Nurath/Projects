{
 "cells": [
  {
   "cell_type": "markdown",
   "id": "009e8fc2",
   "metadata": {},
   "source": [
    "# 1. Build your own convolutional neural network using pytorch"
   ]
  },
  {
   "cell_type": "code",
   "execution_count": 1,
   "id": "133be475",
   "metadata": {},
   "outputs": [],
   "source": [
    "import numpy as np\n",
    "import pandas as pd\n",
    "import matplotlib.pyplot as plt\n",
    "import cv2\n",
    "from PIL import Image\n",
    "import os\n",
    "from skimage import color\n",
    "from skimage.feature import hog\n",
    "from sklearn import svm\n",
    "import torch\n",
    "import torchvision\n",
    "import torchvision.transforms as transforms\n",
    "import torch.nn as nn\n",
    "import torch.nn.functional as F\n",
    "from torch.utils.data import Dataset, DataLoader\n",
    "from typing import OrderedDict\n",
    "from sklearn.metrics import accuracy_score, confusion_matrix\n",
    "import torch.optim.lr_scheduler as lr_scheduler\n",
    "from tqdm import tqdm\n",
    "from torchmetrics.classification import MulticlassAccuracy\n",
    "from warnings import filterwarnings\n",
    "filterwarnings('ignore')"
   ]
  },
  {
   "cell_type": "code",
   "execution_count": 2,
   "id": "50effdac",
   "metadata": {},
   "outputs": [],
   "source": [
    "batch_size = 64\n",
    "\n",
    "# transform = transforms.Compose([\n",
    "#     transforms.Resize((75,75)),\n",
    "#     transforms.ToTensor(),\n",
    "#     transforms.Normalize(mean=[0.485, 0.456, 0.406], std=[0.229, 0.224, 0.225]),\n",
    "# ])\n",
    "\n",
    "transform = transforms.Compose([\n",
    "    transforms.Resize((75,75)),\n",
    "    transforms.RandomHorizontalFlip(),\n",
    "    transforms.RandomRotation(10),\n",
    "    transforms.ToTensor(),\n",
    "    transforms.Normalize(mean=[0.485, 0.456, 0.406], std=[0.229, 0.224, 0.225]),\n",
    "])\n"
   ]
  },
  {
   "cell_type": "code",
   "execution_count": 3,
   "id": "00839036",
   "metadata": {},
   "outputs": [],
   "source": [
    "trainset = torchvision.datasets.ImageFolder(root = 'C:/Users/Nurat/Notes/AI Yeshiva/Sem3/Deep Learning and Neural Networks/Week 3/Homework3/Homework Week3_part_one/Train',transform = transform)\n",
    "trainloader = DataLoader(trainset, batch_size=batch_size,shuffle = True )\n",
    "\n",
    "validset = torchvision.datasets.ImageFolder(root = 'C:/Users/Nurat/Notes/AI Yeshiva/Sem3/Deep Learning and Neural Networks/Week 3/Homework3/Homework Week3_part_one/Valid',transform = transform)\n",
    "validloader = DataLoader(validset, batch_size=batch_size,shuffle = True )"
   ]
  },
  {
   "cell_type": "code",
   "execution_count": 4,
   "id": "23a8c600",
   "metadata": {},
   "outputs": [
    {
     "name": "stdout",
     "output_type": "stream",
     "text": [
      "Train images shape: torch.Size([64, 3, 75, 75])\n",
      "Labels shape: torch.Size([64])\n",
      "Train images shape: torch.Size([64, 3, 75, 75])\n",
      "Labels shape: torch.Size([64])\n"
     ]
    }
   ],
   "source": [
    "for images, labels in trainloader:\n",
    "    print(\"Train images shape:\", images.shape)  # Expected shape: [batch_size, 3, 75, 75]\n",
    "    print(\"Labels shape:\", labels.shape)  # Expected shape: [batch_size]\n",
    "    break\n",
    "\n",
    "for images, labels in validloader:\n",
    "    print(\"Train images shape:\", images.shape)  # Expected shape: [batch_size, 3, 75, 75]\n",
    "    print(\"Labels shape:\", labels.shape)  # Expected shape: [batch_size]\n",
    "    break"
   ]
  },
  {
   "cell_type": "code",
   "execution_count": 5,
   "id": "77b2f9c4",
   "metadata": {},
   "outputs": [
    {
     "name": "stderr",
     "output_type": "stream",
     "text": [
      "Clipping input data to the valid range for imshow with RGB data ([0..1] for floats or [0..255] for integers).\n"
     ]
    },
    {
     "data": {
      "text/plain": [
       "<matplotlib.image.AxesImage at 0x2255c7ade90>"
      ]
     },
     "execution_count": 5,
     "metadata": {},
     "output_type": "execute_result"
    },
    {
     "data": {
      "image/png": "[encoded data removed]",
      "text/plain": [
       "<Figure size 640x480 with 1 Axes>"
      ]
     },
     "metadata": {},
     "output_type": "display_data"
    }
   ],
   "source": [
    "#Checking training data\n",
    "dataiter = iter(trainloader)\n",
    "images, labels = next(dataiter)\n",
    "# Convert to (height, width, channels) for RGB images\n",
    "plt.imshow(images[0].permute(1, 2, 0), cmap='gray')"
   ]
  },
  {
   "cell_type": "code",
   "execution_count": 6,
   "id": "b3b911c5",
   "metadata": {},
   "outputs": [],
   "source": [
    "class CustomDataset(Dataset):\n",
    "    def __init__(self, image_dir, transform=None):\n",
    "        self.image_dir = image_dir\n",
    "        self.transform = transform\n",
    "        self.image_files = [f for f in os.listdir(image_dir) if os.path.isfile(os.path.join(image_dir, f))]\n",
    "\n",
    "    def __len__(self):\n",
    "        return len(self.image_files)\n",
    "\n",
    "    def __getitem__(self, idx):\n",
    "        img_path = os.path.join(self.image_dir, self.image_files[idx])\n",
    "        image = Image.open(img_path).convert('RGB')\n",
    "\n",
    "        if self.transform:\n",
    "            image = self.transform(image)  \n",
    "\n",
    "        return image, self.image_files[idx]"
   ]
  },
  {
   "cell_type": "code",
   "execution_count": 7,
   "id": "3e4eaf95",
   "metadata": {},
   "outputs": [],
   "source": [
    "test_dir = 'C:/Users/Nurat/Notes/AI Yeshiva/Sem3/Deep Learning and Neural Networks/Week 3/Homework3/Homework Week3_part_one/Test'\n",
    "test_dataset = CustomDataset(image_dir=test_dir, transform=transform)\n",
    "testloader = DataLoader(test_dataset,shuffle = False)"
   ]
  },
  {
   "cell_type": "code",
   "execution_count": 17,
   "id": "0adef1c0",
   "metadata": {},
   "outputs": [
    {
     "data": {
      "text/plain": [
       "(torch.Size([32, 3]),\n",
       " torch.Size([64, 3]),\n",
       " torch.Size([32, 3]),\n",
       " torch.Size([64, 3]))"
      ]
     },
     "execution_count": 17,
     "metadata": {},
     "output_type": "execute_result"
    }
   ],
   "source": [
    "input = torch.randn(32, 3, 75, 75)\n",
    "\n",
    "#Model 1:\n",
    "\n",
    "model1 = nn.Sequential(OrderedDict([\n",
    "    ('conv1', nn.Conv2d(in_channels=3, out_channels=32, kernel_size=3,stride=1,padding=1)),  # output = 64,32,75,75\n",
    "    ('relu1', nn.ReLU()),  # output = 64,32,75,75\n",
    "    ('conv2', nn.Conv2d(32, 64, 3, 1, 1)),  # output = 64,64,75,75\n",
    "    ('relu2', nn.ReLU()),  # output = 64, 64, 75, 75\n",
    "    ('pool1', nn.MaxPool2d(kernel_size=2, stride=2)),  # output = 64, 64, 37, 37\n",
    "    ('conv3', nn.Conv2d(64, 128, 3, 1, 1)),  # output = 64, 128, 37, 37\n",
    "    ('relu3', nn.ReLU()),  # output = 64, 128, 37, 37\n",
    "    ('conv4', nn.Conv2d(128, 216, 3, 1, 1)),  # output = 64, 216, 37, 37\n",
    "    ('relu4', nn.ReLU()),  # output = 64, 216,  37, 37\n",
    "    ('pool2', nn.MaxPool2d(kernel_size=2, stride=2)),  # output = 64, 216, 18, 18\n",
    "    ('conv5', nn.Conv2d(216, 128, 3, 1, 1)),  # output = 64, 128, 18, 18\n",
    "    ('relu5', nn.ReLU()),  # output = 64, 128, 18, 18\n",
    "    ('conv6', nn.Conv2d(128, 64, 3, 1, 1)),  # output = 64, 64, 18, 18\n",
    "    ('batchnorm', nn.BatchNorm2d(64)), # output = 64, 64, 18, 18\n",
    "    ('relu6', nn.ReLU()),  # output = 64, 64, 18, 18\n",
    "    ('pool3', nn.MaxPool2d(kernel_size=2, stride=2)),  # output = 64, 64, 9, 9\n",
    "    ('flatten', nn.Flatten()),  # output = 64, 64*9*9\n",
    "    ('fc1', nn.Linear(64*9*9, 128)),  # output = 64, 128\n",
    "    ('drop1', nn.Dropout(0.5)),\n",
    "    ('relu7', nn.ReLU()),  # output = 64, 128\n",
    "    ('fc2', nn.Linear(128, 64)),  # output = 64, 64\n",
    "    ('drop2', nn.Dropout(0.5)),\n",
    "    ('relu8', nn.ReLU()),  # output = 64, 64\n",
    "    ('fc3', nn.Linear(64, 3)),  # output = 64, 3\n",
    "]))\n",
    "\n",
    "\n",
    "#Model 2:\n",
    "\n",
    "model2 = nn.Sequential(OrderedDict([\n",
    "    ('conv1', nn.Conv2d(in_channels=3, out_channels=32, kernel_size=3,stride=1,padding=1)),  # output = 64,32,75,75\n",
    "    ('relu1', nn.ReLU()),  # output = 64,32,75,75\n",
    "    ('conv2', nn.Conv2d(32, 64, 3, 1, 1)),  # output = 64,64,75,75\n",
    "    ('batchnorm1', nn.BatchNorm2d(64)), # output = 32, 64, 75, 75\n",
    "    ('relu2', nn.ReLU()),  # output = 64, 64, 75, 75\n",
    "    ('pool1', nn.MaxPool2d(kernel_size=2, stride=2)),  # output = 64, 64, 37, 37\n",
    "    ('conv3', nn.Conv2d(64, 128, 3, 1, 1)),  # output = 64, 128, 37, 37\n",
    "    ('relu3', nn.ReLU()),  # output = 64, 128, 37, 37\n",
    "    ('conv4', nn.Conv2d(128, 216, 3, 1, 1)),  # output = 64, 216, 37, 37\n",
    "    ('relu4', nn.ReLU()),  # output = 64, 216,  37, 37\n",
    "    ('pool2', nn.MaxPool2d(kernel_size=2, stride=2)),  # output = 64, 216, 18, 18\n",
    "    ('conv5', nn.Conv2d(216, 128, 3, 1, 1)),  # output = 64, 128, 18, 18\n",
    "    ('relu5', nn.ReLU()),  # output = 64, 128, 18, 18\n",
    "    ('conv6', nn.Conv2d(128, 64, 3, 1, 1)),  # output = 64, 64, 18, 18\n",
    "    ('batchnorm', nn.BatchNorm2d(64)), # output = 64, 64, 18, 18\n",
    "    ('relu6', nn.ReLU()),  # output = 64, 64, 18, 18\n",
    "    ('pool3', nn.MaxPool2d(kernel_size=2, stride=2)),  # output = 64, 64, 9, 9\n",
    "    ('flatten', nn.Flatten()),  # output = 64, 64*9*9\n",
    "    ('fc1', nn.Linear(64*9*9, 128)),  # output = 64, 128\n",
    "    ('drop1', nn.Dropout(0.5)),\n",
    "    ('relu7', nn.ReLU()),  # output = 64, 128\n",
    "    ('fc2', nn.Linear(128, 64)),  # output = 64, 64\n",
    "    ('drop2', nn.Dropout(0.5)),\n",
    "    ('relu8', nn.ReLU()),  # output = 64, 64\n",
    "    ('fc3', nn.Linear(64, 3)),  # output = 64, 3\n",
    "]))\n",
    "    \n",
    "\n",
    "model1(input).shape,model1(images).shape,model2(input).shape,model2(images).shape"
   ]
  },
  {
   "cell_type": "code",
   "execution_count": 18,
   "id": "cf660ce2",
   "metadata": {},
   "outputs": [
    {
     "data": {
      "text/plain": [
       "Sequential(\n",
       "  (conv1): Conv2d(3, 32, kernel_size=(3, 3), stride=(1, 1), padding=(1, 1))\n",
       "  (relu1): ReLU()\n",
       "  (conv2): Conv2d(32, 64, kernel_size=(3, 3), stride=(1, 1), padding=(1, 1))\n",
       "  (batchnorm1): BatchNorm2d(64, eps=1e-05, momentum=0.1, affine=True, track_running_stats=True)\n",
       "  (relu2): ReLU()\n",
       "  (pool1): MaxPool2d(kernel_size=2, stride=2, padding=0, dilation=1, ceil_mode=False)\n",
       "  (conv3): Conv2d(64, 128, kernel_size=(3, 3), stride=(1, 1), padding=(1, 1))\n",
       "  (relu3): ReLU()\n",
       "  (conv4): Conv2d(128, 216, kernel_size=(3, 3), stride=(1, 1), padding=(1, 1))\n",
       "  (relu4): ReLU()\n",
       "  (pool2): MaxPool2d(kernel_size=2, stride=2, padding=0, dilation=1, ceil_mode=False)\n",
       "  (conv5): Conv2d(216, 128, kernel_size=(3, 3), stride=(1, 1), padding=(1, 1))\n",
       "  (relu5): ReLU()\n",
       "  (conv6): Conv2d(128, 64, kernel_size=(3, 3), stride=(1, 1), padding=(1, 1))\n",
       "  (batchnorm): BatchNorm2d(64, eps=1e-05, momentum=0.1, affine=True, track_running_stats=True)\n",
       "  (relu6): ReLU()\n",
       "  (pool3): MaxPool2d(kernel_size=2, stride=2, padding=0, dilation=1, ceil_mode=False)\n",
       "  (flatten): Flatten(start_dim=1, end_dim=-1)\n",
       "  (fc1): Linear(in_features=5184, out_features=128, bias=True)\n",
       "  (drop1): Dropout(p=0.5, inplace=False)\n",
       "  (relu7): ReLU()\n",
       "  (fc2): Linear(in_features=128, out_features=64, bias=True)\n",
       "  (drop2): Dropout(p=0.5, inplace=False)\n",
       "  (relu8): ReLU()\n",
       "  (fc3): Linear(in_features=64, out_features=3, bias=True)\n",
       ")"
      ]
     },
     "execution_count": 18,
     "metadata": {},
     "output_type": "execute_result"
    }
   ],
   "source": [
    "device = torch.device(\"cuda\" if torch.cuda.is_available() else \"cpu\")\n",
    "model2.to(device)"
   ]
  },
  {
   "cell_type": "code",
   "execution_count": 19,
   "id": "e5765451",
   "metadata": {},
   "outputs": [],
   "source": [
    "criterion = nn.CrossEntropyLoss()\n",
    "optimizer = torch.optim.Adam(model2.parameters(), lr=0.0001)\n",
    "train_accuracy = MulticlassAccuracy(num_classes=3).to(device)\n",
    "val_accuracy = MulticlassAccuracy(num_classes=3).to(device)"
   ]
  },
  {
   "cell_type": "code",
   "execution_count": 20,
   "id": "3444d9ad",
   "metadata": {},
   "outputs": [],
   "source": [
    "num_epochs = 25\n",
    "patience = 5  # Early stopping patience\n",
    "best_val_loss = float('inf')\n",
    "epochs_no_improve = 0"
   ]
  },
  {
   "cell_type": "code",
   "execution_count": 21,
   "id": "45c4dd39",
   "metadata": {},
   "outputs": [
    {
     "name": "stderr",
     "output_type": "stream",
     "text": [
      "Training Epoch 1/25: 100%|██████████| 22/22 [00:15<00:00,  1.45it/s]\n",
      "Validation Epoch 1/25: 100%|██████████| 4/4 [00:01<00:00,  2.29it/s]\n",
      "  4%|▍         | 1/25 [00:16<06:45, 16.91s/it]"
     ]
    },
    {
     "name": "stdout",
     "output_type": "stream",
     "text": [
      "Epoch 1/25, Train Loss: 1.0549, Train Accuracy: 0.3328, Validation Loss: 1.0893, Validation Accuracy: 0.3333\n"
     ]
    },
    {
     "name": "stderr",
     "output_type": "stream",
     "text": [
      "Training Epoch 2/25: 100%|██████████| 22/22 [00:14<00:00,  1.53it/s]\n",
      "Validation Epoch 2/25: 100%|██████████| 4/4 [00:01<00:00,  2.20it/s]\n",
      "  8%|▊         | 2/25 [00:33<06:19, 16.52s/it]"
     ]
    },
    {
     "name": "stdout",
     "output_type": "stream",
     "text": [
      "Epoch 2/25, Train Loss: 1.0171, Train Accuracy: 0.3410, Validation Loss: 1.0087, Validation Accuracy: 0.3669\n"
     ]
    },
    {
     "name": "stderr",
     "output_type": "stream",
     "text": [
      "Training Epoch 3/25: 100%|██████████| 22/22 [00:14<00:00,  1.53it/s]\n",
      "Validation Epoch 3/25: 100%|██████████| 4/4 [00:01<00:00,  2.27it/s]\n",
      " 12%|█▏        | 3/25 [00:49<06:00, 16.37s/it]"
     ]
    },
    {
     "name": "stdout",
     "output_type": "stream",
     "text": [
      "Epoch 3/25, Train Loss: 0.9655, Train Accuracy: 0.3953, Validation Loss: 0.9772, Validation Accuracy: 0.3810\n"
     ]
    },
    {
     "name": "stderr",
     "output_type": "stream",
     "text": [
      "Training Epoch 4/25: 100%|██████████| 22/22 [00:14<00:00,  1.54it/s]\n",
      "Validation Epoch 4/25: 100%|██████████| 4/4 [00:01<00:00,  2.21it/s]\n",
      " 16%|█▌        | 4/25 [01:05<05:41, 16.25s/it]"
     ]
    },
    {
     "name": "stdout",
     "output_type": "stream",
     "text": [
      "Epoch 4/25, Train Loss: 0.9555, Train Accuracy: 0.4210, Validation Loss: 0.9314, Validation Accuracy: 0.4095\n"
     ]
    },
    {
     "name": "stderr",
     "output_type": "stream",
     "text": [
      "Training Epoch 5/25: 100%|██████████| 22/22 [00:14<00:00,  1.55it/s]\n",
      "Validation Epoch 5/25: 100%|██████████| 4/4 [00:01<00:00,  2.39it/s]\n",
      " 20%|██        | 5/25 [01:21<05:22, 16.13s/it]"
     ]
    },
    {
     "name": "stdout",
     "output_type": "stream",
     "text": [
      "Epoch 5/25, Train Loss: 0.9359, Train Accuracy: 0.4409, Validation Loss: 0.9271, Validation Accuracy: 0.4345\n"
     ]
    },
    {
     "name": "stderr",
     "output_type": "stream",
     "text": [
      "Training Epoch 6/25: 100%|██████████| 22/22 [00:14<00:00,  1.54it/s]\n",
      "Validation Epoch 6/25: 100%|██████████| 4/4 [00:01<00:00,  2.26it/s]\n",
      " 24%|██▍       | 6/25 [01:37<05:06, 16.12s/it]"
     ]
    },
    {
     "name": "stdout",
     "output_type": "stream",
     "text": [
      "Epoch 6/25, Train Loss: 0.9221, Train Accuracy: 0.4564, Validation Loss: 0.9111, Validation Accuracy: 0.4720\n"
     ]
    },
    {
     "name": "stderr",
     "output_type": "stream",
     "text": [
      "Training Epoch 7/25: 100%|██████████| 22/22 [00:14<00:00,  1.56it/s]\n",
      "Validation Epoch 7/25: 100%|██████████| 4/4 [00:01<00:00,  2.26it/s]\n",
      " 28%|██▊       | 7/25 [01:53<04:48, 16.05s/it]"
     ]
    },
    {
     "name": "stdout",
     "output_type": "stream",
     "text": [
      "Epoch 7/25, Train Loss: 0.8688, Train Accuracy: 0.5028, Validation Loss: 0.8813, Validation Accuracy: 0.5207\n"
     ]
    },
    {
     "name": "stderr",
     "output_type": "stream",
     "text": [
      "Training Epoch 8/25: 100%|██████████| 22/22 [00:14<00:00,  1.53it/s]\n",
      "Validation Epoch 8/25: 100%|██████████| 4/4 [00:01<00:00,  2.33it/s]\n",
      " 32%|███▏      | 8/25 [02:09<04:33, 16.07s/it]"
     ]
    },
    {
     "name": "stdout",
     "output_type": "stream",
     "text": [
      "Epoch 8/25, Train Loss: 0.8395, Train Accuracy: 0.5318, Validation Loss: 0.8634, Validation Accuracy: 0.4981\n"
     ]
    },
    {
     "name": "stderr",
     "output_type": "stream",
     "text": [
      "Training Epoch 9/25: 100%|██████████| 22/22 [00:14<00:00,  1.54it/s]\n",
      "Validation Epoch 9/25: 100%|██████████| 4/4 [00:01<00:00,  2.47it/s]\n",
      " 36%|███▌      | 9/25 [02:25<04:16, 16.02s/it]"
     ]
    },
    {
     "name": "stdout",
     "output_type": "stream",
     "text": [
      "Epoch 9/25, Train Loss: 0.8095, Train Accuracy: 0.5685, Validation Loss: 0.7727, Validation Accuracy: 0.6866\n"
     ]
    },
    {
     "name": "stderr",
     "output_type": "stream",
     "text": [
      "Training Epoch 10/25: 100%|██████████| 22/22 [00:14<00:00,  1.56it/s]\n",
      "Validation Epoch 10/25: 100%|██████████| 4/4 [00:01<00:00,  2.26it/s]\n",
      " 40%|████      | 10/25 [02:41<03:59, 15.99s/it]"
     ]
    },
    {
     "name": "stdout",
     "output_type": "stream",
     "text": [
      "Epoch 10/25, Train Loss: 0.8032, Train Accuracy: 0.5900, Validation Loss: 0.7040, Validation Accuracy: 0.7290\n"
     ]
    },
    {
     "name": "stderr",
     "output_type": "stream",
     "text": [
      "Training Epoch 11/25: 100%|██████████| 22/22 [00:14<00:00,  1.52it/s]\n",
      "Validation Epoch 11/25: 100%|██████████| 4/4 [00:01<00:00,  2.52it/s]\n",
      " 44%|████▍     | 11/25 [02:57<03:44, 16.01s/it]"
     ]
    },
    {
     "name": "stdout",
     "output_type": "stream",
     "text": [
      "Epoch 11/25, Train Loss: 0.7733, Train Accuracy: 0.6223, Validation Loss: 0.7791, Validation Accuracy: 0.6970\n"
     ]
    },
    {
     "name": "stderr",
     "output_type": "stream",
     "text": [
      "Training Epoch 12/25: 100%|██████████| 22/22 [00:14<00:00,  1.56it/s]\n",
      "Validation Epoch 12/25: 100%|██████████| 4/4 [00:01<00:00,  2.28it/s]\n",
      " 48%|████▊     | 12/25 [03:13<03:27, 15.98s/it]"
     ]
    },
    {
     "name": "stdout",
     "output_type": "stream",
     "text": [
      "Epoch 12/25, Train Loss: 0.7256, Train Accuracy: 0.6598, Validation Loss: 0.6996, Validation Accuracy: 0.7059\n"
     ]
    },
    {
     "name": "stderr",
     "output_type": "stream",
     "text": [
      "Training Epoch 13/25: 100%|██████████| 22/22 [00:14<00:00,  1.56it/s]\n",
      "Validation Epoch 13/25: 100%|██████████| 4/4 [00:01<00:00,  2.44it/s]\n",
      " 52%|█████▏    | 13/25 [03:29<03:10, 15.92s/it]"
     ]
    },
    {
     "name": "stdout",
     "output_type": "stream",
     "text": [
      "Epoch 13/25, Train Loss: 0.7039, Train Accuracy: 0.6802, Validation Loss: 0.6507, Validation Accuracy: 0.7128\n"
     ]
    },
    {
     "name": "stderr",
     "output_type": "stream",
     "text": [
      "Training Epoch 14/25: 100%|██████████| 22/22 [00:14<00:00,  1.55it/s]\n",
      "Validation Epoch 14/25: 100%|██████████| 4/4 [00:01<00:00,  2.22it/s]\n",
      " 56%|█████▌    | 14/25 [03:45<02:55, 15.94s/it]"
     ]
    },
    {
     "name": "stdout",
     "output_type": "stream",
     "text": [
      "Epoch 14/25, Train Loss: 0.6726, Train Accuracy: 0.6988, Validation Loss: 0.7215, Validation Accuracy: 0.7023\n"
     ]
    },
    {
     "name": "stderr",
     "output_type": "stream",
     "text": [
      "Training Epoch 15/25: 100%|██████████| 22/22 [00:14<00:00,  1.56it/s]\n",
      "Validation Epoch 15/25: 100%|██████████| 4/4 [00:01<00:00,  2.42it/s]\n",
      " 60%|██████    | 15/25 [04:00<02:38, 15.89s/it]"
     ]
    },
    {
     "name": "stdout",
     "output_type": "stream",
     "text": [
      "Epoch 15/25, Train Loss: 0.6501, Train Accuracy: 0.7225, Validation Loss: 0.6183, Validation Accuracy: 0.7566\n"
     ]
    },
    {
     "name": "stderr",
     "output_type": "stream",
     "text": [
      "Training Epoch 16/25: 100%|██████████| 22/22 [00:14<00:00,  1.55it/s]\n",
      "Validation Epoch 16/25: 100%|██████████| 4/4 [00:01<00:00,  2.16it/s]\n",
      " 64%|██████▍   | 16/25 [04:16<02:23, 15.94s/it]"
     ]
    },
    {
     "name": "stdout",
     "output_type": "stream",
     "text": [
      "Epoch 16/25, Train Loss: 0.6276, Train Accuracy: 0.7297, Validation Loss: 0.6648, Validation Accuracy: 0.7101\n"
     ]
    },
    {
     "name": "stderr",
     "output_type": "stream",
     "text": [
      "Training Epoch 17/25: 100%|██████████| 22/22 [00:14<00:00,  1.57it/s]\n",
      "Validation Epoch 17/25: 100%|██████████| 4/4 [00:01<00:00,  2.44it/s]\n",
      " 68%|██████▊   | 17/25 [04:32<02:06, 15.85s/it]"
     ]
    },
    {
     "name": "stdout",
     "output_type": "stream",
     "text": [
      "Epoch 17/25, Train Loss: 0.5698, Train Accuracy: 0.7775, Validation Loss: 0.6333, Validation Accuracy: 0.7601\n"
     ]
    },
    {
     "name": "stderr",
     "output_type": "stream",
     "text": [
      "Training Epoch 18/25: 100%|██████████| 22/22 [00:14<00:00,  1.52it/s]\n",
      "Validation Epoch 18/25: 100%|██████████| 4/4 [00:01<00:00,  2.22it/s]\n",
      " 72%|███████▏  | 18/25 [04:48<01:51, 15.98s/it]"
     ]
    },
    {
     "name": "stdout",
     "output_type": "stream",
     "text": [
      "Epoch 18/25, Train Loss: 0.5379, Train Accuracy: 0.7687, Validation Loss: 0.6261, Validation Accuracy: 0.6818\n"
     ]
    },
    {
     "name": "stderr",
     "output_type": "stream",
     "text": [
      "Training Epoch 19/25: 100%|██████████| 22/22 [00:14<00:00,  1.54it/s]\n",
      "Validation Epoch 19/25: 100%|██████████| 4/4 [00:01<00:00,  2.14it/s]\n",
      " 76%|███████▌  | 19/25 [05:04<01:36, 16.04s/it]"
     ]
    },
    {
     "name": "stdout",
     "output_type": "stream",
     "text": [
      "Epoch 19/25, Train Loss: 0.5240, Train Accuracy: 0.7979, Validation Loss: 0.7068, Validation Accuracy: 0.6231\n"
     ]
    },
    {
     "name": "stderr",
     "output_type": "stream",
     "text": [
      "Training Epoch 20/25: 100%|██████████| 22/22 [00:14<00:00,  1.51it/s]\n",
      "Validation Epoch 20/25: 100%|██████████| 4/4 [00:01<00:00,  2.50it/s]\n",
      " 80%|████████  | 20/25 [05:21<01:20, 16.09s/it]"
     ]
    },
    {
     "name": "stdout",
     "output_type": "stream",
     "text": [
      "Epoch 20/25, Train Loss: 0.5025, Train Accuracy: 0.7952, Validation Loss: 0.5567, Validation Accuracy: 0.7307\n"
     ]
    },
    {
     "name": "stderr",
     "output_type": "stream",
     "text": [
      "Training Epoch 21/25: 100%|██████████| 22/22 [00:14<00:00,  1.53it/s]\n",
      "Validation Epoch 21/25: 100%|██████████| 4/4 [00:01<00:00,  2.18it/s]\n",
      " 84%|████████▍ | 21/25 [05:37<01:04, 16.12s/it]"
     ]
    },
    {
     "name": "stdout",
     "output_type": "stream",
     "text": [
      "Epoch 21/25, Train Loss: 0.4703, Train Accuracy: 0.8333, Validation Loss: 0.5674, Validation Accuracy: 0.7352\n"
     ]
    },
    {
     "name": "stderr",
     "output_type": "stream",
     "text": [
      "Training Epoch 22/25: 100%|██████████| 22/22 [00:14<00:00,  1.55it/s]\n",
      "Validation Epoch 22/25: 100%|██████████| 4/4 [00:01<00:00,  2.28it/s]\n",
      " 88%|████████▊ | 22/25 [05:53<00:48, 16.07s/it]"
     ]
    },
    {
     "name": "stdout",
     "output_type": "stream",
     "text": [
      "Epoch 22/25, Train Loss: 0.4203, Train Accuracy: 0.8446, Validation Loss: 0.6507, Validation Accuracy: 0.7365\n"
     ]
    },
    {
     "name": "stderr",
     "output_type": "stream",
     "text": [
      "Training Epoch 23/25: 100%|██████████| 22/22 [00:14<00:00,  1.53it/s]\n",
      "Validation Epoch 23/25: 100%|██████████| 4/4 [00:01<00:00,  2.32it/s]\n",
      " 92%|█████████▏| 23/25 [06:09<00:32, 16.08s/it]"
     ]
    },
    {
     "name": "stdout",
     "output_type": "stream",
     "text": [
      "Epoch 23/25, Train Loss: 0.3809, Train Accuracy: 0.8686, Validation Loss: 0.7763, Validation Accuracy: 0.7763\n"
     ]
    },
    {
     "name": "stderr",
     "output_type": "stream",
     "text": [
      "Training Epoch 24/25: 100%|██████████| 22/22 [00:14<00:00,  1.54it/s]\n",
      "Validation Epoch 24/25: 100%|██████████| 4/4 [00:01<00:00,  2.44it/s]\n",
      " 96%|█████████▌| 24/25 [06:25<00:16, 16.03s/it]"
     ]
    },
    {
     "name": "stdout",
     "output_type": "stream",
     "text": [
      "Epoch 24/25, Train Loss: 0.3714, Train Accuracy: 0.8608, Validation Loss: 0.5643, Validation Accuracy: 0.7204\n"
     ]
    },
    {
     "name": "stderr",
     "output_type": "stream",
     "text": [
      "Training Epoch 25/25: 100%|██████████| 22/22 [00:14<00:00,  1.54it/s]\n",
      "Validation Epoch 25/25: 100%|██████████| 4/4 [00:01<00:00,  2.25it/s]\n",
      "100%|██████████| 25/25 [06:41<00:00, 16.05s/it]"
     ]
    },
    {
     "name": "stdout",
     "output_type": "stream",
     "text": [
      "Epoch 25/25, Train Loss: 0.3398, Train Accuracy: 0.8829, Validation Loss: 0.6850, Validation Accuracy: 0.7025\n"
     ]
    },
    {
     "name": "stderr",
     "output_type": "stream",
     "text": [
      "\n"
     ]
    }
   ],
   "source": [
    "torch.manual_seed(8)\n",
    "\n",
    "train_losses = []\n",
    "val_losses = []\n",
    "\n",
    "best_val_loss = float('inf')\n",
    "epochs_no_improve = 0\n",
    "patience = 10  # Example patience value for early stopping\n",
    "\n",
    "for epoch in tqdm(range(num_epochs)):\n",
    "    model2.train()\n",
    "    running_loss = 0.0\n",
    "\n",
    "    # Training loop\n",
    "    for inputs, labels in tqdm(trainloader, desc=f\"Training Epoch {epoch+1}/{num_epochs}\"):\n",
    "        inputs, labels = inputs.to(device), labels.to(device)\n",
    "        \n",
    "        optimizer.zero_grad()\n",
    "        outputs = model2(inputs)\n",
    "        loss = criterion(outputs, labels)\n",
    "        loss.backward()\n",
    "        optimizer.step()\n",
    "        \n",
    "        running_loss += loss.item()\n",
    "        train_accuracy.update(outputs, labels)\n",
    "\n",
    "    epoch_train_loss = running_loss / len(trainloader)\n",
    "    epoch_train_accuracy = train_accuracy.compute().item()\n",
    "    train_accuracy.reset()\n",
    "    train_losses.append(epoch_train_loss)\n",
    "\n",
    "    # Validation loop\n",
    "    model2.eval()\n",
    "    val_loss = 0.0\n",
    "    with torch.no_grad():\n",
    "        for inputs, labels in tqdm(validloader, desc=f\"Validation Epoch {epoch+1}/{num_epochs}\"):\n",
    "            inputs, labels = inputs.to(device), labels.to(device)\n",
    "            \n",
    "            outputs = model2(inputs)\n",
    "            loss = criterion(outputs, labels)\n",
    "            val_loss += loss.item()\n",
    "            val_accuracy.update(outputs, labels)\n",
    "            \n",
    "    epoch_val_loss = val_loss / len(validloader)\n",
    "    epoch_val_accuracy = val_accuracy.compute().item()\n",
    "    val_accuracy.reset()\n",
    "    val_losses.append(epoch_val_loss)\n",
    "\n",
    "    print(f\"Epoch {epoch+1}/{num_epochs}, \"\n",
    "          f\"Train Loss: {epoch_train_loss:.4f}, \"\n",
    "          f\"Train Accuracy: {epoch_train_accuracy:.4f}, \"\n",
    "          f\"Validation Loss: {epoch_val_loss:.4f}, \"\n",
    "          f\"Validation Accuracy: {epoch_val_accuracy:.4f}\")\n",
    "\n",
    "    # Early stopping\n",
    "    if epoch_val_loss < best_val_loss:\n",
    "        best_val_loss = epoch_val_loss\n",
    "        epochs_no_improve = 0\n",
    "    else:\n",
    "        epochs_no_improve += 1\n",
    "        if epochs_no_improve >= patience:\n",
    "            print(f\"Early stopping triggered after {epoch+1} epochs\")\n",
    "            break"
   ]
  },
  {
   "cell_type": "code",
   "execution_count": 24,
   "id": "b6c9a1f5",
   "metadata": {},
   "outputs": [
    {
     "data": {
      "image/png": "[encoded data removed]",
      "text/plain": [
       "<Figure size 1000x500 with 1 Axes>"
      ]
     },
     "metadata": {},
     "output_type": "display_data"
    }
   ],
   "source": [
    "plt.figure(figsize=(10, 5))\n",
    "plt.plot(range(1, len(train_losses) + 1), train_losses, label='Training Loss')\n",
    "plt.plot(range(1, len(val_losses) + 1), val_losses, label='Validation Loss')\n",
    "plt.xlabel('Epochs')\n",
    "plt.ylabel('Loss')\n",
    "plt.title('Training and Validation Loss over Epochs')\n",
    "plt.legend()\n",
    "plt.show()"
   ]
  },
  {
   "cell_type": "code",
   "execution_count": 25,
   "id": "2181e81b",
   "metadata": {},
   "outputs": [
    {
     "name": "stderr",
     "output_type": "stream",
     "text": [
      "Predicting: 100%|██████████| 400/400 [00:05<00:00, 75.98it/s]\n"
     ]
    }
   ],
   "source": [
    "model2.eval()\n",
    "\n",
    "# List to store predictions\n",
    "all_predictions = []\n",
    "\n",
    "# Loop over test data\n",
    "with torch.no_grad():\n",
    "    for inputs in tqdm(testloader, desc=\"Predicting\"):\n",
    "        imputs = inputs[0].to(device)\n",
    "        outputs = model2(imputs)\n",
    "        _, preds = torch.max(outputs, 1)\n",
    "        all_predictions.extend(preds.cpu().numpy())\n",
    "\n",
    "\n",
    "all_predictions = np.array(all_predictions)"
   ]
  },
  {
   "cell_type": "code",
   "execution_count": 26,
   "id": "b8b330ad",
   "metadata": {},
   "outputs": [],
   "source": [
    "filenames = []\n",
    "for _, fname in testloader:\n",
    "    filenames.extend(fname)  # Since batch size is 1, extend is fine here\n",
    "\n",
    "results_df = pd.DataFrame({\n",
    "    'Filename': filenames,\n",
    "    'Prediction': all_predictions\n",
    "})\n",
    "results_df.to_csv('nn17.csv', index=False)"
   ]
  },
  {
   "cell_type": "code",
   "execution_count": 96,
   "id": "c8e66bc0",
   "metadata": {},
   "outputs": [],
   "source": [
    "# torch.save(model.state_dict(), 'best_model(%).pth')"
   ]
  },
  {
   "cell_type": "code",
   "execution_count": 27,
   "id": "83e7b714",
   "metadata": {},
   "outputs": [],
   "source": [
    "import gc\n",
    "\n",
    "model2.cpu()\n",
    "del model2\n",
    "gc.collect()\n",
    "torch.cuda.empty_cache()"
   ]
  },
  {
   "cell_type": "code",
   "execution_count": 1,
   "id": "687038bb",
   "metadata": {},
   "outputs": [
    {
     "data": {
      "image/png": "[encoded data removed]",
      "text/plain": [
       "<IPython.core.display.Image object>"
      ]
     },
     "execution_count": 1,
     "metadata": {},
     "output_type": "execute_result"
    }
   ],
   "source": [
    "from IPython.display import Image, IFrame\n",
    "\n",
    "Image('Accuracy.png')"
   ]
  }
 ],
 "metadata": {
  "kernelspec": {
   "display_name": "Python 3 (ipykernel)",
   "language": "python",
   "name": "python3"
  },
  "language_info": {
   "codemirror_mode": {
    "name": "ipython",
    "version": 3
   },
   "file_extension": ".py",
   "mimetype": "text/x-python",
   "name": "python",
   "nbconvert_exporter": "python",
   "pygments_lexer": "ipython3",
   "version": "3.11.9"
  }
 },
 "nbformat": 4,
 "nbformat_minor": 5
}
